{
 "cells": [
  {
   "cell_type": "code",
   "execution_count": 11,
   "id": "872d5313-2c07-4098-9c8f-5cce8db30b4d",
   "metadata": {
    "tags": []
   },
   "outputs": [],
   "source": [
    "import warnings\n",
    "warnings.filterwarnings(\"ignore\")\n",
    "\n",
    "import os\n",
    "import re\n",
    "import sys\n",
    "import time\n",
    "import numpy as np\n",
    "import pickle as pkl\n",
    "\n",
    "import src\n",
    "from src.reload import deep_reload"
   ]
  },
  {
   "cell_type": "code",
   "execution_count": 12,
   "id": "16328811-627d-4551-b56f-2aa91f0af234",
   "metadata": {},
   "outputs": [],
   "source": [
    "graph = src.graph.graph_from_json('Outputs/graph_empty.json')\n",
    "places = src.graph.graph_from_json('Outputs/places.json')"
   ]
  },
  {
   "cell_type": "code",
   "execution_count": 13,
   "id": "e2a03c51-29ca-4ced-bf6a-b391f857a94a",
   "metadata": {},
   "outputs": [],
   "source": [
    "raw_path = '/media/aaron/data/Random_Experiment/'\n",
    "processed_path = '/media/aaron/data/random_experiment_processed/'"
   ]
  },
  {
   "cell_type": "code",
   "execution_count": 14,
   "id": "ed7a1f92-fafe-458f-9978-5458ef6d0dfa",
   "metadata": {},
   "outputs": [
    {
     "name": "stdout",
     "output_type": "stream",
     "text": [
      "\u001b[1m\u001b[38;5;34m\u001b[48;5;0m [------>] (1527/1527) 100.00%, 0.36 it/s, 4223.57 s elapsed, 0.00 s remaining"
     ]
    }
   ],
   "source": [
    "files = os.listdir(raw_path)\n",
    "files_processed = os.listdir(processed_path)\n",
    "\n",
    "for file in src.progress_bar.ProgressBar(files):\n",
    "\n",
    "    if file in files_processed:\n",
    "\n",
    "        continue\n",
    "\n",
    "    run = eval(re.findall(r'\\d+', file)[0])\n",
    "\n",
    "    try: \n",
    "\n",
    "        with open(raw_path + file, 'rb') as f:\n",
    "    \n",
    "            out = pkl.load(f)\n",
    "    \n",
    "            out_arrays = src.analysis.values_to_array(\n",
    "                places, out[4], ['total_time', 'driving_time', 'charge_event']\n",
    "            )\n",
    "            \n",
    "            visits = src.analysis.nodes_visited(\n",
    "                graph, out[5],\n",
    "            )\n",
    "    \n",
    "            pkl.dump([out_arrays, visits], open(processed_path + file, 'wb'))\n",
    "\n",
    "    except:\n",
    "\n",
    "        pass\n"
   ]
  },
  {
   "cell_type": "code",
   "execution_count": 16,
   "id": "34bae509-f1ea-4276-a6a4-cd60e38b27bf",
   "metadata": {},
   "outputs": [
    {
     "name": "stdout",
     "output_type": "stream",
     "text": [
      "\u001b[1m\u001b[38;5;34m\u001b[48;5;0m [>          ] (99/1526) 6.49%, 4.14 it/s, 24.13 s elapsed, 344.10 s remaining"
     ]
    }
   ],
   "source": [
    "files = os.listdir(raw_path)\n",
    "files_processed = os.listdir(processed_path)\n",
    "\n",
    "idx = 0\n",
    "\n",
    "for file in src.progress_bar.ProgressBar(files_processed):\n",
    "\n",
    "    idx += 1\n",
    "\n",
    "    if idx >= 100:\n",
    "\n",
    "        break\n",
    "\n",
    "    # if file in files_processed:\n",
    "\n",
    "    #     continue\n",
    "\n",
    "    run = eval(re.findall(r'\\d+', file)[0])\n",
    "\n",
    "    try: \n",
    "\n",
    "        with open(processed_path + file, 'rb') as f:\n",
    "    \n",
    "            out = pkl.load(f)\n",
    "    \n",
    "            # out_arrays = src.analysis.values_to_array(\n",
    "            #     places, out[4], ['total_time', 'driving_time', 'charge_event']\n",
    "            # )\n",
    "            \n",
    "            # visits = src.analysis.nodes_visited(\n",
    "            #     graph, out[5],\n",
    "            # )\n",
    "    \n",
    "            # pkl.dump([out_arrays, visits], open(processed_path + file, 'wb'))\n",
    "\n",
    "    except:\n",
    "\n",
    "        pass\n"
   ]
  },
  {
   "cell_type": "code",
   "execution_count": null,
   "id": "8bd39f48-128c-40ad-9bf0-901ff1808bcf",
   "metadata": {},
   "outputs": [],
   "source": []
  }
 ],
 "metadata": {
  "kernelspec": {
   "display_name": "Python 3 (ipykernel)",
   "language": "python",
   "name": "python3"
  },
  "language_info": {
   "codemirror_mode": {
    "name": "ipython",
    "version": 3
   },
   "file_extension": ".py",
   "mimetype": "text/x-python",
   "name": "python",
   "nbconvert_exporter": "python",
   "pygments_lexer": "ipython3",
   "version": "3.11.5"
  }
 },
 "nbformat": 4,
 "nbformat_minor": 5
}
