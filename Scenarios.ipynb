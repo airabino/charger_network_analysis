{
 "cells": [
  {
   "cell_type": "code",
   "execution_count": 1,
   "id": "74e07c4e-0b9a-4f46-8de1-037dbc715bdc",
   "metadata": {
    "tags": []
   },
   "outputs": [],
   "source": [
    "import warnings\n",
    "warnings.filterwarnings(\"ignore\")\n",
    "\n",
    "import os\n",
    "import sys\n",
    "import time\n",
    "import json\n",
    "import numpy as np\n",
    "import pandas as pd\n",
    "import geopandas as gpd\n",
    "import pickle as pkl\n",
    "import networkx as nx\n",
    "import matplotlib.pyplot as plt\n",
    "import networkx as nx\n",
    "\n",
    "import src\n",
    "from src.reload import deep_reload"
   ]
  },
  {
   "cell_type": "code",
   "execution_count": 31,
   "id": "e72b00c3-6fee-43e2-a777-e7901e37aefa",
   "metadata": {},
   "outputs": [],
   "source": [
    "icev = pkl.load(open('Outputs/Gas_Fresno.pkl', 'rb'))"
   ]
  },
  {
   "cell_type": "code",
   "execution_count": 3,
   "id": "ca65a874-a8e6-4474-80f8-deb40b39b684",
   "metadata": {},
   "outputs": [],
   "source": [
    "bolt_a = pkl.load(open('Outputs/Bolt_Fresno_Aggressive.pkl', 'rb'))"
   ]
  },
  {
   "cell_type": "code",
   "execution_count": 4,
   "id": "320cb01f-dd0c-4ce0-9509-e85f65aba3ee",
   "metadata": {},
   "outputs": [],
   "source": [
    "bolt_c = pkl.load(open('Outputs/Bolt_Fresno_Cautious.pkl', 'rb'))"
   ]
  },
  {
   "cell_type": "code",
   "execution_count": 5,
   "id": "652f996e-8639-46d4-80f5-38f5b3feca30",
   "metadata": {},
   "outputs": [],
   "source": [
    "model_3_n = pkl.load(open('Outputs/Model_3_Fresno_Neutral.pkl', 'rb'))"
   ]
  },
  {
   "cell_type": "code",
   "execution_count": 6,
   "id": "63394f04-7e85-47d6-a302-605667c2b828",
   "metadata": {},
   "outputs": [],
   "source": [
    "filename = 'cities.json'\n",
    "\n",
    "cities = src.graph.graph_from_json(filename)"
   ]
  },
  {
   "cell_type": "code",
   "execution_count": 29,
   "id": "871b1a59-ba4d-4b15-ae57-690354efbb05",
   "metadata": {
    "scrolled": true
   },
   "outputs": [
    {
     "name": "stdout",
     "output_type": "stream",
     "text": [
      "\\hline 0 & 9.02 & 9.89 & nan & 15.27 \\\\\n",
      "\\hline 1 & 7.16 & 7.47 & nan & 10.24 \\\\\n",
      "\\hline 2 & 5.71 & 6.14 & nan & 9.09 \\\\\n",
      "\\hline 3 & 4.46 & 4.69 & 9.63 & 6.72 \\\\\n",
      "\\hline 4 & 4.67 & 5.00 & 8.83 & 7.03 \\\\\n",
      "\\hline 5 & 2.82 & 2.82 & 4.52 & 4.42 \\\\\n",
      "\\hline 6 & 2.09 & 2.09 & 2.09 & 2.09 \\\\\n",
      "\\hline 7 & 3.32 & 3.29 & 5.05 & 4.71 \\\\\n",
      "\\hline 8 & 2.71 & 2.71 & 4.86 & 4.54 \\\\\n",
      "\\hline 9 & 0.00 & 0.00 & 0.00 & 0.00 \\\\\n",
      "\\hline 10 & 5.86 & 6.29 & nan & 9.93 \\\\\n",
      "\\hline 11 & 1.64 & 1.64 & 1.64 & 1.64 \\\\\n",
      "\\hline 12 & 3.32 & 3.65 & 5.78 & 5.71 \\\\\n",
      "\\hline 13 & 6.81 & 7.52 & 14.69 & 11.52 \\\\\n",
      "\\hline 14 & 5.28 & 5.72 & 10.26 & 8.74 \\\\\n"
     ]
    }
   ],
   "source": [
    "for idx, node in enumerate(cities._node.keys()):\n",
    "    \n",
    "    fstr = ''\n",
    "    fstr += f'\\hline {idx} '\n",
    "    fstr += f'& {icev[1][node][\"time\"].mean() / 3600:.2f} '\n",
    "    fstr += f'& {model_3_n[1].get(node, {\"time\": np.array([np.nan])})[\"time\"].mean() / 3600:.2f} '\n",
    "    fstr += f'& {bolt_c[1].get(node, {\"time\": np.array([np.nan])})[\"time\"].mean() / 3600:.2f} '\n",
    "    fstr += f'& {bolt_a[1].get(node, {\"time\": np.array([np.nan])})[\"time\"].mean() / 3600:.2f} '\n",
    "    fstr += '\\\\\\\\'\n",
    "    \n",
    "    print(fstr)"
   ]
  },
  {
   "cell_type": "code",
   "execution_count": 32,
   "id": "112dba4e-0e3e-4293-9994-5127d803240b",
   "metadata": {},
   "outputs": [
    {
     "name": "stdout",
     "output_type": "stream",
     "text": [
      "\\hline 0 & 8.61 & 8.76 & nan & 9.03 \\\\\n",
      "\\hline 1 & 6.63 & 6.79 & nan & 6.79 \\\\\n",
      "\\hline 2 & 5.14 & 5.74 & nan & 5.33 \\\\\n",
      "\\hline 3 & 4.31 & 4.39 & 5.03 & 4.49 \\\\\n",
      "\\hline 4 & 4.59 & 4.67 & 4.66 & 4.80 \\\\\n",
      "\\hline 5 & 2.71 & 2.82 & 2.81 & 2.82 \\\\\n",
      "\\hline 6 & 2.00 & 2.09 & 2.09 & 2.09 \\\\\n",
      "\\hline 7 & 2.96 & 3.07 & 3.21 & 3.11 \\\\\n",
      "\\hline 8 & 2.53 & 2.71 & 3.15 & 2.94 \\\\\n",
      "\\hline 9 & 0.00 & 0.00 & 0.00 & 0.00 \\\\\n",
      "\\hline 10 & 5.82 & 5.87 & nan & 5.91 \\\\\n",
      "\\hline 11 & 1.61 & 1.64 & 1.64 & 1.64 \\\\\n",
      "\\hline 12 & 3.26 & 3.32 & 3.32 & 3.32 \\\\\n",
      "\\hline 13 & 6.67 & 6.81 & 7.16 & 7.01 \\\\\n",
      "\\hline 14 & 5.25 & 5.28 & 5.28 & 5.36 \\\\\n"
     ]
    }
   ],
   "source": [
    "for idx, node in enumerate(cities._node.keys()):\n",
    "    \n",
    "    fstr = ''\n",
    "    fstr += f'\\hline {idx} '\n",
    "    fstr += f'& {icev[1][node][\"time\"].mean() / 3600:.2f} '\n",
    "    fstr += f'& {model_3_n[1].get(node, {\"time_nc\": np.array([np.nan])})[\"time_nc\"].mean() / 3600:.2f} '\n",
    "    fstr += f'& {bolt_c[1].get(node, {\"time_nc\": np.array([np.nan])})[\"time_nc\"].mean() / 3600:.2f} '\n",
    "    fstr += f'& {bolt_a[1].get(node, {\"time_nc\": np.array([np.nan])})[\"time_nc\"].mean() / 3600:.2f} '\n",
    "    fstr += '\\\\\\\\'\n",
    "    \n",
    "    print(fstr)"
   ]
  },
  {
   "cell_type": "code",
   "execution_count": 10,
   "id": "e9152081-0015-4584-8e02-a41ad15ea8cf",
   "metadata": {},
   "outputs": [
    {
     "data": {
      "text/plain": [
       "{'Fresno': 0.0,\n",
       " 'Bakersfield': 1.6367222152847138,\n",
       " 'Stockton': 2.0871465791153287,\n",
       " 'San Jose': 2.708246503496503,\n",
       " 'Sacramento': 2.8204484231046743,\n",
       " 'San Francisco': 3.2881092469525854,\n",
       " 'Los Angeles': 3.646283568650634,\n",
       " 'Chico': 4.685181353493169,\n",
       " 'I-80 to Reno (State Line)': 5.001607973487045,\n",
       " 'San Diego': 5.720328908262772,\n",
       " 'Redding': 6.138409589616231,\n",
       " 'I-15 to Las Vegas (State Line)': 6.288432133383234,\n",
       " 'Yreka': 7.4672162436261065,\n",
       " 'I-10 to Phoenix (State Line)': 7.5219674977017785,\n",
       " 'Crescent City': 9.893793053583599}"
      ]
     },
     "execution_count": 10,
     "metadata": {},
     "output_type": "execute_result"
    }
   ],
   "source": [
    "path_values_avg = model_3_n[1]\n",
    "\n",
    "{k: v['time'].mean() / 3600 for k, v in path_values_avg.items() if 'station' not in k}"
   ]
  },
  {
   "cell_type": "code",
   "execution_count": 11,
   "id": "faee5bf2-587a-44a0-b3cc-588e641831ae",
   "metadata": {},
   "outputs": [
    {
     "data": {
      "text/plain": [
       "{'Fresno': 0.0,\n",
       " 'Bakersfield': 1.636722215284714,\n",
       " 'Stockton': 2.0871465791153287,\n",
       " 'San Jose': 2.7082465034965035,\n",
       " 'Sacramento': 2.8204484231046734,\n",
       " 'Los Angeles': 3.322148976023976,\n",
       " 'San Francisco': 3.322977747946495,\n",
       " 'Chico': 4.463616359335112,\n",
       " 'I-80 to Reno (State Line)': 4.66865771381397,\n",
       " 'San Diego': 5.282255536130553,\n",
       " 'Redding': 5.706455790737043,\n",
       " 'I-15 to Las Vegas (State Line)': 5.855787264818521,\n",
       " 'I-10 to Phoenix (State Line)': 6.809374347874347,\n",
       " 'Yreka': 7.159042943167949,\n",
       " 'Crescent City': 9.019684464840704}"
      ]
     },
     "execution_count": 11,
     "metadata": {},
     "output_type": "execute_result"
    }
   ],
   "source": [
    "path_values_avg = icev[1]\n",
    "\n",
    "{k: v['time'].mean() / 3600 for k, v in path_values_avg.items() if 'station' not in k}"
   ]
  }
 ],
 "metadata": {
  "kernelspec": {
   "display_name": "Python 3 (ipykernel)",
   "language": "python",
   "name": "python3"
  },
  "language_info": {
   "codemirror_mode": {
    "name": "ipython",
    "version": 3
   },
   "file_extension": ".py",
   "mimetype": "text/x-python",
   "name": "python",
   "nbconvert_exporter": "python",
   "pygments_lexer": "ipython3",
   "version": "3.11.5"
  }
 },
 "nbformat": 4,
 "nbformat_minor": 5
}
