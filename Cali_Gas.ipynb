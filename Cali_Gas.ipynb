{
 "cells": [
  {
   "cell_type": "code",
   "execution_count": 1,
   "id": "15bb52b2-9b6c-4420-b927-3b30003f3f7f",
   "metadata": {
    "tags": []
   },
   "outputs": [],
   "source": [
    "import warnings\n",
    "warnings.filterwarnings(\"ignore\")\n",
    "\n",
    "import os\n",
    "import sys\n",
    "import time\n",
    "import json\n",
    "import numpy as np\n",
    "import pandas as pd\n",
    "import geopandas as gpd\n",
    "import pickle as pkl\n",
    "import networkx as nx\n",
    "import matplotlib.pyplot as plt\n",
    "\n",
    "import src\n",
    "from src.reload import deep_reload"
   ]
  },
  {
   "cell_type": "code",
   "execution_count": 2,
   "id": "69eff41a-283c-4998-a9e8-1bbed45daae2",
   "metadata": {},
   "outputs": [],
   "source": [
    "gdf = gpd.read_file('Data/State/tl_2023_us_state.shp')\n",
    "\n",
    "gdf = gdf[gdf['NAME'] == 'California']"
   ]
  },
  {
   "cell_type": "code",
   "execution_count": 3,
   "id": "b61c6add-90d1-48c3-9fa2-3ef2e74e59c9",
   "metadata": {},
   "outputs": [],
   "source": [
    "deep_reload(src)\n",
    "\n",
    "atlas, graph, cities = src.experiment.load_graphs()"
   ]
  },
  {
   "cell_type": "code",
   "execution_count": 4,
   "id": "280a4131-9139-4ae3-b7d7-bdb6f1945b89",
   "metadata": {},
   "outputs": [],
   "source": [
    "deep_reload(src)\n",
    "\n",
    "sg = src.experiment.non_proprietary_network(graph)"
   ]
  },
  {
   "cell_type": "code",
   "execution_count": 5,
   "id": "83d7dfec-321b-4156-ad46-f063af19510f",
   "metadata": {},
   "outputs": [],
   "source": [
    "deep_reload(src)\n",
    "\n",
    "sg = src.experiment.prepare_graph(sg)"
   ]
  },
  {
   "cell_type": "code",
   "execution_count": 52,
   "id": "573254d6-ddce-4feb-9769-787b2dea51ea",
   "metadata": {},
   "outputs": [],
   "source": [
    "deep_reload(src)\n",
    "\n",
    "seed = 125897\n",
    "\n",
    "rng = np.random.default_rng(seed = seed)\n",
    "\n",
    "veh = src.routing.ConstrainedVehicle(\n",
    "    n_cases = 1,\n",
    "    risk_attitude = (0, 1),\n",
    "    capacity = 550 * 3.6e6 * 1e10,\n",
    "    efficiency = 2700,\n",
    "    rate = 14.15e6,\n",
    ")\n",
    "\n",
    "station = src.routing.Station(\n",
    "    veh,\n",
    "    reliability = 1,\n",
    "    arrival_param = (0, 0),\n",
    "    service_param = (0, 0),\n",
    ")\n",
    "\n",
    "sg = src.experiment.add_stations(sg, station, rng)\n",
    "locations = list(cities.nodes)"
   ]
  },
  {
   "cell_type": "code",
   "execution_count": 53,
   "id": "a2162687-beb6-482f-8894-c4e8f02c63ed",
   "metadata": {},
   "outputs": [],
   "source": [
    "locations = list(cities.nodes)"
   ]
  },
  {
   "cell_type": "code",
   "execution_count": 54,
   "id": "2dd69aa1-f9eb-4932-a9f3-34a74e178545",
   "metadata": {},
   "outputs": [
    {
     "data": {
      "text/plain": [
       "3.845998525619507"
      ]
     },
     "execution_count": 54,
     "metadata": {},
     "output_type": "execute_result"
    }
   ],
   "source": [
    "deep_reload(src)\n",
    "\n",
    "t0 = time.time()\n",
    "\n",
    "expectations, values, paths = veh.routes(\n",
    "    sg,\n",
    "    origins = ['Fresno'],\n",
    "    destinations = locations,\n",
    "    return_paths = True\n",
    ")\n",
    "\n",
    "time.time() - t0"
   ]
  },
  {
   "cell_type": "code",
   "execution_count": 57,
   "id": "bc55550e-0bb1-4a29-9e8f-1077cfe96852",
   "metadata": {
    "scrolled": true
   },
   "outputs": [
    {
     "data": {
      "text/plain": [
       "{'Fresno': array([0.]),\n",
       " 'Bakersfield': array([1.63672222]),\n",
       " 'Stockton': array([2.08714658]),\n",
       " 'San Jose': array([2.7082465]),\n",
       " 'Sacramento': array([2.7860585]),\n",
       " 'San Francisco': array([3.07719806]),\n",
       " 'Los Angeles': array([3.32214898]),\n",
       " 'Chico': array([4.39920233]),\n",
       " 'I-80 to Reno (State Line)': array([4.63426779]),\n",
       " 'Redding': array([5.27908921]),\n",
       " 'San Diego': array([5.29117396]),\n",
       " 'I-15 to Las Vegas (State Line)': array([5.86470569]),\n",
       " 'Yreka': array([6.73167637]),\n",
       " 'I-10 to Phoenix (State Line)': array([6.80329853]),\n",
       " 'Crescent City': array([8.78644844])}"
      ]
     },
     "execution_count": 57,
     "metadata": {},
     "output_type": "execute_result"
    }
   ],
   "source": [
    "{k: v['time']/ 3600 for k, v in values.items() if 'station' not in k}"
   ]
  },
  {
   "cell_type": "code",
   "execution_count": 58,
   "id": "9e3252ed-f4bd-441f-b8a0-a845e27d97df",
   "metadata": {
    "scrolled": true
   },
   "outputs": [
    {
     "data": {
      "text/plain": [
       "{'Fresno': array([0.]),\n",
       " 'Bakersfield': array([1.63672222]),\n",
       " 'Stockton': array([2.08714658]),\n",
       " 'San Jose': array([2.7082465]),\n",
       " 'Sacramento': array([2.77899944]),\n",
       " 'San Francisco': array([3.07030596]),\n",
       " 'Los Angeles': array([3.32214898]),\n",
       " 'Chico': array([4.38926679]),\n",
       " 'I-80 to Reno (State Line)': array([4.62720873]),\n",
       " 'Redding': array([5.25723098]),\n",
       " 'San Diego': array([5.28225554]),\n",
       " 'I-15 to Las Vegas (State Line)': array([5.85578726]),\n",
       " 'Yreka': array([6.70981813]),\n",
       " 'I-10 to Phoenix (State Line)': array([6.78552164]),\n",
       " 'Crescent City': array([8.75558436])}"
      ]
     },
     "execution_count": 58,
     "metadata": {},
     "output_type": "execute_result"
    }
   ],
   "source": [
    "{k: v['time_nc']/ 3600 for k, v in values.items() if 'station' not in k}"
   ]
  },
  {
   "cell_type": "code",
   "execution_count": 59,
   "id": "fd871fef-5598-4fef-9773-49733837f09d",
   "metadata": {},
   "outputs": [
    {
     "name": "stdout",
     "output_type": "stream",
     "text": [
      "\u001b[1m\u001b[38;5;34m\u001b[48;5;0m [------------>] (15/15) 100.00%, 0.28 it/s, 57.61 s elapsed, 0.00 s remaining"
     ]
    },
    {
     "data": {
      "text/plain": [
       "57.609273195266724"
      ]
     },
     "execution_count": 59,
     "metadata": {},
     "output_type": "execute_result"
    }
   ],
   "source": [
    "deep_reload(src)\n",
    "\n",
    "t0 = time.time()\n",
    "\n",
    "expectations, values, paths = veh.all_pairs(\n",
    "    sg,\n",
    "    nodes = locations,\n",
    ")\n",
    "\n",
    "time.time() - t0"
   ]
  },
  {
   "cell_type": "code",
   "execution_count": 60,
   "id": "edcd5585-b30b-4fb5-975a-e18ed96bc1e3",
   "metadata": {},
   "outputs": [
    {
     "data": {
      "text/plain": [
       "{'Crescent City': 8.792218935289235,\n",
       " 'Yreka': 6.736510297486592,\n",
       " 'Redding': 5.275675812125236,\n",
       " 'Chico': 4.401338392188512,\n",
       " 'I-80 to Reno (State Line)': 4.644110555121289,\n",
       " 'Sacramento': 2.7862689184507032,\n",
       " 'Stockton': 2.0871465791153287,\n",
       " 'San Francisco': 3.077378787614583,\n",
       " 'San Jose': 2.7082465034965035,\n",
       " 'Fresno': 0.0,\n",
       " 'I-15 to Las Vegas (State Line)': 5.8644332569897415,\n",
       " 'Bakersfield': 1.636722215284714,\n",
       " 'Los Angeles': 3.322148976023976,\n",
       " 'I-10 to Phoenix (State Line)': 6.804780511069022,\n",
       " 'San Diego': 5.289934198434202}"
      ]
     },
     "execution_count": 60,
     "metadata": {},
     "output_type": "execute_result"
    }
   ],
   "source": [
    "{k: v['Fresno'] / 3600 for k, v in expectations.items()}"
   ]
  },
  {
   "cell_type": "code",
   "execution_count": 61,
   "id": "5a15953f-bdb9-48ac-8991-fe5204095c01",
   "metadata": {},
   "outputs": [
    {
     "data": {
      "text/plain": [
       "{'Fresno': 0.0,\n",
       " 'Bakersfield': 1.636722215284714,\n",
       " 'Stockton': 2.0871465791153287,\n",
       " 'San Jose': 2.7082465034965035,\n",
       " 'Sacramento': 2.7860585017646655,\n",
       " 'San Francisco': 3.077198060567591,\n",
       " 'Los Angeles': 3.322148976023976,\n",
       " 'Chico': 4.399202334858281,\n",
       " 'I-80 to Reno (State Line)': 4.63426779247396,\n",
       " 'Redding': 5.2790892143912185,\n",
       " 'San Diego': 5.2911739566321545,\n",
       " 'I-15 to Las Vegas (State Line)': 5.864705685320124,\n",
       " 'Yreka': 6.731676366822128,\n",
       " 'I-10 to Phoenix (State Line)': 6.8032985320222785,\n",
       " 'Crescent City': 8.78644844323488}"
      ]
     },
     "execution_count": 61,
     "metadata": {},
     "output_type": "execute_result"
    }
   ],
   "source": [
    "{k: v['time'].mean() / 3600 for k, v in values['Fresno'].items() if 'station' not in k}"
   ]
  },
  {
   "cell_type": "code",
   "execution_count": 62,
   "id": "2625a884-479c-4749-b9c8-a1b4d53f0f08",
   "metadata": {},
   "outputs": [
    {
     "data": {
      "text/plain": [
       "{'Fresno': 0.0,\n",
       " 'Bakersfield': 1.636722215284714,\n",
       " 'Stockton': 2.0871465791153287,\n",
       " 'San Jose': 2.7082465034965035,\n",
       " 'Sacramento': 2.7789994380619363,\n",
       " 'San Francisco': 3.070305957930957,\n",
       " 'Los Angeles': 3.322148976023976,\n",
       " 'Chico': 4.389266785298037,\n",
       " 'I-80 to Reno (State Line)': 4.6272087287712305,\n",
       " 'Redding': 5.2572309808247315,\n",
       " 'San Diego': 5.282255536130548,\n",
       " 'I-15 to Las Vegas (State Line)': 5.855787264818518,\n",
       " 'Yreka': 6.7098181332556415,\n",
       " 'I-10 to Phoenix (State Line)': 6.785521638084139,\n",
       " 'Crescent City': 8.75558436008436}"
      ]
     },
     "execution_count": 62,
     "metadata": {},
     "output_type": "execute_result"
    }
   ],
   "source": [
    "{k: v['time_nc'].mean() / 3600 for k, v in values['Fresno'].items() if 'station' not in k}"
   ]
  },
  {
   "cell_type": "code",
   "execution_count": 63,
   "id": "b3d635bc-70f3-4bd4-862b-b93070a90a62",
   "metadata": {},
   "outputs": [],
   "source": [
    "pkl.dump(\n",
    "    [expectations, values, paths],\n",
    "    open('Outputs/ICEV_Neutral_Case_Example_1.pkl', 'wb')\n",
    ")"
   ]
  },
  {
   "cell_type": "code",
   "execution_count": null,
   "id": "4773f587-f87e-4965-b745-a6063cc72479",
   "metadata": {},
   "outputs": [],
   "source": []
  },
  {
   "cell_type": "code",
   "execution_count": null,
   "id": "7bcbe04d-4c5f-44cc-9501-19eebd06c847",
   "metadata": {},
   "outputs": [],
   "source": []
  },
  {
   "cell_type": "code",
   "execution_count": 2,
   "id": "c807bc83-d431-4ed6-95b9-e42312f3fecd",
   "metadata": {},
   "outputs": [],
   "source": [
    "gdf_zones = gpd.read_file('Data/NGOD/Shapes/V2_Zones.shp')\n",
    "\n",
    "gdf_zones['in_california'] = gdf_zones['V2ZONEID'].apply(lambda zid: 'CA' in zid)\n",
    "\n",
    "gdf_zones_california = gdf_zones[gdf_zones['in_california']]\n",
    "\n",
    "gdf_zones_california = gdf_zones_california.explode(drop = True)"
   ]
  },
  {
   "cell_type": "code",
   "execution_count": 17,
   "id": "63e83f0b-ea1e-4aa9-b265-3ed444ffd6e9",
   "metadata": {},
   "outputs": [],
   "source": [
    "atlas = src.graph.graph_from_json('Outputs/atlas_california.json')"
   ]
  },
  {
   "cell_type": "code",
   "execution_count": 5,
   "id": "83868a52-8c5d-4396-ad13-25b9f5b8ec95",
   "metadata": {},
   "outputs": [],
   "source": [
    "filename = 'cities.json'\n",
    "\n",
    "cities = src.graph.graph_from_json(filename)"
   ]
  },
  {
   "cell_type": "code",
   "execution_count": 3,
   "id": "4525375c-3aa2-4ff3-ba32-0f665343f873",
   "metadata": {},
   "outputs": [],
   "source": [
    "graph = src.graph.graph_from_json('Outputs/graph.json')"
   ]
  },
  {
   "cell_type": "code",
   "execution_count": 6,
   "id": "b1742c2d-277d-4325-8fbe-46acf6ba40bd",
   "metadata": {},
   "outputs": [
    {
     "data": {
      "text/plain": [
       "{'Sacramento': 2.8204484231046734,\n",
       " 'Stockton': 2.0871465791153287,\n",
       " 'San Francisco': 3.322977747946495,\n",
       " 'San Jose': 2.7082465034965035,\n",
       " 'Fresno': 0.0,\n",
       " 'Bakersfield': 1.636722215284714,\n",
       " 'Los Angeles': 3.322148976023976}"
      ]
     },
     "execution_count": 6,
     "metadata": {},
     "output_type": "execute_result"
    }
   ],
   "source": [
    "{k: v['time'] / 3600 for k, v in graph._adj['Fresno'].items() if k in cities.nodes}"
   ]
  },
  {
   "cell_type": "code",
   "execution_count": 8,
   "id": "0c661101-c3ab-4fcf-b067-cfc32757f339",
   "metadata": {},
   "outputs": [],
   "source": [
    "for n in graph._node.values():\n",
    "    \n",
    "    n['distance'] = 0\n",
    "    n['time'] = 0\n",
    "    n['price'] = 0\n",
    "\n",
    "for s, a in graph._adj.items():\n",
    "    for t, l in a.items():\n",
    "\n",
    "        l['price'] = 0"
   ]
  },
  {
   "cell_type": "code",
   "execution_count": 9,
   "id": "896c1d08-a0e3-472d-909d-b0701ca5928e",
   "metadata": {},
   "outputs": [],
   "source": [
    "deep_reload(src)\n",
    "\n",
    "veh = src.routing.ConstrainedVehicle(\n",
    "    n_cases = 1,\n",
    "    risk_attitude = (0, 1),\n",
    "    ess_capacity = 1e200,\n",
    "    efficiency = 0,\n",
    "    rate = 170e3,\n",
    "    # max_soc = 10,\n",
    ")"
   ]
  },
  {
   "cell_type": "code",
   "execution_count": 12,
   "id": "c38dd139-f1db-4bcb-9555-9e17597cacce",
   "metadata": {},
   "outputs": [],
   "source": [
    "origin_nodes = ['Fresno']\n",
    "destination_nodes = list(cities.nodes)\n",
    "\n",
    "for n in destination_nodes:\n",
    "    \n",
    "    graph._node[n]['min_soc'] = .5"
   ]
  },
  {
   "cell_type": "code",
   "execution_count": 13,
   "id": "971c196d-edd5-439c-b459-b21942f1ab3f",
   "metadata": {},
   "outputs": [
    {
     "name": "stdout",
     "output_type": "stream",
     "text": [
      "Crescent Cityix (State Line)e)\r"
     ]
    },
    {
     "data": {
      "text/plain": [
       "40.305091381073"
      ]
     },
     "execution_count": 13,
     "metadata": {},
     "output_type": "execute_result"
    }
   ],
   "source": [
    "deep_reload(src)\n",
    "\n",
    "t0 = time.time()\n",
    "\n",
    "expectations, values, paths = veh.routes(\n",
    "    graph,\n",
    "    origins = origin_nodes,\n",
    "    destinations = destination_nodes,\n",
    "    return_paths = True\n",
    ")\n",
    "\n",
    "time.time() - t0"
   ]
  },
  {
   "cell_type": "code",
   "execution_count": 14,
   "id": "536fabae-aba8-4374-a35d-250c09afdb6c",
   "metadata": {},
   "outputs": [],
   "source": [
    "pkl.dump([expectations, values, paths], open('Outputs/Gas_Fresno.pkl', 'wb'))"
   ]
  },
  {
   "cell_type": "code",
   "execution_count": 15,
   "id": "70ce9429-efab-47b6-a6c4-40494133cf68",
   "metadata": {},
   "outputs": [
    {
     "ename": "SyntaxError",
     "evalue": "unexpected character after line continuation character (3483565220.py, line 4)",
     "output_type": "error",
     "traceback": [
      "\u001b[0;36m  Cell \u001b[0;32mIn[15], line 4\u001b[0;36m\u001b[0m\n\u001b[0;31m    plot_graph_c = src.graph.subgraph( scraped form \\gls{afdc}\u001b[0m\n\u001b[0m                                                     ^\u001b[0m\n\u001b[0;31mSyntaxError\u001b[0m\u001b[0;31m:\u001b[0m unexpected character after line continuation character\n"
     ]
    }
   ],
   "source": [
    "plot_graph = src.graph.subgraph(entity_graph, list(graph_cities.nodes))\n",
    "\n",
    "paths_c = [v[1:-1] for k, v in paths.items() if k in graph_cities.nodes]\n",
    "plot_graph_c = src.graph.subgraph( scraped form \\gls{afdc}  \n",
    "    entity_graph, list(np.unique(np.concatenate(paths_c)))\n",
    ")"
   ]
  },
  {
   "cell_type": "code",
   "execution_count": 16,
   "id": "33ccdf92-ce96-4299-9744-7b3251080d54",
   "metadata": {},
   "outputs": [
    {
     "ename": "NameError",
     "evalue": "name 'plot_graph' is not defined",
     "output_type": "error",
     "traceback": [
      "\u001b[0;31m---------------------------------------------------------------------------\u001b[0m",
      "\u001b[0;31mNameError\u001b[0m                                 Traceback (most recent call last)",
      "Cell \u001b[0;32mIn[16], line 17\u001b[0m\n\u001b[1;32m     13\u001b[0m fig, ax  \u001b[38;5;241m=\u001b[39m plt\u001b[38;5;241m.\u001b[39msubplots(figsize \u001b[38;5;241m=\u001b[39m (\u001b[38;5;241m8\u001b[39m,\u001b[38;5;241m8\u001b[39m))\n\u001b[1;32m     15\u001b[0m key \u001b[38;5;241m=\u001b[39m \u001b[38;5;124m'\u001b[39m\u001b[38;5;124mtime_nc\u001b[39m\u001b[38;5;124m'\u001b[39m\n\u001b[0;32m---> 17\u001b[0m \u001b[38;5;28;01mfor\u001b[39;00m source, node \u001b[38;5;129;01min\u001b[39;00m plot_graph\u001b[38;5;241m.\u001b[39m_node\u001b[38;5;241m.\u001b[39mitems():\n\u001b[1;32m     19\u001b[0m \t\t\u001b[38;5;28;01mtry\u001b[39;00m:\n\u001b[1;32m     20\u001b[0m \t\t\tnode[\u001b[38;5;124m'\u001b[39m\u001b[38;5;124mplot\u001b[39m\u001b[38;5;124m'\u001b[39m] \u001b[38;5;241m=\u001b[39m path_values_avg[source][key] \u001b[38;5;241m/\u001b[39m \u001b[38;5;241m3.6e3\u001b[39m\n",
      "\u001b[0;31mNameError\u001b[0m: name 'plot_graph' is not defined"
     ]
    },
    {
     "data": {
      "image/png": "[encoded data removed]",
      "text/plain": [
       "<Figure size 800x800 with 1 Axes>"
      ]
     },
     "metadata": {},
     "output_type": "display_data"
    }
   ],
   "source": [
    "deep_reload(src)\n",
    "\n",
    "path_values_avg = {}\n",
    "\n",
    "for target, value in values.items():\n",
    "\n",
    "    path_values_avg[target] = {}\n",
    "\n",
    "    for key, val in value.items():\n",
    "\n",
    "        path_values_avg[target][key] = src.routing.super_quantile(val, (0, 1))\n",
    "\n",
    "fig, ax  = plt.subplots(figsize = (8,8))\n",
    "\n",
    "key = 'time_nc'\n",
    "\n",
    "for source, node in plot_graph._node.items():\n",
    "\n",
    "\t\ttry:\n",
    "\t\t\tnode['plot'] = path_values_avg[source][key] / 3.6e3\n",
    "\n",
    "\t\texcept:\n",
    "\t\t\tnode['plot'] = np.nan\n",
    "\n",
    "gdf_zones_california.plot(ax = ax, ec = 'gray', fc = 'none')\n",
    "\n",
    "kwargs = {\n",
    "    'show_links': False,\n",
    "    'node_field': 'plot',\n",
    "    'scatter': {\n",
    "        's': 350,\n",
    "        'ec': 'k',\n",
    "        'zorder': 2,\n",
    "    },\n",
    "    'colorbar': {\n",
    "        'label': 'Time to Node [h]',\n",
    "    },\n",
    "    'cmap': src.figures.colormap('viridis'),\n",
    "}\n",
    "\n",
    "src.figures.plot_graph(plot_graph, ax = ax, **kwargs)\n",
    "\n",
    "kwargs = {\n",
    "\t\t'node_field': None,\n",
    "\t\t'scatter': {\n",
    "\t\t\t's': .5,\n",
    "\t\t\t'ec': 'none',\n",
    "            'fc': 'gray',\n",
    "            'zorder': 0,\n",
    "\t\t},\n",
    "\t\t'show_links': False,\n",
    "\t}\n",
    "src.figures.plot_graph(atlas, ax = ax, **kwargs)\n",
    "\n",
    "_ = ax.grid(ls = '--')\n",
    "\n",
    "fig.savefig('Paper/figs/R_California_Gas_Fresno.png', bbox_inches = 'tight', dpi = 300)"
   ]
  },
  {
   "cell_type": "code",
   "execution_count": null,
   "id": "fc8bac9f-24e3-4080-ad80-846661ad59c4",
   "metadata": {},
   "outputs": [],
   "source": []
  }
 ],
 "metadata": {
  "kernelspec": {
   "display_name": "Python 3 (ipykernel)",
   "language": "python",
   "name": "python3"
  },
  "language_info": {
   "codemirror_mode": {
    "name": "ipython",
    "version": 3
   },
   "file_extension": ".py",
   "mimetype": "text/x-python",
   "name": "python",
   "nbconvert_exporter": "python",
   "pygments_lexer": "ipython3",
   "version": "3.11.5"
  }
 },
 "nbformat": 4,
 "nbformat_minor": 5
}
