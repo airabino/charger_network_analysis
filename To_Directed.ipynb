{
 "cells": [
  {
   "cell_type": "code",
   "execution_count": 11,
   "id": "6c665599-3660-48d1-9744-17731c12c307",
   "metadata": {
    "tags": []
   },
   "outputs": [],
   "source": [
    "import warnings\n",
    "warnings.filterwarnings(\"ignore\")\n",
    "\n",
    "import os\n",
    "import sys\n",
    "import time\n",
    "import json\n",
    "import numpy as np\n",
    "import pandas as pd\n",
    "import geopandas as gpd\n",
    "import pickle as pkl\n",
    "import networkx as nx\n",
    "import matplotlib.pyplot as plt\n",
    "\n",
    "from pprint import pprint\n",
    "\n",
    "import src\n",
    "from src.reload import deep_reload"
   ]
  },
  {
   "cell_type": "code",
   "execution_count": 15,
   "id": "6351d98b-6c92-4c37-a44d-3458904522ae",
   "metadata": {},
   "outputs": [],
   "source": [
    "'''\n",
    "Importing California SNG\n",
    "'''\n",
    "\n",
    "graph = src.graph.graph_from_json('Outputs/sng_combined.json')"
   ]
  },
  {
   "cell_type": "code",
   "execution_count": 16,
   "id": "1f8f1502-979e-422d-a9f5-0a0e4395fa06",
   "metadata": {
    "jupyter": {
     "source_hidden": true
    }
   },
   "outputs": [],
   "source": [
    "for source, node in graph._node.items():\n",
    "\n",
    "    if node['type'] == 'city':\n",
    "\n",
    "        node['type'] = 'community'\n",
    "\n",
    "graph = nx.to_directed(graph)\n",
    "\n",
    "deep_reload(src)\n",
    "\n",
    "criteria = [\n",
    "    lambda e: e['distance'] <= 550e3,\n",
    "    lambda e: e['distance'] >= 10e3,\n",
    "]\n",
    "\n",
    "graph = src.graph.remove_edges(graph, criteria)"
   ]
  },
  {
   "cell_type": "code",
   "execution_count": 17,
   "id": "785d14b7-fbd4-4dc1-be60-4137187b284d",
   "metadata": {},
   "outputs": [],
   "source": [
    "src.graph.graph_to_json(graph, 'Outputs/sng_combined_directed.json')"
   ]
  },
  {
   "cell_type": "code",
   "execution_count": 20,
   "id": "1bd9cc93-2eb7-402c-ab4d-82396fb103a2",
   "metadata": {},
   "outputs": [],
   "source": [
    "'''\n",
    "Importing California SNG\n",
    "'''\n",
    "\n",
    "graph = src.graph.graph_from_json('Outputs/sng_tesla.json')"
   ]
  },
  {
   "cell_type": "code",
   "execution_count": 21,
   "id": "3e7db0fd-fd93-4bbd-9d6f-44a46c12ab30",
   "metadata": {},
   "outputs": [],
   "source": [
    "for source, node in graph._node.items():\n",
    "\n",
    "    if node['type'] == 'city':\n",
    "\n",
    "        node['type'] = 'community'\n",
    "\n",
    "graph = nx.to_directed(graph)\n",
    "\n",
    "deep_reload(src)\n",
    "\n",
    "criteria = [\n",
    "    lambda e: e['distance'] <= 550e3,\n",
    "    lambda e: e['distance'] >= 10e3,\n",
    "]\n",
    "\n",
    "graph = src.graph.remove_edges(graph, criteria)"
   ]
  },
  {
   "cell_type": "code",
   "execution_count": 22,
   "id": "855946d9-cafa-4c43-88d1-8f5178b686b8",
   "metadata": {},
   "outputs": [],
   "source": [
    "src.graph.graph_to_json(graph, 'Outputs/sng_tesla_directed.json')"
   ]
  },
  {
   "cell_type": "code",
   "execution_count": 23,
   "id": "a29fa1fd-aa1b-4bae-9804-8a4e0e352c48",
   "metadata": {},
   "outputs": [],
   "source": [
    "'''\n",
    "Importing California SNG\n",
    "'''\n",
    "\n",
    "graph = src.graph.graph_from_json('Outputs/sng_other.json')"
   ]
  },
  {
   "cell_type": "code",
   "execution_count": 24,
   "id": "f857815a-448b-4d83-8a85-d770091498c1",
   "metadata": {},
   "outputs": [],
   "source": [
    "for source, node in graph._node.items():\n",
    "\n",
    "    if node['type'] == 'city':\n",
    "\n",
    "        node['type'] = 'community'\n",
    "\n",
    "graph = nx.to_directed(graph)\n",
    "\n",
    "deep_reload(src)\n",
    "\n",
    "criteria = [\n",
    "    lambda e: e['distance'] <= 550e3,\n",
    "    lambda e: e['distance'] >= 10e3,\n",
    "]\n",
    "\n",
    "graph = src.graph.remove_edges(graph, criteria)"
   ]
  },
  {
   "cell_type": "code",
   "execution_count": 25,
   "id": "2dafefab-d17a-4e20-ad0e-59597f5ded85",
   "metadata": {},
   "outputs": [],
   "source": [
    "src.graph.graph_to_json(graph, 'Outputs/sng_other_directed.json')"
   ]
  },
  {
   "cell_type": "code",
   "execution_count": null,
   "id": "6919f34b-80fe-4646-a0ea-da0664cd06e0",
   "metadata": {},
   "outputs": [],
   "source": []
  }
 ],
 "metadata": {
  "kernelspec": {
   "display_name": "Python 3 (ipykernel)",
   "language": "python",
   "name": "python3"
  },
  "language_info": {
   "codemirror_mode": {
    "name": "ipython",
    "version": 3
   },
   "file_extension": ".py",
   "mimetype": "text/x-python",
   "name": "python",
   "nbconvert_exporter": "python",
   "pygments_lexer": "ipython3",
   "version": "3.11.5"
  }
 },
 "nbformat": 4,
 "nbformat_minor": 5
}
