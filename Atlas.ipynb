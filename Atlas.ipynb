{
 "cells": [
  {
   "cell_type": "code",
   "execution_count": 2,
   "id": "47aaea2a-2ce3-424c-8bd8-107227f99bff",
   "metadata": {
    "tags": []
   },
   "outputs": [],
   "source": [
    "import warnings\n",
    "warnings.filterwarnings(\"ignore\")\n",
    "\n",
    "import os\n",
    "import time\n",
    "import json\n",
    "import numpy as np\n",
    "import pandas as pd\n",
    "import geopandas as gpd\n",
    "import pickle as pkl\n",
    "import networkx as nx\n",
    "import matplotlib.pyplot as plt\n",
    "\n",
    "import src\n",
    "from src.reload import deep_reload"
   ]
  },
  {
   "cell_type": "code",
   "execution_count": 2,
   "id": "4371b481-c4e4-42d0-8b55-2de2ea1914ba",
   "metadata": {},
   "outputs": [],
   "source": [
    "# Graph containing places\n",
    "deep_reload(src)\n",
    "\n",
    "filepath = 'Data/Places/tl_2023_06_place.shp'\n",
    "node_attributes = {\n",
    "    'name': 'lambda n: n[\"NAME\"]',\n",
    "    'class': 'lambda n: n[\"CLASSFP\"]',\n",
    "    'geoid': 'lambda n: n[\"GEOID\"]',\n",
    "    'x': 'lambda n: n[\"geometry\"].centroid.x',\n",
    "    'y': 'lambda n: n[\"geometry\"].centroid.y',\n",
    "    'type': 'lambda n: \"place\"',\n",
    "}\n",
    "\n",
    "graph_place = src.graph.graph_from_shapefile(\n",
    "    filepath, node_attributes, contains_links = False)\n",
    "\n",
    "mapping = {n: f'place_{n}' for n in graph_place.nodes}\n",
    "\n",
    "graph_place = nx.relabel_nodes(graph_place, mapping)"
   ]
  },
  {
   "cell_type": "code",
   "execution_count": 3,
   "id": "98e5b67c-d91a-469c-bffd-dd17f7e20a26",
   "metadata": {},
   "outputs": [],
   "source": [
    "# Graph containing DC chargers\n",
    "\n",
    "with open('Data/AFDC/evse_stations.json', 'r') as file:\n",
    "    evse = json.load(file)"
   ]
  },
  {
   "cell_type": "code",
   "execution_count": 4,
   "id": "ef299609-2597-4ab6-abd5-6ce9f4277de7",
   "metadata": {
    "scrolled": true
   },
   "outputs": [
    {
     "ename": "TypeError",
     "evalue": "'>' not supported between instances of 'NoneType' and 'int'",
     "output_type": "error",
     "traceback": [
      "\u001b[0;31m---------------------------------------------------------------------------\u001b[0m",
      "\u001b[0;31mTypeError\u001b[0m                                 Traceback (most recent call last)",
      "Cell \u001b[0;32mIn[4], line 8\u001b[0m\n\u001b[1;32m      1\u001b[0m stations_raw \u001b[38;5;241m=\u001b[39m []\n\u001b[1;32m      3\u001b[0m \u001b[38;5;28;01mfor\u001b[39;00m station \u001b[38;5;129;01min\u001b[39;00m evse[\u001b[38;5;124m'\u001b[39m\u001b[38;5;124mfuel_stations\u001b[39m\u001b[38;5;124m'\u001b[39m]:\n\u001b[1;32m      5\u001b[0m     checks \u001b[38;5;241m=\u001b[39m (\n\u001b[1;32m      6\u001b[0m         station[\u001b[38;5;124m'\u001b[39m\u001b[38;5;124mstate\u001b[39m\u001b[38;5;124m'\u001b[39m] \u001b[38;5;241m==\u001b[39m \u001b[38;5;124m'\u001b[39m\u001b[38;5;124mCA\u001b[39m\u001b[38;5;124m'\u001b[39m,\n\u001b[1;32m      7\u001b[0m         station[\u001b[38;5;124m'\u001b[39m\u001b[38;5;124mev_dc_fast_num\u001b[39m\u001b[38;5;124m'\u001b[39m] \u001b[38;5;129;01mis\u001b[39;00m \u001b[38;5;129;01mnot\u001b[39;00m \u001b[38;5;28;01mNone\u001b[39;00m,\n\u001b[0;32m----> 8\u001b[0m         station[\u001b[38;5;124m'\u001b[39m\u001b[38;5;124mev_dc_fast_num\u001b[39m\u001b[38;5;124m'\u001b[39m] \u001b[38;5;241m>\u001b[39m \u001b[38;5;241m0\u001b[39m,\n\u001b[1;32m      9\u001b[0m         station[\u001b[38;5;124m'\u001b[39m\u001b[38;5;124maccess_code\u001b[39m\u001b[38;5;124m'\u001b[39m] \u001b[38;5;241m==\u001b[39m \u001b[38;5;124m'\u001b[39m\u001b[38;5;124mpublic\u001b[39m\u001b[38;5;124m'\u001b[39m,\n\u001b[1;32m     10\u001b[0m         station[\u001b[38;5;124m'\u001b[39m\u001b[38;5;124mstatus_code\u001b[39m\u001b[38;5;124m'\u001b[39m] \u001b[38;5;241m==\u001b[39m \u001b[38;5;124m'\u001b[39m\u001b[38;5;124mE\u001b[39m\u001b[38;5;124m'\u001b[39m,\n\u001b[1;32m     11\u001b[0m         \n\u001b[1;32m     12\u001b[0m     )\n\u001b[1;32m     14\u001b[0m     \u001b[38;5;28;01mif\u001b[39;00m \u001b[38;5;28mall\u001b[39m(checks):\n\u001b[1;32m     16\u001b[0m         stations_raw\u001b[38;5;241m.\u001b[39mappend(station)\n",
      "\u001b[0;31mTypeError\u001b[0m: '>' not supported between instances of 'NoneType' and 'int'"
     ]
    }
   ],
   "source": [
    "stations_raw = []\n",
    "\n",
    "for station in evse['fuel_stations']:\n",
    "\n",
    "    checks = (\n",
    "        station['state'] == 'CA',\n",
    "        station['ev_dc_fast_num'] is not None,\n",
    "        # station['ev_dc_fast_num'] > 0,\n",
    "        station['access_code'] == 'public',\n",
    "        station['status_code'] == 'E',\n",
    "        \n",
    "    )\n",
    "\n",
    "    if all(checks):\n",
    "\n",
    "        stations_raw.append(station)"
   ]
  },
  {
   "cell_type": "code",
   "execution_count": 5,
   "id": "799dd9f4-31e8-4f1b-a90a-7bc2d79c9f4a",
   "metadata": {},
   "outputs": [],
   "source": [
    "df_stations = pd.DataFrame.from_dict(stations_raw)"
   ]
  },
  {
   "cell_type": "code",
   "execution_count": 6,
   "id": "34931f74-685d-4e8f-bf73-7517dee80bf8",
   "metadata": {},
   "outputs": [],
   "source": [
    "node_attributes = {\n",
    "    'x': 'lambda n: n[\"longitude\"]',\n",
    "    'y': 'lambda n: n[\"latitude\"]',\n",
    "    'n_dcfc': 'lambda n: n[\"ev_dc_fast_num\"]',\n",
    "    'n_acl2': 'lambda n: n[\"ev_level2_evse_num\"]',\n",
    "    'network': 'lambda n: n[\"ev_network\"]',\n",
    "    'name': 'lambda n: n[\"station_name\"]',\n",
    "    'address': 'lambda n: n[\"street_address\"]',\n",
    "    'city': 'lambda n: n[\"city\"]',\n",
    "    'state': 'lambda n: n[\"state\"]',\n",
    "    'zip': 'lambda n: n[\"zip\"]',\n",
    "    'access_code': 'lambda n: n[\"access_code\"]',\n",
    "    'status_code': 'lambda n: n[\"status_code\"]',\n",
    "    'type': 'lambda n: \"station\"',\n",
    "}\n",
    "\n",
    "nlg = src.graph.nlg_from_dataframe(df_stations, node_attributes)\n",
    "\n",
    "graph_station = src.graph.graph_from_nlg(nlg)\n",
    "\n",
    "mapping = {n: f'station_{n}' for n in graph_station.nodes}\n",
    "\n",
    "graph_station = nx.relabel_nodes(graph_station, mapping)"
   ]
  },
  {
   "cell_type": "code",
   "execution_count": 7,
   "id": "eaef7cce-3179-4b18-8fa2-579af3381463",
   "metadata": {},
   "outputs": [],
   "source": [
    "graph = nx.union(graph_place, graph_station)"
   ]
  },
  {
   "cell_type": "code",
   "execution_count": 8,
   "id": "ed5b0fb8-acbc-4c2f-aa64-3020534b69de",
   "metadata": {},
   "outputs": [
    {
     "data": {
      "text/plain": [
       "({'status': 0,\n",
       "  'visited': 0,\n",
       "  'name': 'San Fernando',\n",
       "  'class': 'C1',\n",
       "  'geoid': '0666140',\n",
       "  'x': -118.436242283817,\n",
       "  'y': 34.28865249013806,\n",
       "  'type': 'place'},\n",
       " {'status': 0,\n",
       "  'visited': 0,\n",
       "  'x': -118.4898,\n",
       "  'y': 34.010528,\n",
       "  'n_dcfc': 2,\n",
       "  'n_acl2': 12.0,\n",
       "  'network': 'Non-Networked',\n",
       "  'name': 'City of Santa Monica - Civic Parking Garage',\n",
       "  'address': '333 Civic Center Dr',\n",
       "  'city': 'Santa Monica',\n",
       "  'state': 'CA',\n",
       "  'zip': '90401',\n",
       "  'access_code': 'public',\n",
       "  'status_code': 'E',\n",
       "  'type': 'station'})"
      ]
     },
     "execution_count": 8,
     "metadata": {},
     "output_type": "execute_result"
    }
   ],
   "source": [
    "graph._node['place_0'], graph._node['station_0']"
   ]
  },
  {
   "cell_type": "code",
   "execution_count": 9,
   "id": "9c630abc-436a-447c-bfea-f364462f519b",
   "metadata": {},
   "outputs": [
    {
     "ename": "FileNotFoundError",
     "evalue": "[Errno 2] No such file or directory: 'atlas.json'",
     "output_type": "error",
     "traceback": [
      "\u001b[0;31m---------------------------------------------------------------------------\u001b[0m",
      "\u001b[0;31mFileNotFoundError\u001b[0m                         Traceback (most recent call last)",
      "Cell \u001b[0;32mIn[9], line 1\u001b[0m\n\u001b[0;32m----> 1\u001b[0m atlas \u001b[38;5;241m=\u001b[39m src\u001b[38;5;241m.\u001b[39mgraph\u001b[38;5;241m.\u001b[39mgraph_from_json(\u001b[38;5;124m'\u001b[39m\u001b[38;5;124matlas.json\u001b[39m\u001b[38;5;124m'\u001b[39m)\n",
      "File \u001b[0;32m~/Desktop/charger_network_analysis/src/graph.py:118\u001b[0m, in \u001b[0;36mgraph_from_json\u001b[0;34m(filename, **kwargs)\u001b[0m\n\u001b[1;32m    113\u001b[0m \u001b[38;5;28;01mdef\u001b[39;00m \u001b[38;5;21mgraph_from_json\u001b[39m(filename, \u001b[38;5;241m*\u001b[39m\u001b[38;5;241m*\u001b[39mkwargs):\n\u001b[1;32m    114\u001b[0m \u001b[38;5;250m\t\u001b[39m\u001b[38;5;124;03m'''\u001b[39;00m\n\u001b[1;32m    115\u001b[0m \u001b[38;5;124;03m\tLoads graph from nlg JSON\u001b[39;00m\n\u001b[1;32m    116\u001b[0m \u001b[38;5;124;03m\t'''\u001b[39;00m\n\u001b[0;32m--> 118\u001b[0m \t\u001b[38;5;28;01mwith\u001b[39;00m \u001b[38;5;28mopen\u001b[39m(filename, \u001b[38;5;124m'\u001b[39m\u001b[38;5;124mr\u001b[39m\u001b[38;5;124m'\u001b[39m) \u001b[38;5;28;01mas\u001b[39;00m file:\n\u001b[1;32m    120\u001b[0m \t\tnlg \u001b[38;5;241m=\u001b[39m json\u001b[38;5;241m.\u001b[39mload(file)\n\u001b[1;32m    122\u001b[0m \t\u001b[38;5;28;01mreturn\u001b[39;00m graph_from_nlg(nlg, \u001b[38;5;241m*\u001b[39m\u001b[38;5;241m*\u001b[39mkwargs)\n",
      "\u001b[0;31mFileNotFoundError\u001b[0m: [Errno 2] No such file or directory: 'atlas.json'"
     ]
    }
   ],
   "source": [
    "atlas = src.graph.graph_from_json('atlas.json')"
   ]
  },
  {
   "cell_type": "code",
   "execution_count": 12,
   "id": "1d73ffef-277a-44cd-85d1-561b387040f4",
   "metadata": {},
   "outputs": [
    {
     "name": "stdout",
     "output_type": "stream",
     "text": [
      "\u001b[1m\u001b[38;5;34m\u001b[48;5;0m [------->] (3524/3524) 100.00%, 6.94 it/s, 508.08 s elapsed, 0.00 s remaining"
     ]
    }
   ],
   "source": [
    "weights = {\n",
    "    \"length\": 400e3,\n",
    "    \"time\": 28800,\n",
    "}\n",
    "\n",
    "graph = src.adjacency.adjacency(atlas, graph, weights, compute_all = True)"
   ]
  },
  {
   "cell_type": "code",
   "execution_count": 13,
   "id": "0e5dd8e1-874c-4bca-8ca5-5b32222df8fd",
   "metadata": {},
   "outputs": [],
   "source": [
    "filename = 'Outputs/entity_atlas.json'\n",
    "\n",
    "src.graph.graph_to_json(graph, filename)"
   ]
  },
  {
   "cell_type": "code",
   "execution_count": null,
   "id": "551c7930-5688-4382-bffa-afb449ea5271",
   "metadata": {},
   "outputs": [],
   "source": []
  }
 ],
 "metadata": {
  "kernelspec": {
   "display_name": "Python 3 (ipykernel)",
   "language": "python",
   "name": "python3"
  },
  "language_info": {
   "codemirror_mode": {
    "name": "ipython",
    "version": 3
   },
   "file_extension": ".py",
   "mimetype": "text/x-python",
   "name": "python",
   "nbconvert_exporter": "python",
   "pygments_lexer": "ipython3",
   "version": "3.11.5"
  }
 },
 "nbformat": 4,
 "nbformat_minor": 5
}
