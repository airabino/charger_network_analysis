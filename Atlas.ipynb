{
 "cells": [
  {
   "cell_type": "code",
   "execution_count": 1,
   "id": "9abf23b8-722e-4cc5-865a-c4e9b13289be",
   "metadata": {
    "tags": []
   },
   "outputs": [],
   "source": [
    "import warnings\n",
    "warnings.filterwarnings(\"ignore\")\n",
    "\n",
    "import os\n",
    "import sys\n",
    "import time\n",
    "import json\n",
    "import numpy as np\n",
    "import pandas as pd\n",
    "import geopandas as gpd\n",
    "import pickle as pkl\n",
    "import networkx as nx\n",
    "import matplotlib.pyplot as plt\n",
    "\n",
    "from pprint import pprint\n",
    "\n",
    "import src\n",
    "from src.reload import deep_reload"
   ]
  },
  {
   "cell_type": "code",
   "execution_count": 7,
   "id": "8430465b-0490-4850-9f1a-67df4f122d50",
   "metadata": {},
   "outputs": [],
   "source": [
    "gdf = gpd.read_file('Data/atlas/atlas.shp')"
   ]
  },
  {
   "cell_type": "code",
   "execution_count": 8,
   "id": "3ceee86c-cde2-4173-86d9-397848dfbaf6",
   "metadata": {},
   "outputs": [
    {
     "data": {
      "text/plain": [
       "Index(['OBJECTID', 'ID', 'DIR', 'LENGTH', 'LINKID', 'COUNTRY', 'JURISCODE',\n",
       "       'JURISNAME', 'ROADNUM', 'ROADNAME', 'ADMIN', 'SURFACE', 'LANES',\n",
       "       'SPEEDLIM', 'CLASS', 'NHS', 'BORDER', 'ShapeSTLen', 'geometry'],\n",
       "      dtype='object')"
      ]
     },
     "execution_count": 8,
     "metadata": {},
     "output_type": "execute_result"
    }
   ],
   "source": [
    "gdf.keys()"
   ]
  },
  {
   "cell_type": "code",
   "execution_count": 9,
   "id": "2587f866-cf81-4286-af73-e9a5e92a807b",
   "metadata": {},
   "outputs": [
    {
     "data": {
      "text/html": [
       "<div>\n",
       "<style scoped>\n",
       "    .dataframe tbody tr th:only-of-type {\n",
       "        vertical-align: middle;\n",
       "    }\n",
       "\n",
       "    .dataframe tbody tr th {\n",
       "        vertical-align: top;\n",
       "    }\n",
       "\n",
       "    .dataframe thead th {\n",
       "        text-align: right;\n",
       "    }\n",
       "</style>\n",
       "<table border=\"1\" class=\"dataframe\">\n",
       "  <thead>\n",
       "    <tr style=\"text-align: right;\">\n",
       "      <th></th>\n",
       "      <th>OBJECTID</th>\n",
       "      <th>ID</th>\n",
       "      <th>DIR</th>\n",
       "      <th>LENGTH</th>\n",
       "      <th>LINKID</th>\n",
       "      <th>COUNTRY</th>\n",
       "      <th>JURISCODE</th>\n",
       "      <th>JURISNAME</th>\n",
       "      <th>ROADNUM</th>\n",
       "      <th>ROADNAME</th>\n",
       "      <th>ADMIN</th>\n",
       "      <th>SURFACE</th>\n",
       "      <th>LANES</th>\n",
       "      <th>SPEEDLIM</th>\n",
       "      <th>CLASS</th>\n",
       "      <th>NHS</th>\n",
       "      <th>BORDER</th>\n",
       "      <th>ShapeSTLen</th>\n",
       "      <th>geometry</th>\n",
       "    </tr>\n",
       "  </thead>\n",
       "  <tbody>\n",
       "    <tr>\n",
       "      <th>0</th>\n",
       "      <td>22</td>\n",
       "      <td>440322</td>\n",
       "      <td>0</td>\n",
       "      <td>0.45</td>\n",
       "      <td>02_2876875</td>\n",
       "      <td>2</td>\n",
       "      <td>02_06</td>\n",
       "      <td>California</td>\n",
       "      <td>S1</td>\n",
       "      <td>PACIFIC COAST HWY</td>\n",
       "      <td>State</td>\n",
       "      <td>Paved</td>\n",
       "      <td>4</td>\n",
       "      <td>64</td>\n",
       "      <td>3</td>\n",
       "      <td>10</td>\n",
       "      <td>0</td>\n",
       "      <td>542.754634</td>\n",
       "      <td>LINESTRING (-13114814.819 3969167.235, -131147...</td>\n",
       "    </tr>\n",
       "    <tr>\n",
       "      <th>1</th>\n",
       "      <td>23</td>\n",
       "      <td>440617</td>\n",
       "      <td>0</td>\n",
       "      <td>0.02</td>\n",
       "      <td>02_2876938</td>\n",
       "      <td>2</td>\n",
       "      <td>02_06</td>\n",
       "      <td>California</td>\n",
       "      <td>S1</td>\n",
       "      <td>PACIFIC COAST HWY</td>\n",
       "      <td>State</td>\n",
       "      <td>Paved</td>\n",
       "      <td>4</td>\n",
       "      <td>64</td>\n",
       "      <td>3</td>\n",
       "      <td>10</td>\n",
       "      <td>0</td>\n",
       "      <td>18.261974</td>\n",
       "      <td>LINESTRING (-13114334.920 3968942.957, -131143...</td>\n",
       "    </tr>\n",
       "    <tr>\n",
       "      <th>2</th>\n",
       "      <td>24</td>\n",
       "      <td>440616</td>\n",
       "      <td>0</td>\n",
       "      <td>0.70</td>\n",
       "      <td>02_2876950</td>\n",
       "      <td>2</td>\n",
       "      <td>02_06</td>\n",
       "      <td>California</td>\n",
       "      <td>S1</td>\n",
       "      <td>PACIFIC COAST HWY</td>\n",
       "      <td>State</td>\n",
       "      <td>Paved</td>\n",
       "      <td>4</td>\n",
       "      <td>64</td>\n",
       "      <td>3</td>\n",
       "      <td>10</td>\n",
       "      <td>0</td>\n",
       "      <td>839.703926</td>\n",
       "      <td>LINESTRING (-13114316.998 3968939.618, -131142...</td>\n",
       "    </tr>\n",
       "    <tr>\n",
       "      <th>3</th>\n",
       "      <td>25</td>\n",
       "      <td>440621</td>\n",
       "      <td>0</td>\n",
       "      <td>0.15</td>\n",
       "      <td>02_2877050</td>\n",
       "      <td>2</td>\n",
       "      <td>02_06</td>\n",
       "      <td>California</td>\n",
       "      <td>S1</td>\n",
       "      <td>PACIFIC COAST HWY</td>\n",
       "      <td>State</td>\n",
       "      <td>Paved</td>\n",
       "      <td>4</td>\n",
       "      <td>72</td>\n",
       "      <td>3</td>\n",
       "      <td>10</td>\n",
       "      <td>0</td>\n",
       "      <td>176.664288</td>\n",
       "      <td>LINESTRING (-13112851.365 3968056.843, -131128...</td>\n",
       "    </tr>\n",
       "    <tr>\n",
       "      <th>4</th>\n",
       "      <td>26</td>\n",
       "      <td>440622</td>\n",
       "      <td>0</td>\n",
       "      <td>0.11</td>\n",
       "      <td>02_2877079</td>\n",
       "      <td>2</td>\n",
       "      <td>02_06</td>\n",
       "      <td>California</td>\n",
       "      <td>S1</td>\n",
       "      <td>PACIFIC COAST HWY</td>\n",
       "      <td>State</td>\n",
       "      <td>Paved</td>\n",
       "      <td>4</td>\n",
       "      <td>72</td>\n",
       "      <td>3</td>\n",
       "      <td>10</td>\n",
       "      <td>0</td>\n",
       "      <td>134.527078</td>\n",
       "      <td>LINESTRING (-13112702.197 3967964.282, -131126...</td>\n",
       "    </tr>\n",
       "  </tbody>\n",
       "</table>\n",
       "</div>"
      ],
      "text/plain": [
       "   OBJECTID      ID  DIR  LENGTH      LINKID  COUNTRY JURISCODE   JURISNAME  \\\n",
       "0        22  440322    0    0.45  02_2876875        2     02_06  California   \n",
       "1        23  440617    0    0.02  02_2876938        2     02_06  California   \n",
       "2        24  440616    0    0.70  02_2876950        2     02_06  California   \n",
       "3        25  440621    0    0.15  02_2877050        2     02_06  California   \n",
       "4        26  440622    0    0.11  02_2877079        2     02_06  California   \n",
       "\n",
       "  ROADNUM           ROADNAME  ADMIN SURFACE  LANES  SPEEDLIM  CLASS  NHS  \\\n",
       "0      S1  PACIFIC COAST HWY  State   Paved      4        64      3   10   \n",
       "1      S1  PACIFIC COAST HWY  State   Paved      4        64      3   10   \n",
       "2      S1  PACIFIC COAST HWY  State   Paved      4        64      3   10   \n",
       "3      S1  PACIFIC COAST HWY  State   Paved      4        72      3   10   \n",
       "4      S1  PACIFIC COAST HWY  State   Paved      4        72      3   10   \n",
       "\n",
       "   BORDER  ShapeSTLen                                           geometry  \n",
       "0       0  542.754634  LINESTRING (-13114814.819 3969167.235, -131147...  \n",
       "1       0   18.261974  LINESTRING (-13114334.920 3968942.957, -131143...  \n",
       "2       0  839.703926  LINESTRING (-13114316.998 3968939.618, -131142...  \n",
       "3       0  176.664288  LINESTRING (-13112851.365 3968056.843, -131128...  \n",
       "4       0  134.527078  LINESTRING (-13112702.197 3967964.282, -131126...  "
      ]
     },
     "execution_count": 9,
     "metadata": {},
     "output_type": "execute_result"
    }
   ],
   "source": [
    "gdf.head(5)"
   ]
  },
  {
   "cell_type": "code",
   "execution_count": 10,
   "id": "6b417d4b-6a11-457e-be65-ca9c31913bca",
   "metadata": {},
   "outputs": [
    {
     "data": {
      "text/plain": [
       "array(['S1', nan, 'I5', 'S73', 'S76', 'I15', 'I215', 'S78', 'S86', 'S195',\n",
       "       'S111', 'S62', 'I10', 'S74', 'S243', 'S371', 'S79', 'CR3', 'C3',\n",
       "       'S60', 'I8', 'S115', 'S7', 'U115', 'S98', 'S94', 'CS80', 'S75',\n",
       "       'S67', 'S905', 'I805', 'S54', 'S125', 'S163', 'S282', 'S209', 'S8',\n",
       "       'S15', 'S56', 'S52', 'C11 S', 'S188', 'C80 S', 'S186', 'S8 B',\n",
       "       'S91', 'S210', 'S138', 'U395', 'S18', 'S178', 'S190', 'I605',\n",
       "       'I210', 'S168', 'S266', 'S4', 'S58', 'S139', 'U199', 'S299',\n",
       "       'U101', 'U97', 'S96', 'S162', 'S99', 'S41', 'S140', 'S132', 'S152',\n",
       "       'S33', 'I580', 'S13', 'S185', 'I880', 'S180', 'S203', 'I205', 'U6',\n",
       "       'S88', 'S12', 'S84', 'S160', 'I80', 'S120', 'S108', 'S26', 'S128',\n",
       "       'S121', 'S16', 'I680', 'S68', 'CG17', 'S183', 'S65', 'S70', 'S20',\n",
       "       'S149', 'S191', 'S49', 'S101', 'S156', 'S129', 'U156', 'CG14',\n",
       "       'S32', 'S36', 'S89', 'I280', 'S44', 'S9', 'S113', 'S45', 'S61',\n",
       "       'S29', 'S17', 'S35', 'S238', 'S92', 'S130', 'S85', 'I380', 'S87',\n",
       "       'I238', 'S169', 'S3', 'S101 P', 'S255', 'S197', 'I505', 'S116',\n",
       "       'S175', 'S53', 'C98', 'S253', 'S24', 'S29  S', 'CE6', 'C31', 'S37',\n",
       "       'I780', 'S260', 'I980', 'S280', 'S80', 'C102', 'CE7', 'C25 A',\n",
       "       'S113 F', 'C104', 'C20', 'C99', 'C68', 'C99W', 'C200', 'S263',\n",
       "       'S273', 'CA8', 'S43', 'S46', 'S223', 'S119', 'S155', 'S14', 'S137',\n",
       "       'S198', 'S63', 'S201', 'S166', 'S145', 'S154', 'S246', 'S227',\n",
       "       'S229', 'CS20', 'S135', 'CJ1', 'S165', 'S25', 'S146', 'CG15',\n",
       "       'U101 B', 'S269', 'S59', 'S180 F', 'I405', 'S202', 'S118', 'S5',\n",
       "       'S107', 'I105', 'S126', 'S34', 'S150', 'S23', 'S184', 'I710',\n",
       "       'S134', 'S110', 'S710', 'S2', 'S22', 'S47', 'S39', 'S71', 'S105',\n",
       "       'S42', 'I110', 'S90', 'S10', 'S170', 'S241', 'S55', 'S133', 'S57',\n",
       "       'S245', 'S216', 'CJ22', 'S136', 'S182', 'S270', 'U50', 'S104',\n",
       "       'S193', 'C16 E', 'S267', 'S28', 'I305', 'CJ8', 'S275', 'S124',\n",
       "       'S174', 'C26 A', 'S147', 'CA3', 'S167', 'S161', 'S127', 'S177',\n",
       "       'I40', 'U95', 'S247', 'S38', 'S259', 'S66', 'S330', 'S173', 'S189',\n",
       "       'S58  F'], dtype=object)"
      ]
     },
     "execution_count": 10,
     "metadata": {},
     "output_type": "execute_result"
    }
   ],
   "source": [
    "gdf['ROADNUM'].unique()"
   ]
  },
  {
   "cell_type": "code",
   "execution_count": 12,
   "id": "fc8cf072-1969-4084-b322-a4a2534119f3",
   "metadata": {},
   "outputs": [],
   "source": [
    "node_attributes = {\n",
    "    \"distance\": \"lambda n: 0\",\n",
    "    \"speed\": \"lambda n: 0\",\n",
    "    \"time\": \"lambda n: 0\",\n",
    "    \"price\": \"lambda n: 0\",\n",
    "}\n",
    "\n",
    "link_attributes = {\n",
    "    \"distance\": \"lambda e: e['LENGTH']*1e3\",\n",
    "    \"speed\": \"lambda e: e['SPEEDLIM']/3.6\",\n",
    "    \"time\": \"lambda e: (e['LENGTH']*1e3)/(e['SPEEDLIM']/3.6)\",\n",
    "    \"price\": \"lambda e: 0\",\n",
    "    \"roadnum\": \"lambda e: e['ROADNUM']\",\n",
    "}\n",
    "\n",
    "filepath = 'Data/atlas/atlas.shp'\n",
    "\n",
    "atlas = src.graph.graph_from_shapefile(\n",
    "    filepath,\n",
    "    node_attributes = node_attributes,\n",
    "    link_attributes = link_attributes,\n",
    ")"
   ]
  },
  {
   "cell_type": "code",
   "execution_count": 16,
   "id": "5fbcfeec-7c82-46f7-81b5-0b4cff947f8c",
   "metadata": {},
   "outputs": [],
   "source": [
    "for source, adj in atlas._adj.items():\n",
    "    for target, edge in adj.items():\n",
    "\n",
    "        atlas._node[source]['roadnum'] = edge['roadnum']\n",
    "        atlas._node[target]['roadnum'] = edge['roadnum']"
   ]
  },
  {
   "cell_type": "code",
   "execution_count": 18,
   "id": "2df244db-b2bb-486f-b720-14f38774794b",
   "metadata": {},
   "outputs": [
    {
     "data": {
      "text/plain": [
       "({'distance': 450.0,\n",
       "  'speed': 17.77777777777778,\n",
       "  'time': 25.3125,\n",
       "  'price': 0,\n",
       "  'roadnum': 'S1'},\n",
       " {'x': -117.812386000354,\n",
       "  'y': 33.554719000086315,\n",
       "  'distance': 0,\n",
       "  'speed': 0,\n",
       "  'time': 0,\n",
       "  'price': 0,\n",
       "  'roadnum': 'S1'},\n",
       " {'x': -117.80807499967855,\n",
       "  'y': 33.553040000114464,\n",
       "  'distance': 0,\n",
       "  'speed': 0,\n",
       "  'time': 0,\n",
       "  'price': 0,\n",
       "  'roadnum': 'S1'})"
      ]
     },
     "execution_count": 18,
     "metadata": {},
     "output_type": "execute_result"
    }
   ],
   "source": [
    "atlas._adj[0][1], atlas._node[0], atlas._node[1]"
   ]
  },
  {
   "cell_type": "code",
   "execution_count": 20,
   "id": "de86a040-b1ec-470b-8cf1-1cdcf8f780f9",
   "metadata": {},
   "outputs": [],
   "source": [
    "filename = 'Outputs/atlas.json'\n",
    "\n",
    "src.graph.graph_to_json(atlas, filename)"
   ]
  }
 ],
 "metadata": {
  "kernelspec": {
   "display_name": "Python 3 (ipykernel)",
   "language": "python",
   "name": "python3"
  },
  "language_info": {
   "codemirror_mode": {
    "name": "ipython",
    "version": 3
   },
   "file_extension": ".py",
   "mimetype": "text/x-python",
   "name": "python",
   "nbconvert_exporter": "python",
   "pygments_lexer": "ipython3",
   "version": "3.11.5"
  }
 },
 "nbformat": 4,
 "nbformat_minor": 5
}
