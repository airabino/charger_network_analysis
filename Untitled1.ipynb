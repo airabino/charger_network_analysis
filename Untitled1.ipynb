{
 "cells": [
  {
   "cell_type": "code",
   "execution_count": 1,
   "id": "b60fb28a-edb0-4de8-8cfe-623ef1d0b310",
   "metadata": {
    "tags": []
   },
   "outputs": [],
   "source": [
    "import warnings\n",
    "warnings.filterwarnings(\"ignore\")\n",
    "\n",
    "import os\n",
    "import sys\n",
    "import time\n",
    "import json\n",
    "import numpy as np\n",
    "import pandas as pd\n",
    "import geopandas as gpd\n",
    "import pickle as pkl\n",
    "import networkx as nx\n",
    "import matplotlib.pyplot as plt\n",
    "\n",
    "from pprint import pprint\n",
    "\n",
    "import src\n",
    "from src.reload import deep_reload"
   ]
  },
  {
   "cell_type": "markdown",
   "id": "fd53482d-22df-456b-82c8-02fe541e6d25",
   "metadata": {},
   "source": [
    "This notebook shows how supply sensitive routing works using a randomly generated graph. The core concepts are outlined in the associated paper. In this notebook, a random graph containing places and stations is generated. First a generic example is given where routing is done purely to minimize travel time. Second, a case including vehicle and station parameters is generated and run."
   ]
  },
  {
   "cell_type": "code",
   "execution_count": 2,
   "id": "4c4ea415-56b6-48c8-b638-fd22e73047c5",
   "metadata": {},
   "outputs": [],
   "source": [
    "'''\n",
    "Creating a random graph\n",
    "\n",
    "graph contains n places and m charging stations - the random graph is completely connected\n",
    "'''\n",
    "deep_reload(src)\n",
    "\n",
    "# Parameters for graph creation\n",
    "seed = 125396749 # RNG seed [-]\n",
    "n = 15 # Number of places [-]\n",
    "m = 85 # Number of stations [-]\n",
    "speeds = [105 / 3.6] # Set of speeds to be assigned to links [m/s]\n",
    "chargers = list(range(10)) # Set of numbers of chargers to be assigned to stations [-]\n",
    "scale = (1e6, 1e6) # Scale of the area on which the graph is generated ([m], [m])\n",
    "\n",
    "# Setting the graph as directed\n",
    "kw = {\n",
    "    'graph': {\n",
    "        'directed': True,\n",
    "    },\n",
    "}\n",
    "\n",
    "# Creating the graph\n",
    "graph = src.rng.random_completely_connected_graph(\n",
    "    n, m, speeds = speeds, scale = scale, seed = seed, chargers = chargers, **kw\n",
    ")\n",
    "\n",
    "# Marking the edge types by source and target type\n",
    "graph = src.routing.edge_types(graph)"
   ]
  }
 ],
 "metadata": {
  "kernelspec": {
   "display_name": "Python 3 (ipykernel)",
   "language": "python",
   "name": "python3"
  },
  "language_info": {
   "codemirror_mode": {
    "name": "ipython",
    "version": 3
   },
   "file_extension": ".py",
   "mimetype": "text/x-python",
   "name": "python",
   "nbconvert_exporter": "python",
   "pygments_lexer": "ipython3",
   "version": "3.11.5"
  }
 },
 "nbformat": 4,
 "nbformat_minor": 5
}
