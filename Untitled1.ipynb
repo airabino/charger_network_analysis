{
 "cells": [
  {
   "cell_type": "code",
   "execution_count": 1,
   "id": "133c7ed1-1f3b-4065-82fe-b731ecdf4f9f",
   "metadata": {
    "tags": []
   },
   "outputs": [],
   "source": [
    "import warnings\n",
    "warnings.filterwarnings(\"ignore\")\n",
    "\n",
    "import os\n",
    "import sys\n",
    "import time\n",
    "import json\n",
    "import numpy as np\n",
    "import pandas as pd\n",
    "import geopandas as gpd\n",
    "import pickle as pkl\n",
    "import networkx as nx\n",
    "import matplotlib.pyplot as plt\n",
    "\n",
    "from pprint import pprint\n",
    "\n",
    "import src\n",
    "from src.reload import deep_reload"
   ]
  },
  {
   "cell_type": "code",
   "execution_count": null,
   "id": "90bde6ec-0933-4d79-a8e0-949c372c83cf",
   "metadata": {},
   "outputs": [],
   "source": []
  },
  {
   "cell_type": "code",
   "execution_count": 2,
   "id": "3605ef74-8b3c-4cd2-9dce-49930dc6e5c0",
   "metadata": {},
   "outputs": [],
   "source": [
    "non_proprietary_sng_us = src.graph.graph_from_json(\n",
    "    'Outputs/SNG/non_proprietary_sng_us.json'\n",
    "    )\n",
    "\n",
    "tesla_sng_us = src.graph.graph_from_json(\n",
    "    'Outputs/SNG/tesla_sng_us.json'\n",
    "    )\n",
    "\n",
    "combined_sng_us = src.graph.graph_from_json(\n",
    "    'Outputs/SNG/combined_sng_us.json'\n",
    "    )"
   ]
  },
  {
   "cell_type": "code",
   "execution_count": 4,
   "id": "8d075720-2179-4527-b9d2-d51184031e56",
   "metadata": {},
   "outputs": [],
   "source": [
    "cities = src.graph.graph_from_json('cities.json')\n",
    "\n",
    "cities = [n for n in cities.nodes]"
   ]
  },
  {
   "cell_type": "code",
   "execution_count": 244,
   "id": "2a751e49-49b0-461a-99cf-741209d31632",
   "metadata": {},
   "outputs": [],
   "source": [
    "deep_reload(src)\n",
    "\n",
    "sng = tesla_sng_us\n",
    "\n",
    "cities = [k for k, v in sng._node.items() if v['type'] == 'city']\n",
    "\n",
    "vehicle_kw = {\n",
    "    # 'charge_target_soc': .8,\n",
    "    'capacity': 49 * 3.6e6,\n",
    "    'cases': 1,\n",
    "    'risk_attitude': (.5, 1),\n",
    "}\n",
    "\n",
    "vehicle = src.routing.StochasticVehicle(**vehicle_kw)\n",
    "\n",
    "station_kw = {\n",
    "    'cases': 100,\n",
    "    'reliability': .8,\n",
    "    'base_delay': 60,\n",
    "    # 'seed': 123456,\n",
    "}\n",
    "\n",
    "for source, node in sng._node.items():\n",
    "\n",
    "    if node['type'] == 'station':\n",
    "\n",
    "        seed = int(source[8:])\n",
    "\n",
    "        node['station'] = src.routing.StochasticStation(\n",
    "            chargers = node['n_dcfc'], **station_kw, seed = seed,\n",
    "        )\n",
    "\n",
    "        node['station'].expect(vehicle)\n",
    "\n",
    "costs1, values1, paths1 = src.routing.shortest_paths(\n",
    "    sng, ['Fresno'],\n",
    "    destinations = cities,\n",
    "    objective = vehicle,\n",
    "    method = 'bellman',\n",
    "    return_paths = True,\n",
    ")"
   ]
  },
  {
   "cell_type": "code",
   "execution_count": 245,
   "id": "2a3ce963-df32-45bb-a5ef-094b920ac5c1",
   "metadata": {},
   "outputs": [
    {
     "data": {
      "text/plain": [
       "(4.7009743656335345, 15)"
      ]
     },
     "execution_count": 245,
     "metadata": {},
     "output_type": "execute_result"
    }
   ],
   "source": [
    "deep_reload(src)\n",
    "\n",
    "src.routing.specific_road_trip_accessibility(values1) / 3600, len(values1)"
   ]
  },
  {
   "cell_type": "code",
   "execution_count": 246,
   "id": "f9cd1802-675e-4fe6-9a5f-8dcdd1e44487",
   "metadata": {},
   "outputs": [
    {
     "name": "stdout",
     "output_type": "stream",
     "text": [
      "Total Time:\n",
      "\n",
      "{'Bakersfield': 1.6082676698301694,\n",
      " 'Chico': 4.750048325961652,\n",
      " 'Crescent City': 10.318896769404587,\n",
      " 'Fresno': 0.0,\n",
      " 'I-10 to Phoenix (State Line)': 7.923470732818076,\n",
      " 'I-15 to Las Vegas (State Line)': 6.613131042571673,\n",
      " 'I-80 to Reno (State Line)': 5.1606462620390525,\n",
      " 'Los Angeles': 3.8382550699607894,\n",
      " 'Redding': 5.909534431220943,\n",
      " 'Sacramento': 2.6713354700854763,\n",
      " 'San Diego': 6.116114035032347,\n",
      " 'San Francisco': 2.9443037864912918,\n",
      " 'San Jose': 2.513857364857367,\n",
      " 'Stockton': 1.9591595904095913,\n",
      " 'Yreka': 8.18759493382002}\n",
      "\n",
      "Paths:\n",
      "\n",
      "{'Bakersfield': ['Fresno', 'Bakersfield'],\n",
      " 'Chico': ['Fresno', 'station_1131', 'Chico'],\n",
      " 'Crescent City': ['Fresno', 'station_93', 'station_230', 'Crescent City'],\n",
      " 'Fresno': ['Fresno'],\n",
      " 'I-10 to Phoenix (State Line)': ['Fresno',\n",
      "                                  'station_841',\n",
      "                                  'station_91',\n",
      "                                  'I-10 to Phoenix (State Line)'],\n",
      " 'I-15 to Las Vegas (State Line)': ['Fresno',\n",
      "                                    'station_1129',\n",
      "                                    'I-15 to Las Vegas (State Line)'],\n",
      " 'I-80 to Reno (State Line)': ['Fresno',\n",
      "                               'station_357',\n",
      "                               'I-80 to Reno (State Line)'],\n",
      " 'Los Angeles': ['Fresno', 'station_841', 'Los Angeles'],\n",
      " 'Redding': ['Fresno', 'station_1534', 'Redding'],\n",
      " 'Sacramento': ['Fresno', 'Sacramento'],\n",
      " 'San Diego': ['Fresno', 'station_158', 'San Diego'],\n",
      " 'San Francisco': ['Fresno', 'San Francisco'],\n",
      " 'San Jose': ['Fresno', 'San Jose'],\n",
      " 'Stockton': ['Fresno', 'Stockton'],\n",
      " 'Yreka': ['Fresno', 'station_123', 'station_261', 'Yreka']}\n"
     ]
    }
   ],
   "source": [
    "print('Total Time:\\n')\n",
    "pprint({k: v['time'].mean() / 3600 for k, v in values1.items() if 'station' not in k})\n",
    "print('\\nPaths:\\n')\n",
    "pprint({k: v for k, v in paths1.items() if 'station' not in k})"
   ]
  },
  {
   "cell_type": "code",
   "execution_count": 247,
   "id": "83b6429c-4778-424f-8083-80e44e3dab19",
   "metadata": {},
   "outputs": [],
   "source": [
    "deep_reload(src)\n",
    "import re\n",
    "\n",
    "sng = combined_sng_us\n",
    "\n",
    "cities = [k for k, v in sng._node.items() if v['type'] == 'city']\n",
    "\n",
    "vehicle_kw = {\n",
    "    # 'charge_target_soc': .8,\n",
    "    'capacity': 49 * 3.6e6,\n",
    "    'cases': 1,\n",
    "    'risk_attitude': (.5, 1),\n",
    "}\n",
    "\n",
    "vehicle = src.routing.StochasticVehicle(**vehicle_kw)\n",
    "\n",
    "station_kw = {\n",
    "    'cases': 100,\n",
    "    'reliability': .8,\n",
    "    'base_delay': 60,\n",
    "    # 'seed': 123456,\n",
    "}\n",
    "\n",
    "for source, node in sng._node.items():\n",
    "\n",
    "    if node['type'] == 'station':\n",
    "\n",
    "        seed = int(source[8:])\n",
    "\n",
    "        # print(seed)\n",
    "\n",
    "        node['station'] = src.routing.StochasticStation(\n",
    "            chargers = node['n_dcfc'], **station_kw, seed = seed,\n",
    "        )\n",
    "\n",
    "        node['station'].expect(vehicle)\n",
    "\n",
    "costs, values, paths = src.routing.shortest_paths(\n",
    "    sng, ['Fresno'],\n",
    "    destinations = cities,\n",
    "    objective = vehicle,\n",
    "    method = 'bellman',\n",
    "    return_paths = True,\n",
    "    # heuristic = False,\n",
    ")"
   ]
  },
  {
   "cell_type": "code",
   "execution_count": 248,
   "id": "6c19a9b3-3a4c-494c-a6ed-fcb19cbfb7c5",
   "metadata": {},
   "outputs": [
    {
     "data": {
      "text/plain": [
       "(4.7009743656335345, 15)"
      ]
     },
     "execution_count": 248,
     "metadata": {},
     "output_type": "execute_result"
    }
   ],
   "source": [
    "deep_reload(src)\n",
    "\n",
    "src.routing.specific_road_trip_accessibility(values) / 3600, len(values)"
   ]
  },
  {
   "cell_type": "code",
   "execution_count": 249,
   "id": "40315645-e7ea-4480-9395-8c8668b14fc5",
   "metadata": {},
   "outputs": [
    {
     "name": "stdout",
     "output_type": "stream",
     "text": [
      "Total Time:\n",
      "\n",
      "{'Bakersfield': 1.6082676698301694,\n",
      " 'Chico': 4.750048325961652,\n",
      " 'Crescent City': 10.318896769404587,\n",
      " 'Fresno': 0.0,\n",
      " 'I-10 to Phoenix (State Line)': 7.923470732818076,\n",
      " 'I-15 to Las Vegas (State Line)': 6.613131042571673,\n",
      " 'I-80 to Reno (State Line)': 5.1606462620390525,\n",
      " 'Los Angeles': 3.8382550699607894,\n",
      " 'Redding': 5.909534431220943,\n",
      " 'Sacramento': 2.6713354700854763,\n",
      " 'San Diego': 6.116114035032347,\n",
      " 'San Francisco': 2.9443037864912918,\n",
      " 'San Jose': 2.513857364857367,\n",
      " 'Stockton': 1.9591595904095913,\n",
      " 'Yreka': 8.18759493382002}\n",
      "\n",
      "Paths:\n",
      "\n",
      "{'Bakersfield': ['Fresno', 'Bakersfield'],\n",
      " 'Chico': ['Fresno', 'station_1131', 'Chico'],\n",
      " 'Crescent City': ['Fresno', 'station_93', 'station_230', 'Crescent City'],\n",
      " 'Fresno': ['Fresno'],\n",
      " 'I-10 to Phoenix (State Line)': ['Fresno',\n",
      "                                  'station_841',\n",
      "                                  'station_91',\n",
      "                                  'I-10 to Phoenix (State Line)'],\n",
      " 'I-15 to Las Vegas (State Line)': ['Fresno',\n",
      "                                    'station_1129',\n",
      "                                    'I-15 to Las Vegas (State Line)'],\n",
      " 'I-80 to Reno (State Line)': ['Fresno',\n",
      "                               'station_357',\n",
      "                               'I-80 to Reno (State Line)'],\n",
      " 'Los Angeles': ['Fresno', 'station_841', 'Los Angeles'],\n",
      " 'Redding': ['Fresno', 'station_1534', 'Redding'],\n",
      " 'Sacramento': ['Fresno', 'Sacramento'],\n",
      " 'San Diego': ['Fresno', 'station_158', 'San Diego'],\n",
      " 'San Francisco': ['Fresno', 'San Francisco'],\n",
      " 'San Jose': ['Fresno', 'San Jose'],\n",
      " 'Stockton': ['Fresno', 'Stockton'],\n",
      " 'Yreka': ['Fresno', 'station_123', 'station_261', 'Yreka']}\n"
     ]
    }
   ],
   "source": [
    "print('Total Time:\\n')\n",
    "pprint({k: v['time'].mean() / 3600 for k, v in values.items() if 'station' not in k})\n",
    "print('\\nPaths:\\n')\n",
    "pprint({k: v for k, v in paths.items() if 'station' not in k})"
   ]
  },
  {
   "cell_type": "code",
   "execution_count": null,
   "id": "3e163fad-a136-48a4-a8ee-2dba9ac1edd0",
   "metadata": {},
   "outputs": [],
   "source": []
  },
  {
   "cell_type": "code",
   "execution_count": null,
   "id": "30299d0c-edab-4173-8b6d-ddf4ce3f0bd8",
   "metadata": {},
   "outputs": [],
   "source": []
  },
  {
   "cell_type": "code",
   "execution_count": null,
   "id": "c79f133c-71ae-462b-b65d-0aa3bcfbfdf3",
   "metadata": {},
   "outputs": [],
   "source": []
  },
  {
   "cell_type": "code",
   "execution_count": null,
   "id": "bab2517b-d741-40c9-ad8e-14d1f698746b",
   "metadata": {},
   "outputs": [],
   "source": []
  },
  {
   "cell_type": "code",
   "execution_count": 54,
   "id": "b5d3ba9b-c618-47df-96ed-50956eb0262a",
   "metadata": {},
   "outputs": [],
   "source": [
    "for source, node in sng._node.items():\n",
    "\n",
    "    if node['type'] == 'station':\n",
    "\n",
    "        if node['station'].delay_time < 0:\n",
    "\n",
    "            print(node['station'].delay_time)"
   ]
  },
  {
   "cell_type": "code",
   "execution_count": 55,
   "id": "6923639e-5d1d-41bd-88a6-09f6abf8dea9",
   "metadata": {},
   "outputs": [],
   "source": [
    "for source, adj in sng._adj.items():\n",
    "    for target, edge in adj.items():\n",
    "\n",
    "        if edge['time'] < 0:\n",
    "\n",
    "            print(edge['time'])"
   ]
  },
  {
   "cell_type": "code",
   "execution_count": null,
   "id": "f183f7e5-f1a4-4661-a130-ba43a64baf56",
   "metadata": {},
   "outputs": [],
   "source": []
  },
  {
   "cell_type": "code",
   "execution_count": 237,
   "id": "057de2b8-fcbf-41ac-b8e8-b24490068551",
   "metadata": {},
   "outputs": [
    {
     "name": "stdout",
     "output_type": "stream",
     "text": [
      "python run_experiment.py -i 0 &\n",
      "python run_experiment.py -i 1 &\n",
      "python run_experiment.py -i 2 &\n",
      "python run_experiment.py -i 3 &\n",
      "python run_experiment.py -i 4 &\n",
      "python run_experiment.py -i 5 &\n",
      "python run_experiment.py -i 6 &\n",
      "python run_experiment.py -i 7 &\n",
      "python run_experiment.py -i 8 &\n",
      "python run_experiment.py -i 9 &\n",
      "python run_experiment.py -i 10 &\n",
      "python run_experiment.py -i 11 &\n",
      "python run_experiment.py -i 12 &\n",
      "python run_experiment.py -i 13 &\n",
      "python run_experiment.py -i 14 &\n",
      "python run_experiment.py -i 15 &\n",
      "python run_experiment.py -i 16 &\n",
      "python run_experiment.py -i 17 &\n",
      "python run_experiment.py -i 18 &\n",
      "python run_experiment.py -i 19 &\n",
      "python run_experiment.py -i 20 &\n",
      "python run_experiment.py -i 21 &\n",
      "python run_experiment.py -i 22 &\n",
      "python run_experiment.py -i 23 &\n",
      "python run_experiment.py -i 24 &\n",
      "python run_experiment.py -i 25 &\n",
      "python run_experiment.py -i 26 &\n",
      "python run_experiment.py -i 27 &\n",
      "python run_experiment.py -i 28 &\n",
      "python run_experiment.py -i 29 &\n",
      "python run_experiment.py -i 30 &\n",
      "python run_experiment.py -i 31 &\n",
      "python run_experiment.py -i 32 &\n",
      "python run_experiment.py -i 33 &\n",
      "python run_experiment.py -i 34 &\n",
      "python run_experiment.py -i 35 &\n",
      "python run_experiment.py -i 36 &\n",
      "python run_experiment.py -i 37 &\n",
      "python run_experiment.py -i 38 &\n",
      "python run_experiment.py -i 39 &\n",
      "python run_experiment.py -i 40 &\n",
      "python run_experiment.py -i 41 &\n",
      "python run_experiment.py -i 42 &\n",
      "python run_experiment.py -i 43 &\n",
      "python run_experiment.py -i 44 &\n",
      "python run_experiment.py -i 45 &\n",
      "python run_experiment.py -i 46 &\n",
      "python run_experiment.py -i 47 &\n",
      "python run_experiment.py -i 48 &\n",
      "python run_experiment.py -i 49 &\n",
      "python run_experiment.py -i 50 &\n",
      "python run_experiment.py -i 51 &\n",
      "python run_experiment.py -i 52 &\n",
      "python run_experiment.py -i 53 &\n",
      "python run_experiment.py -i 54 &\n",
      "python run_experiment.py -i 55 &\n",
      "python run_experiment.py -i 56 &\n",
      "python run_experiment.py -i 57 &\n",
      "python run_experiment.py -i 58 &\n",
      "python run_experiment.py -i 59 &\n",
      "python run_experiment.py -i 60 &\n",
      "python run_experiment.py -i 61 &\n",
      "python run_experiment.py -i 62 &\n",
      "python run_experiment.py -i 63 &\n",
      "python run_experiment.py -i 64 &\n",
      "python run_experiment.py -i 65 &\n",
      "python run_experiment.py -i 66 &\n",
      "python run_experiment.py -i 67 &\n",
      "python run_experiment.py -i 68 &\n",
      "python run_experiment.py -i 69 &\n",
      "python run_experiment.py -i 70 &\n",
      "python run_experiment.py -i 71 &\n",
      "python run_experiment.py -i 72 &\n",
      "python run_experiment.py -i 73 &\n",
      "python run_experiment.py -i 74 &\n",
      "python run_experiment.py -i 75 &\n",
      "python run_experiment.py -i 76 &\n",
      "python run_experiment.py -i 77 &\n",
      "python run_experiment.py -i 78 &\n",
      "python run_experiment.py -i 79 &\n",
      "python run_experiment.py -i 80 &\n"
     ]
    }
   ],
   "source": [
    "for idx in range(81):\n",
    "\n",
    "    print(f'python run_experiment.py -i {idx} &')"
   ]
  }
 ],
 "metadata": {
  "kernelspec": {
   "display_name": "Python 3 (ipykernel)",
   "language": "python",
   "name": "python3"
  },
  "language_info": {
   "codemirror_mode": {
    "name": "ipython",
    "version": 3
   },
   "file_extension": ".py",
   "mimetype": "text/x-python",
   "name": "python",
   "nbconvert_exporter": "python",
   "pygments_lexer": "ipython3",
   "version": "3.11.5"
  }
 },
 "nbformat": 4,
 "nbformat_minor": 5
}
