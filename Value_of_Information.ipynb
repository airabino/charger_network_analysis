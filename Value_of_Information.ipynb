{
 "cells": [
  {
   "cell_type": "code",
   "execution_count": 1,
   "id": "fc963a41-d400-4bbd-b0b0-faaf73b3eda5",
   "metadata": {
    "tags": []
   },
   "outputs": [],
   "source": [
    "import warnings\n",
    "warnings.filterwarnings(\"ignore\")\n",
    "\n",
    "import os\n",
    "import sys\n",
    "import time\n",
    "import json\n",
    "import numpy as np\n",
    "import pandas as pd\n",
    "import geopandas as gpd\n",
    "import pickle as pkl\n",
    "import networkx as nx\n",
    "import matplotlib.pyplot as plt\n",
    "\n",
    "from pprint import pprint\n",
    "\n",
    "import src\n",
    "from src.reload import deep_reload"
   ]
  },
  {
   "cell_type": "code",
   "execution_count": 6,
   "id": "406f63c4-b0ce-45ab-80ee-019e54750d43",
   "metadata": {},
   "outputs": [],
   "source": [
    "'''\n",
    "Creating a random graph\n",
    "\n",
    "graph contains n destinations and m chargers\n",
    "\n",
    "the random graph is completely connected\n",
    "'''\n",
    "deep_reload(src)\n",
    "\n",
    "seed = 125396749\n",
    "n = 15\n",
    "m = 85\n",
    "speeds = [105]\n",
    "chargers = list(range(10))\n",
    "scale = (1e6, 1e6)\n",
    "\n",
    "graph = src.rng.random_completely_connected_graph(\n",
    "    n, m, speeds = speeds, scale = scale, seed = seed, chargers = chargers,\n",
    ")"
   ]
  },
  {
   "cell_type": "code",
   "execution_count": 62,
   "id": "c08ff039-0ccf-43a2-b7f0-ab0e1ed1ccba",
   "metadata": {},
   "outputs": [],
   "source": [
    "'''\n",
    "Adding station objects\n",
    "'''\n",
    "deep_reload(src)\n",
    "\n",
    "vehicle = src.routing.StochasticVehicle(\n",
    "    capacity = 80 * 3.6e6,\n",
    "    max_charge_start_soc = 1,\n",
    "    risk_attitude = (.5, 1),\n",
    "    cases = 30,\n",
    "    # select_case = 6,\n",
    "    # expectation = lambda x: x.mean(),\n",
    ")\n",
    "\n",
    "for source, node in graph._node.items():\n",
    "\n",
    "    if node['type'] == 'station':\n",
    "\n",
    "        node['station'] = src.routing.StochasticStation(\n",
    "            vehicle, chargers = node['n_dcfc']\n",
    "        )"
   ]
  },
  {
   "cell_type": "code",
   "execution_count": 80,
   "id": "285e3185-b21a-42e1-86fc-5d43f2d13d1d",
   "metadata": {},
   "outputs": [],
   "source": [
    "destinations = [n for n in graph.nodes if 'destination' in n]"
   ]
  },
  {
   "cell_type": "code",
   "execution_count": 81,
   "id": "cee850bb-e8fd-430b-a317-7649429ce8e1",
   "metadata": {},
   "outputs": [
    {
     "name": "stdout",
     "output_type": "stream",
     "text": [
      "Executed in 2.2450 seconds\n"
     ]
    }
   ],
   "source": [
    "'''\n",
    "Running with Bellman with BEV stochastic vehicle objective\n",
    "'''\n",
    "deep_reload(src)\n",
    "\n",
    "t0 = time.time()\n",
    "\n",
    "cost_s, values_s, paths_s = src.routing.shortest_paths(\n",
    "    graph, ['destination_0'],\n",
    "    destinations = destinations,\n",
    "    objective = vehicle,\n",
    "    method = 'bellman',\n",
    "    return_paths = True,\n",
    ")\n",
    "\n",
    "print(f'Executed in {time.time() - t0:.4f} seconds')"
   ]
  },
  {
   "cell_type": "code",
   "execution_count": 82,
   "id": "cf404bb1-965a-4dc3-8777-1f78e1f9a3fe",
   "metadata": {},
   "outputs": [
    {
     "name": "stdout",
     "output_type": "stream",
     "text": [
      "Executed in 2.4605 seconds\n"
     ]
    }
   ],
   "source": [
    "'''\n",
    "Running with Bellman with BEV stochastic vehicle objective\n",
    "'''\n",
    "deep_reload(src)\n",
    "\n",
    "t0 = time.time()\n",
    "\n",
    "values_cases = []\n",
    "\n",
    "for idx in range(30):\n",
    "\n",
    "    _, values, _ = src.routing.shortest_paths(\n",
    "        graph, ['destination_0'],\n",
    "        destinations = destinations,\n",
    "        objective = vehicle.select_case(idx),\n",
    "        method = 'bellman',\n",
    "        return_paths = True,\n",
    "    )\n",
    "\n",
    "    values_cases.append(values)\n",
    "\n",
    "print(f'Executed in {time.time() - t0:.4f} seconds')"
   ]
  },
  {
   "cell_type": "code",
   "execution_count": 87,
   "id": "07050304-066c-460d-b44b-fbd918449fbc",
   "metadata": {},
   "outputs": [],
   "source": [
    "expected_costs = {}\n",
    "\n",
    "for destination in destinations:\n",
    "\n",
    "    expected_costs[destination] = values_s[destination]['time'].mean() / 3600\n",
    "\n",
    "mean_costs = {}\n",
    "\n",
    "for destination in destinations:\n",
    "\n",
    "    mean_costs[destination] = np.array(\n",
    "        [v[destination]['time'] for v in values_cases]\n",
    "    ).mean() / 3600"
   ]
  },
  {
   "cell_type": "code",
   "execution_count": 88,
   "id": "090cbcb8-f152-44fd-9cd5-400845b6cff1",
   "metadata": {},
   "outputs": [
    {
     "data": {
      "text/plain": [
       "({'destination_0': 0.0,\n",
       "  'destination_1': 3.3457484070737906,\n",
       "  'destination_2': 3.381515628885006,\n",
       "  'destination_3': 0.04879970438683653,\n",
       "  'destination_4': 2.3290034499346097,\n",
       "  'destination_5': 3.9108835019110413,\n",
       "  'destination_6': 0.5100423598869761,\n",
       "  'destination_7': 3.7318800474647453,\n",
       "  'destination_8': 0.3453691487950909,\n",
       "  'destination_9': 2.3407993177387096,\n",
       "  'destination_10': 1.2646149894766467,\n",
       "  'destination_11': 2.0906230764428257,\n",
       "  'destination_12': 0.9346209930307695,\n",
       "  'destination_13': 1.3672406333204536,\n",
       "  'destination_14': 2.0474382559234408},\n",
       " {'destination_0': 0.0,\n",
       "  'destination_1': 3.382426592256392,\n",
       "  'destination_2': 3.4112086608109453,\n",
       "  'destination_3': 0.04879970438683649,\n",
       "  'destination_4': 2.364411085289693,\n",
       "  'destination_5': 3.996116320339047,\n",
       "  'destination_6': 0.5100423598869758,\n",
       "  'destination_7': 3.83966956991673,\n",
       "  'destination_8': 0.34536914879509084,\n",
       "  'destination_9': 2.377984652637042,\n",
       "  'destination_10': 1.2646149894766472,\n",
       "  'destination_11': 2.132550940550734,\n",
       "  'destination_12': 0.934620993030769,\n",
       "  'destination_13': 1.3672406333204532,\n",
       "  'destination_14': 2.041485540999707})"
      ]
     },
     "execution_count": 88,
     "metadata": {},
     "output_type": "execute_result"
    }
   ],
   "source": [
    "expected_costs, mean_costs"
   ]
  },
  {
   "cell_type": "code",
   "execution_count": null,
   "id": "4486591e-041a-49b0-89de-04282dc0bdfe",
   "metadata": {},
   "outputs": [],
   "source": []
  },
  {
   "cell_type": "code",
   "execution_count": null,
   "id": "86baecf2-cfa1-4f7e-ae05-fa1c75c7dee0",
   "metadata": {},
   "outputs": [],
   "source": []
  },
  {
   "cell_type": "code",
   "execution_count": null,
   "id": "da6828e0-a85e-4bde-8fa9-e4a97b5b2d70",
   "metadata": {},
   "outputs": [],
   "source": []
  },
  {
   "cell_type": "code",
   "execution_count": 14,
   "id": "c68581aa-6980-468f-9e83-b7cec16cea27",
   "metadata": {},
   "outputs": [
    {
     "name": "stdout",
     "output_type": "stream",
     "text": [
      "\u001b[1m\u001b[38;5;34m\u001b[48;5;0m [------------>] (15/15) 100.00%, 0.50 it/s, 32.23 s elapsed, 0.00 s remaining\n",
      "\n",
      "Executed in 32.2285 seconds\n"
     ]
    }
   ],
   "source": [
    "'''\n",
    "Running with Bellman with BEV stochastic vehicle objective - all pairs\n",
    "'''\n",
    "deep_reload(src)\n",
    "\n",
    "t0 = time.time()\n",
    "\n",
    "cost_s, values_s, paths_s = src.routing.all_pairs_shortest_paths(\n",
    "    graph, [n for n in graph.nodes if 'destination' in n],\n",
    "    objective = vehicle,\n",
    "    method = 'bellman',\n",
    "    return_paths = True,\n",
    ")\n",
    "\n",
    "print('\\n')\n",
    "print(f'Executed in {time.time() - t0:.4f} seconds')"
   ]
  },
  {
   "cell_type": "code",
   "execution_count": null,
   "id": "379f6655-2441-4966-938f-a442d56d9bfc",
   "metadata": {},
   "outputs": [],
   "source": []
  }
 ],
 "metadata": {
  "kernelspec": {
   "display_name": "Python 3 (ipykernel)",
   "language": "python",
   "name": "python3"
  },
  "language_info": {
   "codemirror_mode": {
    "name": "ipython",
    "version": 3
   },
   "file_extension": ".py",
   "mimetype": "text/x-python",
   "name": "python",
   "nbconvert_exporter": "python",
   "pygments_lexer": "ipython3",
   "version": "3.11.5"
  }
 },
 "nbformat": 4,
 "nbformat_minor": 5
}
