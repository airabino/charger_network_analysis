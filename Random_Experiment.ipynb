{
 "cells": [
  {
   "cell_type": "code",
   "execution_count": 1,
   "id": "63435780-a2f4-4a82-b4c5-6de9f937ef09",
   "metadata": {
    "tags": []
   },
   "outputs": [],
   "source": [
    "import warnings\n",
    "warnings.filterwarnings(\"ignore\")\n",
    "\n",
    "import os\n",
    "import sys\n",
    "import time\n",
    "import json\n",
    "import numpy as np\n",
    "import pandas as pd\n",
    "import geopandas as gpd\n",
    "import pickle as pkl\n",
    "import networkx as nx\n",
    "import matplotlib.pyplot as plt\n",
    "\n",
    "from pprint import pprint\n",
    "\n",
    "import src\n",
    "from src.reload import deep_reload"
   ]
  },
  {
   "cell_type": "code",
   "execution_count": 2,
   "id": "5cc7ac77-0d72-4af9-a68b-30ca1618f21a",
   "metadata": {},
   "outputs": [],
   "source": [
    "sng_combined = src.graph.graph_from_json('Outputs/sng_combined.json')\n",
    "sng_tesla = src.graph.graph_from_json('Outputs/sng_tesla.json')\n",
    "sng_other = src.graph.graph_from_json('Outputs/sng_other.json')\n",
    "\n",
    "graphs = [sng_combined, sng_tesla, sng_other]"
   ]
  },
  {
   "cell_type": "code",
   "execution_count": 74,
   "id": "77356fae-4bea-4850-a7d0-f67a87c6c044",
   "metadata": {},
   "outputs": [],
   "source": [
    "deep_reload(src)\n",
    "\n",
    "seed = 123853692\n",
    "rng = np.random.default_rng(seed)\n",
    "\n",
    "vehicle_param = src.experiments.default_vehicle_param\n",
    "station_param = src.experiments.default_station_param"
   ]
  },
  {
   "cell_type": "code",
   "execution_count": 87,
   "id": "f1f94190-333b-4f55-a924-dd2a8b8837f9",
   "metadata": {},
   "outputs": [
    {
     "data": {
      "text/plain": [
       "(1,\n",
       " {'capacity': 388048156.9757598,\n",
       "  'charge_rate': 74122.73534740988,\n",
       "  'risk_attitude': array([0.57458613, 0.81189887]),\n",
       "  'cases': 1,\n",
       "  'charge_target_soc': 0.8,\n",
       "  'soc_bounds': (0.1, 1),\n",
       "  'efficiency': 550},\n",
       " {'reliability': 0.7267084207813376, 'base_delay': 60, 'cases': 100})"
      ]
     },
     "execution_count": 87,
     "metadata": {},
     "output_type": "execute_result"
    }
   ],
   "source": [
    "deep_reload(src)\n",
    "\n",
    "graph_index, vehicle_kw, station_kw = src.experiments.generate_case(\n",
    "    graphs, vehicle_param, station_param, rng = rng,\n",
    ")\n",
    "\n",
    "graph_index, vehicle_kw, station_kw"
   ]
  },
  {
   "cell_type": "code",
   "execution_count": 65,
   "id": "1f3811c4-4202-41e2-8af6-9ad266f24d27",
   "metadata": {},
   "outputs": [],
   "source": [
    "deep_reload(src)\n",
    "\n",
    "costs, values, paths = src.experiments.run_case(\n",
    "    graphs[graph_index], vehicle_kw, station_kw,\n",
    ")"
   ]
  },
  {
   "cell_type": "code",
   "execution_count": 66,
   "id": "0eeed41d-e122-444e-bfcd-ce5e999a07cf",
   "metadata": {},
   "outputs": [
    {
     "data": {
      "text/plain": [
       "5.3785948130866945"
      ]
     },
     "execution_count": 66,
     "metadata": {},
     "output_type": "execute_result"
    }
   ],
   "source": [
    "src.routing.road_trip_accessibility(values) / 3600"
   ]
  },
  {
   "cell_type": "code",
   "execution_count": 104,
   "id": "ddcd59ee-2706-4c9a-b86a-72bd2bd7be09",
   "metadata": {},
   "outputs": [],
   "source": [
    "deep_reload(src)\n",
    "\n",
    "# vehicle_kw['charge_target_soc'] = .8\n",
    "# vehicle_kw['soc_bounds'] = (.4, 1)\n",
    "station_kw['reliability'] = 0\n",
    "vehicle_kw['out_of_charge_penalty'] = 4 * 3600\n",
    "\n",
    "costs, values, paths = src.experiments.run_case(\n",
    "    graphs[graph_index], vehicle_kw, station_kw,\n",
    ")"
   ]
  },
  {
   "cell_type": "code",
   "execution_count": 105,
   "id": "ae7f0868-677e-4dbb-ba88-517817c47d43",
   "metadata": {},
   "outputs": [
    {
     "data": {
      "text/plain": [
       "7.014867592507398"
      ]
     },
     "execution_count": 105,
     "metadata": {},
     "output_type": "execute_result"
    }
   ],
   "source": [
    "src.routing.road_trip_accessibility(values) / 3600"
   ]
  },
  {
   "cell_type": "code",
   "execution_count": 106,
   "id": "9f4c26e2-f625-41ed-b8f0-4d480e38c9d3",
   "metadata": {},
   "outputs": [
    {
     "name": "stdout",
     "output_type": "stream",
     "text": [
      "{'Bakersfield': 1.6082676698301694,\n",
      " 'Chico': 4.23047250666002,\n",
      " 'Crescent City': 12.605738955488931,\n",
      " 'Fresno': 0.0,\n",
      " 'I-10 to Phoenix (State Line)': 10.647205294705318,\n",
      " 'I-15 to Las Vegas (State Line)': 5.727073083166839,\n",
      " 'I-80 to Reno (State Line)': 4.5377698863636535,\n",
      " 'Los Angeles': 3.263417207792208,\n",
      " 'Redding': 5.11872446997449,\n",
      " 'Sacramento': 2.6713354700854763,\n",
      " 'San Diego': 5.252874417249402,\n",
      " 'San Francisco': 2.9443037864912918,\n",
      " 'San Jose': 2.513857364857367,\n",
      " 'Stockton': 1.9591595904095913,\n",
      " 'Yreka': 10.610469062187807}\n"
     ]
    }
   ],
   "source": [
    "pprint({k: v['time'].mean() / 3600 for k, v in values['Fresno'].items() if 'station' not in k})"
   ]
  },
  {
   "cell_type": "code",
   "execution_count": 107,
   "id": "43e9af3a-2d0e-4e2a-848f-bf025a69488b",
   "metadata": {},
   "outputs": [
    {
     "name": "stdout",
     "output_type": "stream",
     "text": [
      "{'Bakersfield': ['Fresno', 'Bakersfield'],\n",
      " 'Chico': ['Fresno', 'Chico'],\n",
      " 'Crescent City': ['Fresno', 'Crescent City'],\n",
      " 'Fresno': ['Fresno'],\n",
      " 'I-10 to Phoenix (State Line)': ['Fresno', 'I-10 to Phoenix (State Line)'],\n",
      " 'I-15 to Las Vegas (State Line)': ['Fresno', 'I-15 to Las Vegas (State Line)'],\n",
      " 'I-80 to Reno (State Line)': ['Fresno', 'I-80 to Reno (State Line)'],\n",
      " 'Los Angeles': ['Fresno', 'Los Angeles'],\n",
      " 'Redding': ['Fresno', 'Redding'],\n",
      " 'Sacramento': ['Fresno', 'Sacramento'],\n",
      " 'San Diego': ['Fresno', 'San Diego'],\n",
      " 'San Francisco': ['Fresno', 'San Francisco'],\n",
      " 'San Jose': ['Fresno', 'San Jose'],\n",
      " 'Stockton': ['Fresno', 'Stockton'],\n",
      " 'Yreka': ['Fresno', 'Yreka']}\n"
     ]
    }
   ],
   "source": [
    "pprint({k: v for k, v in paths['Fresno'].items() if 'station' not in k})"
   ]
  },
  {
   "cell_type": "code",
   "execution_count": null,
   "id": "a8aaf1f0-8784-4a66-983f-eb56fe4ed546",
   "metadata": {},
   "outputs": [],
   "source": []
  },
  {
   "cell_type": "code",
   "execution_count": null,
   "id": "f7e15e55-337c-4df1-b94e-c0d3f892c6a5",
   "metadata": {},
   "outputs": [],
   "source": []
  },
  {
   "cell_type": "code",
   "execution_count": 108,
   "id": "ce6ae226-1171-4b41-bd40-3e7decde7f0b",
   "metadata": {},
   "outputs": [],
   "source": [
    "graph_index, vehicle_kw, station_kw, costs, values, paths = pkl.load(\n",
    "    open('Outputs/Random_Experiment/case_12.pkl', 'rb'),\n",
    ")"
   ]
  },
  {
   "cell_type": "code",
   "execution_count": 109,
   "id": "112c9c10-2a20-4493-8f3c-0fe36bb3b591",
   "metadata": {},
   "outputs": [
    {
     "data": {
      "text/plain": [
       "18769230774.91946"
      ]
     },
     "execution_count": 109,
     "metadata": {},
     "output_type": "execute_result"
    }
   ],
   "source": [
    "src.routing.road_trip_accessibility(values) / 3600"
   ]
  },
  {
   "cell_type": "code",
   "execution_count": 84,
   "id": "401405d6-7905-495f-aac7-38891d34f278",
   "metadata": {},
   "outputs": [
    {
     "data": {
      "text/plain": [
       "(2,\n",
       " {'capacity': 322794362.4249195,\n",
       "  'charge_rate': 117278.59890453267,\n",
       "  'risk_attitude': array([0.45199908, 0.95673559]),\n",
       "  'cases': 1,\n",
       "  'charge_target_soc': 0.8,\n",
       "  'soc_bounds': (0.1, 1),\n",
       "  'efficiency': 550},\n",
       " {'reliability': 0.009592311899322747, 'base_delay': 60, 'cases': 100})"
      ]
     },
     "execution_count": 84,
     "metadata": {},
     "output_type": "execute_result"
    }
   ],
   "source": [
    "graph_index, vehicle_kw, station_kw"
   ]
  }
 ],
 "metadata": {
  "kernelspec": {
   "display_name": "Python 3 (ipykernel)",
   "language": "python",
   "name": "python3"
  },
  "language_info": {
   "codemirror_mode": {
    "name": "ipython",
    "version": 3
   },
   "file_extension": ".py",
   "mimetype": "text/x-python",
   "name": "python",
   "nbconvert_exporter": "python",
   "pygments_lexer": "ipython3",
   "version": "3.11.5"
  }
 },
 "nbformat": 4,
 "nbformat_minor": 5
}
