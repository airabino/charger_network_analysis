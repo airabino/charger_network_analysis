{
 "cells": [
  {
   "cell_type": "code",
   "execution_count": 1,
   "id": "63435780-a2f4-4a82-b4c5-6de9f937ef09",
   "metadata": {
    "tags": []
   },
   "outputs": [],
   "source": [
    "import warnings\n",
    "warnings.filterwarnings(\"ignore\")\n",
    "\n",
    "import os\n",
    "import sys\n",
    "import time\n",
    "import json\n",
    "import numpy as np\n",
    "import pandas as pd\n",
    "import geopandas as gpd\n",
    "import pickle as pkl\n",
    "import networkx as nx\n",
    "import matplotlib.pyplot as plt\n",
    "\n",
    "from pprint import pprint\n",
    "\n",
    "import src\n",
    "from src.reload import deep_reload"
   ]
  },
  {
   "cell_type": "code",
   "execution_count": 31,
   "id": "5cc7ac77-0d72-4af9-a68b-30ca1618f21a",
   "metadata": {},
   "outputs": [],
   "source": [
    "sng_combined = src.graph.graph_from_json('Outputs/sng_combined.json')\n",
    "sng_tesla = src.graph.graph_from_json('Outputs/sng_tesla.json')\n",
    "sng_other = src.graph.graph_from_json('Outputs/sng_other.json')\n",
    "\n",
    "graphs = [sng_combined, sng_tesla, sng_other]"
   ]
  },
  {
   "cell_type": "code",
   "execution_count": 32,
   "id": "d647c29e-1798-48da-8623-54fbe6896602",
   "metadata": {},
   "outputs": [
    {
     "data": {
      "text/plain": [
       "[695, 194, 650]"
      ]
     },
     "execution_count": 32,
     "metadata": {},
     "output_type": "execute_result"
    }
   ],
   "source": [
    "[g.number_of_nodes() for g in graphs]"
   ]
  },
  {
   "cell_type": "code",
   "execution_count": 33,
   "id": "050f9bcd-9e59-48da-a648-d9c657531462",
   "metadata": {},
   "outputs": [],
   "source": [
    "def adjusted_rta(values, vehicle_kw):\n",
    "\n",
    "    rta = src.routing.road_trip_accessibility(values)\n",
    "\n",
    "    end_soc = src.routing.road_trip_accessibility(\n",
    "        values, field = 'soc'\n",
    "    )\n",
    "\n",
    "    excess_chg_time = (end_soc - .1) * vehicle_kw['capacity'] / vehicle_kw['charge_rate']\n",
    "\n",
    "    return (rta - excess_chg_time) / 3600"
   ]
  },
  {
   "cell_type": "code",
   "execution_count": 41,
   "id": "77356fae-4bea-4850-a7d0-f67a87c6c044",
   "metadata": {},
   "outputs": [],
   "source": [
    "deep_reload(src)\n",
    "\n",
    "seed = 123853692\n",
    "rng = np.random.default_rng(seed)\n",
    "\n",
    "vehicle_param = src.experiments.default_vehicle_param\n",
    "station_param = src.experiments.default_station_param"
   ]
  },
  {
   "cell_type": "code",
   "execution_count": 42,
   "id": "f1f94190-333b-4f55-a924-dd2a8b8837f9",
   "metadata": {},
   "outputs": [
    {
     "data": {
      "text/plain": [
       "(2,\n",
       " {'capacity': 322794362.4249195,\n",
       "  'charge_rate': 117278.59890453267,\n",
       "  'risk_attitude': array([0.36159926, 0.56159926]),\n",
       "  'cases': 1,\n",
       "  'charge_target_soc': 0.8,\n",
       "  'soc_bounds': (0.1, 1),\n",
       "  'efficiency': 550},\n",
       " {'reliability': 0.9783677954253022,\n",
       "  'base_delay': 60,\n",
       "  'cases': 100,\n",
       "  'arrival_param': (2.5, 0.625),\n",
       "  'service_param': (162000000.0, 0)})"
      ]
     },
     "execution_count": 42,
     "metadata": {},
     "output_type": "execute_result"
    }
   ],
   "source": [
    "deep_reload(src)\n",
    "\n",
    "graph_index, vehicle_kw, station_kw = src.experiments.generate_case(\n",
    "    graphs, vehicle_param, station_param, rng = rng,\n",
    ")\n",
    "\n",
    "station_kw['arrival_param'] = (2.5, 2.5 / 4)\n",
    "\n",
    "graph_index, vehicle_kw, station_kw"
   ]
  },
  {
   "cell_type": "code",
   "execution_count": 43,
   "id": "30cb507b-fa6b-468c-ad9d-ac530fbfe602",
   "metadata": {},
   "outputs": [
    {
     "data": {
      "text/plain": [
       "(364.76000048016215, 117.27859890453267)"
      ]
     },
     "execution_count": 43,
     "metadata": {},
     "output_type": "execute_result"
    }
   ],
   "source": [
    "vehicle_kw['capacity'] / 550 / 1609, vehicle_kw['charge_rate'] / 1000"
   ]
  },
  {
   "cell_type": "code",
   "execution_count": 44,
   "id": "1f3811c4-4202-41e2-8af6-9ad266f24d27",
   "metadata": {},
   "outputs": [
    {
     "name": "stdout",
     "output_type": "stream",
     "text": [
      "65.23326563835144\n"
     ]
    }
   ],
   "source": [
    "deep_reload(src)\n",
    "\n",
    "graph_index = 0\n",
    "\n",
    "t0 = time.time()\n",
    "\n",
    "vehicle_kw['max_charge_start_soc'] = .5\n",
    "vehicle_kw['cases'] = 1\n",
    "\n",
    "costs0, values0, paths0 = src.experiments.run_case(\n",
    "    graphs[graph_index], vehicle_kw, station_kw, method = 'dijkstra', seed = seed,\n",
    ")\n",
    "\n",
    "print(time.time() - t0)"
   ]
  },
  {
   "cell_type": "code",
   "execution_count": 45,
   "id": "5283c7ae-9f4d-4a2f-8317-df39b164e61d",
   "metadata": {},
   "outputs": [
    {
     "name": "stdout",
     "output_type": "stream",
     "text": [
      "0.3808334110157222 5.4551385011439235 6.131802247122409 5.917091666450057\n"
     ]
    }
   ],
   "source": [
    "deep_reload(src)\n",
    "\n",
    "print(\n",
    "    src.routing.road_trip_accessibility(values0, field = 'soc'),\n",
    "    src.routing.road_trip_accessibility(values0, field = 'driving_time') / 3600,\n",
    "    src.routing.road_trip_accessibility(values0, field = 'time') / 3600,\n",
    "    adjusted_rta(values0, vehicle_kw)\n",
    ")"
   ]
  },
  {
   "cell_type": "code",
   "execution_count": 46,
   "id": "13c2a829-f61e-4f25-bd9a-a3e2626ace6d",
   "metadata": {},
   "outputs": [
    {
     "name": "stdout",
     "output_type": "stream",
     "text": [
      "6.556122779846191\n"
     ]
    }
   ],
   "source": [
    "deep_reload(src)\n",
    "\n",
    "graph_index = 1\n",
    "\n",
    "t0 = time.time()\n",
    "\n",
    "vehicle_kw['max_charge_start_soc'] = .5\n",
    "vehicle_kw['cases'] = 1\n",
    "\n",
    "costs1, values1, paths1 = src.experiments.run_case(\n",
    "    graphs[graph_index], vehicle_kw, station_kw, method = 'dijkstra', seed = seed,\n",
    ")\n",
    "\n",
    "print(time.time() - t0)"
   ]
  },
  {
   "cell_type": "code",
   "execution_count": 47,
   "id": "01bb1846-b527-4ea6-9f5e-09ea4eabd1fe",
   "metadata": {},
   "outputs": [
    {
     "name": "stdout",
     "output_type": "stream",
     "text": [
      "0.3808334110157222 5.455719697725119 6.131936256148111 5.917225675475759\n"
     ]
    }
   ],
   "source": [
    "deep_reload(src)\n",
    "\n",
    "print(\n",
    "    src.routing.road_trip_accessibility(values1, field = 'soc'),\n",
    "    src.routing.road_trip_accessibility(values1, field = 'driving_time') / 3600,\n",
    "    src.routing.road_trip_accessibility(values1, field = 'time') / 3600,\n",
    "    adjusted_rta(values1, vehicle_kw)\n",
    ")"
   ]
  },
  {
   "cell_type": "code",
   "execution_count": 48,
   "id": "77b56122-72fd-4d70-989e-fd99e320ec73",
   "metadata": {},
   "outputs": [
    {
     "name": "stdout",
     "output_type": "stream",
     "text": [
      "54.18838286399841\n"
     ]
    }
   ],
   "source": [
    "deep_reload(src)\n",
    "\n",
    "graph_index = 2\n",
    "\n",
    "t0 = time.time()\n",
    "\n",
    "vehicle_kw['max_charge_start_soc'] = .5\n",
    "vehicle_kw['cases'] = 1\n",
    "\n",
    "costs2, values2, paths2 = src.experiments.run_case(\n",
    "    graphs[graph_index], vehicle_kw, station_kw, method = 'dijkstra', seed = seed,\n",
    ")\n",
    "\n",
    "print(time.time() - t0)"
   ]
  },
  {
   "cell_type": "code",
   "execution_count": 49,
   "id": "c7144469-5c89-40a6-87ef-491b700f917c",
   "metadata": {},
   "outputs": [
    {
     "name": "stdout",
     "output_type": "stream",
     "text": [
      "0.39858479321734314 5.452069710335964 6.2659333088435805 5.917091666450057\n"
     ]
    }
   ],
   "source": [
    "deep_reload(src)\n",
    "\n",
    "print(\n",
    "    src.routing.road_trip_accessibility(values2, field = 'soc'),\n",
    "    src.routing.road_trip_accessibility(values2, field = 'driving_time') / 3600,\n",
    "    src.routing.road_trip_accessibility(values2, field = 'time') / 3600,\n",
    "    adjusted_rta(values0, vehicle_kw)\n",
    ")"
   ]
  },
  {
   "cell_type": "code",
   "execution_count": 51,
   "id": "c5f777d8-f13e-4f4f-9d87-d5e142de41be",
   "metadata": {},
   "outputs": [
    {
     "data": {
      "image/png": "[encoded data removed]",
      "text/plain": [
       "<Figure size 800x600 with 2 Axes>"
      ]
     },
     "metadata": {},
     "output_type": "display_data"
    }
   ],
   "source": [
    "deep_reload(src)\n",
    "\n",
    "fig, ax = plt.subplots(figsize = (8, 6))\n",
    "\n",
    "city = 'Fresno'\n",
    "\n",
    "graph = graphs[0]\n",
    "\n",
    "cities = [k for k, v in graph._node.items() if v['type'] == 'city']\n",
    "\n",
    "kw = src.figures.default_route_tree_kwargs\n",
    "\n",
    "color = (254 / 255, 214 / 255, 1 / 255)\n",
    "\n",
    "src.figures.plot_route_tree(\n",
    "    ax, graph,\n",
    "    values = {k: v['time'] / 3600 for k, v in values0[city].items()},\n",
    "    paths = {k: v for k, v in paths0[city].items() if graph._node[k]['type'] == 'city'},\n",
    "    destinations = cities,\n",
    "    show_unused_stations = False,\n",
    "    **kw,\n",
    ")\n",
    "\n",
    "_ = ax.set(**{\n",
    "    'facecolor': 'whitesmoke',\n",
    "})\n",
    "\n",
    "legend = ax.legend()\n",
    "\n",
    "for h in legend.legendHandles:\n",
    "    h._sizes = [100]\n",
    "\n",
    "    ax.grid(ls = '--')"
   ]
  },
  {
   "cell_type": "code",
   "execution_count": 73,
   "id": "d9f7b56e-1675-411e-b5ab-dfbd2b1a3b93",
   "metadata": {},
   "outputs": [
    {
     "name": "stdout",
     "output_type": "stream",
     "text": [
      "6.811359405517578\n"
     ]
    }
   ],
   "source": [
    "deep_reload(src)\n",
    "\n",
    "graph_index = 0\n",
    "\n",
    "t0 = time.time()\n",
    "\n",
    "vehicle_kw['max_charge_start_soc'] = .5\n",
    "vehicle_kw['cases'] = 1\n",
    "\n",
    "costs0, values0, paths0 = src.experiments.run_case(\n",
    "    graphs[graph_index], vehicle_kw, station_kw, method = 'multi_dijkstra', seed = seed,\n",
    ")\n",
    "\n",
    "print(time.time() - t0)"
   ]
  },
  {
   "cell_type": "code",
   "execution_count": 60,
   "id": "bfe2fc2d-b771-4095-9ba3-a3f0a06db312",
   "metadata": {},
   "outputs": [
    {
     "name": "stdout",
     "output_type": "stream",
     "text": [
      "0.8593161985137981 4.829122405207541 5.240637459017451 5.055313506011035\n"
     ]
    }
   ],
   "source": [
    "deep_reload(src)\n",
    "\n",
    "print(\n",
    "    src.routing.road_trip_accessibility(values0, field = 'soc'),\n",
    "    src.routing.road_trip_accessibility(values0, field = 'driving_time') / 3600,\n",
    "    src.routing.road_trip_accessibility(values0, field = 'time') / 3600,\n",
    "    adjusted_rta(values0, vehicle_kw)\n",
    ")"
   ]
  },
  {
   "cell_type": "code",
   "execution_count": 61,
   "id": "5de1ff70-f93a-439f-8d2a-3eaf0b4fe398",
   "metadata": {},
   "outputs": [
    {
     "data": {
      "image/png": "[encoded data removed]",
      "text/plain": [
       "<Figure size 800x600 with 2 Axes>"
      ]
     },
     "metadata": {},
     "output_type": "display_data"
    }
   ],
   "source": [
    "deep_reload(src)\n",
    "\n",
    "fig, ax = plt.subplots(figsize = (8, 6))\n",
    "\n",
    "\n",
    "\n",
    "city = 'Fresno'\n",
    "\n",
    "graph = graphs[graph_index]\n",
    "\n",
    "cities = [k for k, v in graph._node.items() if v['type'] == 'city']\n",
    "\n",
    "kw = src.figures.default_route_tree_kwargs\n",
    "\n",
    "color = (254 / 255, 214 / 255, 1 / 255)\n",
    "\n",
    "src.figures.plot_route_tree(\n",
    "    ax, graph,\n",
    "    values = {k: v['time'] / 3600 for k, v in values0[city].items()},\n",
    "    paths = {k: v for k, v in paths0[city].items() if graph._node[k]['type'] == 'city'},\n",
    "    destinations = cities,\n",
    "    show_unused_stations = False,\n",
    "    **kw,\n",
    ")\n",
    "\n",
    "_ = ax.set(**{\n",
    "    'facecolor': 'whitesmoke',\n",
    "})\n",
    "\n",
    "legend = ax.legend()\n",
    "\n",
    "for h in legend.legendHandles:\n",
    "    h._sizes = [100]\n",
    "\n",
    "    ax.grid(ls = '--')"
   ]
  },
  {
   "cell_type": "code",
   "execution_count": 7,
   "id": "ddcd59ee-2706-4c9a-b86a-72bd2bd7be09",
   "metadata": {},
   "outputs": [
    {
     "name": "stdout",
     "output_type": "stream",
     "text": [
      "91.35134291648865\n"
     ]
    }
   ],
   "source": [
    "deep_reload(src)\n",
    "\n",
    "graph_index = 1\n",
    "\n",
    "vehicle_kw['max_charge_start_soc'] = .5\n",
    "vehicle_kw['cases'] = 100\n",
    "\n",
    "t0 = time.time()\n",
    "\n",
    "costs1, values1, paths1 = src.experiments.run_case(\n",
    "    graphs[graph_index], vehicle_kw, station_kw, method = 'dijkstra', seed = seed,\n",
    ")\n",
    "\n",
    "print(time.time() - t0)"
   ]
  },
  {
   "cell_type": "code",
   "execution_count": 8,
   "id": "b5a09682-6bb0-40cc-a7dd-be7de48f98fd",
   "metadata": {},
   "outputs": [
    {
     "name": "stdout",
     "output_type": "stream",
     "text": [
      "0.38295900920138043 5.447436094014016 5.712954924264493 5.496619222068786\n"
     ]
    }
   ],
   "source": [
    "deep_reload(src)\n",
    "\n",
    "print(\n",
    "    src.routing.road_trip_accessibility(values1, field = 'soc'),\n",
    "    src.routing.road_trip_accessibility(values1, field = 'driving_time') / 3600,\n",
    "    src.routing.road_trip_accessibility(values1, field = 'time') / 3600,\n",
    "    adjusted_rta(values1, vehicle_kw)\n",
    ")"
   ]
  },
  {
   "cell_type": "code",
   "execution_count": 18,
   "id": "bec5f47d-855a-43a2-b6cf-5db62515ddef",
   "metadata": {},
   "outputs": [
    {
     "data": {
      "image/png": "[encoded data removed]",
      "text/plain": [
       "<Figure size 640x480 with 1 Axes>"
      ]
     },
     "metadata": {},
     "output_type": "display_data"
    }
   ],
   "source": [
    "n = 10000\n",
    "x = np.zeros(n)\n",
    "\n",
    "iterations = 1000\n",
    "\n",
    "for idx in range(iterations):\n",
    "\n",
    "    x += np.random.rand(n)\n",
    "    \n",
    "x /= iterations\n",
    "\n",
    "_ = plt.hist(x, 20)"
   ]
  },
  {
   "cell_type": "code",
   "execution_count": 32,
   "id": "d64fac6d-32f5-4618-bf25-2b44c5bad5d5",
   "metadata": {},
   "outputs": [],
   "source": [
    "deep_reload(src)\n",
    "\n",
    "graph_index = 2\n",
    "\n",
    "costs2, values2, paths2 = src.experiments.run_case(\n",
    "    graphs[graph_index], vehicle_kw, station_kw, method = 'bellman'\n",
    ")"
   ]
  },
  {
   "cell_type": "code",
   "execution_count": 33,
   "id": "1b1ccff9-851f-4dfb-b92a-54d38050756c",
   "metadata": {},
   "outputs": [
    {
     "name": "stdout",
     "output_type": "stream",
     "text": [
      "0.3453049311313936 7.598406163900642 7.410858806146746\n"
     ]
    }
   ],
   "source": [
    "print(\n",
    "    src.routing.road_trip_accessibility(values2, field = 'soc'),\n",
    "    src.routing.road_trip_accessibility(values2, field = 'time') / 3600,\n",
    "    adjusted_rta(values2, vehicle_kw)\n",
    ")"
   ]
  },
  {
   "cell_type": "code",
   "execution_count": 14,
   "id": "cac94fe0-d667-495d-aac3-a8e546c935b5",
   "metadata": {},
   "outputs": [
    {
     "name": "stdout",
     "output_type": "stream",
     "text": [
      "Crescent City 8.450190092491574 8.455154244443651\n",
      "Yreka 6.65910421340013 6.674476804578497\n",
      "Redding 5.308798320411622 5.314093829836515\n",
      "Chico 4.785433359565547 4.789535529564352\n",
      "I-80 to Reno (State Line) 5.554418970994453 5.558521140993258\n",
      "Sacramento 4.026587483704663 4.027268973059186\n",
      "Stockton 3.8955392914341656 3.9033355918347583\n",
      "San Francisco 4.2975903606681385 4.308446120381348\n",
      "San Jose 4.291384454387818 4.298473337430224\n",
      "Fresno 4.2318223194734355 4.239242516238464\n",
      "I-15 to Las Vegas (State Line) 7.944401349986887 7.948073402810295\n",
      "Bakersfield 4.750886451625173 4.757913017689481\n",
      "Los Angeles 5.579081032111149 5.579794293049523\n",
      "I-10 to Phoenix (State Line) 8.581562652710405 8.583457252845264\n",
      "San Diego 7.253823776921696 7.256428542746862\n"
     ]
    }
   ],
   "source": [
    "cities = [k for k, v in sng_tesla_ea._node.items() if v['type'] == 'city']\n",
    "\n",
    "for city in cities:\n",
    "\n",
    "    print(\n",
    "        city,\n",
    "        src.routing.specific_road_trip_accessibility(\n",
    "            values0[city], field = 'time'\n",
    "        ) / 3600,\n",
    "        src.routing.specific_road_trip_accessibility(\n",
    "            values1[city], field = 'time'\n",
    "        ) / 3600,\n",
    "    )"
   ]
  },
  {
   "cell_type": "code",
   "execution_count": 15,
   "id": "b0cc6614-045f-41f8-beb2-87c14723ff40",
   "metadata": {},
   "outputs": [
    {
     "name": "stdout",
     "output_type": "stream",
     "text": [
      "Crescent City 8.948571489105527 8.949972346884143\n",
      "Yreka 7.0000621639062555 7.0539083310318915\n",
      "Redding 5.530820135049137 5.532585351806437\n",
      "Chico 5.014325687458347 5.015745182414055\n",
      "I-80 to Reno (State Line) 5.8008514784488385 5.802270973404548\n",
      "Sacramento 4.232880828435151 4.2335197632163135\n",
      "Stockton 4.035374752373222 4.046751716160893\n",
      "San Francisco 4.501344326367869 4.501973961564263\n",
      "San Jose 4.4689214095940155 4.468902810424478\n",
      "Fresno 4.430829359631203 4.432230255417375\n",
      "I-15 to Las Vegas (State Line) 8.349401813917224 8.355106933194465\n",
      "Bakersfield 4.976078349096415 4.976050409050312\n",
      "Los Angeles 5.901093673943836 5.900235889510582\n",
      "I-10 to Phoenix (State Line) 9.134870492060811 9.134851873315789\n",
      "San Diego 7.691632968587438 7.6924721538484695\n"
     ]
    }
   ],
   "source": [
    "cities = [k for k, v in sng_tesla_ea._node.items() if v['type'] == 'city']\n",
    "\n",
    "for city in cities:\n",
    "\n",
    "    print(\n",
    "        city,\n",
    "        src.routing.specific_road_trip_accessibility(\n",
    "            values0[city], field = 'routing_time'\n",
    "        ) / 3600,\n",
    "        src.routing.specific_road_trip_accessibility(\n",
    "            values1[city], field = 'routing_time'\n",
    "        ) / 3600,\n",
    "    )"
   ]
  },
  {
   "cell_type": "code",
   "execution_count": 16,
   "id": "d90336fb-e162-4fc1-b12c-e1cfb265c342",
   "metadata": {},
   "outputs": [
    {
     "name": "stdout",
     "output_type": "stream",
     "text": [
      "Crescent City 7.959014333351831 7.960433830521329\n",
      "Yreka 6.323000213443967 6.324774772218523\n",
      "Redding 5.062082060069566 5.0638566188441265\n",
      "Chico 4.5976779211529255 4.599097418322423\n",
      "I-80 to Reno (State Line) 5.3321227214914755 5.333542218660974\n",
      "Sacramento 3.8682834686147216 3.8689529657842185\n",
      "Stockton 3.7749605898730914 3.7863468554593585\n",
      "San Francisco 4.13673766696267 4.137407164132166\n",
      "San Jose 4.156416961279463 4.156416961279463\n",
      "Fresno 4.118324887381142 4.119744384550639\n",
      "I-15 to Las Vegas (State Line) 7.516047738603998 7.521811359242617\n",
      "Bakersfield 4.611483592102348 4.611483592102348\n",
      "Los Angeles 5.328193665593669 5.3273451807451835\n",
      "I-10 to Phoenix (State Line) 8.041151484395238 8.041151484395238\n",
      "San Diego 6.85832811910313 6.859176603951615\n"
     ]
    }
   ],
   "source": [
    "cities = [k for k, v in sng_tesla_ea._node.items() if v['type'] == 'city']\n",
    "\n",
    "for city in cities:\n",
    "\n",
    "    print(\n",
    "        city,\n",
    "        src.routing.specific_road_trip_accessibility(\n",
    "            values0[city], field = 'driving_time'\n",
    "        ) / 3600,\n",
    "        src.routing.specific_road_trip_accessibility(\n",
    "            values1[city], field = 'driving_time'\n",
    "        ) / 3600,\n",
    "    )"
   ]
  },
  {
   "cell_type": "code",
   "execution_count": 32,
   "id": "2e046e87-be82-4528-90ea-77b6dc70d540",
   "metadata": {},
   "outputs": [
    {
     "data": {
      "text/plain": [
       "(array(['San Jose', 'station_1004', 'station_1005', 'station_1006',\n",
       "        'station_102', 'station_103', 'station_1075', 'station_1105',\n",
       "        'station_112', 'station_1126', 'station_1130', 'station_1131',\n",
       "        'station_1144', 'station_116', 'station_123', 'station_124',\n",
       "        'station_126', 'station_140', 'station_149', 'station_1537',\n",
       "        'station_1538', 'station_154', 'station_1540', 'station_1558',\n",
       "        'station_157', 'station_167', 'station_1672', 'station_1691',\n",
       "        'station_1716', 'station_179', 'station_1799', 'station_1837',\n",
       "        'station_184', 'station_1845', 'station_1867', 'station_1899',\n",
       "        'station_193', 'station_194', 'station_202', 'station_210',\n",
       "        'station_219', 'station_230', 'station_237', 'station_246',\n",
       "        'station_258', 'station_261', 'station_274', 'station_284',\n",
       "        'station_301', 'station_315', 'station_318', 'station_322',\n",
       "        'station_323', 'station_347', 'station_417', 'station_420',\n",
       "        'station_422', 'station_425', 'station_469', 'station_489',\n",
       "        'station_494', 'station_496', 'station_500', 'station_522',\n",
       "        'station_523', 'station_529', 'station_552', 'station_723',\n",
       "        'station_724', 'station_738', 'station_769', 'station_780',\n",
       "        'station_809', 'station_827', 'station_841', 'station_86',\n",
       "        'station_897', 'station_920', 'station_94', 'station_950'],\n",
       "       dtype='<U12'),\n",
       " array(['', 'Tesla', 'Tesla', 'Tesla', 'Tesla', 'Tesla', 'Tesla', 'Tesla',\n",
       "        'Tesla', 'Tesla', 'Tesla', 'Tesla', 'Tesla', 'Tesla', 'Tesla',\n",
       "        'Tesla', 'Tesla', 'Tesla', 'Tesla', 'Tesla', 'Tesla', 'Tesla',\n",
       "        'Tesla', 'Tesla', 'Tesla', 'Tesla', 'Tesla', 'Tesla',\n",
       "        'Electrify America', 'Electrify America', 'Tesla', 'Tesla',\n",
       "        'Tesla', 'Tesla', 'Tesla', 'Tesla', 'Electrify America',\n",
       "        'Electrify America', 'Electrify America', 'Electrify America',\n",
       "        'Electrify America', 'Tesla', 'Tesla', 'Electrify America',\n",
       "        'Tesla', 'Tesla', 'Tesla', 'Electrify America',\n",
       "        'Electrify America', 'Electrify America', 'Electrify America',\n",
       "        'Tesla', 'Tesla', 'Electrify America', 'Tesla', 'Tesla',\n",
       "        'Electrify America', 'Tesla', 'Tesla', 'Tesla', 'Tesla', 'Tesla',\n",
       "        'Tesla', 'Electrify America', 'Electrify America',\n",
       "        'Electrify America', 'Tesla', 'Electrify America', 'Tesla',\n",
       "        'Tesla', 'Electrify America', 'Electrify America', 'Tesla',\n",
       "        'Tesla', 'Tesla', 'Tesla', 'Electrify America', 'Tesla', 'Tesla',\n",
       "        'Tesla'], dtype='<U17'),\n",
       " array([60.00000014, 60.5032926 , 60.5032926 , 60.        , 60.00000014,\n",
       "        60.00005809, 60.00005809, 60.00000014, 60.00000014, 60.        ,\n",
       "        60.00005809, 60.        , 60.00000251, 60.00011955, 60.        ,\n",
       "        60.00111502, 60.        , 60.5032926 , 60.00005809, 60.        ,\n",
       "        60.00005809, 60.        , 60.        , 60.        , 61.65036897,\n",
       "        60.00011955, 60.00111502, 60.00111502, 60.00005809, 60.5032926 ,\n",
       "        60.5032926 , 60.00111502, 60.5032926 , 60.00000014, 60.00005809,\n",
       "        60.00111502, 61.65036897, 60.        , 60.00000014, 60.5032926 ,\n",
       "        60.5032926 , 60.5032926 , 60.5032926 , 60.        , 60.        ,\n",
       "        60.00011955, 60.        ]),\n",
       " array([ 1,  2,  1,  1,  1, 24,  1,  1,  2, 23, 12, 12, 47,  1,  4,  1,  2,\n",
       "         1,  5,  1,  6,  1,  6,  1,  4,  8,  1, 21,  4,  1, 10,  1, 16,  1,\n",
       "        18,  7,  6,  4,  5, 13,  1, 24,  4,  1, 15,  1, 27,  4,  1, 21,  3,\n",
       "        11,  1,  6, 11,  7,  1,  4,  1, 48,  3,  2,  1,  1,  1, 10,  1,  2,\n",
       "         2,  1,  7,  3, 11,  6, 21,  1,  6,  2,  5, 28]),\n",
       " 80)"
      ]
     },
     "execution_count": 32,
     "metadata": {},
     "output_type": "execute_result"
    }
   ],
   "source": [
    "paths = paths0\n",
    "\n",
    "stations = []\n",
    "\n",
    "for pathcol in paths.values():\n",
    "    # print(pathcol)\n",
    "    for path in pathcol.values():\n",
    "        # print(path)\n",
    "    \n",
    "        # break\n",
    "    \n",
    "        if path[-1] in cities:\n",
    "    \n",
    "            stations.extend(path[1:-1])\n",
    "\n",
    "u0, c0 = np.unique(stations, return_counts = True)\n",
    "n0 = np.array([sng_tesla_ea._node[n].get('network', '') for n in u0])\n",
    "# d0 = np.array([sng_tesla_ea._node[n]['station'].delay_time for n in u0])\n",
    "u0, n0, d0, c0, len(c0)"
   ]
  },
  {
   "cell_type": "code",
   "execution_count": 33,
   "id": "f30cc19a-eb6f-4760-b6b7-db0016a9b5d4",
   "metadata": {},
   "outputs": [
    {
     "data": {
      "text/plain": [
       "(array(['station_1004', 'station_1005', 'station_1006', 'station_102',\n",
       "        'station_1022', 'station_103', 'station_1075', 'station_1105',\n",
       "        'station_112', 'station_1126', 'station_1130', 'station_1131',\n",
       "        'station_1144', 'station_116', 'station_123', 'station_124',\n",
       "        'station_126', 'station_133', 'station_136', 'station_138',\n",
       "        'station_140', 'station_149', 'station_1537', 'station_1538',\n",
       "        'station_154', 'station_1540', 'station_1554', 'station_1558',\n",
       "        'station_157', 'station_167', 'station_1691', 'station_1799',\n",
       "        'station_1837', 'station_184', 'station_1867', 'station_1899',\n",
       "        'station_230', 'station_237', 'station_258', 'station_261',\n",
       "        'station_274', 'station_322', 'station_323', 'station_417',\n",
       "        'station_420', 'station_425', 'station_469', 'station_489',\n",
       "        'station_494', 'station_496', 'station_500', 'station_552',\n",
       "        'station_724', 'station_738', 'station_809', 'station_827',\n",
       "        'station_841', 'station_86', 'station_920', 'station_93',\n",
       "        'station_94', 'station_950'], dtype='<U12'),\n",
       " array(['Tesla', 'Tesla', 'Tesla', 'Tesla', 'Tesla', 'Tesla', 'Tesla',\n",
       "        'Tesla', 'Tesla', 'Tesla', 'Tesla', 'Tesla', 'Tesla', 'Tesla',\n",
       "        'Tesla', 'Tesla', 'Tesla', 'Tesla', 'Tesla', 'Tesla', 'Tesla',\n",
       "        'Tesla', 'Tesla', 'Tesla', 'Tesla', 'Tesla', 'Tesla', 'Tesla',\n",
       "        'Tesla', 'Tesla', 'Tesla', 'Tesla', 'Tesla', 'Tesla', 'Tesla',\n",
       "        'Tesla', 'Tesla', 'Tesla', 'Tesla', 'Tesla', 'Tesla', 'Tesla',\n",
       "        'Tesla', 'Tesla', 'Tesla', 'Tesla', 'Tesla', 'Tesla', 'Tesla',\n",
       "        'Tesla', 'Tesla', 'Tesla', 'Tesla', 'Tesla', 'Tesla', 'Tesla',\n",
       "        'Tesla', 'Tesla', 'Tesla', 'Tesla', 'Tesla', 'Tesla'], dtype='<U5'),\n",
       " array([60.00926156, 60.00009383, 60.00926156, 60.00926156, 60.00926156,\n",
       "        60.0213094 , 60.0213094 , 60.00009383, 60.00009383, 60.00926156,\n",
       "        60.00926156, 60.00009383, 60.00009383, 60.        , 60.00000488,\n",
       "        60.00926156, 60.00009383, 60.00926156, 60.00003042, 60.00574433,\n",
       "        60.0010278 , 60.0010278 , 60.00009383, 60.00574433, 60.00490005,\n",
       "        60.0213094 , 60.0213094 , 60.00009383, 60.00009383, 60.00000488,\n",
       "        60.        , 60.00926156, 60.00000013, 60.00926156, 60.00000488,\n",
       "        60.        , 60.0213094 , 60.00574433, 60.00000488, 60.0213094 ,\n",
       "        60.00926156, 60.00000488, 60.00009383, 60.00000488, 60.00926156,\n",
       "        60.00009383, 60.00000488, 60.        , 60.00009383, 60.0213094 ,\n",
       "        60.00926156, 60.00009383, 60.00926156, 60.0213094 , 60.00000488,\n",
       "        60.00000488, 60.        , 60.00574433, 60.00926156, 60.00007207,\n",
       "        60.0213094 , 60.        ]),\n",
       " array([ 3,  3,  1,  1, 19, 24,  1,  6,  2, 21, 15, 15, 46, 17,  5,  1,  2,\n",
       "         2,  2,  2,  1, 10,  1,  5,  2,  6,  1,  1,  3, 10, 22, 11,  1, 11,\n",
       "        19, 16, 24,  4, 20,  1, 32, 12,  1,  8,  5, 10,  1, 47, 11,  7,  1,\n",
       "         3,  4,  1,  6, 12, 28,  1,  4,  1,  7, 26]),\n",
       " 62)"
      ]
     },
     "execution_count": 33,
     "metadata": {},
     "output_type": "execute_result"
    }
   ],
   "source": [
    "paths = paths1\n",
    "\n",
    "stations = []\n",
    "\n",
    "for pathcol in paths.values():\n",
    "    # print(pathcol)\n",
    "    for path in pathcol.values():\n",
    "        # print(path)\n",
    "    \n",
    "        # break\n",
    "    \n",
    "        if path[-1] in cities:\n",
    "    \n",
    "            stations.extend(path[1:-1])\n",
    "            \n",
    "u1, c1 = np.unique(stations, return_counts = True)\n",
    "n1 = np.array([sng_tesla_ea._node[n]['network'] for n in u1])\n",
    "# d1 = np.array([sng_tesla_ea._node[n]['station'].delay_time for n in u1])\n",
    "u1, n1, d1, c1, len(c1)"
   ]
  },
  {
   "cell_type": "code",
   "execution_count": 28,
   "id": "46b345f7-ed73-49ab-8d7d-bb61ab99a8d8",
   "metadata": {},
   "outputs": [
    {
     "data": {
      "text/plain": [
       "(56, 56)"
      ]
     },
     "execution_count": 28,
     "metadata": {},
     "output_type": "execute_result"
    }
   ],
   "source": [
    "sum([u in u0 for u in u1]), sum([u in u1 for u in u0]),"
   ]
  },
  {
   "cell_type": "code",
   "execution_count": 106,
   "id": "9f4c26e2-f625-41ed-b8f0-4d480e38c9d3",
   "metadata": {},
   "outputs": [
    {
     "name": "stdout",
     "output_type": "stream",
     "text": [
      "{'Bakersfield': 1.6082676698301694,\n",
      " 'Chico': 4.23047250666002,\n",
      " 'Crescent City': 12.605738955488931,\n",
      " 'Fresno': 0.0,\n",
      " 'I-10 to Phoenix (State Line)': 10.647205294705318,\n",
      " 'I-15 to Las Vegas (State Line)': 5.727073083166839,\n",
      " 'I-80 to Reno (State Line)': 4.5377698863636535,\n",
      " 'Los Angeles': 3.263417207792208,\n",
      " 'Redding': 5.11872446997449,\n",
      " 'Sacramento': 2.6713354700854763,\n",
      " 'San Diego': 5.252874417249402,\n",
      " 'San Francisco': 2.9443037864912918,\n",
      " 'San Jose': 2.513857364857367,\n",
      " 'Stockton': 1.9591595904095913,\n",
      " 'Yreka': 10.610469062187807}\n"
     ]
    }
   ],
   "source": [
    "pprint({k: v['time'].mean() / 3600 for k, v in values['Fresno'].items() if 'station' not in k})"
   ]
  },
  {
   "cell_type": "code",
   "execution_count": 107,
   "id": "43e9af3a-2d0e-4e2a-848f-bf025a69488b",
   "metadata": {},
   "outputs": [
    {
     "name": "stdout",
     "output_type": "stream",
     "text": [
      "{'Bakersfield': ['Fresno', 'Bakersfield'],\n",
      " 'Chico': ['Fresno', 'Chico'],\n",
      " 'Crescent City': ['Fresno', 'Crescent City'],\n",
      " 'Fresno': ['Fresno'],\n",
      " 'I-10 to Phoenix (State Line)': ['Fresno', 'I-10 to Phoenix (State Line)'],\n",
      " 'I-15 to Las Vegas (State Line)': ['Fresno', 'I-15 to Las Vegas (State Line)'],\n",
      " 'I-80 to Reno (State Line)': ['Fresno', 'I-80 to Reno (State Line)'],\n",
      " 'Los Angeles': ['Fresno', 'Los Angeles'],\n",
      " 'Redding': ['Fresno', 'Redding'],\n",
      " 'Sacramento': ['Fresno', 'Sacramento'],\n",
      " 'San Diego': ['Fresno', 'San Diego'],\n",
      " 'San Francisco': ['Fresno', 'San Francisco'],\n",
      " 'San Jose': ['Fresno', 'San Jose'],\n",
      " 'Stockton': ['Fresno', 'Stockton'],\n",
      " 'Yreka': ['Fresno', 'Yreka']}\n"
     ]
    }
   ],
   "source": [
    "pprint({k: v for k, v in paths['Fresno'].items() if 'station' not in k})"
   ]
  },
  {
   "cell_type": "code",
   "execution_count": null,
   "id": "a8aaf1f0-8784-4a66-983f-eb56fe4ed546",
   "metadata": {},
   "outputs": [],
   "source": []
  },
  {
   "cell_type": "code",
   "execution_count": null,
   "id": "f7e15e55-337c-4df1-b94e-c0d3f892c6a5",
   "metadata": {},
   "outputs": [],
   "source": []
  },
  {
   "cell_type": "code",
   "execution_count": 7,
   "id": "ce6ae226-1171-4b41-bd40-3e7decde7f0b",
   "metadata": {},
   "outputs": [],
   "source": [
    "graph_index, vehicle_kw, station_kw, costs, values, paths = pkl.load(\n",
    "    open('Outputs/Random_Experiment/case_654.pkl', 'rb'),\n",
    ")"
   ]
  },
  {
   "cell_type": "code",
   "execution_count": 8,
   "id": "112c9c10-2a20-4493-8f3c-0fe36bb3b591",
   "metadata": {},
   "outputs": [
    {
     "data": {
      "text/plain": [
       "5.766728458596094"
      ]
     },
     "execution_count": 8,
     "metadata": {},
     "output_type": "execute_result"
    }
   ],
   "source": [
    "src.routing.road_trip_accessibility(values) / 3600"
   ]
  },
  {
   "cell_type": "code",
   "execution_count": 9,
   "id": "401405d6-7905-495f-aac7-38891d34f278",
   "metadata": {},
   "outputs": [
    {
     "data": {
      "text/plain": [
       "(1,\n",
       " {'capacity': 388048156.9757598,\n",
       "  'charge_rate': 74122.73534740988,\n",
       "  'risk_attitude': array([0.57458613, 0.81189887]),\n",
       "  'cases': 1,\n",
       "  'charge_target_soc': 0.8,\n",
       "  'soc_bounds': (0.1, 1),\n",
       "  'efficiency': 550},\n",
       " {'reliability': 0.7267084207813376, 'base_delay': 60, 'cases': 100})"
      ]
     },
     "execution_count": 9,
     "metadata": {},
     "output_type": "execute_result"
    }
   ],
   "source": [
    "graph_index, vehicle_kw, station_kw"
   ]
  },
  {
   "cell_type": "code",
   "execution_count": null,
   "id": "d53b8459-8b22-420c-a56e-29df9515c578",
   "metadata": {},
   "outputs": [],
   "source": []
  }
 ],
 "metadata": {
  "kernelspec": {
   "display_name": "Python 3 (ipykernel)",
   "language": "python",
   "name": "python3"
  },
  "language_info": {
   "codemirror_mode": {
    "name": "ipython",
    "version": 3
   },
   "file_extension": ".py",
   "mimetype": "text/x-python",
   "name": "python",
   "nbconvert_exporter": "python",
   "pygments_lexer": "ipython3",
   "version": "3.11.5"
  }
 },
 "nbformat": 4,
 "nbformat_minor": 5
}
