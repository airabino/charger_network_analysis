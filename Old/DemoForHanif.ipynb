{
 "cells": [
  {
   "cell_type": "code",
   "execution_count": 2,
   "id": "d78b504e-b0be-4623-8372-89f18a19dfbb",
   "metadata": {},
   "outputs": [],
   "source": [
    "import numpy as np\n",
    "import matplotlib.pyplot as plt\n",
    "import networkx as nx"
   ]
  },
  {
   "cell_type": "code",
   "execution_count": 4,
   "id": "c01b8f66-2ad3-45dd-bcd9-4712e2a21d07",
   "metadata": {},
   "outputs": [],
   "source": [
    "n = 100\n",
    "\n",
    "longitude = np.random.rand(n) * 100\n",
    "latitude = np.random.rand(n) * 100\n",
    "\n",
    "heat_rate = np.random.rand(n) * 3000 + 8500\n",
    "emmission_rate = np.random.rand(n)\n",
    "cost_rate = np.concatenate((np.random.rand(int(n / 4)) * 1.5 + 6, np.random.rand(int(n *3 / 4)) * 1.5 + 6))"
   ]
  },
  {
   "cell_type": "code",
   "execution_count": 7,
   "id": "7896acb8-3063-4fd9-b22f-e44bb5b61c52",
   "metadata": {},
   "outputs": [],
   "source": [
    "nodes = []\n",
    "\n",
    "for idx in range(n):\n",
    "\n",
    "    nodes.append({\n",
    "        'id': f'plant_{idx}',\n",
    "        'longitude': longitude[idx],\n",
    "        'latitude': latitude[idx],\n",
    "        'heat_rate': heat_rate[idx],\n",
    "        'emmission_rate': emmission_rate[idx],\n",
    "        'cost_rate': cost_rate[idx],\n",
    "    })"
   ]
  },
  {
   "cell_type": "code",
   "execution_count": 36,
   "id": "cae7cd36-d2ae-440d-9400-e94f94366eb8",
   "metadata": {},
   "outputs": [],
   "source": [
    "links = []\n",
    "\n",
    "weighted_distance_function = lambda link: (\n",
    "    .5 * link['pythagorean_distance'] +\n",
    "    12 * link['heat_rate_distance'] + \n",
    "    1e-6 * link['emmission_rate_distance'] + \n",
    "    1.2 * link['cost_rate_distance']\n",
    ")\n",
    "\n",
    "for idx_source in range(n):\n",
    "\n",
    "    for idx_target in range(n):\n",
    "\n",
    "        if idx_source == idx_target:\n",
    "\n",
    "            continue\n",
    "\n",
    "        source = f'plant_{idx_source}'\n",
    "\n",
    "        target = f'plant_{idx_target}'\n",
    "\n",
    "        links.append({\n",
    "            'source': source,\n",
    "            'target': target,\n",
    "            'pythagorean_distance': np.sqrt((nodes[idx_target]['longitude'] - nodes[idx_source]['longitude']) ** 2 + (nodes[idx_target]['latitude'] - nodes[idx_source]['latitude']) ** 2),\n",
    "            'heat_rate_distance': np.abs(nodes[idx_target]['heat_rate'] - nodes[idx_source]['heat_rate']),\n",
    "            'emmission_rate_distance': np.abs(nodes[idx_target]['emmission_rate'] - nodes[idx_source]['emmission_rate']),\n",
    "            'cost_rate_distance': np.abs(nodes[idx_target]['cost_rate'] - nodes[idx_source]['cost_rate']),\n",
    "        })\n",
    "\n",
    "        links[-1]['weighted_distance'] = weighted_distance_function(links[-1])"
   ]
  },
  {
   "cell_type": "code",
   "execution_count": 37,
   "id": "1141a467-1380-4db7-8036-55ec12b9a9c1",
   "metadata": {},
   "outputs": [
    {
     "data": {
      "text/plain": [
       "{'source': 'plant_0',\n",
       " 'target': 'plant_1',\n",
       " 'pythagorean_distance': 20.39928816591518,\n",
       " 'heat_rate_distance': 2270.314654650747,\n",
       " 'emmission_rate_distance': 0.05407418213578008,\n",
       " 'cost_rate_distance': 0.11431625294836056,\n",
       " 'weighted_distance': 27254.112679449532}"
      ]
     },
     "execution_count": 37,
     "metadata": {},
     "output_type": "execute_result"
    }
   ],
   "source": [
    "links[0]"
   ]
  },
  {
   "cell_type": "code",
   "execution_count": 38,
   "id": "c024e84c-b5fa-4e6f-a703-dfee13df6355",
   "metadata": {},
   "outputs": [],
   "source": [
    "limits = {\n",
    "    'pythagorean_distance': 20,\n",
    "    'heat_rate_distance': 500,\n",
    "    'emmission_rate_distance': .5,\n",
    "    'cost_rate_distance': 1.75,\n",
    "}"
   ]
  },
  {
   "cell_type": "code",
   "execution_count": 39,
   "id": "11c6ffc4-5582-407f-b288-fc456e8e01be",
   "metadata": {},
   "outputs": [
    {
     "data": {
      "text/plain": [
       "9900"
      ]
     },
     "execution_count": 39,
     "metadata": {},
     "output_type": "execute_result"
    }
   ],
   "source": [
    "len(links)"
   ]
  },
  {
   "cell_type": "code",
   "execution_count": 40,
   "id": "40198248-a31a-4f49-b6a7-8d097a736c83",
   "metadata": {},
   "outputs": [],
   "source": [
    "links_filtered = []\n",
    "\n",
    "for link in links:\n",
    "\n",
    "    keep = True\n",
    "\n",
    "    for field, value in limits.items():\n",
    "\n",
    "        keep *= link[field] <= value\n",
    "\n",
    "    if keep:\n",
    "\n",
    "        links_filtered.append(link)"
   ]
  },
  {
   "cell_type": "code",
   "execution_count": 41,
   "id": "0d4cf3c7-ccb9-4760-a2a3-b8ab948fae36",
   "metadata": {},
   "outputs": [
    {
     "data": {
      "text/plain": [
       "238"
      ]
     },
     "execution_count": 41,
     "metadata": {},
     "output_type": "execute_result"
    }
   ],
   "source": [
    "len(links_filtered)"
   ]
  },
  {
   "cell_type": "code",
   "execution_count": 42,
   "id": "63f11cf6-b26d-4699-8c58-eb8a0be249ce",
   "metadata": {},
   "outputs": [],
   "source": [
    "graph = nx.node_link_graph({'nodes': nodes, 'links': links_filtered})"
   ]
  },
  {
   "cell_type": "code",
   "execution_count": 43,
   "id": "d8a77131-5f20-48a3-bb48-88da87716506",
   "metadata": {},
   "outputs": [
    {
     "data": {
      "text/plain": [
       "(100, 238)"
      ]
     },
     "execution_count": 43,
     "metadata": {},
     "output_type": "execute_result"
    }
   ],
   "source": [
    "graph.number_of_nodes(), graph.number_of_edges()"
   ]
  },
  {
   "cell_type": "code",
   "execution_count": 44,
   "id": "c6fab652-06f7-433e-9244-91f4b988a0fa",
   "metadata": {},
   "outputs": [
    {
     "data": {
      "text/plain": [
       "[frozenset({'plant_0',\n",
       "            'plant_10',\n",
       "            'plant_11',\n",
       "            'plant_12',\n",
       "            'plant_13',\n",
       "            'plant_15',\n",
       "            'plant_20',\n",
       "            'plant_23',\n",
       "            'plant_25',\n",
       "            'plant_26',\n",
       "            'plant_27',\n",
       "            'plant_3',\n",
       "            'plant_31',\n",
       "            'plant_33',\n",
       "            'plant_34',\n",
       "            'plant_35',\n",
       "            'plant_37',\n",
       "            'plant_38',\n",
       "            'plant_41',\n",
       "            'plant_43',\n",
       "            'plant_45',\n",
       "            'plant_47',\n",
       "            'plant_49',\n",
       "            'plant_50',\n",
       "            'plant_51',\n",
       "            'plant_52',\n",
       "            'plant_53',\n",
       "            'plant_55',\n",
       "            'plant_58',\n",
       "            'plant_59',\n",
       "            'plant_63',\n",
       "            'plant_65',\n",
       "            'plant_66',\n",
       "            'plant_67',\n",
       "            'plant_68',\n",
       "            'plant_69',\n",
       "            'plant_70',\n",
       "            'plant_71',\n",
       "            'plant_73',\n",
       "            'plant_75',\n",
       "            'plant_78',\n",
       "            'plant_79',\n",
       "            'plant_8',\n",
       "            'plant_83',\n",
       "            'plant_84',\n",
       "            'plant_87',\n",
       "            'plant_88',\n",
       "            'plant_89',\n",
       "            'plant_9',\n",
       "            'plant_92',\n",
       "            'plant_94',\n",
       "            'plant_95',\n",
       "            'plant_96',\n",
       "            'plant_98',\n",
       "            'plant_99'}),\n",
       " frozenset({'plant_1',\n",
       "            'plant_28',\n",
       "            'plant_40',\n",
       "            'plant_56',\n",
       "            'plant_76',\n",
       "            'plant_80',\n",
       "            'plant_91'}),\n",
       " frozenset({'plant_14',\n",
       "            'plant_16',\n",
       "            'plant_17',\n",
       "            'plant_2',\n",
       "            'plant_21',\n",
       "            'plant_22',\n",
       "            'plant_24',\n",
       "            'plant_29',\n",
       "            'plant_5',\n",
       "            'plant_54',\n",
       "            'plant_60',\n",
       "            'plant_64',\n",
       "            'plant_7',\n",
       "            'plant_72',\n",
       "            'plant_77',\n",
       "            'plant_90'}),\n",
       " frozenset({'plant_19', 'plant_32'}),\n",
       " frozenset({'plant_48', 'plant_61'}),\n",
       " frozenset({'plant_30', 'plant_4', 'plant_6'}),\n",
       " frozenset({'plant_44', 'plant_82'})]"
      ]
     },
     "execution_count": 44,
     "metadata": {},
     "output_type": "execute_result"
    }
   ],
   "source": [
    "list(nx.community.k_clique_communities(graph, 2))"
   ]
  },
  {
   "cell_type": "code",
   "execution_count": 48,
   "id": "cc83766e-bf7e-4a2c-8011-c5c1612bc56e",
   "metadata": {},
   "outputs": [
    {
     "data": {
      "text/plain": [
       "[frozenset({'plant_11',\n",
       "            'plant_26',\n",
       "            'plant_27',\n",
       "            'plant_3',\n",
       "            'plant_38',\n",
       "            'plant_41',\n",
       "            'plant_47',\n",
       "            'plant_52',\n",
       "            'plant_63',\n",
       "            'plant_71',\n",
       "            'plant_79',\n",
       "            'plant_83',\n",
       "            'plant_87',\n",
       "            'plant_89',\n",
       "            'plant_9',\n",
       "            'plant_92',\n",
       "            'plant_95'}),\n",
       " frozenset({'plant_14',\n",
       "            'plant_16',\n",
       "            'plant_17',\n",
       "            'plant_2',\n",
       "            'plant_21',\n",
       "            'plant_22',\n",
       "            'plant_24',\n",
       "            'plant_29',\n",
       "            'plant_5',\n",
       "            'plant_54',\n",
       "            'plant_60',\n",
       "            'plant_64',\n",
       "            'plant_7',\n",
       "            'plant_72',\n",
       "            'plant_77',\n",
       "            'plant_90'}),\n",
       " frozenset({'plant_10',\n",
       "            'plant_15',\n",
       "            'plant_23',\n",
       "            'plant_25',\n",
       "            'plant_43',\n",
       "            'plant_45',\n",
       "            'plant_55',\n",
       "            'plant_58',\n",
       "            'plant_65',\n",
       "            'plant_68',\n",
       "            'plant_70',\n",
       "            'plant_75',\n",
       "            'plant_78',\n",
       "            'plant_88',\n",
       "            'plant_94',\n",
       "            'plant_96'}),\n",
       " frozenset({'plant_13',\n",
       "            'plant_31',\n",
       "            'plant_33',\n",
       "            'plant_49',\n",
       "            'plant_51',\n",
       "            'plant_53',\n",
       "            'plant_66',\n",
       "            'plant_67',\n",
       "            'plant_69',\n",
       "            'plant_73',\n",
       "            'plant_84'}),\n",
       " frozenset({'plant_0',\n",
       "            'plant_12',\n",
       "            'plant_34',\n",
       "            'plant_35',\n",
       "            'plant_37',\n",
       "            'plant_50',\n",
       "            'plant_59',\n",
       "            'plant_98',\n",
       "            'plant_99'}),\n",
       " frozenset({'plant_1',\n",
       "            'plant_28',\n",
       "            'plant_40',\n",
       "            'plant_56',\n",
       "            'plant_76',\n",
       "            'plant_80',\n",
       "            'plant_91'}),\n",
       " frozenset({'plant_30', 'plant_4', 'plant_6'}),\n",
       " frozenset({'plant_20', 'plant_8'}),\n",
       " frozenset({'plant_19', 'plant_32'}),\n",
       " frozenset({'plant_48', 'plant_61'}),\n",
       " frozenset({'plant_44', 'plant_82'}),\n",
       " frozenset({'plant_18'}),\n",
       " frozenset({'plant_36'}),\n",
       " frozenset({'plant_39'}),\n",
       " frozenset({'plant_42'}),\n",
       " frozenset({'plant_46'}),\n",
       " frozenset({'plant_57'}),\n",
       " frozenset({'plant_62'}),\n",
       " frozenset({'plant_74'}),\n",
       " frozenset({'plant_81'}),\n",
       " frozenset({'plant_85'}),\n",
       " frozenset({'plant_86'}),\n",
       " frozenset({'plant_93'}),\n",
       " frozenset({'plant_97'})]"
      ]
     },
     "execution_count": 48,
     "metadata": {},
     "output_type": "execute_result"
    }
   ],
   "source": [
    "list(nx.community.greedy_modularity_communities(\n",
    "    graph, weight = 'weighted_distance', resolution = .7,\n",
    "))"
   ]
  },
  {
   "cell_type": "code",
   "execution_count": null,
   "id": "500b329d-cc2c-49d0-94c2-b755ecf72395",
   "metadata": {},
   "outputs": [],
   "source": []
  }
 ],
 "metadata": {
  "kernelspec": {
   "display_name": "Python 3 (ipykernel)",
   "language": "python",
   "name": "python3"
  },
  "language_info": {
   "codemirror_mode": {
    "name": "ipython",
    "version": 3
   },
   "file_extension": ".py",
   "mimetype": "text/x-python",
   "name": "python",
   "nbconvert_exporter": "python",
   "pygments_lexer": "ipython3",
   "version": "3.11.5"
  }
 },
 "nbformat": 4,
 "nbformat_minor": 5
}
