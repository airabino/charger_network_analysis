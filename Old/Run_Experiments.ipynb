{
 "cells": [
  {
   "cell_type": "code",
   "execution_count": 50,
   "id": "06c6fa50-24fb-4530-85b6-aa1cb450c5cf",
   "metadata": {
    "tags": []
   },
   "outputs": [],
   "source": [
    "import warnings\n",
    "warnings.filterwarnings(\"ignore\")\n",
    "\n",
    "import os\n",
    "import sys\n",
    "import time\n",
    "import json\n",
    "import numpy as np\n",
    "import pandas as pd\n",
    "import geopandas as gpd\n",
    "import pickle as pkl\n",
    "import networkx as nx\n",
    "import matplotlib.pyplot as plt\n",
    "\n",
    "from pprint import pprint\n",
    "\n",
    "import src\n",
    "from src.reload import deep_reload"
   ]
  },
  {
   "cell_type": "code",
   "execution_count": 2,
   "id": "254e495f-b8b2-4751-8fa5-d763271cbdab",
   "metadata": {},
   "outputs": [],
   "source": [
    "'''\n",
    "Loading the graph with adjacency\n",
    "\n",
    "graph contains 15 cities in cities.json and all CA DC charging stations from AFDC\n",
    "'''\n",
    "\n",
    "graph = src.graph.graph_from_json('Outputs/graph_full.json')"
   ]
  },
  {
   "cell_type": "code",
   "execution_count": 3,
   "id": "562f3dd3-e456-41a1-ae27-d9f2e2004e34",
   "metadata": {},
   "outputs": [],
   "source": [
    "deep_reload(src)\n",
    "\n",
    "graph = src.routing.edge_types(graph)"
   ]
  },
  {
   "cell_type": "code",
   "execution_count": 5,
   "id": "5855508f-acb0-462d-842a-323deaa0b5f1",
   "metadata": {},
   "outputs": [],
   "source": [
    "cities = [k for k, v in graph._node.items() if v['type'] == 'city']\n",
    "\n",
    "tesla_stations = [k for k, v in graph._node.items() if v.get('network', '') == 'Tesla']\n",
    "non_proprietary_stations = (\n",
    "    [k for k, v in graph._node.items() if v.get('network', '') \\\n",
    "     not in ['Tesla', 'RIVIAN_ADVENTURE']]\n",
    ")\n",
    "\n",
    "tesla_sng = src.graph.subgraph(graph, tesla_stations + cities)\n",
    "non_proprietary_sng = src.graph.subgraph(graph, non_proprietary_stations + cities)"
   ]
  },
  {
   "cell_type": "code",
   "execution_count": 9,
   "id": "9630a52d-4704-447e-a5aa-1dee940a6ac8",
   "metadata": {},
   "outputs": [
    {
     "name": "stdout",
     "output_type": "stream",
     "text": [
      "\u001b[1m\u001b[38;5;34m\u001b[48;5;0m [------------>] (15/15) 100.00%, 15.37 it/s, 1.04 s elapsed, 0.00 s remainingExecuted in 1.0422 seconds\n"
     ]
    },
    {
     "data": {
      "text/plain": [
       "104"
      ]
     },
     "execution_count": 9,
     "metadata": {},
     "output_type": "execute_result"
    }
   ],
   "source": [
    "deep_reload(src)\n",
    "\n",
    "objective = src.routing.Scout(field = 'time', edge_limit = 3800)\n",
    "\n",
    "t0 = time.time()\n",
    "\n",
    "costs, values, paths = src.routing.all_pairs_shortest_paths(\n",
    "    tesla_sng, cities, objective = objective, return_paths = True\n",
    ")\n",
    "\n",
    "print(f'Executed in {time.time() - t0:.4f} seconds')\n",
    "\n",
    "tesla_utilized_stations = list(np.unique(\n",
    "    np.concatenate(\n",
    "        [n[1: -1] for paths_source in paths.values() for n in paths_source.values()]\n",
    "    )\n",
    "))\n",
    "\n",
    "len(tesla_utilized_stations)"
   ]
  },
  {
   "cell_type": "code",
   "execution_count": 10,
   "id": "5408d455-3153-4b16-a0e2-7d176e80b51d",
   "metadata": {},
   "outputs": [
    {
     "name": "stdout",
     "output_type": "stream",
     "text": [
      "\u001b[1m\u001b[38;5;34m\u001b[48;5;0m [------------->] (15/15) 100.00%, 2.28 it/s, 7.02 s elapsed, 0.00 s remainingExecuted in 7.0207 seconds\n"
     ]
    },
    {
     "data": {
      "text/plain": [
       "217"
      ]
     },
     "execution_count": 10,
     "metadata": {},
     "output_type": "execute_result"
    }
   ],
   "source": [
    "deep_reload(src)\n",
    "\n",
    "objective = src.routing.Scout(field = 'time', edge_limit = 3800)\n",
    "\n",
    "t0 = time.time()\n",
    "\n",
    "costs, values, paths = src.routing.all_pairs_shortest_paths(\n",
    "    non_proprietary_sng, cities, objective = objective, return_paths = True\n",
    ")\n",
    "\n",
    "print(f'Executed in {time.time() - t0:.4f} seconds')\n",
    "\n",
    "non_proprietary_utilized_stations = list(np.unique(\n",
    "    np.concatenate(\n",
    "        [n[1: -1] for paths_source in paths.values() for n in paths_source.values()]\n",
    "    )\n",
    "))\n",
    "\n",
    "len(non_proprietary_utilized_stations)"
   ]
  },
  {
   "cell_type": "code",
   "execution_count": 11,
   "id": "a29fd154-abfe-4704-9d05-f52204fdca5b",
   "metadata": {},
   "outputs": [],
   "source": [
    "combined_utilized_stations = tesla_utilized_stations + non_proprietary_utilized_stations"
   ]
  },
  {
   "cell_type": "code",
   "execution_count": 74,
   "id": "54f4ba80-4667-4ca3-a772-63e1d14745e2",
   "metadata": {},
   "outputs": [],
   "source": [
    "non_proprietary_sng_us = src.graph.subgraph(\n",
    "    graph, non_proprietary_utilized_stations + cities\n",
    ")\n",
    "\n",
    "tesla_sng_us = src.graph.subgraph(\n",
    "    graph, tesla_utilized_stations + cities\n",
    ")\n",
    "\n",
    "combined_sng_us = src.graph.subgraph(\n",
    "    graph, combined_utilized_stations + cities\n",
    ")"
   ]
  },
  {
   "cell_type": "code",
   "execution_count": 76,
   "id": "c604870c-53f0-427e-94ff-98e281cbf4f7",
   "metadata": {},
   "outputs": [],
   "source": [
    "src.graph.graph_to_json(non_proprietary_sng_us, 'Outputs/SNG/non_proprietary_sng_us.json')\n",
    "src.graph.graph_to_json(tesla_sng_us, 'Outputs/SNG/tesla_sng_us.json')\n",
    "src.graph.graph_to_json(combined_sng_us, 'Outputs/SNG/combined_sng_us.json')"
   ]
  },
  {
   "cell_type": "code",
   "execution_count": 52,
   "id": "f8e49bae-c79a-44be-91ce-fcd0e8a70890",
   "metadata": {},
   "outputs": [
    {
     "name": "stdout",
     "output_type": "stream",
     "text": [
      "\u001b[1m\u001b[38;5;34m\u001b[48;5;0m [------------>] (15/15) 100.00%, 0.44 it/s, 36.10 s elapsed, 0.00 s remaining"
     ]
    }
   ],
   "source": [
    "deep_reload(src)\n",
    "\n",
    "vehicle_kw = {\n",
    "    'capacity': 80 * 3.6e6,\n",
    "    'max_charge_start_soc': .5,\n",
    "    'efficiency': 550,\n",
    "    'charge_rate': 80e3,\n",
    "    'cases': 100,\n",
    "}\n",
    "\n",
    "station_kw = {\n",
    "    'cases': 100,\n",
    "}\n",
    "\n",
    "costs, values, paths = src.experiments.run_case(\n",
    "    tesla_sng_us, vehicle_kw, station_kw, method = 'bellman'\n",
    ")"
   ]
  },
  {
   "cell_type": "code",
   "execution_count": 119,
   "id": "e4d1ab8a-f83a-491b-8f97-dfecfebe3337",
   "metadata": {},
   "outputs": [],
   "source": [
    "risk_attitudes = [(0, .5), (0, 1), (.5, 1)]\n",
    "capacities = [49.16 * 3.6e6, 73.75 * 3.6e6, 98.33 * 3.6e6]\n",
    "charge_rates = [c / 3.6e3 / .75 for c in capacities]\n",
    "reliabilities = [.75, .85, .95]\n",
    "sngs = [tesla_sng_us, non_proprietary_sng_us, combined_sng_us]\n",
    "\n",
    "levels = src.utilities.full_factorial([3, 3, 3, 3])\n",
    "\n",
    "# capacities, [c / 1e3 for c in charge_rates]\n",
    "\n",
    "vehicle_kw = []\n",
    "station_kw = []\n",
    "\n",
    "for case in levels:\n",
    "\n",
    "    vehicle_kw.append({\n",
    "        'capacity': capacities[case[1]],\n",
    "        'risk_attitude': risk_attitudes[case[0]],\n",
    "        # 'max_charge_start_soc': .5,\n",
    "        'efficiency': 550,\n",
    "        'charge_rate': charge_rates[case[1]],\n",
    "        'charge_target_soc': .8,\n",
    "        'cases': 100,\n",
    "    })\n",
    "    \n",
    "    station_kw.append({\n",
    "        'cases': 100,\n",
    "        'charge_rate': charge_rates[case[1]],\n",
    "        'reliability': reliabilities[case[2]],\n",
    "        'base_delay': 60,\n",
    "    })"
   ]
  },
  {
   "cell_type": "code",
   "execution_count": 142,
   "id": "78b1b35d-f1a6-4d95-84fc-0c2f7889b777",
   "metadata": {},
   "outputs": [
    {
     "name": "stdout",
     "output_type": "stream",
     "text": [
      "122\r"
     ]
    }
   ],
   "source": [
    "deep_reload(src)\n",
    "\n",
    "idx = 3\n",
    "\n",
    "costs, values, paths = src.experiments.run_case(\n",
    "    sngs[levels[idx][3]], vehicle_kw[idx], station_kw[idx], method = 'bellman'\n",
    ")"
   ]
  },
  {
   "cell_type": "code",
   "execution_count": 143,
   "id": "0101d9b9-85e2-46d9-859f-bded8b4f549d",
   "metadata": {},
   "outputs": [
    {
     "data": {
      "text/plain": [
       "{'Bakersfield': ['Redding', 'station_1463', 'Bakersfield'],\n",
       " 'Chico': ['Redding', 'station_1463', 'Chico'],\n",
       " 'Fresno': ['Redding', 'station_1463', 'Fresno'],\n",
       " 'Los Angeles': ['Redding', 'station_1463', 'Los Angeles'],\n",
       " 'Redding': ['Redding'],\n",
       " 'Sacramento': ['Redding', 'station_1463', 'Sacramento'],\n",
       " 'San Diego': ['Redding', 'station_1463', 'San Diego'],\n",
       " 'San Francisco': ['Redding', 'station_1463', 'San Francisco'],\n",
       " 'San Jose': ['Redding', 'station_1463', 'San Jose'],\n",
       " 'Stockton': ['Redding', 'station_1463', 'Stockton'],\n",
       " 'Yreka': ['Redding', 'station_1463', 'Yreka'],\n",
       " 'Crescent City': ['Redding', 'station_1463', 'Crescent City'],\n",
       " 'I-80 to Reno (State Line)': ['Redding',\n",
       "  'station_1463',\n",
       "  'I-80 to Reno (State Line)'],\n",
       " 'I-15 to Las Vegas (State Line)': ['Redding',\n",
       "  'station_1463',\n",
       "  'I-15 to Las Vegas (State Line)'],\n",
       " 'I-10 to Phoenix (State Line)': ['Redding',\n",
       "  'station_1463',\n",
       "  'I-10 to Phoenix (State Line)']}"
      ]
     },
     "execution_count": 143,
     "metadata": {},
     "output_type": "execute_result"
    }
   ],
   "source": [
    "paths['Redding']"
   ]
  },
  {
   "cell_type": "code",
   "execution_count": 144,
   "id": "3392f33c-7640-4dae-8f4a-186caedaf9ed",
   "metadata": {},
   "outputs": [
    {
     "data": {
      "text/plain": [
       "{'Redding': 0,\n",
       " 'Crescent City': 13435.418543217362,\n",
       " 'Yreka': 5229.815758502074,\n",
       " 'Chico': 4122.888273487091,\n",
       " 'I-80 to Reno (State Line)': 13723.149062697883,\n",
       " 'Sacramento': 8444.190071688896,\n",
       " 'Stockton': 10983.267494266322,\n",
       " 'San Francisco': 11585.908478282301,\n",
       " 'San Jose': 13272.542219541047,\n",
       " 'Fresno': 17997.670591169397,\n",
       " 'I-15 to Las Vegas (State Line)': 38525.133690569986,\n",
       " 'Bakersfield': 23697.434202558048,\n",
       " 'Los Angeles': 28966.13962213842,\n",
       " 'I-10 to Phoenix (State Line)': 41147.776735025545,\n",
       " 'San Diego': 36128.18557618445,\n",
       " 'station_1425': 13711.570273868849,\n",
       " 'station_784': 27448.83518017943,\n",
       " 'station_1534': 10870.887198957034,\n",
       " 'station_84': 26175.62301291082,\n",
       " 'station_85': 41458.97226240041,\n",
       " 'station_86': 26421.545671512013,\n",
       " 'station_87': 37448.93231097069,\n",
       " 'station_88': 31501.05913541971,\n",
       " 'station_89': 33183.86377597876,\n",
       " 'station_90': 27663.46310469144,\n",
       " 'station_91': 39423.459121782704,\n",
       " 'station_92': 21381.472452419093,\n",
       " 'station_93': 11950.387078677286,\n",
       " 'station_94': 2784.26398273167,\n",
       " 'station_96': 33837.881678602054,\n",
       " 'station_97': 15732.558286113097,\n",
       " 'station_98': 34790.82807331634,\n",
       " 'station_99': 34638.14441661861,\n",
       " 'station_101': 15287.422745930897,\n",
       " 'station_104': 10319.59294223093,\n",
       " 'station_105': 23339.917972170868,\n",
       " 'station_106': 11229.51854824191,\n",
       " 'station_111': 20243.116530874235,\n",
       " 'station_115': 18366.31042125835,\n",
       " 'station_116': 41878.05568073102,\n",
       " 'station_117': 34313.808016283176,\n",
       " 'station_118': 22892.33314709272,\n",
       " 'station_950': 22892.307901525743,\n",
       " 'station_119': 38224.98668730847,\n",
       " 'station_120': 28429.994870310817,\n",
       " 'station_841': 28427.253337120786,\n",
       " 'station_123': 13774.665379845823,\n",
       " 'station_124': 31458.177574048383,\n",
       " 'station_125': 20139.617822558033,\n",
       " 'station_126': 3576.656557008674,\n",
       " 'station_131': 34469.21059572124,\n",
       " 'station_132': 13416.350738571666,\n",
       " 'station_133': 36724.501093356295,\n",
       " 'station_136': 10583.386242128121,\n",
       " 'station_137': 10372.25884053564,\n",
       " 'station_139': 18957.27588832235,\n",
       " 'station_142': 38004.280422129086,\n",
       " 'station_143': 41213.319816108786,\n",
       " 'station_150': 19892.275574084193,\n",
       " 'station_152': 39339.46178824085,\n",
       " 'station_153': 14668.160820565221,\n",
       " 'station_154': 14399.611022317502,\n",
       " 'station_156': 12494.859087711076,\n",
       " 'station_157': 9702.50010079814,\n",
       " 'station_158': 31746.04958813905,\n",
       " 'station_159': 38192.42122353103,\n",
       " 'station_174': 41775.699283604685,\n",
       " 'station_183': 8212.447905055242,\n",
       " 'station_184': 16763.570288737348,\n",
       " 'station_187': 40189.98675486857,\n",
       " 'station_188': 34567.82766335104,\n",
       " 'station_224': 22572.10683672784,\n",
       " 'station_230': 14684.197712871743,\n",
       " 'station_234': 35345.46049955356,\n",
       " 'station_235': 40854.78921579176,\n",
       " 'station_258': 14569.070216686134,\n",
       " 'station_261': 1620.707225846409,\n",
       " 'station_274': 6123.978049207224,\n",
       " 'station_356': 33646.58858940602,\n",
       " 'station_357': 13811.015776193992,\n",
       " 'station_417': 38960.69264552267,\n",
       " 'station_420': 14446.362029675483,\n",
       " 'station_489': 19224.44216785889,\n",
       " 'station_445': 15202.21238232648,\n",
       " 'station_447': 25392.815430123464,\n",
       " 'station_940': 19522.04018420689,\n",
       " 'station_469': 33388.730130409116,\n",
       " 'station_478': 13845.316159556518,\n",
       " 'station_491': 37745.543650528096,\n",
       " 'station_533': 21278.36135259716,\n",
       " 'station_540': 32687.964455806905,\n",
       " 'station_552': 9542.168180142346,\n",
       " 'station_833': 20921.53448259382,\n",
       " 'station_1129': 31518.197926775367,\n",
       " 'station_724': 17336.479156214136,\n",
       " 'station_844': 34076.81822009231,\n",
       " 'station_1613': 33371.85840557739,\n",
       " 'station_1004': 11256.598010109663,\n",
       " 'station_1463': 0.0,\n",
       " 'station_1071': 29431.58470590265,\n",
       " 'station_1672': 18466.94551083707,\n",
       " 'station_1131': 15523.347538339864,\n",
       " 'station_1536': 22425.9912214985,\n",
       " 'station_1558': 37713.98935928013,\n",
       " 'station_1590': 37726.80629099363,\n",
       " 'station_1696': 10499.309609646378,\n",
       " 'station_1749': 23391.052734560828,\n",
       " 'station_1836': 22038.441895769512}"
      ]
     },
     "execution_count": 144,
     "metadata": {},
     "output_type": "execute_result"
    }
   ],
   "source": [
    "costs['Redding']"
   ]
  },
  {
   "cell_type": "code",
   "execution_count": null,
   "id": "807652c8-5afa-415f-8cf2-a07ac16456a4",
   "metadata": {},
   "outputs": [],
   "source": []
  },
  {
   "cell_type": "code",
   "execution_count": null,
   "id": "0e2f4ed1-7a65-493e-9ca7-629f36e3e851",
   "metadata": {},
   "outputs": [],
   "source": []
  },
  {
   "cell_type": "code",
   "execution_count": null,
   "id": "0bcaaa61-a0ea-4629-a416-1bc0f392a091",
   "metadata": {},
   "outputs": [],
   "source": []
  },
  {
   "cell_type": "code",
   "execution_count": null,
   "id": "fae29839-007a-4650-8537-0db6f7712341",
   "metadata": {},
   "outputs": [],
   "source": []
  },
  {
   "cell_type": "code",
   "execution_count": null,
   "id": "7d3c7465-440a-4c46-8a36-e69a13c21b47",
   "metadata": {},
   "outputs": [],
   "source": []
  },
  {
   "cell_type": "code",
   "execution_count": null,
   "id": "6637f5cc-6deb-4baf-92ac-384a35dd2ec4",
   "metadata": {},
   "outputs": [],
   "source": []
  },
  {
   "cell_type": "code",
   "execution_count": 71,
   "id": "56128139-0fec-4fdc-8986-159b5cd3f1fe",
   "metadata": {},
   "outputs": [],
   "source": [
    "pkl.dump([costs, values, paths], open(f'Outputs/Experiment/case_{idx}.pkl', 'wb'))"
   ]
  },
  {
   "cell_type": "code",
   "execution_count": 99,
   "id": "426bbee0-0a01-49e5-a81e-782bb2c21d9f",
   "metadata": {},
   "outputs": [],
   "source": [
    "costs, values, paths = pkl.load(open('Outputs/Experiment/case_47.pkl', 'rb'))"
   ]
  },
  {
   "cell_type": "code",
   "execution_count": 100,
   "id": "3d812993-111c-4b80-b1f4-4bcc821f243d",
   "metadata": {},
   "outputs": [
    {
     "data": {
      "image/png": "[encoded data removed]",
      "text/plain": [
       "<Figure size 800x600 with 2 Axes>"
      ]
     },
     "metadata": {},
     "output_type": "display_data"
    }
   ],
   "source": [
    "deep_reload(src)\n",
    "\n",
    "fig, ax = plt.subplots(figsize = (8, 6))\n",
    "\n",
    "destinations = [k for k, v in graph._node.items() if 'station' not in k]\n",
    "\n",
    "src.figures.plot_route_tree(\n",
    "    ax, graph,\n",
    "    {k: v['time'].mean() / 3600 for k, v in values['Fresno'].items()},\n",
    "    # {},\n",
    "    {k: v for k, v in paths['Fresno'].items() if 'station' not in k},\n",
    "    destinations = destinations,\n",
    "    show_unused_stations = False,\n",
    "    **src.figures.default_route_tree_kwargs,\n",
    ")\n",
    "\n",
    "legend = ax.legend()\n",
    "\n",
    "for h in legend.legendHandles:\n",
    "    h._sizes = [100]\n",
    "\n",
    "    ax.grid(ls = '--')\n",
    "\n",
    "# plt.colorbar(cax = ax)"
   ]
  },
  {
   "cell_type": "code",
   "execution_count": 84,
   "id": "bd145ecb-5887-4d12-b000-73c2ac5b1dc0",
   "metadata": {},
   "outputs": [
    {
     "name": "stdout",
     "output_type": "stream",
     "text": [
      "Total Time:\n",
      "\n",
      "{'Bakersfield': 1.6082676698301694,\n",
      " 'Chico': 4.871409984610372,\n",
      " 'Crescent City': 12.925664083731014,\n",
      " 'Fresno': 0.0,\n",
      " 'I-10 to Phoenix (State Line)': 8.343215641055375,\n",
      " 'I-15 to Las Vegas (State Line)': 7.2357495746473495,\n",
      " 'I-80 to Reno (State Line)': 5.368145004935189,\n",
      " 'Los Angeles': 3.8887643065557222,\n",
      " 'Redding': 6.197152731897118,\n",
      " 'Sacramento': 2.9912605983275604,\n",
      " 'San Diego': 6.201776607627548,\n",
      " 'San Francisco': 2.9443037864912918,\n",
      " 'San Jose': 2.833782493099451,\n",
      " 'Stockton': 2.2790847186516747,\n",
      " 'Yreka': 8.349967010958686}\n",
      "\n",
      "Driving Time:\n",
      "\n",
      "{'Bakersfield': 1.6082676698301694,\n",
      " 'Chico': 4.250115363802866,\n",
      " 'Crescent City': 8.605738955488931,\n",
      " 'Fresno': 0.0,\n",
      " 'I-10 to Phoenix (State Line)': 6.736902264402265,\n",
      " 'I-15 to Las Vegas (State Line)': 5.898763392857147,\n",
      " 'I-80 to Reno (State Line)': 4.59146112567988,\n",
      " 'Los Angeles': 3.263417207792206,\n",
      " 'Redding': 5.235482711732716,\n",
      " 'Sacramento': 2.671335470085477,\n",
      " 'San Diego': 5.342571386946395,\n",
      " 'San Francisco': 2.9443037864912918,\n",
      " 'San Jose': 2.5138573648573663,\n",
      " 'Stockton': 1.9591595904095906,\n",
      " 'Yreka': 6.669486225579975}\n",
      "\n",
      "Paths:\n",
      "\n",
      "{'Bakersfield': ['Fresno', 'Bakersfield'],\n",
      " 'Chico': ['Fresno', 'station_357', 'Chico'],\n",
      " 'Crescent City': ['Fresno', 'station_111', 'Crescent City'],\n",
      " 'Fresno': ['Fresno'],\n",
      " 'I-10 to Phoenix (State Line)': ['Fresno',\n",
      "                                  'station_158',\n",
      "                                  'station_417',\n",
      "                                  'I-10 to Phoenix (State Line)'],\n",
      " 'I-15 to Las Vegas (State Line)': ['Fresno',\n",
      "                                    'station_1129',\n",
      "                                    'station_87',\n",
      "                                    'I-15 to Las Vegas (State Line)'],\n",
      " 'I-80 to Reno (State Line)': ['Fresno',\n",
      "                               'station_1534',\n",
      "                               'I-80 to Reno (State Line)'],\n",
      " 'Los Angeles': ['Fresno', 'station_841', 'Los Angeles'],\n",
      " 'Redding': ['Fresno', 'station_552', 'Redding'],\n",
      " 'Sacramento': ['Fresno', 'station_111', 'Sacramento'],\n",
      " 'San Diego': ['Fresno', 'station_158', 'San Diego'],\n",
      " 'San Francisco': ['Fresno', 'San Francisco'],\n",
      " 'San Jose': ['Fresno', 'station_111', 'San Jose'],\n",
      " 'Stockton': ['Fresno', 'station_111', 'Stockton'],\n",
      " 'Yreka': ['Fresno', 'station_1534', 'station_94', 'Yreka']}\n"
     ]
    }
   ],
   "source": [
    "print('Total Time:\\n')\n",
    "pprint({k: v['time'].mean() / 3600 for k, v in values['Fresno'].items() if 'station' not in k})\n",
    "print('\\nDriving Time:\\n')\n",
    "pprint({k: v['driving_time'].mean() / 3600 for k, v in values['Fresno'].items() if 'station' not in k})\n",
    "print('\\nPaths:\\n')\n",
    "pprint({k: v for k, v in paths['Fresno'].items() if 'station' not in k})"
   ]
  },
  {
   "cell_type": "code",
   "execution_count": 49,
   "id": "0a1a6680-ba6d-4042-bdc1-e6b3d48fa293",
   "metadata": {},
   "outputs": [
    {
     "data": {
      "text/plain": [
       "2.306980056980057"
      ]
     },
     "execution_count": 49,
     "metadata": {},
     "output_type": "execute_result"
    }
   ],
   "source": [
    "cases = 3 * 3 * 3 * 2\n",
    "\n",
    "avg_time = (1 / .27 + 1 / .13 + 15 * 30) / 3\n",
    "\n",
    "cases * avg_time / 3600"
   ]
  },
  {
   "cell_type": "code",
   "execution_count": 39,
   "id": "7498f675-982c-49c3-a7c6-4191b9d39c2f",
   "metadata": {},
   "outputs": [],
   "source": [
    "'''\n",
    "Adding station objects\n",
    "'''\n",
    "deep_reload(src)\n",
    "\n",
    "sng = tesla_sng_us\n",
    "\n",
    "vehicle = src.routing.StochasticVehicle(\n",
    "    capacity = 80 * 3.6e6,\n",
    "    max_charge_start_soc = .5,\n",
    ")\n",
    "\n",
    "for source, node in sng._node.items():\n",
    "\n",
    "    if node['type'] == 'station':\n",
    "\n",
    "        node['station'] = src.routing.StochasticStation(\n",
    "            chargers = node['n_dcfc'], cases = 100,\n",
    "        )"
   ]
  },
  {
   "cell_type": "code",
   "execution_count": 40,
   "id": "fefafd6e-945c-41fd-af9a-2a1e55b75801",
   "metadata": {},
   "outputs": [
    {
     "name": "stdout",
     "output_type": "stream",
     "text": [
      "\u001b[1m\u001b[38;5;34m\u001b[48;5;0m [------------>] (15/15) 100.00%, 0.44 it/s, 36.53 s elapsed, 0.00 s remainingExecuted in 36.5291 seconds\n"
     ]
    }
   ],
   "source": [
    "'''\n",
    "Running with Bellman with BEV stochastic vehicle objective\n",
    "'''\n",
    "deep_reload(src)\n",
    "\n",
    "vehicle = src.routing.StochasticVehicle(\n",
    "    capacity = 80 * 3.6e6,\n",
    "    max_charge_start_soc = .5,\n",
    "    cases = 100\n",
    ")\n",
    "\n",
    "t0 = time.time()\n",
    "\n",
    "costs, values, paths = src.routing.all_pairs_shortest_paths(\n",
    "    sng, cities, objective = vehicle, method = 'bellman', return_paths = True\n",
    ")\n",
    "\n",
    "\n",
    "print(f'Executed in {time.time() - t0:.4f} seconds')"
   ]
  },
  {
   "cell_type": "code",
   "execution_count": 90,
   "id": "1fb9c580-60e8-4cb7-906d-c32f487bd81a",
   "metadata": {},
   "outputs": [
    {
     "data": {
      "text/plain": [
       "(array([[0, 0, 0, 0],\n",
       "        [1, 0, 0, 0],\n",
       "        [2, 0, 0, 0],\n",
       "        [0, 1, 0, 0],\n",
       "        [1, 1, 0, 0],\n",
       "        [2, 1, 0, 0],\n",
       "        [0, 2, 0, 0],\n",
       "        [1, 2, 0, 0],\n",
       "        [2, 2, 0, 0],\n",
       "        [0, 0, 1, 0],\n",
       "        [1, 0, 1, 0],\n",
       "        [2, 0, 1, 0],\n",
       "        [0, 1, 1, 0],\n",
       "        [1, 1, 1, 0],\n",
       "        [2, 1, 1, 0],\n",
       "        [0, 2, 1, 0],\n",
       "        [1, 2, 1, 0],\n",
       "        [2, 2, 1, 0],\n",
       "        [0, 0, 2, 0],\n",
       "        [1, 0, 2, 0],\n",
       "        [2, 0, 2, 0],\n",
       "        [0, 1, 2, 0],\n",
       "        [1, 1, 2, 0],\n",
       "        [2, 1, 2, 0],\n",
       "        [0, 2, 2, 0],\n",
       "        [1, 2, 2, 0],\n",
       "        [2, 2, 2, 0]]),\n",
       " array([[0, 0, 0, 1],\n",
       "        [1, 0, 0, 1],\n",
       "        [2, 0, 0, 1],\n",
       "        [0, 1, 0, 1],\n",
       "        [1, 1, 0, 1],\n",
       "        [2, 1, 0, 1],\n",
       "        [0, 2, 0, 1],\n",
       "        [1, 2, 0, 1],\n",
       "        [2, 2, 0, 1],\n",
       "        [0, 0, 1, 1],\n",
       "        [1, 0, 1, 1],\n",
       "        [2, 0, 1, 1],\n",
       "        [0, 1, 1, 1],\n",
       "        [1, 1, 1, 1],\n",
       "        [2, 1, 1, 1],\n",
       "        [0, 2, 1, 1],\n",
       "        [1, 2, 1, 1],\n",
       "        [2, 2, 1, 1],\n",
       "        [0, 0, 2, 1],\n",
       "        [1, 0, 2, 1],\n",
       "        [2, 0, 2, 1],\n",
       "        [0, 1, 2, 1],\n",
       "        [1, 1, 2, 1],\n",
       "        [2, 1, 2, 1],\n",
       "        [0, 2, 2, 1],\n",
       "        [1, 2, 2, 1],\n",
       "        [2, 2, 2, 1]]),\n",
       " array([[0, 0, 0, 2],\n",
       "        [1, 0, 0, 2],\n",
       "        [2, 0, 0, 2],\n",
       "        [0, 1, 0, 2],\n",
       "        [1, 1, 0, 2],\n",
       "        [2, 1, 0, 2],\n",
       "        [0, 2, 0, 2],\n",
       "        [1, 2, 0, 2],\n",
       "        [2, 2, 0, 2],\n",
       "        [0, 0, 1, 2],\n",
       "        [1, 0, 1, 2],\n",
       "        [2, 0, 1, 2],\n",
       "        [0, 1, 1, 2],\n",
       "        [1, 1, 1, 2],\n",
       "        [2, 1, 1, 2],\n",
       "        [0, 2, 1, 2],\n",
       "        [1, 2, 1, 2],\n",
       "        [2, 2, 1, 2],\n",
       "        [0, 0, 2, 2],\n",
       "        [1, 0, 2, 2],\n",
       "        [2, 0, 2, 2],\n",
       "        [0, 1, 2, 2],\n",
       "        [1, 1, 2, 2],\n",
       "        [2, 1, 2, 2],\n",
       "        [0, 2, 2, 2],\n",
       "        [1, 2, 2, 2],\n",
       "        [2, 2, 2, 2]]),\n",
       " array([2, 2, 2, 2]))"
      ]
     },
     "execution_count": 90,
     "metadata": {},
     "output_type": "execute_result"
    }
   ],
   "source": [
    "levels[:27], levels[27:54], levels[54:81], levels[80]"
   ]
  }
 ],
 "metadata": {
  "kernelspec": {
   "display_name": "Python 3 (ipykernel)",
   "language": "python",
   "name": "python3"
  },
  "language_info": {
   "codemirror_mode": {
    "name": "ipython",
    "version": 3
   },
   "file_extension": ".py",
   "mimetype": "text/x-python",
   "name": "python",
   "nbconvert_exporter": "python",
   "pygments_lexer": "ipython3",
   "version": "3.11.5"
  }
 },
 "nbformat": 4,
 "nbformat_minor": 5
}
