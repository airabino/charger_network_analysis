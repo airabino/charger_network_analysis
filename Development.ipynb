{
 "cells": [
  {
   "cell_type": "code",
   "execution_count": 1,
   "id": "694990f6-aa71-4c18-9be1-e06956abc302",
   "metadata": {
    "tags": []
   },
   "outputs": [],
   "source": [
    "import warnings\n",
    "warnings.filterwarnings(\"ignore\")\n",
    "\n",
    "import os\n",
    "import sys\n",
    "import time\n",
    "import json\n",
    "import numpy as np\n",
    "import pandas as pd\n",
    "import geopandas as gpd\n",
    "import pickle as pkl\n",
    "import networkx as nx\n",
    "import matplotlib.pyplot as plt\n",
    "\n",
    "import src\n",
    "from src.reload import deep_reload"
   ]
  },
  {
   "cell_type": "code",
   "execution_count": 2,
   "id": "dceffb20-e638-43f8-83c6-42931d0de97c",
   "metadata": {},
   "outputs": [],
   "source": [
    "deep_reload(src)\n",
    "\n",
    "n = 1000\n",
    "scale = (1e6, 1e6)\n",
    "reference_distance = 200e3\n",
    "seed = 129687083\n",
    "\n",
    "graph = src.rng.random_graph(\n",
    "    n,\n",
    "    scale = scale,\n",
    "    reference_distance = reference_distance,\n",
    "    seed = seed,\n",
    ")\n",
    "\n",
    "origins = src.rng.random_nodes(graph, 1)\n",
    "destinations = src.rng.random_nodes(graph, 10)\n",
    "stations = src.rng.random_nodes(graph, 15)"
   ]
  },
  {
   "cell_type": "code",
   "execution_count": 3,
   "id": "37e7cff1-691f-469a-8cf9-5ddc1281e561",
   "metadata": {},
   "outputs": [
    {
     "name": "stdout",
     "output_type": "stream",
     "text": [
      "0.13073325157165527\n"
     ]
    }
   ],
   "source": [
    "deep_reload(src)\n",
    "\n",
    "t0 = time.time()\n",
    "\n",
    "path_costs, path_values, paths = src.routing.dijkstra(graph, origins)\n",
    "\n",
    "print(time.time() - t0)"
   ]
  },
  {
   "cell_type": "code",
   "execution_count": 4,
   "id": "52960359-6e31-4980-856e-87963b9acbbc",
   "metadata": {},
   "outputs": [
    {
     "ename": "KeyError",
     "evalue": "'type'",
     "output_type": "error",
     "traceback": [
      "\u001b[0;31m---------------------------------------------------------------------------\u001b[0m",
      "\u001b[0;31mKeyError\u001b[0m                                  Traceback (most recent call last)",
      "Cell \u001b[0;32mIn[4], line 7\u001b[0m\n\u001b[1;32m      3\u001b[0m objective \u001b[38;5;241m=\u001b[39m src\u001b[38;5;241m.\u001b[39mrouting\u001b[38;5;241m.\u001b[39mVehicle()\n\u001b[1;32m      5\u001b[0m t0 \u001b[38;5;241m=\u001b[39m time\u001b[38;5;241m.\u001b[39mtime()\n\u001b[0;32m----> 7\u001b[0m path_costs, path_values, paths \u001b[38;5;241m=\u001b[39m src\u001b[38;5;241m.\u001b[39mrouting\u001b[38;5;241m.\u001b[39mdijkstra(\n\u001b[1;32m      8\u001b[0m     graph, origins, objective \u001b[38;5;241m=\u001b[39m objective)\n\u001b[1;32m     10\u001b[0m \u001b[38;5;28mprint\u001b[39m(time\u001b[38;5;241m.\u001b[39mtime() \u001b[38;5;241m-\u001b[39m t0)\n",
      "File \u001b[0;32m~/Desktop/charger_network_analysis/src/dijkstra.py:123\u001b[0m, in \u001b[0;36mdijkstra\u001b[0;34m(graph, origins, **kwargs)\u001b[0m\n\u001b[1;32m    120\u001b[0m current_values \u001b[38;5;241m=\u001b[39m deepcopy(values)\n\u001b[1;32m    122\u001b[0m \u001b[38;5;66;03m# Updating states for edge traversal\u001b[39;00m\n\u001b[0;32m--> 123\u001b[0m current_values, feasible \u001b[38;5;241m=\u001b[39m objective\u001b[38;5;241m.\u001b[39mupdate(\n\u001b[1;32m    124\u001b[0m     current_values, edge, node,\n\u001b[1;32m    125\u001b[0m     )\n\u001b[1;32m    127\u001b[0m \u001b[38;5;28;01mif\u001b[39;00m feasible:\n\u001b[1;32m    128\u001b[0m \n\u001b[1;32m    129\u001b[0m     \u001b[38;5;66;03m# Updating the weighted cost for the path\u001b[39;00m\n\u001b[1;32m    130\u001b[0m     cost, savings \u001b[38;5;241m=\u001b[39m objective\u001b[38;5;241m.\u001b[39mcompare(\n\u001b[1;32m    131\u001b[0m         current_values, visited\u001b[38;5;241m.\u001b[39mget(target, infinity)\n\u001b[1;32m    132\u001b[0m         )\n",
      "File \u001b[0;32m~/Desktop/charger_network_analysis/src/routing.py:65\u001b[0m, in \u001b[0;36mVehicle.update\u001b[0;34m(self, values, link, node)\u001b[0m\n\u001b[1;32m     63\u001b[0m \u001b[38;5;28;01mdef\u001b[39;00m \u001b[38;5;21mupdate\u001b[39m(\u001b[38;5;28mself\u001b[39m, values, link, node):\n\u001b[0;32m---> 65\u001b[0m     \u001b[38;5;28;01mif\u001b[39;00m (link[\u001b[38;5;124m'\u001b[39m\u001b[38;5;124mtype\u001b[39m\u001b[38;5;124m'\u001b[39m] \u001b[38;5;241m==\u001b[39m \u001b[38;5;124m'\u001b[39m\u001b[38;5;124minter_station\u001b[39m\u001b[38;5;124m'\u001b[39m) \u001b[38;5;129;01mand\u001b[39;00m (link[\u001b[38;5;124m'\u001b[39m\u001b[38;5;124mdistance\u001b[39m\u001b[38;5;124m'\u001b[39m] \u001b[38;5;241m<\u001b[39m \u001b[38;5;241m.75\u001b[39m \u001b[38;5;241m*\u001b[39m \u001b[38;5;28mself\u001b[39m\u001b[38;5;241m.\u001b[39mrange):\n\u001b[1;32m     67\u001b[0m         \u001b[38;5;28;01mreturn\u001b[39;00m \u001b[38;5;28;01mNone\u001b[39;00m, \u001b[38;5;28;01mFalse\u001b[39;00m\n\u001b[1;32m     69\u001b[0m     updated_values \u001b[38;5;241m=\u001b[39m values\u001b[38;5;241m.\u001b[39mcopy()\n",
      "\u001b[0;31mKeyError\u001b[0m: 'type'"
     ]
    }
   ],
   "source": [
    "deep_reload(src)\n",
    "\n",
    "objective = src.routing.Vehicle()\n",
    "\n",
    "t0 = time.time()\n",
    "\n",
    "path_costs, path_values, paths = src.routing.dijkstra(\n",
    "    graph, origins, objective = objective)\n",
    "\n",
    "print(time.time() - t0)"
   ]
  },
  {
   "cell_type": "code",
   "execution_count": null,
   "id": "be39bcb6-37fb-49bf-a8f9-f2c68afdbc75",
   "metadata": {},
   "outputs": [],
   "source": [
    "len(path_costs)"
   ]
  },
  {
   "cell_type": "code",
   "execution_count": null,
   "id": "36e5f3e0-dc54-426b-ab87-c63db85b6124",
   "metadata": {},
   "outputs": [],
   "source": [
    "t0 = time.time()\n",
    "\n",
    "r = nx.single_source_dijkstra(graph, origins[0], weight = 'time')\n",
    "print(time.time() - t0)"
   ]
  },
  {
   "cell_type": "code",
   "execution_count": 5,
   "id": "296c9726-9fdd-4f38-aca9-afa7d0f6348b",
   "metadata": {},
   "outputs": [
    {
     "name": "stdout",
     "output_type": "stream",
     "text": [
      "0.13633179664611816\n"
     ]
    }
   ],
   "source": [
    "t0 = time.time()\n",
    "\n",
    "r = nx.single_source_bellman_ford(graph, origins[0], weight = 'time')\n",
    "print(time.time() - t0)"
   ]
  },
  {
   "cell_type": "code",
   "execution_count": 89,
   "id": "4bb1426c-6c12-4422-a87a-7a44b637b536",
   "metadata": {},
   "outputs": [],
   "source": [
    "graph = src.graph.graph_from_json('Outputs/graph_full.json')"
   ]
  },
  {
   "cell_type": "code",
   "execution_count": 96,
   "id": "cbaf8d0f-771e-47a3-9dfc-b5188dfb9421",
   "metadata": {},
   "outputs": [],
   "source": [
    "for source, adj in graph._adj.items():\n",
    "    for target, edge in adj.items():\n",
    "        \n",
    "        graph._node[source]['time'] = 0\n",
    "        graph._node[source]['distance'] = 0\n",
    "        graph._node[source]['price'] = 0\n",
    "\n",
    "        graph._node[target]['time'] = 0\n",
    "        graph._node[target]['distance'] = 0\n",
    "        graph._node[target]['price'] = 0\n",
    "\n",
    "        edge['price'] = 0\n",
    "\n",
    "        if ('station' in source):\n",
    "\n",
    "            graph._node[source]['type'] = 'station'\n",
    "\n",
    "        else:\n",
    "\n",
    "            graph._node[source]['type'] = 'city'\n",
    "\n",
    "        if ('station' in source) and ('station' in target):\n",
    "            \n",
    "            edge['type'] = 'station_station'\n",
    "\n",
    "        elif ('station' in source) or ('station' in target):\n",
    "\n",
    "            edge['type'] = 'city_station'\n",
    "            \n",
    "        else:\n",
    "            \n",
    "            edge['type'] = 'city_city'"
   ]
  },
  {
   "cell_type": "code",
   "execution_count": 97,
   "id": "e5483f72-141e-4007-9ab1-8ee1edb35110",
   "metadata": {},
   "outputs": [
    {
     "name": "stdout",
     "output_type": "stream",
     "text": [
      "2.544259786605835\n"
     ]
    }
   ],
   "source": [
    "deep_reload(src)\n",
    "\n",
    "objective = src.dijkstra.Objective(field = 'time')\n",
    "\n",
    "t0 = time.time()\n",
    "\n",
    "r = src.dijkstra.dijkstra(graph, ['Fresno'], objective = objective)\n",
    "\n",
    "print(time.time() - t0)"
   ]
  },
  {
   "cell_type": "code",
   "execution_count": 98,
   "id": "362e5271-fc25-4292-a945-792e41fc0204",
   "metadata": {},
   "outputs": [
    {
     "data": {
      "text/plain": [
       "{'Fresno': 0.0,\n",
       " 'Bakersfield': 1.6082676698301681,\n",
       " 'Stockton': 1.9591595904095878,\n",
       " 'San Jose': 2.5138573648573628,\n",
       " 'Sacramento': 2.6713354700854657,\n",
       " 'San Francisco': 2.9443037864912807,\n",
       " 'Los Angeles': 3.263417207792204,\n",
       " 'Chico': 4.230472506660002,\n",
       " 'I-80 to Reno (State Line)': 4.53776988636363,\n",
       " 'Redding': 5.118724469974463,\n",
       " 'San Diego': 5.252874417249402,\n",
       " 'I-15 to Las Vegas (State Line)': 5.727073083166826,\n",
       " 'Yreka': 6.610469062187799,\n",
       " 'I-10 to Phoenix (State Line)': 6.647205294705284,\n",
       " 'Crescent City': 8.605738955488926}"
      ]
     },
     "execution_count": 98,
     "metadata": {},
     "output_type": "execute_result"
    }
   ],
   "source": [
    "{k: v / 3600 for k, v in r[0].items() if 'station' not in k}"
   ]
  },
  {
   "cell_type": "code",
   "execution_count": 99,
   "id": "da3fe7b1-bd3f-491b-b319-b71c629c7b5f",
   "metadata": {},
   "outputs": [
    {
     "name": "stdout",
     "output_type": "stream",
     "text": [
      "13.758971929550171\n"
     ]
    }
   ],
   "source": [
    "deep_reload(src)\n",
    "\n",
    "objective = src.routing.Vehicle(capacity = 80 * 3.6e6)\n",
    "\n",
    "t0 = time.time()\n",
    "\n",
    "r = src.dijkstra.dijkstra(graph, ['Fresno'], objective = objective, return_paths = True)\n",
    "\n",
    "print(time.time() - t0)"
   ]
  },
  {
   "cell_type": "code",
   "execution_count": 100,
   "id": "e804e30f-8370-4500-84b3-8edfc4b53214",
   "metadata": {},
   "outputs": [
    {
     "data": {
      "text/plain": [
       "{'Fresno': 0.0,\n",
       " 'Bakersfield': 1.6082676698301694,\n",
       " 'Stockton': 1.9591595904095913,\n",
       " 'San Jose': 2.513857364857367,\n",
       " 'Sacramento': 2.6713354700854763,\n",
       " 'San Francisco': 2.9443037864912918,\n",
       " 'Los Angeles': 3.263417207792208,\n",
       " 'Chico': 4.23047250666002,\n",
       " 'I-80 to Reno (State Line)': 4.5377698863636535,\n",
       " 'Redding': 5.228450164418934,\n",
       " 'San Diego': 5.380952542249436,\n",
       " 'I-15 to Las Vegas (State Line)': 5.916281416500174,\n",
       " 'Yreka': 7.018837117743368,\n",
       " 'I-10 to Phoenix (State Line)': 7.146036891927523,\n",
       " 'Crescent City': 9.353999372155622}"
      ]
     },
     "execution_count": 100,
     "metadata": {},
     "output_type": "execute_result"
    }
   ],
   "source": [
    "{k: v / 3600 for k, v in r[0].items() if 'station' not in k}"
   ]
  },
  {
   "cell_type": "code",
   "execution_count": null,
   "id": "2659d6b2-d57e-4a00-8bf9-8c1264c63ae6",
   "metadata": {},
   "outputs": [],
   "source": []
  },
  {
   "cell_type": "code",
   "execution_count": null,
   "id": "50126667-4c9b-469a-814b-990fc5ca42a7",
   "metadata": {},
   "outputs": [],
   "source": []
  },
  {
   "cell_type": "code",
   "execution_count": 187,
   "id": "ff18df93-7b09-48ac-8fb2-70f9f615aa5b",
   "metadata": {},
   "outputs": [
    {
     "name": "stdout",
     "output_type": "stream",
     "text": [
      "3.746652364730835\n"
     ]
    }
   ],
   "source": [
    "deep_reload(src)\n",
    "\n",
    "objective = src.routing.Vehicle(capacity = 80 * 3.6e6)\n",
    "\n",
    "t0 = time.time()\n",
    "\n",
    "r = src.bellman.bellman(\n",
    "    graph, ['Fresno'], objective = objective, return_paths = True\n",
    ")\n",
    "\n",
    "print(time.time() - t0)"
   ]
  },
  {
   "cell_type": "code",
   "execution_count": 188,
   "id": "4cef547b-ca14-4806-a8a2-7c11e2224c21",
   "metadata": {
    "scrolled": true
   },
   "outputs": [
    {
     "data": {
      "text/plain": [
       "{'Fresno': 0.0,\n",
       " 'Chico': 4.23047250666002,\n",
       " 'I-80 to Reno (State Line)': 4.5377698863636535,\n",
       " 'Sacramento': 2.6713354700854763,\n",
       " 'Stockton': 1.9591595904095913,\n",
       " 'San Francisco': 2.9443037864912918,\n",
       " 'San Jose': 2.513857364857367,\n",
       " 'Bakersfield': 1.6082676698301694,\n",
       " 'Los Angeles': 3.263417207792208,\n",
       " 'Crescent City': 9.353999372155622,\n",
       " 'Yreka': 7.018837117743368,\n",
       " 'Redding': 5.228450164418934,\n",
       " 'I-15 to Las Vegas (State Line)': 5.916281416500174,\n",
       " 'I-10 to Phoenix (State Line)': 7.146036891927523,\n",
       " 'San Diego': 5.380952542249436}"
      ]
     },
     "execution_count": 188,
     "metadata": {},
     "output_type": "execute_result"
    }
   ],
   "source": [
    "{k: v / 3600 for k, v in r[0].items() if 'station' not in k}"
   ]
  },
  {
   "cell_type": "code",
   "execution_count": 189,
   "id": "c742bbb8-af68-4e5b-a045-2b31e60a19be",
   "metadata": {},
   "outputs": [
    {
     "data": {
      "text/plain": [
       "{'Fresno': 0.0,\n",
       " 'Chico': 4.23047250666002,\n",
       " 'I-80 to Reno (State Line)': 4.5377698863636535,\n",
       " 'Sacramento': 2.6713354700854763,\n",
       " 'Stockton': 1.9591595904095913,\n",
       " 'San Francisco': 2.9443037864912918,\n",
       " 'San Jose': 2.513857364857367,\n",
       " 'Bakersfield': 1.6082676698301694,\n",
       " 'Los Angeles': 3.263417207792208,\n",
       " 'Crescent City': 8.605738955488954,\n",
       " 'Yreka': 6.610469062187812,\n",
       " 'Redding': 5.118724469974489,\n",
       " 'I-15 to Las Vegas (State Line)': 5.7270730831668395,\n",
       " 'I-10 to Phoenix (State Line)': 6.647205294705299,\n",
       " 'San Diego': 5.252874417249437}"
      ]
     },
     "execution_count": 189,
     "metadata": {},
     "output_type": "execute_result"
    }
   ],
   "source": [
    "{k: v['driving_time'] / 3600 for k, v in r[1].items() if 'station' not in k}"
   ]
  },
  {
   "cell_type": "code",
   "execution_count": 190,
   "id": "ca7534d9-e1ba-41bb-8c2c-39e84ec98b0c",
   "metadata": {},
   "outputs": [
    {
     "data": {
      "text/plain": [
       "['Fresno', 'station_132', 'Crescent City']"
      ]
     },
     "execution_count": 190,
     "metadata": {},
     "output_type": "execute_result"
    }
   ],
   "source": [
    "r[2]['Crescent City']"
   ]
  },
  {
   "cell_type": "code",
   "execution_count": 191,
   "id": "d8a41945-4674-4765-8a4b-a0891c547af8",
   "metadata": {},
   "outputs": [
    {
     "data": {
      "text/plain": [
       "({'time': 11061.813124375623,\n",
       "  'driving_time': 8990.125624375623,\n",
       "  'distance': 257700.0,\n",
       "  'price': 19.685416666666665,\n",
       "  'soc': 1.0},\n",
       " 0.492125,\n",
       " 523.6363636363636)"
      ]
     },
     "execution_count": 191,
     "metadata": {},
     "output_type": "execute_result"
    }
   ],
   "source": [
    "r[1]['station_301'], 19.685 / .5 / 80, objective.range / 1e3"
   ]
  },
  {
   "cell_type": "code",
   "execution_count": 192,
   "id": "7f717b7f-53ba-4884-a443-88bd42ded726",
   "metadata": {},
   "outputs": [
    {
     "data": {
      "text/plain": [
       "{'time': 33674.397739760236,\n",
       " 'driving_time': 30980.660239760233,\n",
       " 'distance': 857710.0,\n",
       " 'price': 26.597083333333327,\n",
       " 'soc': 0.026939236111111153}"
      ]
     },
     "execution_count": 192,
     "metadata": {},
     "output_type": "execute_result"
    }
   ],
   "source": [
    "r[1]['Crescent City']"
   ]
  },
  {
   "cell_type": "code",
   "execution_count": 193,
   "id": "cb15fb27-19d6-4a21-bd79-980caaa1ce17",
   "metadata": {},
   "outputs": [
    {
     "name": "stdout",
     "output_type": "stream",
     "text": [
      "4.632653474807739\n"
     ]
    }
   ],
   "source": [
    "deep_reload(src)\n",
    "\n",
    "objective = src.routing.Vehicle(\n",
    "    capacity = 528 * 3.6e6,\n",
    "    efficiency = 550 * 5,\n",
    "    charge_rate = 14.15e6,\n",
    "    charge_time_penalty = 300,\n",
    ")\n",
    "\n",
    "t0 = time.time()\n",
    "\n",
    "r = src.bellman.bellman(\n",
    "    graph, ['Fresno'], objective = objective, return_paths = True\n",
    ")\n",
    "\n",
    "print(time.time() - t0)"
   ]
  },
  {
   "cell_type": "code",
   "execution_count": 194,
   "id": "1d6f07de-82fe-421a-aa60-cd5e2b48d255",
   "metadata": {
    "scrolled": true
   },
   "outputs": [
    {
     "data": {
      "text/plain": [
       "{'Fresno': 0.0,\n",
       " 'Redding': 5.11872446997449,\n",
       " 'Chico': 4.23047250666002,\n",
       " 'I-80 to Reno (State Line)': 4.5377698863636535,\n",
       " 'Sacramento': 2.6713354700854763,\n",
       " 'Stockton': 1.9591595904095913,\n",
       " 'San Francisco': 2.9443037864912918,\n",
       " 'San Jose': 2.513857364857367,\n",
       " 'I-15 to Las Vegas (State Line)': 5.727073083166839,\n",
       " 'Bakersfield': 1.6082676698301694,\n",
       " 'Los Angeles': 3.263417207792208,\n",
       " 'San Diego': 5.252874417249402,\n",
       " 'Yreka': 6.628059943528701,\n",
       " 'Crescent City': 8.69826054952113,\n",
       " 'I-10 to Phoenix (State Line)': 6.731803498474445}"
      ]
     },
     "execution_count": 194,
     "metadata": {},
     "output_type": "execute_result"
    }
   ],
   "source": [
    "{k: v / 3600 for k, v in r[0].items() if 'station' not in k}"
   ]
  },
  {
   "cell_type": "code",
   "execution_count": 195,
   "id": "62556348-7d75-4789-92ca-bf40d455ae68",
   "metadata": {},
   "outputs": [
    {
     "data": {
      "text/plain": [
       "{'Fresno': 0.0,\n",
       " 'Redding': 5.11872446997449,\n",
       " 'Chico': 4.23047250666002,\n",
       " 'I-80 to Reno (State Line)': 4.5377698863636535,\n",
       " 'Sacramento': 2.6713354700854763,\n",
       " 'Stockton': 1.9591595904095913,\n",
       " 'San Francisco': 2.9443037864912918,\n",
       " 'San Jose': 2.513857364857367,\n",
       " 'I-15 to Las Vegas (State Line)': 5.727073083166839,\n",
       " 'Bakersfield': 1.6082676698301694,\n",
       " 'Los Angeles': 3.263417207792208,\n",
       " 'San Diego': 5.252874417249402,\n",
       " 'Yreka': 6.628059943528701,\n",
       " 'Crescent City': 8.605738955488937,\n",
       " 'I-10 to Phoenix (State Line)': 6.647205294705305}"
      ]
     },
     "execution_count": 195,
     "metadata": {},
     "output_type": "execute_result"
    }
   ],
   "source": [
    "{k: v['driving_time'] / 3600 for k, v in r[1].items() if 'station' not in k}"
   ]
  },
  {
   "cell_type": "code",
   "execution_count": 196,
   "id": "8da9310e-c591-4b49-b2df-ea73b9da649c",
   "metadata": {},
   "outputs": [
    {
     "data": {
      "text/plain": [
       "['Fresno', 'station_354', 'Crescent City']"
      ]
     },
     "execution_count": 196,
     "metadata": {},
     "output_type": "execute_result"
    }
   ],
   "source": [
    "r[2]['Crescent City']"
   ]
  },
  {
   "cell_type": "code",
   "execution_count": 197,
   "id": "ff75b1c6-8055-41c1-bfa2-3bae28ffe73c",
   "metadata": {},
   "outputs": [
    {
     "data": {
      "text/plain": [
       "{'time': 31313.73797827607,\n",
       " 'driving_time': 30980.66023976017,\n",
       " 'distance': 857710.0,\n",
       " 'price': 65.00694444444444,\n",
       " 'soc': 0.005338541666666696}"
      ]
     },
     "execution_count": 197,
     "metadata": {},
     "output_type": "execute_result"
    }
   ],
   "source": [
    "r[1]['Crescent City']"
   ]
  },
  {
   "cell_type": "code",
   "execution_count": 131,
   "id": "a388424e-9ab2-4c36-8094-7a3867b345fb",
   "metadata": {},
   "outputs": [
    {
     "data": {
      "text/plain": [
       "691.2"
      ]
     },
     "execution_count": 131,
     "metadata": {},
     "output_type": "execute_result"
    }
   ],
   "source": [
    "objective.range / 1e3"
   ]
  },
  {
   "cell_type": "code",
   "execution_count": 67,
   "id": "48a1d61e-bdb0-49ab-977d-f6e77b46da3a",
   "metadata": {},
   "outputs": [
    {
     "name": "stdout",
     "output_type": "stream",
     "text": [
      "1.0945961475372314\n"
     ]
    }
   ],
   "source": [
    "deep_reload(src)\n",
    "\n",
    "objective = src.bellman.Objective(field = 'time')\n",
    "\n",
    "t0 = time.time()\n",
    "\n",
    "r = src.bellman.bellman(graph, ['Fresno'], objective = objective, return_paths = True)\n",
    "\n",
    "print(time.time() - t0)"
   ]
  },
  {
   "cell_type": "code",
   "execution_count": 68,
   "id": "7dda42b1-1e4f-460a-8b5e-950cab11b7d4",
   "metadata": {},
   "outputs": [
    {
     "data": {
      "text/plain": [
       "{'Fresno': 0.0,\n",
       " 'Sacramento': 2.7117650058275027,\n",
       " 'Stockton': 2.0049909396159387,\n",
       " 'San Francisco': 2.9574284049284016,\n",
       " 'San Jose': 2.5324649794649785,\n",
       " 'Bakersfield': 1.608267669830169,\n",
       " 'Los Angeles': 3.2643437812187788,\n",
       " 'Redding': 5.141404012654007,\n",
       " 'Chico': 4.307111145798643,\n",
       " 'I-80 to Reno (State Line)': 4.586502074314568,\n",
       " 'I-15 to Las Vegas (State Line)': 5.820441589660336,\n",
       " 'San Diego': 5.253800990675983,\n",
       " 'Yreka': 6.627662493756237,\n",
       " 'I-10 to Phoenix (State Line)': 6.672202103452094,\n",
       " 'Crescent City': 8.611122946497934}"
      ]
     },
     "execution_count": 68,
     "metadata": {},
     "output_type": "execute_result"
    }
   ],
   "source": [
    "{k: v / 3600 for k, v in r[0].items() if 'station' not in k}"
   ]
  },
  {
   "cell_type": "code",
   "execution_count": 70,
   "id": "6401589d-0d7e-4475-95a1-2e23c696d9d1",
   "metadata": {},
   "outputs": [
    {
     "data": {
      "text/plain": [
       "['Fresno',\n",
       " 'station_1371',\n",
       " 'station_724',\n",
       " 'station_1063',\n",
       " 'station_1131',\n",
       " 'station_1800',\n",
       " 'station_420',\n",
       " 'station_1192',\n",
       " 'station_342',\n",
       " 'station_723',\n",
       " 'station_513',\n",
       " 'station_1145',\n",
       " 'station_1634',\n",
       " 'Crescent City']"
      ]
     },
     "execution_count": 70,
     "metadata": {},
     "output_type": "execute_result"
    }
   ],
   "source": [
    "r[2]['Crescent City']"
   ]
  },
  {
   "cell_type": "code",
   "execution_count": null,
   "id": "ddfca39c-9611-449c-bcab-185687d9df84",
   "metadata": {},
   "outputs": [],
   "source": []
  },
  {
   "cell_type": "code",
   "execution_count": 310,
   "id": "490f3422-e845-48e9-ae7a-fdd999bea4e1",
   "metadata": {},
   "outputs": [
    {
     "data": {
      "text/plain": [
       "325.4421153737499"
      ]
     },
     "execution_count": 310,
     "metadata": {},
     "output_type": "execute_result"
    }
   ],
   "source": [
    "objective.range / 1.609e3"
   ]
  },
  {
   "cell_type": "code",
   "execution_count": null,
   "id": "9d2fce2a-b1c9-443a-bc68-33de5263068c",
   "metadata": {},
   "outputs": [],
   "source": []
  }
 ],
 "metadata": {
  "kernelspec": {
   "display_name": "Python 3 (ipykernel)",
   "language": "python",
   "name": "python3"
  },
  "language_info": {
   "codemirror_mode": {
    "name": "ipython",
    "version": 3
   },
   "file_extension": ".py",
   "mimetype": "text/x-python",
   "name": "python",
   "nbconvert_exporter": "python",
   "pygments_lexer": "ipython3",
   "version": "3.11.5"
  }
 },
 "nbformat": 4,
 "nbformat_minor": 5
}
