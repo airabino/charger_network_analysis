{
 "cells": [
  {
   "cell_type": "code",
   "execution_count": 1,
   "id": "694990f6-aa71-4c18-9be1-e06956abc302",
   "metadata": {
    "tags": []
   },
   "outputs": [],
   "source": [
    "import warnings\n",
    "warnings.filterwarnings(\"ignore\")\n",
    "\n",
    "import os\n",
    "import sys\n",
    "import time\n",
    "import json\n",
    "import numpy as np\n",
    "import pandas as pd\n",
    "import geopandas as gpd\n",
    "import pickle as pkl\n",
    "import networkx as nx\n",
    "import matplotlib.pyplot as plt\n",
    "\n",
    "import src\n",
    "from src.reload import deep_reload"
   ]
  },
  {
   "cell_type": "code",
   "execution_count": 34,
   "id": "dceffb20-e638-43f8-83c6-42931d0de97c",
   "metadata": {},
   "outputs": [],
   "source": [
    "deep_reload(src)\n",
    "\n",
    "n = 1000\n",
    "scale = (1e6, 1e6)\n",
    "reference_distance = 200e3\n",
    "seed = 129687083\n",
    "\n",
    "graph = src.rng.random_graph(\n",
    "    n,\n",
    "    scale = scale,\n",
    "    reference_distance = reference_distance,\n",
    "    seed = seed,\n",
    ")\n",
    "\n",
    "origins = src.rng.random_nodes(graph, 1)\n",
    "destinations = src.rng.random_nodes(graph, 10)\n",
    "stations = src.rng.random_nodes(graph, 15)"
   ]
  },
  {
   "cell_type": "code",
   "execution_count": 35,
   "id": "37e7cff1-691f-469a-8cf9-5ddc1281e561",
   "metadata": {},
   "outputs": [
    {
     "name": "stdout",
     "output_type": "stream",
     "text": [
      "0.11629223823547363\n"
     ]
    }
   ],
   "source": [
    "deep_reload(src)\n",
    "\n",
    "t0 = time.time()\n",
    "\n",
    "path_costs, path_values, paths = src.routing.dijkstra(graph, origins)\n",
    "\n",
    "print(time.time() - t0)"
   ]
  },
  {
   "cell_type": "code",
   "execution_count": 36,
   "id": "52960359-6e31-4980-856e-87963b9acbbc",
   "metadata": {},
   "outputs": [
    {
     "name": "stdout",
     "output_type": "stream",
     "text": [
      "0.5952949523925781\n"
     ]
    }
   ],
   "source": [
    "deep_reload(src)\n",
    "\n",
    "objective = src.routing.Vehicle()\n",
    "\n",
    "t0 = time.time()\n",
    "\n",
    "path_costs, path_values, paths = src.routing.dijkstra(\n",
    "    graph, origins, objective = objective)\n",
    "\n",
    "print(time.time() - t0)"
   ]
  },
  {
   "cell_type": "code",
   "execution_count": 37,
   "id": "be39bcb6-37fb-49bf-a8f9-f2c68afdbc75",
   "metadata": {},
   "outputs": [
    {
     "data": {
      "text/plain": [
       "428"
      ]
     },
     "execution_count": 37,
     "metadata": {},
     "output_type": "execute_result"
    }
   ],
   "source": [
    "len(path_costs)"
   ]
  },
  {
   "cell_type": "code",
   "execution_count": 40,
   "id": "36e5f3e0-dc54-426b-ab87-c63db85b6124",
   "metadata": {},
   "outputs": [
    {
     "name": "stdout",
     "output_type": "stream",
     "text": [
      "0.09750843048095703\n"
     ]
    }
   ],
   "source": [
    "t0 = time.time()\n",
    "\n",
    "r = nx.single_source_dijkstra(graph, origins[0], weight = 'time')\n",
    "print(time.time() - t0)"
   ]
  },
  {
   "cell_type": "code",
   "execution_count": 41,
   "id": "296c9726-9fdd-4f38-aca9-afa7d0f6348b",
   "metadata": {},
   "outputs": [
    {
     "name": "stdout",
     "output_type": "stream",
     "text": [
      "0.10377264022827148\n"
     ]
    }
   ],
   "source": [
    "t0 = time.time()\n",
    "\n",
    "r = nx.single_source_bellman_ford(graph, origins[0], weight = 'time')\n",
    "print(time.time() - t0)"
   ]
  },
  {
   "cell_type": "code",
   "execution_count": 187,
   "id": "4bb1426c-6c12-4422-a87a-7a44b637b536",
   "metadata": {},
   "outputs": [],
   "source": [
    "graph = src.graph.graph_from_json('Outputs/graph.json')"
   ]
  },
  {
   "cell_type": "code",
   "execution_count": 303,
   "id": "cbaf8d0f-771e-47a3-9dfc-b5188dfb9421",
   "metadata": {},
   "outputs": [],
   "source": [
    "for source, adj in graph._adj.items():\n",
    "    for target, edge in adj.items():\n",
    "        \n",
    "        graph._node[source]['time'] = 0\n",
    "        graph._node[source]['distance'] = 0\n",
    "        graph._node[source]['price'] = 0\n",
    "\n",
    "        graph._node[target]['time'] = 0\n",
    "        graph._node[target]['distance'] = 0\n",
    "        graph._node[target]['price'] = 0\n",
    "\n",
    "        edge['price'] = 0\n",
    "        if ('station' in source) and ('station' in target):\n",
    "            \n",
    "            edge['type'] = 'inter_station'\n",
    "            \n",
    "        else:\n",
    "            \n",
    "            edge['type'] = 'destination'"
   ]
  },
  {
   "cell_type": "code",
   "execution_count": 189,
   "id": "25342263-f9d9-41db-8160-e4fd32ca5c9e",
   "metadata": {},
   "outputs": [
    {
     "data": {
      "text/plain": [
       "1921"
      ]
     },
     "execution_count": 189,
     "metadata": {},
     "output_type": "execute_result"
    }
   ],
   "source": [
    "graph.number_of_nodes()"
   ]
  },
  {
   "cell_type": "code",
   "execution_count": 240,
   "id": "e5483f72-141e-4007-9ab1-8ee1edb35110",
   "metadata": {},
   "outputs": [
    {
     "name": "stdout",
     "output_type": "stream",
     "text": [
      "1.33335542678833\n"
     ]
    }
   ],
   "source": [
    "deep_reload(src)\n",
    "\n",
    "objective = src.dijkstra.Objective(field = 'time')\n",
    "\n",
    "t0 = time.time()\n",
    "\n",
    "r = src.dijkstra.dijkstra(graph, ['Fresno'], objective = objective)\n",
    "\n",
    "print(time.time() - t0)"
   ]
  },
  {
   "cell_type": "code",
   "execution_count": 241,
   "id": "362e5271-fc25-4292-a945-792e41fc0204",
   "metadata": {},
   "outputs": [
    {
     "data": {
      "text/plain": [
       "{'Fresno': 0.0,\n",
       " 'Bakersfield': 1.608267669830169,\n",
       " 'Stockton': 2.0049909396159387,\n",
       " 'San Jose': 2.5324649794649785,\n",
       " 'Sacramento': 2.7117650058275027,\n",
       " 'San Francisco': 2.9574284049284016,\n",
       " 'Los Angeles': 3.2643437812187788,\n",
       " 'Chico': 4.307111145798643,\n",
       " 'I-80 to Reno (State Line)': 4.586502074314568,\n",
       " 'Redding': 5.141404012654007,\n",
       " 'San Diego': 5.253800990675983,\n",
       " 'I-15 to Las Vegas (State Line)': 5.820441589660336,\n",
       " 'Yreka': 6.627662493756237,\n",
       " 'I-10 to Phoenix (State Line)': 6.672202103452094,\n",
       " 'Crescent City': 8.611122946497934}"
      ]
     },
     "execution_count": 241,
     "metadata": {},
     "output_type": "execute_result"
    }
   ],
   "source": [
    "{k: v / 3600 for k, v in r[0].items() if 'station' not in k}"
   ]
  },
  {
   "cell_type": "code",
   "execution_count": 298,
   "id": "da3fe7b1-bd3f-491b-b319-b71c629c7b5f",
   "metadata": {},
   "outputs": [
    {
     "name": "stdout",
     "output_type": "stream",
     "text": [
      "6.382099866867065\n"
     ]
    }
   ],
   "source": [
    "deep_reload(src)\n",
    "\n",
    "objective = src.routing.Vehicle(capacity = 80 * 3.6e6)\n",
    "\n",
    "t0 = time.time()\n",
    "\n",
    "r = src.dijkstra.dijkstra(graph, ['Fresno'], objective = objective, return_paths = True)\n",
    "\n",
    "print(time.time() - t0)"
   ]
  },
  {
   "cell_type": "code",
   "execution_count": 299,
   "id": "e804e30f-8370-4500-84b3-8edfc4b53214",
   "metadata": {},
   "outputs": [
    {
     "data": {
      "text/plain": [
       "{'Fresno': 0.0,\n",
       " 'Bakersfield': 1.608267669830169,\n",
       " 'Stockton': 2.0049909396159387,\n",
       " 'San Jose': 2.5324649794649785,\n",
       " 'Sacramento': 2.7117650058275027,\n",
       " 'San Francisco': 2.9574284049284016,\n",
       " 'Los Angeles': 3.2643437812187788,\n",
       " 'Chico': 4.307111145798643,\n",
       " 'I-80 to Reno (State Line)': 4.586502074314568}"
      ]
     },
     "execution_count": 299,
     "metadata": {},
     "output_type": "execute_result"
    }
   ],
   "source": [
    "{k: v / 3600 for k, v in r[0].items() if 'station' not in k}"
   ]
  },
  {
   "cell_type": "code",
   "execution_count": 306,
   "id": "ff18df93-7b09-48ac-8fb2-70f9f615aa5b",
   "metadata": {},
   "outputs": [
    {
     "name": "stdout",
     "output_type": "stream",
     "text": [
      "0.6208980083465576\n"
     ]
    }
   ],
   "source": [
    "deep_reload(src)\n",
    "\n",
    "objective = src.routing.Vehicle(capacity = 80 * 3.6e6)\n",
    "\n",
    "t0 = time.time()\n",
    "\n",
    "r = src.bellman.bellman(graph, ['Fresno'], objective = objective, return_paths = True)\n",
    "\n",
    "print(time.time() - t0)"
   ]
  },
  {
   "cell_type": "code",
   "execution_count": 307,
   "id": "4cef547b-ca14-4806-a8a2-7c11e2224c21",
   "metadata": {},
   "outputs": [
    {
     "data": {
      "text/plain": [
       "{'Fresno': 0.0,\n",
       " 'Sacramento': 2.7789994380619363,\n",
       " 'Stockton': 2.0456975940725926,\n",
       " 'San Francisco': 3.070305957930957,\n",
       " 'San Jose': 2.606983488733492,\n",
       " 'Bakersfield': 1.6082676698301692,\n",
       " 'Los Angeles': 3.292798326673327,\n",
       " 'Chico': 4.387682824120326,\n",
       " 'I-80 to Reno (State Line)': 4.6272087287712305}"
      ]
     },
     "execution_count": 307,
     "metadata": {},
     "output_type": "execute_result"
    }
   ],
   "source": [
    "{k: v / 3600 for k, v in r[0].items() if 'station' not in k}"
   ]
  },
  {
   "cell_type": "code",
   "execution_count": 310,
   "id": "490f3422-e845-48e9-ae7a-fdd999bea4e1",
   "metadata": {},
   "outputs": [
    {
     "data": {
      "text/plain": [
       "325.4421153737499"
      ]
     },
     "execution_count": 310,
     "metadata": {},
     "output_type": "execute_result"
    }
   ],
   "source": [
    "objective.range / 1.609e3"
   ]
  },
  {
   "cell_type": "code",
   "execution_count": 89,
   "id": "e0b5afd8-e054-4b24-a34a-b32fe31297c1",
   "metadata": {},
   "outputs": [
    {
     "name": "stdout",
     "output_type": "stream",
     "text": [
      "0.6918160915374756\n"
     ]
    }
   ],
   "source": [
    "t0 = time.time()\n",
    "\n",
    "r = nx.single_source_dijkstra(g, 'Fresno', weight = 'time')\n",
    "print(time.time() - t0)"
   ]
  },
  {
   "cell_type": "code",
   "execution_count": 90,
   "id": "4eb31ab3-fd56-4023-a137-a741b1734019",
   "metadata": {},
   "outputs": [
    {
     "data": {
      "text/plain": [
       "{'Fresno': 0.0,\n",
       " 'Bakersfield': 1.608267669830169,\n",
       " 'Stockton': 2.0049909396159387,\n",
       " 'San Jose': 2.5324649794649785,\n",
       " 'Sacramento': 2.7117650058275027,\n",
       " 'San Francisco': 2.9574284049284016,\n",
       " 'Los Angeles': 3.2643437812187788,\n",
       " 'Chico': 4.307111145798643,\n",
       " 'I-80 to Reno (State Line)': 4.586502074314568,\n",
       " 'Redding': 5.141404012654007,\n",
       " 'San Diego': 5.253800990675983,\n",
       " 'I-15 to Las Vegas (State Line)': 5.820441589660336,\n",
       " 'Yreka': 6.627662493756237,\n",
       " 'I-10 to Phoenix (State Line)': 6.672202103452094,\n",
       " 'Crescent City': 8.611122946497934}"
      ]
     },
     "execution_count": 90,
     "metadata": {},
     "output_type": "execute_result"
    }
   ],
   "source": [
    "{k: v / 3600 for k, v in r[0].items() if 'station' not in k}"
   ]
  },
  {
   "cell_type": "code",
   "execution_count": 91,
   "id": "c681c918-2e5d-4874-93b4-de66872b5a67",
   "metadata": {},
   "outputs": [
    {
     "name": "stdout",
     "output_type": "stream",
     "text": [
      "0.6678893566131592\n"
     ]
    }
   ],
   "source": [
    "t0 = time.time()\n",
    "\n",
    "r = nx.single_source_bellman_ford(g, 'Fresno', weight = 'time')\n",
    "print(time.time() - t0)"
   ]
  },
  {
   "cell_type": "code",
   "execution_count": 92,
   "id": "a1eeb3ab-7eca-4045-adc5-11a9d1c54554",
   "metadata": {},
   "outputs": [
    {
     "data": {
      "text/plain": [
       "{'Fresno': 0.0,\n",
       " 'Sacramento': 2.7117650058275027,\n",
       " 'Stockton': 2.0049909396159387,\n",
       " 'San Francisco': 2.9574284049284016,\n",
       " 'San Jose': 2.5324649794649785,\n",
       " 'Bakersfield': 1.608267669830169,\n",
       " 'Los Angeles': 3.2643437812187788,\n",
       " 'Redding': 5.141404012654007,\n",
       " 'Chico': 4.307111145798643,\n",
       " 'I-80 to Reno (State Line)': 4.586502074314568,\n",
       " 'I-15 to Las Vegas (State Line)': 5.820441589660336,\n",
       " 'San Diego': 5.253800990675983,\n",
       " 'Yreka': 6.627662493756237,\n",
       " 'I-10 to Phoenix (State Line)': 6.672202103452094,\n",
       " 'Crescent City': 8.611122946497934}"
      ]
     },
     "execution_count": 92,
     "metadata": {},
     "output_type": "execute_result"
    }
   ],
   "source": [
    "{k: v / 3600 for k, v in r[0].items() if 'station' not in k}"
   ]
  },
  {
   "cell_type": "code",
   "execution_count": null,
   "id": "9d2fce2a-b1c9-443a-bc68-33de5263068c",
   "metadata": {},
   "outputs": [],
   "source": []
  }
 ],
 "metadata": {
  "kernelspec": {
   "display_name": "Python 3 (ipykernel)",
   "language": "python",
   "name": "python3"
  },
  "language_info": {
   "codemirror_mode": {
    "name": "ipython",
    "version": 3
   },
   "file_extension": ".py",
   "mimetype": "text/x-python",
   "name": "python",
   "nbconvert_exporter": "python",
   "pygments_lexer": "ipython3",
   "version": "3.11.5"
  }
 },
 "nbformat": 4,
 "nbformat_minor": 5
}
