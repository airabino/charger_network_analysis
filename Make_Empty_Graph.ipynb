{
 "cells": [
  {
   "cell_type": "code",
   "execution_count": 1,
   "id": "da219a36-3bd5-483f-9b4b-531478cdf374",
   "metadata": {
    "tags": []
   },
   "outputs": [],
   "source": [
    "import warnings\n",
    "warnings.filterwarnings(\"ignore\")\n",
    "\n",
    "import os\n",
    "import sys\n",
    "import time\n",
    "import json\n",
    "import numpy as np\n",
    "import pandas as pd\n",
    "import geopandas as gpd\n",
    "import pickle as pkl\n",
    "import networkx as nx\n",
    "import matplotlib.pyplot as plt\n",
    "\n",
    "import src\n",
    "from src.reload import deep_reload"
   ]
  },
  {
   "cell_type": "markdown",
   "id": "b8ae2e66-7ffe-41a2-aeb9-e6963b18988b",
   "metadata": {},
   "source": [
    "Please run make_data_structure.sh prior to this"
   ]
  },
  {
   "cell_type": "code",
   "execution_count": 2,
   "id": "22ef617e-36e9-44e2-a08b-f0f0812a12ed",
   "metadata": {},
   "outputs": [],
   "source": [
    "filename = 'cities.json'\n",
    "\n",
    "graph_cities = src.graph.graph_from_json(filename)"
   ]
  },
  {
   "cell_type": "code",
   "execution_count": 3,
   "id": "2ce5f72a-683f-46fd-9269-93105e59b71b",
   "metadata": {},
   "outputs": [],
   "source": [
    "with open('Data/AFDC/evse_stations.json', 'r') as file:\n",
    "    evse = json.load(file)"
   ]
  },
  {
   "cell_type": "code",
   "execution_count": 4,
   "id": "22e2a0d9-687d-4ce9-b895-b8ffa7e0d06e",
   "metadata": {
    "scrolled": true
   },
   "outputs": [],
   "source": [
    "stations_raw = []\n",
    "\n",
    "for station in evse['fuel_stations']:\n",
    "\n",
    "    checks = (\n",
    "        station['state'] == 'CA',\n",
    "        station['ev_dc_fast_num'] is not None,\n",
    "        station['access_code'] == 'public',\n",
    "        station['status_code'] == 'E',\n",
    "    )\n",
    "\n",
    "    if all(checks):\n",
    "\n",
    "        stations_raw.append(station)"
   ]
  },
  {
   "cell_type": "code",
   "execution_count": 5,
   "id": "fe526c97-cbd8-477d-97e0-9c63a526ec5c",
   "metadata": {},
   "outputs": [],
   "source": [
    "df_stations = pd.DataFrame.from_dict(stations_raw)"
   ]
  },
  {
   "cell_type": "code",
   "execution_count": 6,
   "id": "3e1dafc3-c329-40b9-97aa-8270e89f327b",
   "metadata": {},
   "outputs": [],
   "source": [
    "node_attributes = {\n",
    "    'x': 'lambda n: n[\"longitude\"]',\n",
    "    'y': 'lambda n: n[\"latitude\"]',\n",
    "    'n_dcfc': 'lambda n: n[\"ev_dc_fast_num\"]',\n",
    "    'n_acl2': 'lambda n: n[\"ev_level2_evse_num\"]',\n",
    "    'network': 'lambda n: n[\"ev_network\"]',\n",
    "    'name': 'lambda n: n[\"station_name\"]',\n",
    "    'address': 'lambda n: n[\"street_address\"]',\n",
    "    'city': 'lambda n: n[\"city\"]',\n",
    "    'state': 'lambda n: n[\"state\"]',\n",
    "    'zip': 'lambda n: n[\"zip\"]',\n",
    "    'access_code': 'lambda n: n[\"access_code\"]',\n",
    "    'status_code': 'lambda n: n[\"status_code\"]',\n",
    "    'type': 'lambda n: \"station\"',\n",
    "}\n",
    "\n",
    "nlg = src.graph.nlg_from_dataframe(df_stations, node_attributes)\n",
    "\n",
    "graph_station = src.graph.graph_from_nlg(nlg)\n",
    "\n",
    "mapping = {n: f'station_{n}' for n in graph_station.nodes}\n",
    "\n",
    "graph_station = nx.relabel_nodes(graph_station, mapping)"
   ]
  },
  {
   "cell_type": "code",
   "execution_count": 7,
   "id": "0d0969e1-d47d-4ca3-87e8-40046349ad41",
   "metadata": {},
   "outputs": [],
   "source": [
    "graph_empty = nx.union(graph_cities, graph_station)"
   ]
  },
  {
   "cell_type": "code",
   "execution_count": 8,
   "id": "2333ce01-1b3a-4632-891c-57fbbd8057b1",
   "metadata": {},
   "outputs": [
    {
     "data": {
      "text/plain": [
       "(1921, 0)"
      ]
     },
     "execution_count": 8,
     "metadata": {},
     "output_type": "execute_result"
    }
   ],
   "source": [
    "graph_empty.number_of_nodes(), graph_empty.number_of_edges()"
   ]
  },
  {
   "cell_type": "code",
   "execution_count": 10,
   "id": "231d459b-05b0-48a2-959b-8ac4155ecef7",
   "metadata": {},
   "outputs": [],
   "source": [
    "src.graph.graph_to_json(graph_empty, 'Outputs/graph_empty.json')"
   ]
  },
  {
   "cell_type": "code",
   "execution_count": null,
   "id": "9de22be4-045d-4687-b96d-a7b592eb8f64",
   "metadata": {},
   "outputs": [],
   "source": []
  }
 ],
 "metadata": {
  "kernelspec": {
   "display_name": "Python 3 (ipykernel)",
   "language": "python",
   "name": "python3"
  },
  "language_info": {
   "codemirror_mode": {
    "name": "ipython",
    "version": 3
   },
   "file_extension": ".py",
   "mimetype": "text/x-python",
   "name": "python",
   "nbconvert_exporter": "python",
   "pygments_lexer": "ipython3",
   "version": "3.11.5"
  }
 },
 "nbformat": 4,
 "nbformat_minor": 5
}
