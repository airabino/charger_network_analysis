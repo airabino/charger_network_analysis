{
 "cells": [
  {
   "cell_type": "code",
   "execution_count": 1,
   "id": "b60fb28a-edb0-4de8-8cfe-623ef1d0b310",
   "metadata": {
    "tags": []
   },
   "outputs": [],
   "source": [
    "import warnings\n",
    "warnings.filterwarnings(\"ignore\")\n",
    "\n",
    "import os\n",
    "import sys\n",
    "import time\n",
    "import json\n",
    "import numpy as np\n",
    "import pandas as pd\n",
    "import geopandas as gpd\n",
    "import pickle as pkl\n",
    "import networkx as nx\n",
    "import matplotlib.pyplot as plt\n",
    "\n",
    "from pprint import pprint\n",
    "\n",
    "import src\n",
    "from src.reload import deep_reload"
   ]
  },
  {
   "cell_type": "markdown",
   "id": "fd53482d-22df-456b-82c8-02fe541e6d25",
   "metadata": {},
   "source": [
    "This notebook shows how supply sensitive routing works using a randomly generated graph. The core concepts are outlined in the associated paper. In this notebook, a random graph containing places and stations is generated. First a generic example is given where routing is done purely to minimize travel time. Second, a case including vehicle and station parameters is generated and run."
   ]
  },
  {
   "cell_type": "code",
   "execution_count": 215,
   "id": "0d46e7b4-f07f-416c-b1ff-ccddf2d3116a",
   "metadata": {},
   "outputs": [],
   "source": [
    "'''\n",
    "Creating a random graph\n",
    "\n",
    "graph contains n places and m charging stations - the random graph is completely connected\n",
    "'''\n",
    "deep_reload(src)\n",
    "\n",
    "# Parameters for graph creation\n",
    "seed = 125396749 # RNG seed [-]\n",
    "n = 15 # Number of places [-]\n",
    "m = 85 # Number of stations [-]\n",
    "speeds = [105 / 3.6] # Set of speeds to be assigned to links [m/s]\n",
    "chargers = list(range(10)) # Set of numbers of chargers to be assigned to stations [-]\n",
    "scale = (1e6, 1e6) # Scale of the area on which the graph is generated ([m], [m])\n",
    "\n",
    "# Setting the graph as directed\n",
    "kw = {\n",
    "    'graph': {\n",
    "        'directed': True,\n",
    "    },\n",
    "}\n",
    "\n",
    "# Creating the graph\n",
    "graph = src.rng.random_completely_connected_graph(\n",
    "    n, m, speeds = speeds, scale = scale, seed = seed, chargers = chargers, **kw\n",
    ")\n",
    "\n",
    "# # Marking the edge types by source and target type\n",
    "# graph = src.routing.edge_types(graph)\n",
    "\n",
    "# adjacency = nx.to_numpy_array(graph, weight = 'time')\n",
    "# adjacency[adjacency > 2 * 3600] = np.inf\n",
    "\n",
    "stations_idx = [idx for idx, n in enumerate(graph.nodes) if 'station' in n]\n",
    "\n",
    "places_idx = [idx for idx, n in enumerate(graph.nodes) if 'place' in n]\n",
    "\n",
    "for source, adj in graph._adj.items():\n",
    "    for target, edge in adj.items():\n",
    "\n",
    "        if edge['distance'] > 200e3:\n",
    "\n",
    "            edge['distance'] = np.inf\n",
    "            edge['time'] = np.inf"
   ]
  },
  {
   "cell_type": "code",
   "execution_count": 228,
   "id": "90084868-32aa-447f-88bd-29f057d30f15",
   "metadata": {},
   "outputs": [
    {
     "name": "stdout",
     "output_type": "stream",
     "text": [
      "Executed in 0.3704 seconds\n"
     ]
    }
   ],
   "source": [
    "deep_reload(src)\n",
    "\n",
    "stations_idx = [idx for idx, n in enumerate(graph.nodes) if 'station' in n]\n",
    "\n",
    "t0 = time.time()\n",
    "\n",
    "costs, values, paths = src.floyd_warshall.floyd_warshall(\n",
    "    graph,\n",
    "    fields = ['time', 'distance', 'price'],\n",
    "    pivots = stations_idx,\n",
    "    origins = places_idx,\n",
    "    destinations = places_idx,\n",
    "    tolerance = .01,\n",
    ")\n",
    "\n",
    "print(f'Executed in {time.time() - t0:.4f} seconds')"
   ]
  },
  {
   "cell_type": "code",
   "execution_count": 229,
   "id": "71014c5d-c531-4345-8621-f5f757947a43",
   "metadata": {},
   "outputs": [
    {
     "data": {
      "text/plain": [
       "{0: [{'time': 24841.412309582578,\n",
       "   'distance': 724541.1923628253,\n",
       "   'price': 0.0}],\n",
       " 1: [{'time': 29540.013128635357,\n",
       "   'distance': 861583.7162518646,\n",
       "   'price': 0.0}],\n",
       " 2: [{'time': 33154.60444000853, 'distance': 967009.2961669152, 'price': 0.0},\n",
       "  {'time': 33082.34898951474, 'distance': 964901.8455275132, 'price': 0.0}],\n",
       " 3: [{'time': 25008.908849393865,\n",
       "   'distance': 729426.5081073211,\n",
       "   'price': 0.0}],\n",
       " 4: [{'time': 0, 'distance': 0, 'price': 0}],\n",
       " 5: [{'time': 20393.4829419424, 'distance': 594809.9191399866, 'price': 0.0}],\n",
       " 6: [{'time': 19424.897445917046,\n",
       "   'distance': 566559.5088392472,\n",
       "   'price': 0.0}],\n",
       " 7: [{'time': 17942.459542813758,\n",
       "   'distance': 523321.73666540126,\n",
       "   'price': 0.0}],\n",
       " 8: [{'time': 21175.851423404198,\n",
       "   'distance': 617628.9998492891,\n",
       "   'price': 0.0}],\n",
       " 9: [{'time': 6652.115584152347, 'distance': 194020.0378711101, 'price': 0.0}],\n",
       " 10: [{'time': 21460.661806065724,\n",
       "   'distance': 625935.9693435836,\n",
       "   'price': 0.0},\n",
       "  {'time': 21388.406355571933, 'distance': 623828.5187041813, 'price': 0.0}],\n",
       " 11: [{'time': 23662.881974343567,\n",
       "   'distance': 690167.3909183539,\n",
       "   'price': 0.0},\n",
       "  {'time': 23590.62652384978, 'distance': 688059.9402789518, 'price': 0.0}],\n",
       " 12: [{'time': 14298.117249853429,\n",
       "   'distance': 417028.4197873917,\n",
       "   'price': 0.0}],\n",
       " 13: [{'time': 25463.493953663703,\n",
       "   'distance': 742685.2403151914,\n",
       "   'price': 0.0},\n",
       "  {'time': 25391.238503169912, 'distance': 740577.7896757892, 'price': 0.0}],\n",
       " 14: [{'time': 6796.639037789403,\n",
       "   'distance': 198235.30526885757,\n",
       "   'price': 0.0}]}"
      ]
     },
     "execution_count": 229,
     "metadata": {},
     "output_type": "execute_result"
    }
   ],
   "source": [
    "values[4]"
   ]
  },
  {
   "cell_type": "code",
   "execution_count": 227,
   "id": "0f6d4f31-aa70-4a1c-b466-b90de52cd909",
   "metadata": {},
   "outputs": [
    {
     "data": {
      "text/plain": [
       "{0: [[4, 64, 88, 61, 79, 0]],\n",
       " 1: [[4, 15, 82, 87, 46, 33, 1]],\n",
       " 2: [[4, 15, 66, 92, 86, 47, 17, 2], [4, 43, 66, 92, 86, 47, 17, 2]],\n",
       " 3: [[4, 64, 88, 61, 79, 3]],\n",
       " 4: [[4]],\n",
       " 5: [[4, 69, 20, 35, 5]],\n",
       " 6: [[4, 64, 88, 61, 6]],\n",
       " 7: [[4, 69, 20, 35, 7]],\n",
       " 8: [[4, 64, 88, 61, 8]],\n",
       " 9: [[4, 9]],\n",
       " 10: [[4, 15, 66, 30, 83, 10], [4, 43, 66, 30, 83, 10]],\n",
       " 11: [[4, 15, 66, 92, 86, 11], [4, 43, 66, 92, 86, 11]],\n",
       " 12: [[4, 71, 16, 12]],\n",
       " 13: [[4, 15, 66, 30, 83, 57, 13], [4, 43, 66, 30, 83, 57, 13]],\n",
       " 14: [[4, 14]]}"
      ]
     },
     "execution_count": 227,
     "metadata": {},
     "output_type": "execute_result"
    }
   ],
   "source": [
    "paths[4]"
   ]
  },
  {
   "cell_type": "code",
   "execution_count": 219,
   "id": "0edafd15-7dc9-4b3a-b7dc-c8b50a6ecc5d",
   "metadata": {},
   "outputs": [
    {
     "name": "stdout",
     "output_type": "stream",
     "text": [
      "Executed in 0.0146 seconds\n"
     ]
    }
   ],
   "source": [
    "deep_reload(src)\n",
    "\n",
    "stations_idx = [idx for idx, n in enumerate(graph.nodes) if 'station' in n]\n",
    "\n",
    "t0 = time.time()\n",
    "\n",
    "costs, values, paths = src.floyd_warshall.floyd_warshall(\n",
    "    graph,\n",
    "    fields = ['time', 'distance', 'price'],\n",
    "    pivots = stations_idx,\n",
    "    origins = places_idx,\n",
    "    destinations = places_idx,\n",
    ")\n",
    "\n",
    "print(f'Executed in {time.time() - t0:.4f} seconds')"
   ]
  },
  {
   "cell_type": "code",
   "execution_count": 220,
   "id": "bbbdf173-0ba0-406b-b07b-60156375c75f",
   "metadata": {},
   "outputs": [
    {
     "data": {
      "text/plain": [
       "{0: {'time': 24841.412309582578, 'distance': 724541.1923628253, 'price': 0.0},\n",
       " 1: {'time': 29540.013128635357, 'distance': 861583.7162518646, 'price': 0.0},\n",
       " 2: {'time': 33082.34898951474, 'distance': 964901.8455275132, 'price': 0.0},\n",
       " 3: {'time': 25008.908849393865, 'distance': 729426.5081073211, 'price': 0.0},\n",
       " 4: {'time': 0, 'distance': 0, 'price': 0},\n",
       " 5: {'time': 20393.4829419424, 'distance': 594809.9191399866, 'price': 0.0},\n",
       " 6: {'time': 19424.897445917046, 'distance': 566559.5088392472, 'price': 0.0},\n",
       " 7: {'time': 17942.459542813758, 'distance': 523321.73666540126, 'price': 0.0},\n",
       " 8: {'time': 21175.851423404198, 'distance': 617628.9998492891, 'price': 0.0},\n",
       " 9: {'time': 6652.115584152347, 'distance': 194020.0378711101, 'price': 0.0},\n",
       " 10: {'time': 21388.406355571933, 'distance': 623828.5187041813, 'price': 0.0},\n",
       " 11: {'time': 23590.62652384978, 'distance': 688059.9402789518, 'price': 0.0},\n",
       " 12: {'time': 14298.117249853429, 'distance': 417028.4197873917, 'price': 0.0},\n",
       " 13: {'time': 25391.238503169912, 'distance': 740577.7896757892, 'price': 0.0},\n",
       " 14: {'time': 6796.639037789403, 'distance': 198235.30526885757, 'price': 0.0}}"
      ]
     },
     "execution_count": 220,
     "metadata": {},
     "output_type": "execute_result"
    }
   ],
   "source": [
    "values[4]"
   ]
  },
  {
   "cell_type": "code",
   "execution_count": 221,
   "id": "51c2c106-dbea-4cd1-b289-a73cc3bb508f",
   "metadata": {},
   "outputs": [
    {
     "data": {
      "text/plain": [
       "{0: [4, 64, 88, 61, 79, 0],\n",
       " 1: [4, 15, 82, 87, 46, 33, 1],\n",
       " 2: [4, 43, 66, 92, 86, 47, 17, 2],\n",
       " 3: [4, 64, 88, 61, 79, 3],\n",
       " 4: [4],\n",
       " 5: [4, 69, 20, 35, 5],\n",
       " 6: [4, 64, 88, 61, 6],\n",
       " 7: [4, 69, 20, 35, 7],\n",
       " 8: [4, 64, 88, 61, 8],\n",
       " 9: [4, 9],\n",
       " 10: [4, 43, 66, 30, 83, 10],\n",
       " 11: [4, 43, 66, 92, 86, 11],\n",
       " 12: [4, 71, 16, 12],\n",
       " 13: [4, 43, 66, 30, 83, 57, 13],\n",
       " 14: [4, 14]}"
      ]
     },
     "execution_count": 221,
     "metadata": {},
     "output_type": "execute_result"
    }
   ],
   "source": [
    "paths[4]"
   ]
  },
  {
   "cell_type": "code",
   "execution_count": 198,
   "id": "aa1aa0da-02a8-4acd-a562-49b0dd801018",
   "metadata": {},
   "outputs": [
    {
     "data": {
      "text/plain": [
       "31742.695203987583"
      ]
     },
     "execution_count": 198,
     "metadata": {},
     "output_type": "execute_result"
    }
   ],
   "source": [
    "deep_reload(src)\n",
    "\n",
    "src.floyd_warshall.recover_path_costs(adjacency, paths[0][1])"
   ]
  },
  {
   "cell_type": "code",
   "execution_count": 191,
   "id": "d5d09809-ff11-4f3a-ba7f-3790db447f8e",
   "metadata": {},
   "outputs": [],
   "source": [
    "adjacency = nx.to_numpy_array(graph, weight = 'time')"
   ]
  },
  {
   "cell_type": "code",
   "execution_count": 39,
   "id": "f95c95f1-e701-4eb8-a30e-603d7c1d46be",
   "metadata": {},
   "outputs": [
    {
     "name": "stdout",
     "output_type": "stream",
     "text": [
      "Executed in 0.2568 seconds\n"
     ]
    }
   ],
   "source": [
    "from scipy.sparse.csgraph import floyd_warshall\n",
    "\n",
    "t0 = time.time()\n",
    "\n",
    "_, previous = floyd_warshall(adjacency, return_predecessors = True)\n",
    "\n",
    "print(f'Executed in {time.time() - t0:.4f} seconds')"
   ]
  },
  {
   "cell_type": "code",
   "execution_count": 43,
   "id": "f0a5123b-a4f1-4f9c-ae98-b37a968725b2",
   "metadata": {},
   "outputs": [
    {
     "name": "stdout",
     "output_type": "stream",
     "text": [
      "Executed in 0.1387 seconds\n"
     ]
    }
   ],
   "source": [
    "deep_reload(src)\n",
    "\n",
    "t0 = time.time()\n",
    "\n",
    "costs, previous = src.floyd_warshall._floyd_warshall(\n",
    "    adjacency,\n",
    "    stations_idx,\n",
    "    np.zeros_like(adjacency),\n",
    "    np.zeros_like(adjacency, dtype = int),\n",
    ")\n",
    "\n",
    "print(f'Executed in {time.time() - t0:.4f} seconds')"
   ]
  },
  {
   "cell_type": "code",
   "execution_count": 138,
   "id": "f1aa84ce-d096-46f9-8acb-07acce13e6a7",
   "metadata": {},
   "outputs": [
    {
     "name": "stdout",
     "output_type": "stream",
     "text": [
      "Executed in 0.1636 seconds\n"
     ]
    }
   ],
   "source": [
    "deep_reload(src)\n",
    "\n",
    "t0 = time.time()\n",
    "\n",
    "costs, previous, extended = src.floyd_warshall.floyd_warshall(\n",
    "    adjacency,\n",
    "    stations_idx,\n",
    ")\n",
    "\n",
    "print(f'Executed in {time.time() - t0:.4f} seconds')"
   ]
  },
  {
   "cell_type": "code",
   "execution_count": 134,
   "id": "59648e5a-10c3-4b44-8736-5d8e284ae6b5",
   "metadata": {},
   "outputs": [
    {
     "name": "stdout",
     "output_type": "stream",
     "text": [
      "Executed in 0.5253 seconds 1462954\n"
     ]
    }
   ],
   "source": [
    "deep_reload(src)\n",
    "\n",
    "n = len(adjacency)\n",
    "\n",
    "costs = np.zeros_like(adjacency)\n",
    "predecessors = np.zeros((n, n), dtype = int)\n",
    "pivots = list(range(0, n, 1))\n",
    "\n",
    "tolerance = .01\n",
    "limit = n ** 2\n",
    "\n",
    "t0 = time.time()\n",
    "\n",
    "costs, predecessors, store = src.floyd_warshall._floyd_warshall_multi(\n",
    "    adjacency,\n",
    "    stations_idx,\n",
    "    costs,\n",
    "    predecessors,\n",
    "    # limit = limit,\n",
    "    tolerance =  tolerance,\n",
    ")\n",
    "\n",
    "print(f'Executed in {time.time() - t0:.4f} seconds', len(store))"
   ]
  },
  {
   "cell_type": "code",
   "execution_count": 135,
   "id": "3064ea0a-14b2-401f-a2b4-ddc2605f80ef",
   "metadata": {},
   "outputs": [],
   "source": [
    "deep_reload(src)\n",
    "\n",
    "extended = src.floyd_warshall.extended_predecessors(\n",
    "    costs, predecessors, store[-limit:], tolerance = tolerance * 10\n",
    ")"
   ]
  },
  {
   "cell_type": "code",
   "execution_count": 136,
   "id": "b8013cb8-a716-4642-a93a-f3c503524a67",
   "metadata": {},
   "outputs": [
    {
     "data": {
      "text/plain": [
       "(31, 16, [[31, 192, 631, 16], [31, 192, 284, 16]])"
      ]
     },
     "execution_count": 136,
     "metadata": {},
     "output_type": "execute_result"
    }
   ],
   "source": [
    "# origin =  np.random.randint(0, n)\n",
    "# destination = np.random.randint(0, n)\n",
    "\n",
    "origin =  places_idx[31]\n",
    "destination = places_idx[16]\n",
    "\n",
    "paths = src.floyd_warshall.recover_paths(extended, origin, [[destination]], [])\n",
    "\n",
    "origin, destination, paths"
   ]
  },
  {
   "cell_type": "code",
   "execution_count": 103,
   "id": "573d428a-c5dd-4fd0-acf5-9f67c47ff954",
   "metadata": {},
   "outputs": [
    {
     "data": {
      "text/plain": [
       "[2, 3, 4]"
      ]
     },
     "execution_count": 103,
     "metadata": {},
     "output_type": "execute_result"
    }
   ],
   "source": [
    "a = [0, 2, 3, 4]\n",
    "a.pop(0)\n",
    "a"
   ]
  },
  {
   "cell_type": "code",
   "execution_count": 94,
   "id": "c06e3ffc-851a-4365-8fba-32e4693201c4",
   "metadata": {},
   "outputs": [
    {
     "data": {
      "text/plain": [
       "array([[ 0, 17, 91, ...,  0, 60, 25],\n",
       "       [94,  1,  1, ..., 62, 59, 18],\n",
       "       [94,  2,  2, ..., 62, 95, 48],\n",
       "       ...,\n",
       "       [97, 65, 17, ..., 97, 99, 84],\n",
       "       [94, 17, 91, ..., 84, 98, 98],\n",
       "       [94, 17, 91, ..., 84, 99, 99]])"
      ]
     },
     "execution_count": 94,
     "metadata": {},
     "output_type": "execute_result"
    }
   ],
   "source": [
    "np.array(previous)"
   ]
  },
  {
   "cell_type": "code",
   "execution_count": 107,
   "id": "913bc8a5-b2b7-4301-b81c-2fd7649ed8f9",
   "metadata": {},
   "outputs": [
    {
     "name": "stdout",
     "output_type": "stream",
     "text": [
      "Executed in 0.3827 seconds\n"
     ]
    }
   ],
   "source": [
    "deep_reload(src)\n",
    "\n",
    "adjacency = nx.to_numpy_array(graph, weight = 'time')\n",
    "adjacency[adjacency > 2 * 3600] = np.inf\n",
    "\n",
    "m = 5\n",
    "n = len(adjacency)\n",
    "\n",
    "\n",
    "costs = list(np.zeros_like(adjacency))\n",
    "# previous = [[[] for idx in range(n)] for idx in range(n)]\n",
    "previous = list(np.zeros((n, n), dtype = int))\n",
    "\n",
    "t0 = time.time()\n",
    "\n",
    "costs, previous, store = src.floyd_warshall._floyd_warshall_multi(\n",
    "    list(adjacency),\n",
    "    costs,\n",
    "    previous,\n",
    ")\n",
    "\n",
    "print(f'Executed in {time.time() - t0:.4f} seconds')"
   ]
  },
  {
   "cell_type": "code",
   "execution_count": 127,
   "id": "901d0621-adab-4124-997b-0405c37f48e5",
   "metadata": {},
   "outputs": [
    {
     "data": {
      "text/plain": [
       "(76, 64, [76, 90, 16, 71, 64])"
      ]
     },
     "execution_count": 127,
     "metadata": {},
     "output_type": "execute_result"
    }
   ],
   "source": [
    "deep_reload(src)\n",
    "\n",
    "origin =  np.random.randint(0, n)\n",
    "destination = np.random.randint(0, n)\n",
    "\n",
    "origin, destination, src.floyd_warshall.recover_path(previous, origin, destination)"
   ]
  },
  {
   "cell_type": "code",
   "execution_count": 156,
   "id": "8e12d7f8-b4f9-40e5-b43f-1ff15413163e",
   "metadata": {},
   "outputs": [
    {
     "data": {
      "text/plain": [
       "[65, 17]"
      ]
     },
     "execution_count": 156,
     "metadata": {},
     "output_type": "execute_result"
    }
   ],
   "source": [
    "opt_pred = {k_0: {k_1: {previous[k_0][k_1]} for k_1 in range(n)} for k_0 in range(n)}\n",
    "\n",
    "for pred in store:\n",
    "\n",
    "    s, t, p, c = pred\n",
    "\n",
    "    if c <= 1.1 * costs[s][t]:\n",
    "\n",
    "        opt_pred[s][t].add(p)\n",
    "\n",
    "list(opt_pred[0][1])"
   ]
  },
  {
   "cell_type": "code",
   "execution_count": 179,
   "id": "169e42e1-ba9d-4b85-9dec-c56acb1ea973",
   "metadata": {},
   "outputs": [
    {
     "data": {
      "text/plain": [
       "(array([15,  1,  9,  8, 26, 18,  2, 23]),\n",
       " array([38,  0, 17, 61, 28, 10, 10,  7]))"
      ]
     },
     "execution_count": 179,
     "metadata": {},
     "output_type": "execute_result"
    }
   ],
   "source": [
    "origin, destination"
   ]
  },
  {
   "cell_type": "code",
   "execution_count": 186,
   "id": "5170c4f2-8c93-4041-b793-4f7337d3cf1d",
   "metadata": {},
   "outputs": [
    {
     "data": {
      "text/plain": [
       "(31, 16, 12)"
      ]
     },
     "execution_count": 186,
     "metadata": {},
     "output_type": "execute_result"
    }
   ],
   "source": [
    "deep_reload(src)\n",
    "\n",
    "n = len(adjacency)\n",
    "\n",
    "origin =  np.random.randint(0, n)\n",
    "destination = np.random.randint(0, n)\n",
    "\n",
    "edges = src.floyd_warshall.recover_tree(opt_pred, origin, [destination], [])\n",
    "\n",
    "origin, destination, len(edges)"
   ]
  },
  {
   "cell_type": "code",
   "execution_count": 187,
   "id": "a76e32e0-0f97-4a28-9244-1b35e6be6f21",
   "metadata": {},
   "outputs": [
    {
     "data": {
      "image/png": "[encoded data removed]",
      "text/plain": [
       "<Figure size 600x600 with 1 Axes>"
      ]
     },
     "metadata": {},
     "output_type": "display_data"
    }
   ],
   "source": [
    "fig, ax = plt.subplots(1, 1, figsize = (6, 6))\n",
    "\n",
    "tree = nx.DiGraph()\n",
    "tree.add_edges_from(edges)\n",
    "\n",
    "names = [k for k in graph.nodes()]\n",
    "\n",
    "for source, node in tree._node.items():\n",
    "\n",
    "    data = graph._node[names[source]]\n",
    "\n",
    "    for key, value in data.items():\n",
    "\n",
    "        node[key] = value\n",
    "\n",
    "kw = {\n",
    "    # 'show_links': False,\n",
    "    'scatter': {\n",
    "        's': 300,\n",
    "        'ec': 'k',\n",
    "        'fc': 'k',\n",
    "        'zorder': 4,\n",
    "    },\n",
    "    'plot': {\n",
    "        'lw': 2,\n",
    "        'color': 'k',\n",
    "    },\n",
    "}\n",
    "\n",
    "src.figures.plot_graph(tree, ax = ax, **kw)\n",
    "\n",
    "x = [n['x'] for n in tree._node.values()]\n",
    "y = [n['y'] for n in tree._node.values()]\n",
    "y = [n['y'] for n in tree._node.values()]\n",
    "n = [f'{n}' for n in tree.nodes]\n",
    "\n",
    "kw = {\n",
    "    'zorder': 5,\n",
    "    'horizontalalignment': 'center',\n",
    "    'verticalalignment': 'center',\n",
    "    'fontstyle': 'italic',\n",
    "    'fontsize': 'large',\n",
    "    'fontfamily': 'monospace',\n",
    "    'color': 'whitesmoke',\n",
    "}\n",
    "\n",
    "for idx in range(len(n)):\n",
    "    \n",
    "    ax.text(x[idx], y[idx], n[idx], **kw)"
   ]
  },
  {
   "cell_type": "code",
   "execution_count": 197,
   "id": "3907b7b2-28ff-4fb0-a67a-e43f4f8df0a1",
   "metadata": {},
   "outputs": [
    {
     "data": {
      "text/plain": [
       "(31,\n",
       " 16,\n",
       " [[31, 22, 10, 83, 16],\n",
       "  [31, 13, 10, 83, 16],\n",
       "  [31, 22, 10, 90, 16],\n",
       "  [31, 13, 10, 90, 16]])"
      ]
     },
     "execution_count": 197,
     "metadata": {},
     "output_type": "execute_result"
    }
   ],
   "source": [
    "deep_reload(src)\n",
    "\n",
    "n = len(adjacency)\n",
    "\n",
    "# origin =  np.random.randint(0, n)\n",
    "# destination = np.random.randint(0, n)\n",
    "\n",
    "origin =  31\n",
    "destination = 16\n",
    "\n",
    "paths = src.floyd_warshall.recover_paths(opt_pred, origin, [[destination]], [])\n",
    "\n",
    "origin, destination, paths"
   ]
  },
  {
   "cell_type": "code",
   "execution_count": 189,
   "id": "b7337afb-5c00-4aba-8652-e701df3ceba7",
   "metadata": {},
   "outputs": [
    {
     "data": {
      "text/plain": [
       "{}"
      ]
     },
     "execution_count": 189,
     "metadata": {},
     "output_type": "execute_result"
    }
   ],
   "source": [
    "tree._adj[16]"
   ]
  },
  {
   "cell_type": "code",
   "execution_count": 191,
   "id": "a25019f9-f6ff-4840-9d12-c4e7fe7fbcf6",
   "metadata": {},
   "outputs": [
    {
     "ename": "TypeError",
     "evalue": "pop expected at least 1 argument, got 0",
     "output_type": "error",
     "traceback": [
      "\u001b[0;31m---------------------------------------------------------------------------\u001b[0m",
      "\u001b[0;31mTypeError\u001b[0m                                 Traceback (most recent call last)",
      "Cell \u001b[0;32mIn[191], line 2\u001b[0m\n\u001b[1;32m      1\u001b[0m a \u001b[38;5;241m=\u001b[39m {\u001b[38;5;124m'\u001b[39m\u001b[38;5;124ma\u001b[39m\u001b[38;5;124m'\u001b[39m: \u001b[38;5;241m1\u001b[39m, \u001b[38;5;124m'\u001b[39m\u001b[38;5;124mb\u001b[39m\u001b[38;5;124m'\u001b[39m: \u001b[38;5;241m2\u001b[39m}\n\u001b[0;32m----> 2\u001b[0m a\u001b[38;5;241m.\u001b[39mpop(), a\n",
      "\u001b[0;31mTypeError\u001b[0m: pop expected at least 1 argument, got 0"
     ]
    }
   ],
   "source": [
    "a = {'a': 1, 'b': 2}\n",
    "a.pop()"
   ]
  },
  {
   "cell_type": "code",
   "execution_count": 193,
   "id": "5ae7f022-a210-4689-a4f3-a9926ae5220f",
   "metadata": {},
   "outputs": [
    {
     "data": {
      "text/plain": [
       "([1, 2, 3], [4, 1, 7, 3])"
      ]
     },
     "execution_count": 193,
     "metadata": {},
     "output_type": "execute_result"
    }
   ],
   "source": [
    "a = [1, 2, 3]\n",
    "\n",
    "b = [4] + a\n",
    "\n",
    "b[2] = 7\n",
    "\n",
    "a, b"
   ]
  },
  {
   "cell_type": "code",
   "execution_count": 145,
   "id": "bc20a3eb-e24c-4e4d-8c87-155b257bdc4c",
   "metadata": {},
   "outputs": [
    {
     "data": {
      "text/plain": [
       "78"
      ]
     },
     "execution_count": 145,
     "metadata": {},
     "output_type": "execute_result"
    }
   ],
   "source": [
    "len(tree._adj[3])"
   ]
  },
  {
   "cell_type": "code",
   "execution_count": null,
   "id": "05a7076e-cd1f-4e4d-bac9-9e158869caa3",
   "metadata": {},
   "outputs": [],
   "source": [
    "deep_reload(src)\n",
    "\n",
    "origin =  np.random.randint(0, n)\n",
    "destination = np.random.randint(0, n)\n",
    "\n",
    "tree = []\n",
    "\n",
    "src.floyd_warshall.recover_tree(opt_pred, origin, destination, tree)"
   ]
  },
  {
   "cell_type": "code",
   "execution_count": 137,
   "id": "35cede99-d1d8-47e1-acb0-a0f090ab467e",
   "metadata": {},
   "outputs": [
    {
     "data": {
      "text/plain": [
       "0"
      ]
     },
     "execution_count": 137,
     "metadata": {},
     "output_type": "execute_result"
    }
   ],
   "source": [
    "a = {}\n",
    "# a.pop(), a"
   ]
  },
  {
   "cell_type": "code",
   "execution_count": 80,
   "id": "aae3ba35-86d8-40cf-8282-9b90a74576e7",
   "metadata": {},
   "outputs": [],
   "source": [
    "from scipy.sparse.csgraph import floyd_warshall\n",
    "\n",
    "_, previous = floyd_warshall(adjacency, return_predecessors = True)"
   ]
  },
  {
   "cell_type": "code",
   "execution_count": 81,
   "id": "f958aabc-f9ad-4042-970e-9662f82a941c",
   "metadata": {},
   "outputs": [
    {
     "data": {
      "text/plain": [
       "array([[-9999,    17,    91, ...,     0,    60,    25],\n",
       "       [   94, -9999,     1, ...,    62,    59,    18],\n",
       "       [   94,     2, -9999, ...,    62,    95,    48],\n",
       "       ...,\n",
       "       [   97,    65,    17, ..., -9999,    99,    84],\n",
       "       [   94,    17,    91, ...,    84, -9999,    98],\n",
       "       [   94,    17,    91, ...,    84,    99, -9999]], dtype=int32)"
      ]
     },
     "execution_count": 81,
     "metadata": {},
     "output_type": "execute_result"
    }
   ],
   "source": [
    "previous"
   ]
  },
  {
   "cell_type": "code",
   "execution_count": 69,
   "id": "136596f5-8566-490f-892d-9467d53c0a8d",
   "metadata": {},
   "outputs": [
    {
     "data": {
      "text/plain": [
       "[550, 91, 264, 625, 146, 180, 0]"
      ]
     },
     "execution_count": 69,
     "metadata": {},
     "output_type": "execute_result"
    }
   ],
   "source": [
    "u = 0\n",
    "v = 550\n",
    "\n",
    "path = [v]\n",
    "\n",
    "k = 0\n",
    "while u != v:\n",
    "    \n",
    "    k += 1\n",
    "    if k > 100:\n",
    "        break\n",
    "    \n",
    "    v = previous[u][v]\n",
    "    path.append(v)\n",
    "\n",
    "path   "
   ]
  },
  {
   "cell_type": "code",
   "execution_count": 52,
   "id": "9c8be9a0-182a-45e5-933f-ccd3b9e414e3",
   "metadata": {},
   "outputs": [
    {
     "data": {
      "text/plain": [
       "True"
      ]
     },
     "execution_count": 52,
     "metadata": {},
     "output_type": "execute_result"
    }
   ],
   "source": [
    "graph.is_directed()"
   ]
  },
  {
   "cell_type": "code",
   "execution_count": 59,
   "id": "9b4bde4f-c6f7-4711-891c-f9b4589e2b48",
   "metadata": {},
   "outputs": [
    {
     "name": "stdout",
     "output_type": "stream",
     "text": [
      "Executed in 0.8562 seconds\n"
     ]
    }
   ],
   "source": [
    "'''\n",
    "Running with Bellman with default objective\n",
    "\n",
    "This cell uses a simple objective function which minimizes travel time but limits\n",
    "the travel time of edge which can be traversed forcing indirect routes in some cases.\n",
    "This is a fairly limiting cost function which, more or less mimics the NetworkX\n",
    "implementation.\n",
    "'''\n",
    "deep_reload(src)\n",
    "\n",
    "# Selecting the origin - this must be an iterable. Multiple origins can be selected.\n",
    "origins = [k for k in graph.nodes if 'place' in k]\n",
    "pivots = [k for k in graph.nodes if 'place' not in k]\n",
    "# origins = ['place_0']\n",
    "\n",
    "# Defining the cost function\n",
    "objective = src.floyd_warshall.Objective(field = 'time', edge_limit = 3600 * 2)\n",
    "\n",
    "t0 = time.time()\n",
    "\n",
    "# Running the optimization\n",
    "costs, values, paths = src.floyd_warshall.floyd_warshall(\n",
    "    graph, origins,\n",
    "    pivots = pivots,\n",
    "    objective = objective,\n",
    "    return_paths = True,\n",
    ")\n",
    "\n",
    "print(f'Executed in {time.time() - t0:.4f} seconds')"
   ]
  },
  {
   "cell_type": "code",
   "execution_count": 62,
   "id": "1730c03b-53dd-434f-b192-737b816efc39",
   "metadata": {},
   "outputs": [
    {
     "data": {
      "text/plain": [
       "{'place_0': 32973.00116660798,\n",
       " 'place_1': 0.0,\n",
       " 'place_2': 4682.781122601585,\n",
       " 'place_3': 33600.24587843644,\n",
       " 'place_4': 27843.99826641951,\n",
       " 'place_5': 19185.581178251567,\n",
       " 'place_6': 31816.150408820453,\n",
       " 'place_7': 17074.77383852056,\n",
       " 'place_8': 32319.29213570632,\n",
       " 'place_9': 34161.58203722548,\n",
       " 'place_10': 15808.378506572184,\n",
       " 'place_11': 11407.949624792023,\n",
       " 'place_12': 22789.68032854288,\n",
       " 'place_13': 15457.268914873042,\n",
       " 'place_14': 32522.701499528095,\n",
       " 'station_0': 25728.477930775072,\n",
       " 'station_1': 22814.099129779446,\n",
       " 'station_2': 5243.556605726273,\n",
       " 'station_3': 11778.093297700783,\n",
       " 'station_4': 5099.977314052751,\n",
       " 'station_5': 20711.40161184728,\n",
       " 'station_6': 29778.138931252724,\n",
       " 'station_7': 13493.36601860723,\n",
       " 'station_8': 16196.82621885345,\n",
       " 'station_9': 31596.59013230054,\n",
       " 'station_10': 22928.27693932585,\n",
       " 'station_11': 21336.452331920278,\n",
       " 'station_12': 21816.19345287699,\n",
       " 'station_13': 22160.049005360946,\n",
       " 'station_14': 30591.585146385332,\n",
       " 'station_15': 20026.21505601159,\n",
       " 'station_16': 12302.856869766058,\n",
       " 'station_17': 27206.534672447764,\n",
       " 'station_18': 4408.553118646465,\n",
       " 'station_19': 21643.362402831164,\n",
       " 'station_20': 17449.870998535407,\n",
       " 'station_21': 14533.9136213505,\n",
       " 'station_22': 17153.884131352686,\n",
       " 'station_23': 33598.67440719266,\n",
       " 'station_24': 11547.028246901478,\n",
       " 'station_25': 33113.263346439395,\n",
       " 'station_26': 19028.598317358985,\n",
       " 'station_27': 23967.65732198306,\n",
       " 'station_28': 26258.357664817686,\n",
       " 'station_29': 21829.35343384418,\n",
       " 'station_30': 3324.547035714568,\n",
       " 'station_31': 10453.232587119484,\n",
       " 'station_32': 9440.823728037165,\n",
       " 'station_33': 14969.436042193272,\n",
       " 'station_34': 15873.033390388671,\n",
       " 'station_35': 23926.5275359871,\n",
       " 'station_36': 22218.450469736006,\n",
       " 'station_37': 19869.337687807823,\n",
       " 'station_38': 21334.872269210275,\n",
       " 'station_39': 12134.480945114334,\n",
       " 'station_40': 10911.301359504017,\n",
       " 'station_41': 21948.489317851825,\n",
       " 'station_42': 17356.795831527583,\n",
       " 'station_43': 28605.78391794787,\n",
       " 'station_44': 11965.175676411647,\n",
       " 'station_45': 23181.249397657404,\n",
       " 'station_46': 27591.401106681984,\n",
       " 'station_47': 24257.860778631555,\n",
       " 'station_48': 14713.709079130576,\n",
       " 'station_49': 30062.30985121872,\n",
       " 'station_50': 6932.327903450977,\n",
       " 'station_51': 22394.575645860292,\n",
       " 'station_52': 23332.347615013776,\n",
       " 'station_53': 19873.64240170164,\n",
       " 'station_54': 24903.123513269966,\n",
       " 'station_55': 23771.633459891884,\n",
       " 'station_56': 26703.47628047203,\n",
       " 'station_57': 17582.988494810885,\n",
       " 'station_58': 23059.651674783196,\n",
       " 'station_59': 21752.383201714223,\n",
       " 'station_60': 35796.213083779505,\n",
       " 'station_61': 17290.7795501412,\n",
       " 'station_62': 31785.348991702067,\n",
       " 'station_63': 11572.458361745475,\n",
       " 'station_64': 28389.202241432078,\n",
       " 'station_65': 16728.497604558674,\n",
       " 'station_66': 25936.552726141403,\n",
       " 'station_67': 21832.049957785133,\n",
       " 'station_68': 18209.60097313402,\n",
       " 'station_69': 25344.25173941921,\n",
       " 'station_70': 23538.146464470046,\n",
       " 'station_71': 12749.721475678121,\n",
       " 'station_72': 16797.836905333075,\n",
       " 'station_73': 30543.96661072666,\n",
       " 'station_74': 28215.25795789036,\n",
       " 'station_75': 19845.75974897376,\n",
       " 'station_76': 8570.143290310052,\n",
       " 'station_77': 16686.33882670667,\n",
       " 'station_78': 5453.329807492765,\n",
       " 'station_79': 26248.607935381166,\n",
       " 'station_80': 14992.068616895858,\n",
       " 'station_81': 20748.040771162126,\n",
       " 'station_82': 27429.226501182657,\n",
       " 'station_83': 17291.88032690869,\n",
       " 'station_84': 18632.987697468976}"
      ]
     },
     "execution_count": 62,
     "metadata": {},
     "output_type": "execute_result"
    }
   ],
   "source": [
    "costs['place_1']"
   ]
  },
  {
   "cell_type": "code",
   "execution_count": 61,
   "id": "8a4e4a91-73ee-4e2d-a516-47bc67c07f23",
   "metadata": {},
   "outputs": [
    {
     "data": {
      "text/plain": [
       "['place_1',\n",
       " 'station_2',\n",
       " 'station_3',\n",
       " 'station_84',\n",
       " 'station_10',\n",
       " 'station_79',\n",
       " 'place_0']"
      ]
     },
     "execution_count": 61,
     "metadata": {},
     "output_type": "execute_result"
    }
   ],
   "source": [
    "previous = paths\n",
    "\n",
    "u = 'place_0'\n",
    "v = 'place_1'\n",
    "\n",
    "path = [v]\n",
    "\n",
    "k = 0\n",
    "while u != v:\n",
    "    \n",
    "    k += 1\n",
    "    if k > 100:\n",
    "        break\n",
    "    \n",
    "    v = previous[u][v]\n",
    "    path.append(v)\n",
    "\n",
    "path   "
   ]
  }
 ],
 "metadata": {
  "kernelspec": {
   "display_name": "Python 3 (ipykernel)",
   "language": "python",
   "name": "python3"
  },
  "language_info": {
   "codemirror_mode": {
    "name": "ipython",
    "version": 3
   },
   "file_extension": ".py",
   "mimetype": "text/x-python",
   "name": "python",
   "nbconvert_exporter": "python",
   "pygments_lexer": "ipython3",
   "version": "3.11.5"
  }
 },
 "nbformat": 4,
 "nbformat_minor": 5
}
