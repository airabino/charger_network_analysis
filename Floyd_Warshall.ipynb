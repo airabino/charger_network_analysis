{
 "cells": [
  {
   "cell_type": "code",
   "execution_count": 1,
   "id": "b60fb28a-edb0-4de8-8cfe-623ef1d0b310",
   "metadata": {
    "tags": []
   },
   "outputs": [],
   "source": [
    "import warnings\n",
    "warnings.filterwarnings(\"ignore\")\n",
    "\n",
    "import os\n",
    "import sys\n",
    "import time\n",
    "import json\n",
    "import numpy as np\n",
    "import pandas as pd\n",
    "import geopandas as gpd\n",
    "import pickle as pkl\n",
    "import networkx as nx\n",
    "import matplotlib.pyplot as plt\n",
    "\n",
    "from pprint import pprint\n",
    "\n",
    "import src\n",
    "from src.reload import deep_reload"
   ]
  },
  {
   "cell_type": "markdown",
   "id": "fd53482d-22df-456b-82c8-02fe541e6d25",
   "metadata": {},
   "source": [
    "This notebook shows how supply sensitive routing works using a randomly generated graph. The core concepts are outlined in the associated paper. In this notebook, a random graph containing places and stations is generated. First a generic example is given where routing is done purely to minimize travel time. Second, a case including vehicle and station parameters is generated and run."
   ]
  },
  {
   "cell_type": "code",
   "execution_count": 33,
   "id": "4c4ea415-56b6-48c8-b638-fd22e73047c5",
   "metadata": {},
   "outputs": [],
   "source": [
    "'''\n",
    "Creating a random graph\n",
    "\n",
    "graph contains n places and m charging stations - the random graph is completely connected\n",
    "'''\n",
    "deep_reload(src)\n",
    "\n",
    "# Parameters for graph creation\n",
    "seed = 125396749 # RNG seed [-]\n",
    "n = 15 # Number of places [-]\n",
    "m = 85 # Number of stations [-]\n",
    "speeds = [105 / 3.6] # Set of speeds to be assigned to links [m/s]\n",
    "chargers = list(range(10)) # Set of numbers of chargers to be assigned to stations [-]\n",
    "scale = (1e6, 1e6) # Scale of the area on which the graph is generated ([m], [m])\n",
    "\n",
    "# Setting the graph as directed\n",
    "kw = {\n",
    "    'graph': {\n",
    "        'directed': True,\n",
    "    },\n",
    "}\n",
    "\n",
    "# Creating the graph\n",
    "graph = src.rng.random_completely_connected_graph(\n",
    "    n, m, speeds = speeds, scale = scale, seed = seed, chargers = chargers, **kw\n",
    ")\n",
    "\n",
    "# # Marking the edge types by source and target type\n",
    "# graph = src.routing.edge_types(graph)"
   ]
  },
  {
   "cell_type": "code",
   "execution_count": 40,
   "id": "db66c72e-a3d7-4ea1-9ce2-8a7c74a2b676",
   "metadata": {},
   "outputs": [],
   "source": [
    "adjacency = nx.to_numpy_array(graph, weight = 'time')\n",
    "adjacency[adjacency > 2 * 3600] = np.inf"
   ]
  },
  {
   "cell_type": "code",
   "execution_count": 41,
   "id": "4a2f2d96-729e-4281-8c28-6d6ae2f05907",
   "metadata": {},
   "outputs": [
    {
     "data": {
      "text/plain": [
       "array([[   0.        ,           inf,           inf, ..., 6295.49467068,\n",
       "                  inf,           inf],\n",
       "       [          inf,    0.        , 4682.7811226 , ...,           inf,\n",
       "                  inf,           inf],\n",
       "       [          inf, 4682.7811226 ,    0.        , ...,           inf,\n",
       "                  inf,           inf],\n",
       "       ...,\n",
       "       [6295.49467068,           inf,           inf, ...,    0.        ,\n",
       "                  inf,           inf],\n",
       "       [          inf,           inf,           inf, ...,           inf,\n",
       "           0.        , 4071.12196209],\n",
       "       [          inf,           inf,           inf, ...,           inf,\n",
       "        4071.12196209,    0.        ]])"
      ]
     },
     "execution_count": 41,
     "metadata": {},
     "output_type": "execute_result"
    }
   ],
   "source": [
    "adjacency"
   ]
  },
  {
   "cell_type": "code",
   "execution_count": 47,
   "id": "aae3ba35-86d8-40cf-8282-9b90a74576e7",
   "metadata": {},
   "outputs": [],
   "source": [
    "from scipy.sparse.csgraph import floyd_warshall\n",
    "\n",
    "_, previous = floyd_warshall(adjacency, return_predecessors = True)"
   ]
  },
  {
   "cell_type": "code",
   "execution_count": 48,
   "id": "f958aabc-f9ad-4042-970e-9662f82a941c",
   "metadata": {},
   "outputs": [
    {
     "data": {
      "text/plain": [
       "array([[-9999,    17,    91, ...,     0,    60,    25],\n",
       "       [   94, -9999,     1, ...,    62,    59,    18],\n",
       "       [   94,     2, -9999, ...,    62,    95,    48],\n",
       "       ...,\n",
       "       [   97,    65,    17, ..., -9999,    99,    84],\n",
       "       [   94,    17,    91, ...,    84, -9999,    98],\n",
       "       [   94,    17,    91, ...,    84,    99, -9999]], dtype=int32)"
      ]
     },
     "execution_count": 48,
     "metadata": {},
     "output_type": "execute_result"
    }
   ],
   "source": [
    "previous"
   ]
  },
  {
   "cell_type": "code",
   "execution_count": 51,
   "id": "136596f5-8566-490f-892d-9467d53c0a8d",
   "metadata": {},
   "outputs": [
    {
     "data": {
      "text/plain": [
       "[55, 31, 95, 99, 25, 94, 0]"
      ]
     },
     "execution_count": 51,
     "metadata": {},
     "output_type": "execute_result"
    }
   ],
   "source": [
    "u = 0\n",
    "v = 55\n",
    "\n",
    "path = [v]\n",
    "\n",
    "k = 0\n",
    "while u != v:\n",
    "    \n",
    "    k += 1\n",
    "    if k > 100:\n",
    "        break\n",
    "    \n",
    "    v = previous[u][v]\n",
    "    path.append(v)\n",
    "\n",
    "path   "
   ]
  },
  {
   "cell_type": "code",
   "execution_count": 52,
   "id": "9c8be9a0-182a-45e5-933f-ccd3b9e414e3",
   "metadata": {},
   "outputs": [
    {
     "data": {
      "text/plain": [
       "True"
      ]
     },
     "execution_count": 52,
     "metadata": {},
     "output_type": "execute_result"
    }
   ],
   "source": [
    "graph.is_directed()"
   ]
  },
  {
   "cell_type": "code",
   "execution_count": 59,
   "id": "9b4bde4f-c6f7-4711-891c-f9b4589e2b48",
   "metadata": {},
   "outputs": [
    {
     "name": "stdout",
     "output_type": "stream",
     "text": [
      "Executed in 0.8562 seconds\n"
     ]
    }
   ],
   "source": [
    "'''\n",
    "Running with Bellman with default objective\n",
    "\n",
    "This cell uses a simple objective function which minimizes travel time but limits\n",
    "the travel time of edge which can be traversed forcing indirect routes in some cases.\n",
    "This is a fairly limiting cost function which, more or less mimics the NetworkX\n",
    "implementation.\n",
    "'''\n",
    "deep_reload(src)\n",
    "\n",
    "# Selecting the origin - this must be an iterable. Multiple origins can be selected.\n",
    "origins = [k for k in graph.nodes if 'place' in k]\n",
    "pivots = [k for k in graph.nodes if 'place' not in k]\n",
    "# origins = ['place_0']\n",
    "\n",
    "# Defining the cost function\n",
    "objective = src.floyd_warshall.Objective(field = 'time', edge_limit = 3600 * 2)\n",
    "\n",
    "t0 = time.time()\n",
    "\n",
    "# Running the optimization\n",
    "costs, values, paths = src.floyd_warshall.floyd_warshall(\n",
    "    graph, origins,\n",
    "    pivots = pivots,\n",
    "    objective = objective,\n",
    "    return_paths = True,\n",
    ")\n",
    "\n",
    "print(f'Executed in {time.time() - t0:.4f} seconds')"
   ]
  },
  {
   "cell_type": "code",
   "execution_count": 62,
   "id": "1730c03b-53dd-434f-b192-737b816efc39",
   "metadata": {},
   "outputs": [
    {
     "data": {
      "text/plain": [
       "{'place_0': 32973.00116660798,\n",
       " 'place_1': 0.0,\n",
       " 'place_2': 4682.781122601585,\n",
       " 'place_3': 33600.24587843644,\n",
       " 'place_4': 27843.99826641951,\n",
       " 'place_5': 19185.581178251567,\n",
       " 'place_6': 31816.150408820453,\n",
       " 'place_7': 17074.77383852056,\n",
       " 'place_8': 32319.29213570632,\n",
       " 'place_9': 34161.58203722548,\n",
       " 'place_10': 15808.378506572184,\n",
       " 'place_11': 11407.949624792023,\n",
       " 'place_12': 22789.68032854288,\n",
       " 'place_13': 15457.268914873042,\n",
       " 'place_14': 32522.701499528095,\n",
       " 'station_0': 25728.477930775072,\n",
       " 'station_1': 22814.099129779446,\n",
       " 'station_2': 5243.556605726273,\n",
       " 'station_3': 11778.093297700783,\n",
       " 'station_4': 5099.977314052751,\n",
       " 'station_5': 20711.40161184728,\n",
       " 'station_6': 29778.138931252724,\n",
       " 'station_7': 13493.36601860723,\n",
       " 'station_8': 16196.82621885345,\n",
       " 'station_9': 31596.59013230054,\n",
       " 'station_10': 22928.27693932585,\n",
       " 'station_11': 21336.452331920278,\n",
       " 'station_12': 21816.19345287699,\n",
       " 'station_13': 22160.049005360946,\n",
       " 'station_14': 30591.585146385332,\n",
       " 'station_15': 20026.21505601159,\n",
       " 'station_16': 12302.856869766058,\n",
       " 'station_17': 27206.534672447764,\n",
       " 'station_18': 4408.553118646465,\n",
       " 'station_19': 21643.362402831164,\n",
       " 'station_20': 17449.870998535407,\n",
       " 'station_21': 14533.9136213505,\n",
       " 'station_22': 17153.884131352686,\n",
       " 'station_23': 33598.67440719266,\n",
       " 'station_24': 11547.028246901478,\n",
       " 'station_25': 33113.263346439395,\n",
       " 'station_26': 19028.598317358985,\n",
       " 'station_27': 23967.65732198306,\n",
       " 'station_28': 26258.357664817686,\n",
       " 'station_29': 21829.35343384418,\n",
       " 'station_30': 3324.547035714568,\n",
       " 'station_31': 10453.232587119484,\n",
       " 'station_32': 9440.823728037165,\n",
       " 'station_33': 14969.436042193272,\n",
       " 'station_34': 15873.033390388671,\n",
       " 'station_35': 23926.5275359871,\n",
       " 'station_36': 22218.450469736006,\n",
       " 'station_37': 19869.337687807823,\n",
       " 'station_38': 21334.872269210275,\n",
       " 'station_39': 12134.480945114334,\n",
       " 'station_40': 10911.301359504017,\n",
       " 'station_41': 21948.489317851825,\n",
       " 'station_42': 17356.795831527583,\n",
       " 'station_43': 28605.78391794787,\n",
       " 'station_44': 11965.175676411647,\n",
       " 'station_45': 23181.249397657404,\n",
       " 'station_46': 27591.401106681984,\n",
       " 'station_47': 24257.860778631555,\n",
       " 'station_48': 14713.709079130576,\n",
       " 'station_49': 30062.30985121872,\n",
       " 'station_50': 6932.327903450977,\n",
       " 'station_51': 22394.575645860292,\n",
       " 'station_52': 23332.347615013776,\n",
       " 'station_53': 19873.64240170164,\n",
       " 'station_54': 24903.123513269966,\n",
       " 'station_55': 23771.633459891884,\n",
       " 'station_56': 26703.47628047203,\n",
       " 'station_57': 17582.988494810885,\n",
       " 'station_58': 23059.651674783196,\n",
       " 'station_59': 21752.383201714223,\n",
       " 'station_60': 35796.213083779505,\n",
       " 'station_61': 17290.7795501412,\n",
       " 'station_62': 31785.348991702067,\n",
       " 'station_63': 11572.458361745475,\n",
       " 'station_64': 28389.202241432078,\n",
       " 'station_65': 16728.497604558674,\n",
       " 'station_66': 25936.552726141403,\n",
       " 'station_67': 21832.049957785133,\n",
       " 'station_68': 18209.60097313402,\n",
       " 'station_69': 25344.25173941921,\n",
       " 'station_70': 23538.146464470046,\n",
       " 'station_71': 12749.721475678121,\n",
       " 'station_72': 16797.836905333075,\n",
       " 'station_73': 30543.96661072666,\n",
       " 'station_74': 28215.25795789036,\n",
       " 'station_75': 19845.75974897376,\n",
       " 'station_76': 8570.143290310052,\n",
       " 'station_77': 16686.33882670667,\n",
       " 'station_78': 5453.329807492765,\n",
       " 'station_79': 26248.607935381166,\n",
       " 'station_80': 14992.068616895858,\n",
       " 'station_81': 20748.040771162126,\n",
       " 'station_82': 27429.226501182657,\n",
       " 'station_83': 17291.88032690869,\n",
       " 'station_84': 18632.987697468976}"
      ]
     },
     "execution_count": 62,
     "metadata": {},
     "output_type": "execute_result"
    }
   ],
   "source": [
    "costs['place_1']"
   ]
  },
  {
   "cell_type": "code",
   "execution_count": 61,
   "id": "8a4e4a91-73ee-4e2d-a516-47bc67c07f23",
   "metadata": {},
   "outputs": [
    {
     "data": {
      "text/plain": [
       "['place_1',\n",
       " 'station_2',\n",
       " 'station_3',\n",
       " 'station_84',\n",
       " 'station_10',\n",
       " 'station_79',\n",
       " 'place_0']"
      ]
     },
     "execution_count": 61,
     "metadata": {},
     "output_type": "execute_result"
    }
   ],
   "source": [
    "previous = paths\n",
    "\n",
    "u = 'place_0'\n",
    "v = 'place_1'\n",
    "\n",
    "path = [v]\n",
    "\n",
    "k = 0\n",
    "while u != v:\n",
    "    \n",
    "    k += 1\n",
    "    if k > 100:\n",
    "        break\n",
    "    \n",
    "    v = previous[u][v]\n",
    "    path.append(v)\n",
    "\n",
    "path   "
   ]
  }
 ],
 "metadata": {
  "kernelspec": {
   "display_name": "Python 3 (ipykernel)",
   "language": "python",
   "name": "python3"
  },
  "language_info": {
   "codemirror_mode": {
    "name": "ipython",
    "version": 3
   },
   "file_extension": ".py",
   "mimetype": "text/x-python",
   "name": "python",
   "nbconvert_exporter": "python",
   "pygments_lexer": "ipython3",
   "version": "3.11.5"
  }
 },
 "nbformat": 4,
 "nbformat_minor": 5
}
