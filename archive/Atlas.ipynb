{
 "cells": [
  {
   "cell_type": "code",
   "execution_count": 2,
   "id": "47aaea2a-2ce3-424c-8bd8-107227f99bff",
   "metadata": {
    "tags": []
   },
   "outputs": [],
   "source": [
    "import warnings\n",
    "warnings.filterwarnings(\"ignore\")\n",
    "\n",
    "import os\n",
    "import time\n",
    "import json\n",
    "import numpy as np\n",
    "import pandas as pd\n",
    "import geopandas as gpd\n",
    "import pickle as pkl\n",
    "import networkx as nx\n",
    "import matplotlib.pyplot as plt\n",
    "\n",
    "import src\n",
    "from src.reload import deep_reload"
   ]
  },
  {
   "cell_type": "code",
   "execution_count": 3,
   "id": "893d659a-de22-4068-b208-1e4b48b586be",
   "metadata": {},
   "outputs": [],
   "source": [
    "# Creating the road atlas\n",
    "deep_reload(src)\n",
    "\n",
    "filepath = '../Atlas_Source/California_Roads.shp'\n",
    "\n",
    "node_attributes = {}\n",
    "link_attributes = {\n",
    "    \"distance\": \"lambda e: e['LENGTH']*1e3\",\n",
    "    \"speed\": \"lambda e: e['SPEEDLIM']/3.6\",\n",
    "    \"time\": \"lambda e: (e['LENGTH']*1e3)/(e['SPEEDLIM']/3.6)\",\n",
    "    \"road_number\": \"lambda e: e['ROADNUM']\"\n",
    "}\n",
    "\n",
    "atlas = src.graph.graph_from_shapefile(filepath, node_attributes, link_attributes)"
   ]
  },
  {
   "cell_type": "code",
   "execution_count": 4,
   "id": "98aeb42a-91ef-43c0-a720-38d70e7291bd",
   "metadata": {},
   "outputs": [],
   "source": [
    "src.graph.graph_to_json(atlas, 'Outputs/atlas.json')"
   ]
  }
 ],
 "metadata": {
  "kernelspec": {
   "display_name": "Python 3 (ipykernel)",
   "language": "python",
   "name": "python3"
  },
  "language_info": {
   "codemirror_mode": {
    "name": "ipython",
    "version": 3
   },
   "file_extension": ".py",
   "mimetype": "text/x-python",
   "name": "python",
   "nbconvert_exporter": "python",
   "pygments_lexer": "ipython3",
   "version": "3.11.5"
  }
 },
 "nbformat": 4,
 "nbformat_minor": 5
}
