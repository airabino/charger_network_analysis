{
 "cells": [
  {
   "cell_type": "code",
   "execution_count": 1,
   "id": "7b0b9f1d-4571-40f9-b73d-f69b862a6ece",
   "metadata": {
    "tags": []
   },
   "outputs": [],
   "source": [
    "import warnings\n",
    "warnings.filterwarnings(\"ignore\")\n",
    "\n",
    "import os\n",
    "import sys\n",
    "import time\n",
    "import json\n",
    "import numpy as np\n",
    "import pandas as pd\n",
    "import geopandas as gpd\n",
    "import pickle as pkl\n",
    "import networkx as nx\n",
    "import matplotlib.pyplot as plt\n",
    "import networkx as nx\n",
    "\n",
    "import src\n",
    "from src.reload import deep_reload"
   ]
  },
  {
   "cell_type": "code",
   "execution_count": 84,
   "id": "720de595-0141-483c-a70a-68c292a984ee",
   "metadata": {},
   "outputs": [],
   "source": [
    "g = nx.Graph()\n",
    "g.add_weighted_edges_from(\n",
    "    [('A', 'B', 2),\n",
    "     ('A', 'E', 5),\n",
    "     ('B', 'E', 5),\n",
    "     ('A', 'D', 1),\n",
    "     ('B', 'C', 1),\n",
    "     ('C', 'D', 10)]\n",
    ")"
   ]
  },
  {
   "cell_type": "code",
   "execution_count": 85,
   "id": "ac35bcc2-9410-4006-b648-d22347ce6772",
   "metadata": {},
   "outputs": [
    {
     "data": {
      "text/plain": [
       "{'A': 0.75, 'B': 0.75, 'E': 0.5, 'D': 0.5, 'C': 0.5}"
      ]
     },
     "execution_count": 85,
     "metadata": {},
     "output_type": "execute_result"
    }
   ],
   "source": [
    "nx.degree_centrality(g)"
   ]
  },
  {
   "cell_type": "code",
   "execution_count": 86,
   "id": "52f15b74-423c-4f77-8ad6-631f36a510a5",
   "metadata": {},
   "outputs": [
    {
     "data": {
      "text/plain": [
       "{'A': 0.5, 'B': 0.5, 'E': 0.0, 'D': 0.0, 'C': 0.0}"
      ]
     },
     "execution_count": 86,
     "metadata": {},
     "output_type": "execute_result"
    }
   ],
   "source": [
    "nx.betweenness_centrality(g, weight = 'weight')"
   ]
  },
  {
   "cell_type": "code",
   "execution_count": 87,
   "id": "5a2f12c2-02bc-4ce4-976d-d13600ce8fbc",
   "metadata": {},
   "outputs": [
    {
     "data": {
      "text/plain": [
       "{'A': 0.36363636363636365,\n",
       " 'B': 0.36363636363636365,\n",
       " 'E': 0.18181818181818182,\n",
       " 'D': 0.2857142857142857,\n",
       " 'C': 0.2857142857142857}"
      ]
     },
     "execution_count": 87,
     "metadata": {},
     "output_type": "execute_result"
    }
   ],
   "source": [
    "nx.closeness_centrality(g, distance = 'weight')"
   ]
  },
  {
   "cell_type": "code",
   "execution_count": 88,
   "id": "e9df4a64-ba37-424c-b709-2582aaffaf10",
   "metadata": {},
   "outputs": [
    {
     "data": {
      "text/plain": [
       "{'A': 0.6668793873643907,\n",
       " 'B': 0.6668793873643907,\n",
       " 'E': 0.6458590852904822,\n",
       " 'D': 0.5353483606557378,\n",
       " 'C': 0.5353483606557379}"
      ]
     },
     "execution_count": 88,
     "metadata": {},
     "output_type": "execute_result"
    }
   ],
   "source": [
    "nx.information_centrality(g, weight = 'weight')"
   ]
  },
  {
   "cell_type": "code",
   "execution_count": 89,
   "id": "75816551-11e6-49a5-8963-a062354c27b3",
   "metadata": {},
   "outputs": [],
   "source": [
    "g = nx.Graph()\n",
    "g.add_weighted_edges_from(\n",
    "    [('A', 'B', 2),\n",
    "     ('A', 'E', 5),\n",
    "     ('B', 'E', 5),\n",
    "     ('A', 'D', 1),\n",
    "     ('B', 'C', 1),\n",
    "     ('C', 'D', 5)]\n",
    ")"
   ]
  },
  {
   "cell_type": "code",
   "execution_count": 118,
   "id": "d7be58e7-aa8e-4494-9723-92955e05b3d9",
   "metadata": {},
   "outputs": [
    {
     "data": {
      "text/plain": [
       "array([3.33439694, 3.33439694, 3.22929543, 2.6767418 , 2.6767418 ])"
      ]
     },
     "execution_count": 118,
     "metadata": {},
     "output_type": "execute_result"
    }
   ],
   "source": [
    "g = nx.Graph()\n",
    "g.add_weighted_edges_from(\n",
    "    [('A', 'B', 2),\n",
    "     ('A', 'E', 5),\n",
    "     ('B', 'E', 5),\n",
    "     ('A', 'D', 1),\n",
    "     ('B', 'C', 1),\n",
    "     ('C', 'D', 10)]\n",
    ")\n",
    "\n",
    "a = nx.to_numpy_array(g)\n",
    "d = np.diag([r.sum() for r in a])\n",
    "b =  d - a + 1\n",
    "\n",
    "c = np.linalg.inv(b)\n",
    "\n",
    "n = g.number_of_nodes()\n",
    "\n",
    "ic = 1 / (np.diag(c) + (np.diag(c).sum() - 2 * c.sum(axis = 0)) / n)\n",
    "ic"
   ]
  },
  {
   "cell_type": "code",
   "execution_count": 125,
   "id": "7a49f755-d80e-4145-97e1-5cc12c6c3715",
   "metadata": {},
   "outputs": [
    {
     "data": {
      "text/plain": [
       "(array([6.66879387, 6.66879387, 6.45859085, 5.35348361, 5.35348361]),\n",
       " {'A': 6.668793873643911,\n",
       "  'B': 6.668793873643911,\n",
       "  'E': 6.458590852904827,\n",
       "  'D': 5.353483606557382,\n",
       "  'C': 5.353483606557382})"
      ]
     },
     "execution_count": 125,
     "metadata": {},
     "output_type": "execute_result"
    }
   ],
   "source": [
    "g = nx.Graph()\n",
    "g.add_weighted_edges_from(\n",
    "    [('A', 'B', 20),\n",
    "     ('A', 'E', 50),\n",
    "     ('B', 'E', 50),\n",
    "     ('A', 'D', 10),\n",
    "     ('B', 'C', 10),\n",
    "     ('C', 'D', 100)]\n",
    ")\n",
    "\n",
    "a = nx.to_numpy_array(g)\n",
    "d = np.diag([r.sum() for r in a])\n",
    "b =  d - a + 1\n",
    "\n",
    "c = np.linalg.inv(b)\n",
    "\n",
    "n = g.number_of_nodes()\n",
    "\n",
    "ic = 1 / (np.diag(c) + (np.diag(c).sum() - 2 * c.sum(axis = 0)) / n)\n",
    "ic/n, nx.information_centrality(g, weight = 'weight')"
   ]
  },
  {
   "cell_type": "code",
   "execution_count": 166,
   "id": "8aeb9cba-3f4e-4150-9386-8ebdf1520f05",
   "metadata": {},
   "outputs": [
    {
     "data": {
      "text/plain": [
       "(array([0.3125, 0.3125, 0.3125, 0.3125, 0.3125]), 1.5625)"
      ]
     },
     "execution_count": 166,
     "metadata": {},
     "output_type": "execute_result"
    }
   ],
   "source": [
    "g = nx.Graph()\n",
    "g.add_weighted_edges_from(\n",
    "    [('A', 'B', 1),\n",
    "     ('A', 'C', 1),\n",
    "     ('A', 'D', 1),\n",
    "     ('A', 'E', 1),\n",
    "     ('B', 'C', 1),\n",
    "     ('B', 'D', 1),\n",
    "     ('B', 'E', 1),\n",
    "     ('C', 'D', 1),\n",
    "     ('C', 'E', 1),\n",
    "     ('D', 'E', 1),\n",
    "    ])\n",
    "\n",
    "a = nx.to_numpy_array(g)\n",
    "a /= a.sum() / 2\n",
    "d = np.diag([r.sum() for r in a])\n",
    "b =  d - a + 1\n",
    "\n",
    "c = np.linalg.inv(b)\n",
    "\n",
    "n = g.number_of_nodes()\n",
    "\n",
    "ic = 1 / (np.diag(c) + (np.diag(c).sum() - 2 * c.sum(axis = 0)) / n)\n",
    "ic, (ic).sum()"
   ]
  },
  {
   "cell_type": "code",
   "execution_count": 167,
   "id": "58c1c1ce-8203-4d02-badb-84645af47d63",
   "metadata": {},
   "outputs": [
    {
     "data": {
      "text/plain": [
       "(array([0.25, 0.25, 0.25, 0.25, 0.25]), 1.25)"
      ]
     },
     "execution_count": 167,
     "metadata": {},
     "output_type": "execute_result"
    }
   ],
   "source": [
    "g = nx.Graph()\n",
    "g.add_weighted_edges_from(\n",
    "    [('A', 'E', 1),\n",
    "     ('B', 'A', 1),\n",
    "     ('C', 'B', 1),\n",
    "     ('D', 'C', 1),\n",
    "     ('E', 'D', 1),\n",
    "    ])\n",
    "\n",
    "a = nx.to_numpy_array(g)\n",
    "a /= a.sum() / 2\n",
    "d = np.diag([r.sum() for r in a])\n",
    "b =  d - a + 1\n",
    "\n",
    "c = np.linalg.inv(b)\n",
    "\n",
    "n = g.number_of_nodes()\n",
    "\n",
    "ic = 1 / (np.diag(c) + (np.diag(c).sum() - 2 * c.sum(axis = 0)) / n)\n",
    "ic, (ic).sum()"
   ]
  },
  {
   "cell_type": "code",
   "execution_count": 158,
   "id": "5769ea63-2b95-40c0-bfdc-229724134812",
   "metadata": {},
   "outputs": [
    {
     "data": {
      "text/plain": [
       "(array([0.29569892, 0.29569892, 0.22916667, 0.23504274, 0.23504274]),\n",
       " 1.2906499862145022)"
      ]
     },
     "execution_count": 158,
     "metadata": {},
     "output_type": "execute_result"
    }
   ],
   "source": [
    "g = nx.Graph()\n",
    "g.add_weighted_edges_from(\n",
    "    [('A', 'B', 1),\n",
    "     ('A', 'E', 1),\n",
    "     ('B', 'E', 1),\n",
    "     ('A', 'D', 1),\n",
    "     ('B', 'C', 1),\n",
    "     ('C', 'D', 1)]\n",
    ")\n",
    "\n",
    "a = nx.to_numpy_array(g)\n",
    "a /= a.sum() / 2\n",
    "d = np.diag([r.sum() for r in a])\n",
    "b =  d - a + 1\n",
    "\n",
    "c = np.linalg.inv(b)\n",
    "\n",
    "n = g.number_of_nodes()\n",
    "\n",
    "ic = 1 / (np.diag(c) + (np.diag(c).sum() - 2 * c.sum(axis = 0)) / n)\n",
    "ic, (ic).sum()"
   ]
  },
  {
   "cell_type": "code",
   "execution_count": 157,
   "id": "f3417a0e-4cf7-4c0f-999c-e4b7b49024a4",
   "metadata": {},
   "outputs": [
    {
     "data": {
      "text/plain": [
       "(array([0.13893321, 0.13893321, 0.13455398, 0.11153091, 0.11153091]),\n",
       " 0.6354822044439038)"
      ]
     },
     "execution_count": 157,
     "metadata": {},
     "output_type": "execute_result"
    }
   ],
   "source": [
    "g = nx.Graph()\n",
    "g.add_weighted_edges_from(\n",
    "    [('A', 'B', 2),\n",
    "     ('A', 'E', 5),\n",
    "     ('B', 'E', 5),\n",
    "     ('A', 'D', 1),\n",
    "     ('B', 'C', 1),\n",
    "     ('C', 'D', 10)]\n",
    ")\n",
    "\n",
    "a = nx.to_numpy_array(g)\n",
    "\n",
    "a /= a.sum() / 2\n",
    "\n",
    "d = np.diag([r.sum() for r in a])\n",
    "b =  d - a + 1\n",
    "\n",
    "c = np.linalg.inv(b)\n",
    "\n",
    "n = g.number_of_nodes()\n",
    "\n",
    "ic = 1 / (np.diag(c) + (np.diag(c).sum() - 2 * c.sum(axis = 0)) / n)\n",
    "ic, (ic).sum()"
   ]
  },
  {
   "cell_type": "code",
   "execution_count": 90,
   "id": "5c3d66e7-9dff-47c3-ba9b-511acd8c28f3",
   "metadata": {},
   "outputs": [
    {
     "data": {
      "text/plain": [
       "{'A': 0.6472684085510687,\n",
       " 'B': 0.6472684085510687,\n",
       " 'E': 0.627880184331797,\n",
       " 'D': 0.49455535390199623,\n",
       " 'C': 0.49455535390199623}"
      ]
     },
     "execution_count": 90,
     "metadata": {},
     "output_type": "execute_result"
    }
   ],
   "source": [
    "nx.information_centrality(g, weight = 'weight')"
   ]
  },
  {
   "cell_type": "code",
   "execution_count": 100,
   "id": "1b869f80-701d-4163-8eb2-f1bd858abb0d",
   "metadata": {},
   "outputs": [
    {
     "data": {
      "text/plain": [
       "1.242453324894"
      ]
     },
     "execution_count": 100,
     "metadata": {},
     "output_type": "execute_result"
    }
   ],
   "source": [
    "e = np.array([1])\n",
    "\n",
    "e = np.array([.5, .5])\n",
    "\n",
    "e = np.array([.25] * 4)\n",
    "\n",
    "e = np.array([.5] + [.5/3] * 3)\n",
    "\n",
    "(e * np.log(1/e)).sum()"
   ]
  },
  {
   "cell_type": "code",
   "execution_count": 76,
   "id": "88661ef5-6cd6-42ea-b90c-dd8a26200707",
   "metadata": {},
   "outputs": [
    {
     "data": {
      "text/plain": [
       "({'A': 0.05714285714285721,\n",
       "  'B': 0.08000000000000006,\n",
       "  'C': 0.1052631578947369,\n",
       "  'D': 0.11764705882352951,\n",
       "  'E': 0.09302325581395357,\n",
       "  'F': 0.08695652173913052,\n",
       "  'G': 0.0930232558139536},\n",
       " {'A': 0.0,\n",
       "  'B': 0.3333333333333333,\n",
       "  'C': 0.5333333333333333,\n",
       "  'D': 0.6333333333333333,\n",
       "  'E': 0.13333333333333333,\n",
       "  'F': 0.03333333333333333,\n",
       "  'G': 0.13333333333333333})"
      ]
     },
     "execution_count": 76,
     "metadata": {},
     "output_type": "execute_result"
    }
   ],
   "source": [
    "g = nx.Graph()\n",
    "g.add_weighted_edges_from(\n",
    "    [('A', 'B', 1),\n",
    "     ('B', 'C', 1),\n",
    "     ('C', 'D', 1),\n",
    "     ('D', 'E', 1),\n",
    "     ('E', 'F', 1),\n",
    "     ('F', 'G', 1),\n",
    "     ('D', 'G', 1),\n",
    "    ])\n",
    "\n",
    "nx.information_centrality(g, weight = 'weight'), nx.betweenness_centrality(g, weight = 'weight')"
   ]
  },
  {
   "cell_type": "code",
   "execution_count": 143,
   "id": "9b4c2ddd-d6d0-4fdf-8328-2cc46a70b9a9",
   "metadata": {},
   "outputs": [],
   "source": [
    "def normalized_information_centrality(graph, weight = None):\n",
    "\n",
    "    a = nx.to_numpy_array(graph)\n",
    "    a /= a.sum()\n",
    "    d = np.diag([r.sum() for r in a])\n",
    "    b =  d - a + 1\n",
    "    \n",
    "    c = np.linalg.inv(b)\n",
    "    \n",
    "    n = graph.number_of_nodes()\n",
    "    \n",
    "    ic = 1 / (np.diag(c) + (np.diag(c).sum() - 2 * c.sum(axis = 0)) / n)\n",
    "\n",
    "    node_ids = list(graph.nodes)\n",
    "    \n",
    "    return {node_ids[idx]: ic[idx] for idx in range(n)}"
   ]
  },
  {
   "cell_type": "code",
   "execution_count": 152,
   "id": "6de3c2f5-fb43-4871-995e-95e450e1a07a",
   "metadata": {},
   "outputs": [
    {
     "name": "stdout",
     "output_type": "stream",
     "text": [
      "\\hline Node & Baseline & (I, N) & (I, K) & (J, L) \\\\\n",
      "\\hline A & 0.0089 & 0.0083 & 0.0085 & 0.0088 \\\\\n",
      "\\hline F & 0.0131 & 0.0127 & 0.0128 & 0.0137 \\\\\n",
      "\\hline B & 0.0078 & 0.0072 & 0.0074 & 0.0076 \\\\\n",
      "\\hline G & 0.0108 & 0.0102 & 0.0104 & 0.0109 \\\\\n",
      "\\hline C & 0.0089 & 0.0083 & 0.0085 & 0.0088 \\\\\n",
      "\\hline D & 0.0068 & 0.0062 & 0.0064 & 0.0065 \\\\\n",
      "\\hline E & 0.0114 & 0.0124 & 0.0126 & 0.0117 \\\\\n",
      "\\hline H & 0.0128 & 0.0129 & 0.0129 & 0.0133 \\\\\n",
      "\\hline I & 0.0120 & 0.0146 & 0.0149 & 0.0123 \\\\\n",
      "\\hline J & 0.0162 & 0.0162 & 0.0161 & 0.0177 \\\\\n",
      "\\hline K & 0.0155 & 0.0153 & 0.0162 & 0.0157 \\\\\n",
      "\\hline L & 0.0126 & 0.0122 & 0.0128 & 0.0164 \\\\\n",
      "\\hline N & 0.0121 & 0.0147 & 0.0123 & 0.0119 \\\\\n",
      "\\hline O & 0.0087 & 0.0081 & 0.0085 & 0.0099 \\\\\n",
      "\\hline P & 0.0087 & 0.0081 & 0.0085 & 0.0099 \\\\\n",
      "\\hline M & 0.0066 & 0.0061 & 0.0064 & 0.0071 \\\\\n",
      "\\hline R & 0.0085 & 0.0092 & 0.0083 & 0.0081 \\\\\n",
      "\\hline Q & 0.0085 & 0.0092 & 0.0083 & 0.0081 \\\\\n",
      "\\hline Sum & 0.1899 & 0.1920 & 0.1917 & 0.1984 \\\\\n",
      "\\hline\n"
     ]
    }
   ],
   "source": [
    "edges = [\n",
    "    ('A', 'F', 2),\n",
    "    ('B', 'G', 2),\n",
    "    ('C', 'F', 2),\n",
    "    ('D', 'F', 1),\n",
    "    ('E', 'H', 2),\n",
    "    ('E', 'I', 3),\n",
    "    ('F', 'J', 3),\n",
    "    ('G', 'J', 2),\n",
    "    ('H', 'J', 3),\n",
    "    ('I', 'J', 2),\n",
    "    ('J', 'K', 3),\n",
    "    ('K', 'L', 3),\n",
    "    ('K', 'N', 3),\n",
    "    ('L', 'O', 2),\n",
    "    ('L', 'P', 2),\n",
    "    ('L', 'M', 1),\n",
    "    ('N', 'R', 2),\n",
    "    ('N', 'Q', 2),\n",
    "]\n",
    "\n",
    "g = nx.Graph()\n",
    "g.add_weighted_edges_from(edges)\n",
    "ic_1 = normalized_information_centrality(g, weight = 'weight')\n",
    "\n",
    "g = nx.Graph()\n",
    "g.add_weighted_edges_from(edges + [('I', 'N', 6)])\n",
    "ic_2 = normalized_information_centrality(g, weight = 'weight')\n",
    "\n",
    "g = nx.Graph()\n",
    "g.add_weighted_edges_from(edges + [('I', 'K', 4)])\n",
    "ic_3 = normalized_information_centrality(g, weight = 'weight')\n",
    "\n",
    "g = nx.Graph()\n",
    "g.add_weighted_edges_from(edges + [('J', 'L', 5)])\n",
    "ic_4 = normalized_information_centrality(g, weight = 'weight')\n",
    "\n",
    "print('\\\\hline Node & Baseline & (I, N) & (I, K) & (J, L) \\\\\\\\')\n",
    "for key in ic_1.keys():\n",
    "    print(f'\\\\hline {key} & {ic_1[key]:.4f} & {ic_2[key]:.4f} & {ic_3[key]:.4f} & {ic_4[key]:.4f} \\\\\\\\')\n",
    "print(f'\\\\hline Sum & {sum(ic_1.values()):.4f} & {sum(ic_2.values()):.4f} & {sum(ic_3.values()):.4f} & {sum(ic_4.values()):.4f} \\\\\\\\')\n",
    "# print(f'\\\\hline Gini & {gini(list(ic_1.values())):.3f} & {gini(list(ic_2.values())):.3f} & {gini(list(ic_3.values())):.3f} & {gini(list(ic_4.values())):.3f} \\\\\\\\')\n",
    "print('\\\\hline')"
   ]
  },
  {
   "cell_type": "code",
   "execution_count": 82,
   "id": "a2b79266-78c2-4778-9b33-700714fcd3f3",
   "metadata": {},
   "outputs": [
    {
     "name": "stdout",
     "output_type": "stream",
     "text": [
      "\\hline Node & Baseline & (I, N) & (I, K) & (J, L) \\\\\n",
      "\\hline A & 0.000 & 0.000 & 0.000 & 0.000 \\\\\n",
      "\\hline F & 0.331 & 0.331 & 0.331 & 0.331 \\\\\n",
      "\\hline B & 0.000 & 0.000 & 0.000 & 0.000 \\\\\n",
      "\\hline G & 0.118 & 0.118 & 0.118 & 0.118 \\\\\n",
      "\\hline C & 0.000 & 0.000 & 0.000 & 0.000 \\\\\n",
      "\\hline D & 0.000 & 0.000 & 0.000 & 0.000 \\\\\n",
      "\\hline E & 0.004 & 0.004 & 0.004 & 0.004 \\\\\n",
      "\\hline H & 0.055 & 0.044 & 0.026 & 0.055 \\\\\n",
      "\\hline I & 0.055 & 0.066 & 0.085 & 0.055 \\\\\n",
      "\\hline J & 0.724 & 0.680 & 0.607 & 0.724 \\\\\n",
      "\\hline K & 0.603 & 0.559 & 0.603 & 0.309 \\\\\n",
      "\\hline L & 0.331 & 0.331 & 0.331 & 0.331 \\\\\n",
      "\\hline N & 0.228 & 0.228 & 0.228 & 0.228 \\\\\n",
      "\\hline O & 0.000 & 0.000 & 0.000 & 0.000 \\\\\n",
      "\\hline P & 0.000 & 0.000 & 0.000 & 0.000 \\\\\n",
      "\\hline M & 0.000 & 0.000 & 0.000 & 0.000 \\\\\n",
      "\\hline R & 0.000 & 0.000 & 0.000 & 0.000 \\\\\n",
      "\\hline Q & 0.000 & 0.000 & 0.000 & 0.000 \\\\\n",
      "\\hline Sum & 2.449 & 2.360 & 2.331 & 2.154 \\\\\n",
      "\\hline Gini & 0.740 & 0.735 & 0.731 & 0.730 \\\\\n",
      "\\hline\n"
     ]
    }
   ],
   "source": [
    "deep_reload(src)\n",
    "from src.utilities import gini\n",
    "\n",
    "edges = [\n",
    "    ('A', 'F', 2),\n",
    "    ('B', 'G', 2),\n",
    "    ('C', 'F', 2),\n",
    "    ('D', 'F', 1),\n",
    "    ('E', 'H', 2),\n",
    "    ('E', 'I', 3),\n",
    "    ('F', 'J', 3),\n",
    "    ('G', 'J', 2),\n",
    "    ('H', 'J', 3),\n",
    "    ('I', 'J', 2),\n",
    "    ('J', 'K', 3),\n",
    "    ('K', 'L', 3),\n",
    "    ('K', 'N', 3),\n",
    "    ('L', 'O', 2),\n",
    "    ('L', 'P', 2),\n",
    "    ('L', 'M', 1),\n",
    "    ('N', 'R', 2),\n",
    "    ('N', 'Q', 2),\n",
    "]\n",
    "\n",
    "g = nx.Graph()\n",
    "g.add_weighted_edges_from(edges)\n",
    "ic_1 = nx.betweenness_centrality(g, weight = 'weight')\n",
    "\n",
    "g = nx.Graph()\n",
    "g.add_weighted_edges_from(edges + [('I', 'N', 6)])\n",
    "ic_2 = nx.betweenness_centrality(g, weight = 'weight')\n",
    "\n",
    "g = nx.Graph()\n",
    "g.add_weighted_edges_from(edges + [('I', 'K', 4)])\n",
    "ic_3 = nx.betweenness_centrality(g, weight = 'weight')\n",
    "\n",
    "g = nx.Graph()\n",
    "g.add_weighted_edges_from(edges + [('J', 'L', 5)])\n",
    "ic_4 = nx.betweenness_centrality(g, weight = 'weight')\n",
    "\n",
    "print('\\\\hline Node & Baseline & (I, N) & (I, K) & (J, L) \\\\\\\\')\n",
    "for key in ic_1.keys():\n",
    "    print(f'\\\\hline {key} & {ic_1[key]:.3f} & {ic_2[key]:.3f} & {ic_3[key]:.3f} & {ic_4[key]:.3f} \\\\\\\\')\n",
    "print(f'\\\\hline Sum & {sum(ic_1.values()):.3f} & {sum(ic_2.values()):.3f} & {sum(ic_3.values()):.3f} & {sum(ic_4.values()):.3f} \\\\\\\\')\n",
    "print(f'\\\\hline Gini & {gini(list(ic_1.values())):.3f} & {gini(list(ic_2.values())):.3f} & {gini(list(ic_3.values())):.3f} & {gini(list(ic_4.values())):.3f} \\\\\\\\')\n",
    "print('\\\\hline')"
   ]
  },
  {
   "cell_type": "code",
   "execution_count": 146,
   "id": "61fe7688-ee8e-4960-b3ab-d12b4c1d9221",
   "metadata": {},
   "outputs": [
    {
     "name": "stdout",
     "output_type": "stream",
     "text": [
      "\\hline Node & Baseline & (I, N) & (I, K) & (J, L) \\\\\n",
      "\\hline A & 0.000 & 0.000 & 0.000 & 0.000 \\\\\n",
      "\\hline F & 0.331 & 0.331 & 0.331 & 0.331 \\\\\n",
      "\\hline B & 0.000 & 0.000 & 0.000 & 0.000 \\\\\n",
      "\\hline G & 0.118 & 0.118 & 0.118 & 0.118 \\\\\n",
      "\\hline C & 0.000 & 0.000 & 0.000 & 0.000 \\\\\n",
      "\\hline D & 0.000 & 0.000 & 0.000 & 0.000 \\\\\n",
      "\\hline E & 0.004 & 0.004 & 0.004 & 0.004 \\\\\n",
      "\\hline H & 0.055 & 0.044 & 0.026 & 0.055 \\\\\n",
      "\\hline I & 0.055 & 0.066 & 0.085 & 0.055 \\\\\n",
      "\\hline J & 0.724 & 0.680 & 0.607 & 0.724 \\\\\n",
      "\\hline K & 0.603 & 0.559 & 0.603 & 0.309 \\\\\n",
      "\\hline L & 0.331 & 0.331 & 0.331 & 0.331 \\\\\n",
      "\\hline N & 0.228 & 0.228 & 0.228 & 0.228 \\\\\n",
      "\\hline O & 0.000 & 0.000 & 0.000 & 0.000 \\\\\n",
      "\\hline P & 0.000 & 0.000 & 0.000 & 0.000 \\\\\n",
      "\\hline M & 0.000 & 0.000 & 0.000 & 0.000 \\\\\n",
      "\\hline R & 0.000 & 0.000 & 0.000 & 0.000 \\\\\n",
      "\\hline Q & 0.000 & 0.000 & 0.000 & 0.000 \\\\\n",
      "\\hline Sum & 2.449 & 2.360 & 2.331 & 2.154 \\\\\n",
      "\\hline\n"
     ]
    }
   ],
   "source": [
    "edges = [\n",
    "    ('A', 'F', 2),\n",
    "    ('B', 'G', 2),\n",
    "    ('C', 'F', 2),\n",
    "    ('D', 'F', 1),\n",
    "    ('E', 'H', 2),\n",
    "    ('E', 'I', 3),\n",
    "    ('F', 'J', 3),\n",
    "    ('G', 'J', 2),\n",
    "    ('H', 'J', 3),\n",
    "    ('I', 'J', 2),\n",
    "    ('J', 'K', 3),\n",
    "    ('K', 'L', 3),\n",
    "    ('K', 'N', 3),\n",
    "    ('L', 'O', 2),\n",
    "    ('L', 'P', 2),\n",
    "    ('L', 'M', 1),\n",
    "    ('N', 'R', 2),\n",
    "    ('N', 'Q', 2),\n",
    "    # ('F', 'G', 1),\n",
    "    # # ('G', 'H', 1),\n",
    "    # ('G', 'I', 1),\n",
    "    # ('N', 'M', 1),\n",
    "]\n",
    "\n",
    "g = nx.Graph()\n",
    "g.add_weighted_edges_from(edges)\n",
    "ic_1 = nx.betweenness_centrality(g, weight = 'weight')\n",
    "\n",
    "g = nx.Graph()\n",
    "g.add_weighted_edges_from(edges + [('I', 'N', 6)])\n",
    "ic_2 = nx.betweenness_centrality(g, weight = 'weight')\n",
    "15\n",
    "g = nx.Graph()\n",
    "g.add_weighted_edges_from(edges + [('I', 'K', 4)])\n",
    "ic_3 = nx.betweenness_centrality(g, weight = 'weight')\n",
    "\n",
    "g = nx.Graph()\n",
    "g.add_weighted_edges_from(edges + [('J', 'L', 5)])\n",
    "ic_4 = nx.betweenness_centrality(g, weight = 'weight')\n",
    "\n",
    "print('\\\\hline Node & Baseline & (I, N) & (I, K) & (J, L) \\\\\\\\')\n",
    "for key in ic_1.keys():\n",
    "    print(f'\\\\hline {key} & {ic_1[key]:.3f} & {ic_2[key]:.3f} & {ic_3[key]:.3f} & {ic_4[key]:.3f} \\\\\\\\')\n",
    "print(f'\\\\hline Sum & {sum(ic_1.values()):.3f} & {sum(ic_2.values()):.3f} & {sum(ic_3.values()):.3f} & {sum(ic_4.values()):.3f} \\\\\\\\')\n",
    "print('\\\\hline')"
   ]
  },
  {
   "cell_type": "code",
   "execution_count": 30,
   "id": "ac9c7e4b-f1c0-4ed0-9a53-d25723667961",
   "metadata": {},
   "outputs": [
    {
     "data": {
      "text/plain": [
       "({'A': 0.0441776166742184,\n",
       "  'F': 0.0683251576734408,\n",
       "  'B': 0.03801910703840904,\n",
       "  'G': 0.05463715326421966,\n",
       "  'C': 0.04417761667421842,\n",
       "  'D': 0.032641446267157696,\n",
       "  'E': 0.05835702528804431,\n",
       "  'H': 0.06650750341064124,\n",
       "  'I': 0.06171862636493118,\n",
       "  'J': 0.08847549909255899,\n",
       "  'K': 0.0785024154589372,\n",
       "  'L': 0.08179530201342285,\n",
       "  'N': 0.059742647058823525,\n",
       "  'O': 0.04944219066937119,\n",
       "  'P': 0.04944219066937119,\n",
       "  'M': 0.035428779069767435,\n",
       "  'R': 0.0404228855721393,\n",
       "  'Q': 0.04042288557213931},\n",
       " 0.992236047831812)"
      ]
     },
     "execution_count": 30,
     "metadata": {},
     "output_type": "execute_result"
    }
   ],
   "source": [
    "ic = nx.information_centrality(g, weight = 'weight')\n",
    "ic, sum(list(ic.values()))"
   ]
  },
  {
   "cell_type": "code",
   "execution_count": 70,
   "id": "f1b1d164-c3c0-41f5-b822-ee2570f50bae",
   "metadata": {},
   "outputs": [
    {
     "data": {
      "text/plain": [
       "array([[0.18, 0.64, 0.18]])"
      ]
     },
     "execution_count": 70,
     "metadata": {},
     "output_type": "execute_result"
    }
   ],
   "source": [
    "q = np.array([\n",
    "    [0, 1, 0],\n",
    "    [0, .1, .9],\n",
    "    [.6, .4, 0],\n",
    "    ])\n",
    "\n",
    "s = np.array([[.5, .2, .3]])\n",
    "\n",
    "s @ q"
   ]
  },
  {
   "cell_type": "code",
   "execution_count": 164,
   "id": "5e10816b-8da7-4dc4-b6e9-43fed8a6d161",
   "metadata": {},
   "outputs": [
    {
     "data": {
      "text/plain": [
       "(0.0, 1.0, 2.584962500721156)"
      ]
     },
     "execution_count": 164,
     "metadata": {},
     "output_type": "execute_result"
    }
   ],
   "source": [
    "a = np.array([1])\n",
    "b = np.array([.5] * 2)\n",
    "c = np.array([1/6] * 6)\n",
    "(a * np.log2(1 / a)).sum(), (b * np.log2(1 / b)).sum(), (c * np.log2(1 / c)).sum()"
   ]
  },
  {
   "cell_type": "code",
   "execution_count": 169,
   "id": "cd320240-9751-419a-9a16-a5c8826342b2",
   "metadata": {},
   "outputs": [
    {
     "data": {
      "text/plain": [
       "array([[16,  0,  1,  0,  0],\n",
       "       [ 0, 16,  0,  1,  0],\n",
       "       [ 1,  0,  9,  0,  1],\n",
       "       [ 0,  1,  0,  9,  1],\n",
       "       [ 0,  0,  1,  1,  9]])"
      ]
     },
     "execution_count": 169,
     "metadata": {},
     "output_type": "execute_result"
    }
   ],
   "source": [
    "a = np.array([\n",
    "    [4, 0, 1, 0, 0],\n",
    "    [0, 4, 0, 1, 0],\n",
    "    [1, 0, 3, 0, 1],\n",
    "    [0, 1, 0, 3, 1],\n",
    "    [0, 0, 1, 1, 3],\n",
    "])\n",
    "\n",
    "np.linalg.det(a)"
   ]
  },
  {
   "cell_type": "code",
   "execution_count": 174,
   "id": "013478bd-cfe0-4e66-ad51-273c9f4d9c37",
   "metadata": {},
   "outputs": [
    {
     "data": {
      "text/plain": [
       "array([[ 76.,   1., -29.,  -4.,  11.],\n",
       "       [  1.,  76.,  -4., -29.,  11.],\n",
       "       [-29.,  -4., 116.,  16., -44.],\n",
       "       [ -4., -29.,  16., 116., -44.],\n",
       "       [ 11.,  11., -44., -44., 121.]])"
      ]
     },
     "execution_count": 174,
     "metadata": {},
     "output_type": "execute_result"
    }
   ],
   "source": [
    "def transposeMatrix(m):\n",
    "    return list(map(list,zip(*m)))\n",
    "\n",
    "def getMatrixMinor(m,i,j):\n",
    "    return [row[:j] + row[j+1:] for row in (m[:i]+m[i+1:])]\n",
    "\n",
    "def getMatrixDeternminant(m):\n",
    "    #base case for 2x2 matrix\n",
    "    if len(m) == 2:\n",
    "        return m[0][0]*m[1][1]-m[0][1]*m[1][0]\n",
    "\n",
    "    determinant = 0\n",
    "    for c in range(len(m)):\n",
    "        determinant += ((-1)**c)*m[0][c]*getMatrixDeternminant(getMatrixMinor(m,0,c))\n",
    "    return determinant\n",
    "\n",
    "def getMatrixInverse(m):\n",
    "    determinant = getMatrixDeternminant(m)\n",
    "    #special case for 2x2 matrix:\n",
    "    if len(m) == 2:\n",
    "        return [[m[1][1]/determinant, -1*m[0][1]/determinant],\n",
    "                [-1*m[1][0]/determinant, m[0][0]/determinant]]\n",
    "\n",
    "    #find matrix of cofactors\n",
    "    cofactors = []\n",
    "    for r in range(len(m)):\n",
    "        cofactorRow = []\n",
    "        for c in range(len(m)):\n",
    "            minor = getMatrixMinor(m,r,c)\n",
    "            cofactorRow.append(((-1)**(r+c)) * getMatrixDeternminant(minor))\n",
    "        cofactors.append(cofactorRow)\n",
    "    cofactors = transposeMatrix(cofactors)\n",
    "    for r in range(len(cofactors)):\n",
    "        for c in range(len(cofactors)):\n",
    "            cofactors[r][c] = cofactors[r][c]/determinant\n",
    "    return cofactors\n",
    "\n",
    "\n",
    "a = [\n",
    "    [4, 0, 1, 0, 0],\n",
    "    [0, 4, 0, 1, 0],\n",
    "    [1, 0, 3, 0, 1],\n",
    "    [0, 1, 0, 3, 1],\n",
    "    [0, 0, 1, 1, 3],\n",
    "]\n",
    "\n",
    "np.array(getMatrixInverse(a)) * 275"
   ]
  }
 ],
 "metadata": {
  "kernelspec": {
   "display_name": "Python 3 (ipykernel)",
   "language": "python",
   "name": "python3"
  },
  "language_info": {
   "codemirror_mode": {
    "name": "ipython",
    "version": 3
   },
   "file_extension": ".py",
   "mimetype": "text/x-python",
   "name": "python",
   "nbconvert_exporter": "python",
   "pygments_lexer": "ipython3",
   "version": "3.11.5"
  }
 },
 "nbformat": 4,
 "nbformat_minor": 5
}
