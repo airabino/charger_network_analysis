{
 "cells": [
  {
   "cell_type": "code",
   "execution_count": 1,
   "id": "d939517e-c8a8-4c48-91eb-48956fc04233",
   "metadata": {
    "tags": []
   },
   "outputs": [],
   "source": [
    "import warnings\n",
    "warnings.filterwarnings(\"ignore\")\n",
    "\n",
    "import os\n",
    "import sys\n",
    "import time\n",
    "import json\n",
    "import numpy as np\n",
    "import pandas as pd\n",
    "import geopandas as gpd\n",
    "import pickle as pkl\n",
    "import networkx as nx\n",
    "import matplotlib.pyplot as plt\n",
    "\n",
    "import src\n",
    "from src.reload import deep_reload"
   ]
  },
  {
   "cell_type": "code",
   "execution_count": 35,
   "id": "fec433c5-54ae-4dd1-ab01-872c4082eb7b",
   "metadata": {},
   "outputs": [
    {
     "data": {
      "text/plain": [
       "(0.18981511724526995, 0.18962530212802467)"
      ]
     },
     "execution_count": 35,
     "metadata": {},
     "output_type": "execute_result"
    }
   ],
   "source": [
    "deep_reload(src)\n",
    "\n",
    "n = 1000\n",
    "\n",
    "p = (0, .5)\n",
    "\n",
    "x = np.random.rand(100)\n",
    "\n",
    "s = src.routing.super_quantile(x, p = p, n = n)\n",
    "s_1 = src.routing.super_quantile_1(x, p = p, n = n)\n",
    "\n",
    "s, s_1"
   ]
  },
  {
   "cell_type": "code",
   "execution_count": 36,
   "id": "57311faa-ac88-4de7-9df8-ef74ac1e7aa1",
   "metadata": {},
   "outputs": [
    {
     "name": "stdout",
     "output_type": "stream",
     "text": [
      "128 µs ± 302 ns per loop (mean ± std. dev. of 7 runs, 10,000 loops each)\n"
     ]
    }
   ],
   "source": [
    "%timeit s = src.routing.super_quantile(x, p = p, n = n)"
   ]
  },
  {
   "cell_type": "code",
   "execution_count": 37,
   "id": "533f713d-14af-4adb-9051-0644d3715d40",
   "metadata": {},
   "outputs": [
    {
     "name": "stdout",
     "output_type": "stream",
     "text": [
      "131 µs ± 262 ns per loop (mean ± std. dev. of 7 runs, 10,000 loops each)\n"
     ]
    }
   ],
   "source": [
    "%timeit s = src.routing.super_quantile_1(x, p = p, n = n)"
   ]
  },
  {
   "cell_type": "code",
   "execution_count": null,
   "id": "d04f3bb7-2089-4e4f-b36b-2ef3555deea2",
   "metadata": {},
   "outputs": [],
   "source": []
  }
 ],
 "metadata": {
  "kernelspec": {
   "display_name": "Python 3 (ipykernel)",
   "language": "python",
   "name": "python3"
  },
  "language_info": {
   "codemirror_mode": {
    "name": "ipython",
    "version": 3
   },
   "file_extension": ".py",
   "mimetype": "text/x-python",
   "name": "python",
   "nbconvert_exporter": "python",
   "pygments_lexer": "ipython3",
   "version": "3.11.5"
  }
 },
 "nbformat": 4,
 "nbformat_minor": 5
}
