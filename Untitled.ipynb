{
 "cells": [
  {
   "cell_type": "code",
   "execution_count": 1,
   "id": "1cbafc9f-a394-46e3-85a7-bc11ee1848d8",
   "metadata": {
    "tags": []
   },
   "outputs": [],
   "source": [
    "import warnings\n",
    "warnings.filterwarnings(\"ignore\")\n",
    "\n",
    "import os\n",
    "import sys\n",
    "import time\n",
    "import json\n",
    "import numpy as np\n",
    "import pandas as pd\n",
    "import geopandas as gpd\n",
    "import pickle as pkl\n",
    "import networkx as nx\n",
    "import matplotlib.pyplot as plt\n",
    "\n",
    "import src\n",
    "from src.reload import deep_reload"
   ]
  },
  {
   "cell_type": "code",
   "execution_count": 2,
   "id": "610f59b7-8b79-4d7f-8d31-85eb0350bdf4",
   "metadata": {},
   "outputs": [],
   "source": [
    "atlas = src.graph.graph_from_json('Outputs/atlas.json')"
   ]
  },
  {
   "cell_type": "code",
   "execution_count": 3,
   "id": "030af2d1-b3b8-4295-9be2-a04156a5ac9d",
   "metadata": {},
   "outputs": [
    {
     "data": {
      "text/plain": [
       "(59621, 63677)"
      ]
     },
     "execution_count": 3,
     "metadata": {},
     "output_type": "execute_result"
    }
   ],
   "source": [
    "atlas.number_of_nodes(), atlas.number_of_edges()"
   ]
  },
  {
   "cell_type": "code",
   "execution_count": 4,
   "id": "d5b2f21f-b901-4340-883d-beb0e6c3cc6a",
   "metadata": {},
   "outputs": [],
   "source": [
    "filename = 'cities.json'\n",
    "\n",
    "graph_cities = src.graph.graph_from_json(filename)"
   ]
  },
  {
   "cell_type": "code",
   "execution_count": 5,
   "id": "bb30e7c6-31d3-474c-b56a-aed186a2d54d",
   "metadata": {},
   "outputs": [],
   "source": [
    "with open('Data/AFDC/evse_stations.json', 'r') as file:\n",
    "    evse = json.load(file)"
   ]
  },
  {
   "cell_type": "code",
   "execution_count": 6,
   "id": "4a330bc6-08b4-4015-bb7a-e3458b5a25a9",
   "metadata": {
    "scrolled": true
   },
   "outputs": [],
   "source": [
    "stations_raw = []\n",
    "\n",
    "for station in evse['fuel_stations']:\n",
    "\n",
    "    checks = (\n",
    "        station['state'] == 'CA',\n",
    "        station['ev_dc_fast_num'] is not None,\n",
    "        station['access_code'] == 'public',\n",
    "        station['status_code'] == 'E',\n",
    "    )\n",
    "\n",
    "    if all(checks):\n",
    "\n",
    "        stations_raw.append(station)"
   ]
  },
  {
   "cell_type": "code",
   "execution_count": 7,
   "id": "45f28ded-42ea-40d4-b7a9-9ccafdc5926e",
   "metadata": {},
   "outputs": [],
   "source": [
    "df_stations = pd.DataFrame.from_dict(stations_raw)"
   ]
  },
  {
   "cell_type": "code",
   "execution_count": 8,
   "id": "4c3d9937-5ecd-4b27-b657-7d306359e87d",
   "metadata": {},
   "outputs": [],
   "source": [
    "node_attributes = {\n",
    "    'x': 'lambda n: n[\"longitude\"]',\n",
    "    'y': 'lambda n: n[\"latitude\"]',\n",
    "    'n_dcfc': 'lambda n: n[\"ev_dc_fast_num\"]',\n",
    "    'n_acl2': 'lambda n: n[\"ev_level2_evse_num\"]',\n",
    "    'network': 'lambda n: n[\"ev_network\"]',\n",
    "    'name': 'lambda n: n[\"station_name\"]',\n",
    "    'address': 'lambda n: n[\"street_address\"]',\n",
    "    'city': 'lambda n: n[\"city\"]',\n",
    "    'state': 'lambda n: n[\"state\"]',\n",
    "    'zip': 'lambda n: n[\"zip\"]',\n",
    "    'access_code': 'lambda n: n[\"access_code\"]',\n",
    "    'status_code': 'lambda n: n[\"status_code\"]',\n",
    "    'type': 'lambda n: \"station\"',\n",
    "}\n",
    "\n",
    "nlg = src.graph.nlg_from_dataframe(df_stations, node_attributes)\n",
    "\n",
    "graph_station = src.graph.graph_from_nlg(nlg)\n",
    "\n",
    "mapping = {n: f'station_{n}' for n in graph_station.nodes}\n",
    "\n",
    "graph_station = nx.relabel_nodes(graph_station, mapping)"
   ]
  },
  {
   "cell_type": "code",
   "execution_count": 9,
   "id": "92dd17fc-5bea-451c-adaf-c329b9c7780a",
   "metadata": {},
   "outputs": [],
   "source": [
    "graph_empty = nx.union(graph_cities, graph_station)"
   ]
  },
  {
   "cell_type": "code",
   "execution_count": 10,
   "id": "8ff0ba59-254e-435a-ac3c-9d4f88b0c55d",
   "metadata": {},
   "outputs": [
    {
     "data": {
      "text/plain": [
       "(1921, 0)"
      ]
     },
     "execution_count": 10,
     "metadata": {},
     "output_type": "execute_result"
    }
   ],
   "source": [
    "graph_empty.number_of_nodes(), graph_empty.number_of_edges()"
   ]
  },
  {
   "cell_type": "code",
   "execution_count": 12,
   "id": "2cc1b529-6a32-4021-ac35-acca2ac9b4ea",
   "metadata": {},
   "outputs": [
    {
     "name": "stdout",
     "output_type": "stream",
     "text": [
      "\u001b[1m\u001b[38;5;34m\u001b[48;5;0m [------>] (1921/1921) 100.00%, 1.50 it/s, 1283.49 s elapsed, 0.00 s remaining"
     ]
    }
   ],
   "source": [
    "deep_reload(src)\n",
    "\n",
    "objective = src.adjacency.Graph_From_Atlas(\n",
    "    limits = [np.inf, np.inf, np.inf]\n",
    ")\n",
    "\n",
    "graph = src.adjacency.adjacency(\n",
    "    atlas, \n",
    "    graph_empty, \n",
    "    objective = objective,\n",
    ")"
   ]
  },
  {
   "cell_type": "code",
   "execution_count": 13,
   "id": "3d8992dd-18e6-4bf3-a00e-5542046a386a",
   "metadata": {},
   "outputs": [],
   "source": [
    "src.graph.graph_to_json(graph, 'Outputs/graph_full.json')"
   ]
  },
  {
   "cell_type": "code",
   "execution_count": 14,
   "id": "c68a58ee-d022-4ea9-a6ea-2d4ccc1706fd",
   "metadata": {},
   "outputs": [
    {
     "data": {
      "text/plain": [
       "(1921, 1846081)"
      ]
     },
     "execution_count": 14,
     "metadata": {},
     "output_type": "execute_result"
    }
   ],
   "source": [
    "graph.number_of_nodes(), graph.number_of_edges()"
   ]
  },
  {
   "cell_type": "code",
   "execution_count": null,
   "id": "811e4b2f-0a94-4684-a911-fb6e9797d685",
   "metadata": {},
   "outputs": [],
   "source": []
  }
 ],
 "metadata": {
  "kernelspec": {
   "display_name": "Python 3 (ipykernel)",
   "language": "python",
   "name": "python3"
  },
  "language_info": {
   "codemirror_mode": {
    "name": "ipython",
    "version": 3
   },
   "file_extension": ".py",
   "mimetype": "text/x-python",
   "name": "python",
   "nbconvert_exporter": "python",
   "pygments_lexer": "ipython3",
   "version": "3.11.5"
  }
 },
 "nbformat": 4,
 "nbformat_minor": 5
}
