{
 "cells": [
  {
   "cell_type": "code",
   "execution_count": 1,
   "id": "694990f6-aa71-4c18-9be1-e06956abc302",
   "metadata": {
    "tags": []
   },
   "outputs": [],
   "source": [
    "import warnings\n",
    "warnings.filterwarnings(\"ignore\")\n",
    "\n",
    "import os\n",
    "import sys\n",
    "import time\n",
    "import json\n",
    "import numpy as np\n",
    "import pandas as pd\n",
    "import geopandas as gpd\n",
    "import pickle as pkl\n",
    "import networkx as nx\n",
    "import matplotlib.pyplot as plt\n",
    "\n",
    "from pprint import pprint\n",
    "\n",
    "import src\n",
    "from src.reload import deep_reload"
   ]
  },
  {
   "cell_type": "markdown",
   "id": "264e8883-3d1e-43d3-8c56-9956a90bff68",
   "metadata": {},
   "source": [
    "This notebook shows how to compute a route tree using the real data for California using various objectives and methods. Using this nodebook requires the computation of an RSNG useing the Make_Empty_Graph and Add_Adjecency notebooks.\n",
    "\n",
    "The routing methods are implementations of Dijkstra's and Bellman's methods. Each implementation depends on an Objective object which contains the following four functions:\n",
    "\n",
    "values = initial() - Function which produces the starting values of each problem state to be applied to the origin node(s)\n",
    "\n",
    "values = infinity() - Function which produces the starting values for each non-origin node. The values should be intialized such that they are at least higher than any conceivable value which could be attained during routing.\n",
    "\n",
    "values, feasible = update(values, edge, node) - Function which takes current path state values and updates them based on the edge traversed and the target node and whether the proposed edge traversal is feasible. This function returns the values argument and a boolean feasible.\n",
    "\n",
    "values, savings = compare(values, approximation) - Function for comparing path state values with the existing best approximation at the target node. This function returns the values argument and a boolean savings.\n",
    "\n",
    "values may be of any type as long is that type is consistently applied. \n",
    "\n",
    "The Dijkstra and Bellman methods are closely related and both are methods of successive approximation. Both methods initialize a graph by approximating the cost of reaching each non-origin node as infinity. Through iteration the costs-to-reach are updated until all reachable nodes have been visited. Dijkstra's method is a generalization of a greedy solution wherein, starting from the origin, the closest un-visited node is selected and the path from the origin through the selected node to all nodes adjacent to the selected node is compared to the best existing approximation. Bellman's method is an implementation of the Hamilton-Jacobi-Bellman principle of optimality which states that the cost of an action is the sum of the costs of that action and the optimal action at the next step as a result of that action. Thus, Bellman's method iterates through all nodes in the graph and seeks to find the optimal predecessor node for each non-origin node. An optimal path for any destination can, then, be found by traceback to the origin.\n",
    "\n",
    "Both the Dijkstra and Bellman methods will produce the same solution in most cases. The methods will behave differently if thre are negative-cost edge loops - an unlikely phenomenon in vehicle routing. In general, Dijkstra's method will be faster for graphs with a high edge-to-node ratio and the opposite is true for graphs with a low edge-to-node ratio. In this repository the creation of the network RSNG is based on a roadmap and thus Dijkstra's method is faster. However, routing along the RSNG favors Bellman's method as demonstrated in this nodebook.\n",
    "\n",
    "There are three objectives deployed in this nodebook. The first is the simplest possible objective defined in src.routing.Objective which tracks either pure network distance or a single attribute. This objective mirrors the function of NetworkX's implementation of the routing methods. The second is src.routing.Vehicle which represents a limited-range vehicle which may add range at stations. The third is src.routing.StochasticVehicle which represents a limited-range vehicle which deals with uncertain edge and node costs. Stochastic routing relies on StochasticStation objects at nodes."
   ]
  },
  {
   "cell_type": "code",
   "execution_count": 2,
   "id": "4bb1426c-6c12-4422-a87a-7a44b637b536",
   "metadata": {},
   "outputs": [
    {
     "ename": "FileNotFoundError",
     "evalue": "[Errno 2] No such file or directory: 'Outputs/graph_full.json'",
     "output_type": "error",
     "traceback": [
      "\u001b[1;31m---------------------------------------------------------------------------\u001b[0m",
      "\u001b[1;31mFileNotFoundError\u001b[0m                         Traceback (most recent call last)",
      "\u001b[1;32m~\\AppData\\Local\\Temp\\ipykernel_22352\\4113544723.py\u001b[0m in \u001b[0;36m<module>\u001b[1;34m\u001b[0m\n\u001b[0;32m      5\u001b[0m '''\n\u001b[0;32m      6\u001b[0m \u001b[1;33m\u001b[0m\u001b[0m\n\u001b[1;32m----> 7\u001b[1;33m \u001b[0mgraph\u001b[0m \u001b[1;33m=\u001b[0m \u001b[0msrc\u001b[0m\u001b[1;33m.\u001b[0m\u001b[0mgraph\u001b[0m\u001b[1;33m.\u001b[0m\u001b[0mgraph_from_json\u001b[0m\u001b[1;33m(\u001b[0m\u001b[1;34m'Outputs/graph_full.json'\u001b[0m\u001b[1;33m)\u001b[0m\u001b[1;33m\u001b[0m\u001b[1;33m\u001b[0m\u001b[0m\n\u001b[0m",
      "\u001b[1;32mc:\\Users\\gupta\\Documents\\charger_network_analysis\\src\\graph.py\u001b[0m in \u001b[0;36mgraph_from_json\u001b[1;34m(filename, **kwargs)\u001b[0m\n\u001b[0;32m    115\u001b[0m \t'''\n\u001b[0;32m    116\u001b[0m \u001b[1;33m\u001b[0m\u001b[0m\n\u001b[1;32m--> 117\u001b[1;33m         \u001b[1;32mwith\u001b[0m \u001b[0mopen\u001b[0m\u001b[1;33m(\u001b[0m\u001b[0mfilename\u001b[0m\u001b[1;33m,\u001b[0m \u001b[1;34m'r'\u001b[0m\u001b[1;33m)\u001b[0m \u001b[1;32mas\u001b[0m \u001b[0mfile\u001b[0m\u001b[1;33m:\u001b[0m\u001b[1;33m\u001b[0m\u001b[1;33m\u001b[0m\u001b[0m\n\u001b[0m\u001b[0;32m    118\u001b[0m \u001b[1;33m\u001b[0m\u001b[0m\n\u001b[0;32m    119\u001b[0m                 \u001b[0mnlg\u001b[0m \u001b[1;33m=\u001b[0m \u001b[0mjson\u001b[0m\u001b[1;33m.\u001b[0m\u001b[0mload\u001b[0m\u001b[1;33m(\u001b[0m\u001b[0mfile\u001b[0m\u001b[1;33m)\u001b[0m\u001b[1;33m\u001b[0m\u001b[1;33m\u001b[0m\u001b[0m\n",
      "\u001b[1;31mFileNotFoundError\u001b[0m: [Errno 2] No such file or directory: 'Outputs/graph_full.json'"
     ]
    }
   ],
   "source": [
    "'''\n",
    "Loading the graph with adjacency\n",
    "\n",
    "graph contains 15 cities in cities.json and all CA DC charging stations from AFDC\n",
    "'''\n",
    "\n",
    "graph = src.graph.graph_from_json('Outputs/graph_full.json')"
   ]
  },
  {
   "cell_type": "code",
   "execution_count": 96,
   "id": "cbaf8d0f-771e-47a3-9dfc-b5188dfb9421",
   "metadata": {},
   "outputs": [],
   "source": [
    "for source, adj in graph._adj.items():\n",
    "    for target, edge in adj.items():\n",
    "        \n",
    "        graph._node[source]['time'] = 0\n",
    "        graph._node[source]['distance'] = 0\n",
    "        graph._node[source]['price'] = 0\n",
    "\n",
    "        graph._node[target]['time'] = 0\n",
    "        graph._node[target]['distance'] = 0\n",
    "        graph._node[target]['price'] = 0\n",
    "\n",
    "        edge['price'] = 0\n",
    "\n",
    "        if ('station' in source):\n",
    "\n",
    "            graph._node[source]['type'] = 'station'\n",
    "\n",
    "        else:\n",
    "\n",
    "            graph._node[source]['type'] = 'city'\n",
    "\n",
    "        if ('station' in source) and ('station' in target):\n",
    "            \n",
    "            edge['type'] = 'station_station'\n",
    "\n",
    "        elif ('station' in source) or ('station' in target):\n",
    "\n",
    "            edge['type'] = 'city_station'\n",
    "            \n",
    "        else:\n",
    "            \n",
    "            edge['type'] = 'city_city'"
   ]
  },
  {
   "cell_type": "code",
   "execution_count": 23,
   "id": "e5483f72-141e-4007-9ab1-8ee1edb35110",
   "metadata": {},
   "outputs": [
    {
     "name": "stdout",
     "output_type": "stream",
     "text": [
      "Executed in 2.6532 seconds\n"
     ]
    }
   ],
   "source": [
    "'''\n",
    "Running with Dijkstra with default objective\n",
    "'''\n",
    "deep_reload(src)\n",
    "\n",
    "objective = src.dijkstra.Objective(field = 'time')\n",
    "\n",
    "t0 = time.time()\n",
    "\n",
    "r = src.dijkstra.dijkstra(\n",
    "    graph, ['Fresno'], objective = objective, return_paths = True\n",
    ")\n",
    "\n",
    "print(f'Executed in {time.time() - t0:.4f} seconds')"
   ]
  },
  {
   "cell_type": "code",
   "execution_count": 24,
   "id": "362e5271-fc25-4292-a945-792e41fc0204",
   "metadata": {},
   "outputs": [
    {
     "name": "stdout",
     "output_type": "stream",
     "text": [
      "Total Time:\n",
      "\n",
      "{'Bakersfield': 1.6082676698301681,\n",
      " 'Chico': 4.230472506660002,\n",
      " 'Crescent City': 8.605738955488926,\n",
      " 'Fresno': 0.0,\n",
      " 'I-10 to Phoenix (State Line)': 6.647205294705284,\n",
      " 'I-15 to Las Vegas (State Line)': 5.727073083166826,\n",
      " 'I-80 to Reno (State Line)': 4.53776988636363,\n",
      " 'Los Angeles': 3.263417207792204,\n",
      " 'Redding': 5.118724469974463,\n",
      " 'Sacramento': 2.6713354700854657,\n",
      " 'San Diego': 5.252874417249402,\n",
      " 'San Francisco': 2.9443037864912807,\n",
      " 'San Jose': 2.5138573648573628,\n",
      " 'Stockton': 1.9591595904095878,\n",
      " 'Yreka': 6.610469062187799}\n"
     ]
    }
   ],
   "source": [
    "print('Total Time:\\n')\n",
    "pprint({k: v / 3600 for k, v in r[1].items() if 'station' not in k})"
   ]
  },
  {
   "cell_type": "code",
   "execution_count": 21,
   "id": "da3fe7b1-bd3f-491b-b319-b71c629c7b5f",
   "metadata": {},
   "outputs": [
    {
     "name": "stdout",
     "output_type": "stream",
     "text": [
      "Executed in 15.8576 seconds\n"
     ]
    }
   ],
   "source": [
    "'''\n",
    "Running with Dijkstra with deterministic vehicle objective\n",
    "'''\n",
    "deep_reload(src)\n",
    "\n",
    "objective = src.routing.Vehicle(capacity = 80 * 3.6e6)\n",
    "\n",
    "t0 = time.time()\n",
    "\n",
    "r = src.dijkstra.dijkstra(graph, ['Fresno'], objective = objective, return_paths = True)\n",
    "\n",
    "print(f'Executed in {time.time() - t0:.4f} seconds')"
   ]
  },
  {
   "cell_type": "code",
   "execution_count": 22,
   "id": "e804e30f-8370-4500-84b3-8edfc4b53214",
   "metadata": {},
   "outputs": [
    {
     "name": "stdout",
     "output_type": "stream",
     "text": [
      "Total Time:\n",
      "\n",
      "{'Bakersfield': 1.6082676698301694,\n",
      " 'Chico': 4.23047250666002,\n",
      " 'Crescent City': 9.353999372155622,\n",
      " 'Fresno': 0.0,\n",
      " 'I-10 to Phoenix (State Line)': 7.146036891927523,\n",
      " 'I-15 to Las Vegas (State Line)': 5.916281416500174,\n",
      " 'I-80 to Reno (State Line)': 4.5377698863636535,\n",
      " 'Los Angeles': 3.263417207792208,\n",
      " 'Redding': 5.228450164418934,\n",
      " 'Sacramento': 2.6713354700854763,\n",
      " 'San Diego': 5.380952542249436,\n",
      " 'San Francisco': 2.9443037864912918,\n",
      " 'San Jose': 2.513857364857367,\n",
      " 'Stockton': 1.9591595904095913,\n",
      " 'Yreka': 7.018837117743368}\n",
      "\n",
      "Driving Time:\n",
      "\n",
      "{'Bakersfield': 1.6082676698301694,\n",
      " 'Chico': 4.23047250666002,\n",
      " 'Crescent City': 8.605738955488954,\n",
      " 'Fresno': 0.0,\n",
      " 'I-10 to Phoenix (State Line)': 6.647205294705299,\n",
      " 'I-15 to Las Vegas (State Line)': 5.7270730831668395,\n",
      " 'I-80 to Reno (State Line)': 4.5377698863636535,\n",
      " 'Los Angeles': 3.263417207792208,\n",
      " 'Redding': 5.118724469974489,\n",
      " 'Sacramento': 2.6713354700854763,\n",
      " 'San Diego': 5.252874417249437,\n",
      " 'San Francisco': 2.9443037864912918,\n",
      " 'San Jose': 2.513857364857367,\n",
      " 'Stockton': 1.9591595904095913,\n",
      " 'Yreka': 6.610469062187812}\n",
      "\n",
      "Paths:\n",
      "\n",
      "{'Bakersfield': ['Fresno', 'Bakersfield'],\n",
      " 'Chico': ['Fresno', 'Chico'],\n",
      " 'Crescent City': ['Fresno', 'station_132', 'Crescent City'],\n",
      " 'Fresno': ['Fresno'],\n",
      " 'I-10 to Phoenix (State Line)': ['Fresno',\n",
      "                                  'station_120',\n",
      "                                  'I-10 to Phoenix (State Line)'],\n",
      " 'I-15 to Las Vegas (State Line)': ['Fresno',\n",
      "                                    'station_1467',\n",
      "                                    'I-15 to Las Vegas (State Line)'],\n",
      " 'I-80 to Reno (State Line)': ['Fresno', 'I-80 to Reno (State Line)'],\n",
      " 'Los Angeles': ['Fresno', 'Los Angeles'],\n",
      " 'Redding': ['Fresno', 'station_1454', 'Redding'],\n",
      " 'Sacramento': ['Fresno', 'Sacramento'],\n",
      " 'San Diego': ['Fresno', 'station_524', 'San Diego'],\n",
      " 'San Francisco': ['Fresno', 'San Francisco'],\n",
      " 'San Jose': ['Fresno', 'San Jose'],\n",
      " 'Stockton': ['Fresno', 'Stockton'],\n",
      " 'Yreka': ['Fresno', 'station_354', 'Yreka']}\n"
     ]
    }
   ],
   "source": [
    "print('Total Time:\\n')\n",
    "pprint({k: v['time'] / 3600 for k, v in r[1].items() if 'station' not in k})\n",
    "print('\\nDriving Time:\\n')\n",
    "pprint({k: v['driving_time'] / 3600 for k, v in r[1].items() if 'station' not in k})\n",
    "print('\\nPaths:\\n')\n",
    "pprint({k: v for k, v in r[2].items() if 'station' not in k})"
   ]
  },
  {
   "cell_type": "code",
   "execution_count": 25,
   "id": "48a1d61e-bdb0-49ab-977d-f6e77b46da3a",
   "metadata": {},
   "outputs": [
    {
     "name": "stdout",
     "output_type": "stream",
     "text": [
      "Executed in 3.3767 seconds\n"
     ]
    }
   ],
   "source": [
    "'''\n",
    "Running with Bellman with default objective\n",
    "'''\n",
    "deep_reload(src)\n",
    "\n",
    "objective = src.bellman.Objective(field = 'time')\n",
    "\n",
    "t0 = time.time()\n",
    "\n",
    "r = src.bellman.bellman(graph, ['Fresno'], objective = objective, return_paths = True)\n",
    "\n",
    "print(f'Executed in {time.time() - t0:.4f} seconds')"
   ]
  },
  {
   "cell_type": "code",
   "execution_count": 26,
   "id": "8944647c-7de6-4258-be8e-a294b202d7c0",
   "metadata": {},
   "outputs": [
    {
     "name": "stdout",
     "output_type": "stream",
     "text": [
      "Total Time:\n",
      "\n",
      "{'Bakersfield': 1.6082676698301681,\n",
      " 'Chico': 4.230472506660002,\n",
      " 'Crescent City': 8.605738955488926,\n",
      " 'Fresno': 0.0,\n",
      " 'I-10 to Phoenix (State Line)': 6.647205294705284,\n",
      " 'I-15 to Las Vegas (State Line)': 5.727073083166826,\n",
      " 'I-80 to Reno (State Line)': 4.53776988636363,\n",
      " 'Los Angeles': 3.263417207792204,\n",
      " 'Redding': 5.118724469974463,\n",
      " 'Sacramento': 2.6713354700854657,\n",
      " 'San Diego': 5.252874417249402,\n",
      " 'San Francisco': 2.9443037864912807,\n",
      " 'San Jose': 2.5138573648573628,\n",
      " 'Stockton': 1.9591595904095878,\n",
      " 'Yreka': 6.610469062187799}\n"
     ]
    }
   ],
   "source": [
    "print('Total Time:\\n')\n",
    "pprint({k: v / 3600 for k, v in r[1].items() if 'station' not in k})"
   ]
  },
  {
   "cell_type": "code",
   "execution_count": 44,
   "id": "ff18df93-7b09-48ac-8fb2-70f9f615aa5b",
   "metadata": {},
   "outputs": [
    {
     "name": "stdout",
     "output_type": "stream",
     "text": [
      "Executed in 3.6547 seconds\n"
     ]
    }
   ],
   "source": [
    "'''\n",
    "Running with Bellman with BEV vehicle objective\n",
    "'''\n",
    "deep_reload(src)\n",
    "\n",
    "objective = src.routing.Vehicle(capacity = 80 * 3.6e6)\n",
    "\n",
    "t0 = time.time()\n",
    "\n",
    "r = src.bellman.bellman(\n",
    "    graph, ['Fresno'], objective = objective, return_paths = True\n",
    ")\n",
    "\n",
    "print(f'Executed in {time.time() - t0:.4f} seconds')"
   ]
  },
  {
   "cell_type": "code",
   "execution_count": 45,
   "id": "09ad762d-84c8-4c65-9a32-ba7e9d626bd7",
   "metadata": {},
   "outputs": [
    {
     "name": "stdout",
     "output_type": "stream",
     "text": [
      "Total Time:\n",
      "\n",
      "{'Bakersfield': 1.6082676698301694,\n",
      " 'Chico': 4.23047250666002,\n",
      " 'Crescent City': 9.353999372155622,\n",
      " 'Fresno': 0.0,\n",
      " 'I-10 to Phoenix (State Line)': 7.146036891927523,\n",
      " 'I-15 to Las Vegas (State Line)': 5.916281416500174,\n",
      " 'I-80 to Reno (State Line)': 4.5377698863636535,\n",
      " 'Los Angeles': 3.263417207792208,\n",
      " 'Redding': 5.228450164418934,\n",
      " 'Sacramento': 2.6713354700854763,\n",
      " 'San Diego': 5.380952542249436,\n",
      " 'San Francisco': 2.9443037864912918,\n",
      " 'San Jose': 2.513857364857367,\n",
      " 'Stockton': 1.9591595904095913,\n",
      " 'Yreka': 7.018837117743368}\n",
      "\n",
      "Driving Time:\n",
      "\n",
      "{'Bakersfield': 1.6082676698301694,\n",
      " 'Chico': 4.23047250666002,\n",
      " 'Crescent City': 8.605738955488954,\n",
      " 'Fresno': 0.0,\n",
      " 'I-10 to Phoenix (State Line)': 6.647205294705299,\n",
      " 'I-15 to Las Vegas (State Line)': 5.7270730831668395,\n",
      " 'I-80 to Reno (State Line)': 4.5377698863636535,\n",
      " 'Los Angeles': 3.263417207792208,\n",
      " 'Redding': 5.118724469974489,\n",
      " 'Sacramento': 2.6713354700854763,\n",
      " 'San Diego': 5.252874417249437,\n",
      " 'San Francisco': 2.9443037864912918,\n",
      " 'San Jose': 2.513857364857367,\n",
      " 'Stockton': 1.9591595904095913,\n",
      " 'Yreka': 6.610469062187812}\n",
      "\n",
      "Paths:\n",
      "\n",
      "{'Bakersfield': ['Fresno', 'Bakersfield'],\n",
      " 'Chico': ['Fresno', 'Chico'],\n",
      " 'Crescent City': ['Fresno', 'station_132', 'Crescent City'],\n",
      " 'Fresno': ['Fresno'],\n",
      " 'I-10 to Phoenix (State Line)': ['Fresno',\n",
      "                                  'station_120',\n",
      "                                  'I-10 to Phoenix (State Line)'],\n",
      " 'I-15 to Las Vegas (State Line)': ['Fresno',\n",
      "                                    'station_1467',\n",
      "                                    'I-15 to Las Vegas (State Line)'],\n",
      " 'I-80 to Reno (State Line)': ['Fresno', 'I-80 to Reno (State Line)'],\n",
      " 'Los Angeles': ['Fresno', 'Los Angeles'],\n",
      " 'Redding': ['Fresno', 'station_1454', 'Redding'],\n",
      " 'Sacramento': ['Fresno', 'Sacramento'],\n",
      " 'San Diego': ['Fresno', 'station_524', 'San Diego'],\n",
      " 'San Francisco': ['Fresno', 'San Francisco'],\n",
      " 'San Jose': ['Fresno', 'San Jose'],\n",
      " 'Stockton': ['Fresno', 'Stockton'],\n",
      " 'Yreka': ['Fresno', 'station_354', 'Yreka']}\n"
     ]
    }
   ],
   "source": [
    "print('Total Time:\\n')\n",
    "pprint({k: v['time'] / 3600 for k, v in r[1].items() if 'station' not in k})\n",
    "print('\\nDriving Time:\\n')\n",
    "pprint({k: v['driving_time'] / 3600 for k, v in r[1].items() if 'station' not in k})\n",
    "print('\\nPaths:\\n')\n",
    "pprint({k: v for k, v in r[2].items() if 'station' not in k})"
   ]
  },
  {
   "cell_type": "code",
   "execution_count": 29,
   "id": "cb15fb27-19d6-4a21-bd79-980caaa1ce17",
   "metadata": {},
   "outputs": [
    {
     "name": "stdout",
     "output_type": "stream",
     "text": [
      "Executed in 5.9471 seconds\n"
     ]
    }
   ],
   "source": [
    "'''\n",
    "Running with Bellman with ICEV vehicle objective\n",
    "'''\n",
    "deep_reload(src)\n",
    "\n",
    "objective = src.routing.Vehicle(\n",
    "    capacity = 528 * 3.6e6,\n",
    "    efficiency = 550 * 5,\n",
    "    charge_rate = 14.15e6,\n",
    "    charge_time_penalty = 300,\n",
    ")\n",
    "\n",
    "t0 = time.time()\n",
    "\n",
    "r = src.bellman.bellman(\n",
    "    graph, ['Fresno'], objective = objective, return_paths = True\n",
    ")\n",
    "\n",
    "print(f'Executed in {time.time() - t0:.4f} seconds')"
   ]
  },
  {
   "cell_type": "code",
   "execution_count": 30,
   "id": "5816addc-7670-4fe6-bba6-a92bd7391a4a",
   "metadata": {},
   "outputs": [
    {
     "name": "stdout",
     "output_type": "stream",
     "text": [
      "Total Time:\n",
      "\n",
      "{'Bakersfield': 1.6082676698301694,\n",
      " 'Chico': 4.23047250666002,\n",
      " 'Crescent City': 8.69826054952113,\n",
      " 'Fresno': 0.0,\n",
      " 'I-10 to Phoenix (State Line)': 6.731803498474445,\n",
      " 'I-15 to Las Vegas (State Line)': 5.727073083166839,\n",
      " 'I-80 to Reno (State Line)': 4.5377698863636535,\n",
      " 'Los Angeles': 3.263417207792208,\n",
      " 'Redding': 5.11872446997449,\n",
      " 'Sacramento': 2.6713354700854763,\n",
      " 'San Diego': 5.252874417249402,\n",
      " 'San Francisco': 2.9443037864912918,\n",
      " 'San Jose': 2.513857364857367,\n",
      " 'Stockton': 1.9591595904095913,\n",
      " 'Yreka': 6.628059943528701}\n",
      "\n",
      "Driving Time:\n",
      "\n",
      "{'Bakersfield': 1.6082676698301694,\n",
      " 'Chico': 4.23047250666002,\n",
      " 'Crescent City': 8.605738955488937,\n",
      " 'Fresno': 0.0,\n",
      " 'I-10 to Phoenix (State Line)': 6.647205294705305,\n",
      " 'I-15 to Las Vegas (State Line)': 5.727073083166839,\n",
      " 'I-80 to Reno (State Line)': 4.5377698863636535,\n",
      " 'Los Angeles': 3.263417207792208,\n",
      " 'Redding': 5.11872446997449,\n",
      " 'Sacramento': 2.6713354700854763,\n",
      " 'San Diego': 5.252874417249402,\n",
      " 'San Francisco': 2.9443037864912918,\n",
      " 'San Jose': 2.513857364857367,\n",
      " 'Stockton': 1.9591595904095913,\n",
      " 'Yreka': 6.628059943528701}\n",
      "\n",
      "Paths:\n",
      "\n",
      "{'Bakersfield': ['Fresno', 'Bakersfield'],\n",
      " 'Chico': ['Fresno', 'Chico'],\n",
      " 'Crescent City': ['Fresno', 'station_354', 'Crescent City'],\n",
      " 'Fresno': ['Fresno'],\n",
      " 'I-10 to Phoenix (State Line)': ['Fresno',\n",
      "                                  'station_524',\n",
      "                                  'I-10 to Phoenix (State Line)'],\n",
      " 'I-15 to Las Vegas (State Line)': ['Fresno', 'I-15 to Las Vegas (State Line)'],\n",
      " 'I-80 to Reno (State Line)': ['Fresno', 'I-80 to Reno (State Line)'],\n",
      " 'Los Angeles': ['Fresno', 'Los Angeles'],\n",
      " 'Redding': ['Fresno', 'Redding'],\n",
      " 'Sacramento': ['Fresno', 'Sacramento'],\n",
      " 'San Diego': ['Fresno', 'San Diego'],\n",
      " 'San Francisco': ['Fresno', 'San Francisco'],\n",
      " 'San Jose': ['Fresno', 'San Jose'],\n",
      " 'Stockton': ['Fresno', 'Stockton'],\n",
      " 'Yreka': ['Fresno', 'Sacramento', 'Yreka']}\n"
     ]
    }
   ],
   "source": [
    "print('Total Time:\\n')\n",
    "pprint({k: v['time'] / 3600 for k, v in r[1].items() if 'station' not in k})\n",
    "print('\\nDriving Time:\\n')\n",
    "pprint({k: v['driving_time'] / 3600 for k, v in r[1].items() if 'station' not in k})\n",
    "print('\\nPaths:\\n')\n",
    "pprint({k: v for k, v in r[2].items() if 'station' not in k})"
   ]
  },
  {
   "cell_type": "code",
   "execution_count": 4,
   "id": "dfb42019-a7f7-4adf-9744-255a3fc8e7d2",
   "metadata": {},
   "outputs": [],
   "source": [
    "'''\n",
    "Adding station objects\n",
    "'''\n",
    "deep_reload(src)\n",
    "\n",
    "vehicle = src.routing.StochasticVehicle(\n",
    "    capacity = 80 * 3.6e6,\n",
    "    max_charge_start_soc = .4,\n",
    ")\n",
    "\n",
    "for source, node in graph._node.items():\n",
    "\n",
    "    if node['type'] == 'station':\n",
    "\n",
    "        node['station'] = src.routing.StochasticStation(\n",
    "            vehicle, chargers = node['n_dcfc']\n",
    "        )"
   ]
  },
  {
   "cell_type": "code",
   "execution_count": 78,
   "id": "10d515b0-a3e9-4c30-9e0c-548348747033",
   "metadata": {},
   "outputs": [
    {
     "name": "stdout",
     "output_type": "stream",
     "text": [
      "Executed in 271.3777 seconds\n"
     ]
    }
   ],
   "source": [
    "'''\n",
    "Running with Bellman with BEV stochastic vehicle objective\n",
    "'''\n",
    "deep_reload(src)\n",
    "\n",
    "t0 = time.time()\n",
    "\n",
    "r = src.bellman.bellman(\n",
    "    graph, ['Fresno'], objective = vehicle, return_paths = True\n",
    ")\n",
    "\n",
    "\n",
    "print(f'Executed in {time.time() - t0:.4f} seconds')"
   ]
  },
  {
   "cell_type": "code",
   "execution_count": 79,
   "id": "4484494d-7cd6-4fcc-be7c-dc42a84e644c",
   "metadata": {},
   "outputs": [
    {
     "name": "stdout",
     "output_type": "stream",
     "text": [
      "Total Time:\n",
      "\n",
      "{'Bakersfield': 1.6082676698301688,\n",
      " 'Chico': 4.230472506660022,\n",
      " 'Crescent City': 9.322327309899501,\n",
      " 'Fresno': 0.0,\n",
      " 'I-10 to Phoenix (State Line)': 7.333510387976293,\n",
      " 'I-15 to Las Vegas (State Line)': 6.5289475195129185,\n",
      " 'I-80 to Reno (State Line)': 4.537769886363654,\n",
      " 'Los Angeles': 3.2634172077922083,\n",
      " 'Redding': 5.796630054177901,\n",
      " 'Sacramento': 2.671335470085476,\n",
      " 'San Diego': 5.9207782571307535,\n",
      " 'San Francisco': 2.944303786491293,\n",
      " 'San Jose': 2.513857364857368,\n",
      " 'Stockton': 1.9591595904095918,\n",
      " 'Yreka': 7.288374646391242}\n",
      "\n",
      "Driving Time:\n",
      "\n",
      "{'Bakersfield': 1.6082676698301688,\n",
      " 'Chico': 4.230472506660022,\n",
      " 'Crescent City': 8.60573895548895,\n",
      " 'Fresno': 0.0,\n",
      " 'I-10 to Phoenix (State Line)': 6.661848151848151,\n",
      " 'I-15 to Las Vegas (State Line)': 5.727073083166832,\n",
      " 'I-80 to Reno (State Line)': 4.537769886363654,\n",
      " 'Los Angeles': 3.2634172077922083,\n",
      " 'Redding': 5.118724469974474,\n",
      " 'Sacramento': 2.671335470085476,\n",
      " 'San Diego': 5.268407634032647,\n",
      " 'San Francisco': 2.944303786491293,\n",
      " 'San Jose': 2.513857364857368,\n",
      " 'Stockton': 1.9591595904095918,\n",
      " 'Yreka': 6.610469062187812}\n",
      "\n",
      "Paths:\n",
      "\n",
      "{'Bakersfield': ['Fresno', 'Bakersfield'],\n",
      " 'Chico': ['Fresno', 'Chico'],\n",
      " 'Crescent City': ['Fresno', 'station_132', 'Crescent City'],\n",
      " 'Fresno': ['Fresno'],\n",
      " 'I-10 to Phoenix (State Line)': ['Fresno',\n",
      "                                  'station_1748',\n",
      "                                  'I-10 to Phoenix (State Line)'],\n",
      " 'I-15 to Las Vegas (State Line)': ['Fresno',\n",
      "                                    'station_1691',\n",
      "                                    'I-15 to Las Vegas (State Line)'],\n",
      " 'I-80 to Reno (State Line)': ['Fresno', 'I-80 to Reno (State Line)'],\n",
      " 'Los Angeles': ['Fresno', 'Los Angeles'],\n",
      " 'Redding': ['Fresno', 'station_1540', 'Redding'],\n",
      " 'Sacramento': ['Fresno', 'Sacramento'],\n",
      " 'San Diego': ['Fresno', 'station_1550', 'San Diego'],\n",
      " 'San Francisco': ['Fresno', 'San Francisco'],\n",
      " 'San Jose': ['Fresno', 'San Jose'],\n",
      " 'Stockton': ['Fresno', 'Stockton'],\n",
      " 'Yreka': ['Fresno', 'station_1540', 'Yreka']}\n"
     ]
    }
   ],
   "source": [
    "print('Total Time:\\n')\n",
    "pprint({k: v['time'].mean() / 3600 for k, v in r[1].items() if 'station' not in k})\n",
    "print('\\nDriving Time:\\n')\n",
    "pprint({k: v['driving_time'].mean() / 3600 for k, v in r[1].items() if 'station' not in k})\n",
    "print('\\nPaths:\\n')\n",
    "pprint({k: v for k, v in r[2].items() if 'station' not in k})"
   ]
  },
  {
   "cell_type": "code",
   "execution_count": 22,
   "id": "e20f715e-bd08-44b0-b57a-3ed15096759d",
   "metadata": {},
   "outputs": [
    {
     "data": {
      "image/png": "[encoded data removed]",
      "text/plain": [
       "<Figure size 800x600 with 2 Axes>"
      ]
     },
     "metadata": {},
     "output_type": "display_data"
    }
   ],
   "source": [
    "deep_reload(src)\n",
    "\n",
    "fig, ax = plt.subplots(figsize = (8, 6))\n",
    "\n",
    "destinations = [k for k, v in graph._node.items() if 'station' not in k]\n",
    "\n",
    "src.figures.plot_route_tree(\n",
    "    ax, graph,\n",
    "    {k: v['time'].mean() / 3600 for k, v in r[1].items()},\n",
    "    # {},\n",
    "    {k: v for k, v in r[2].items() if 'station' not in k},\n",
    "    destinations = destinations,\n",
    "    show_unused_stations = False,\n",
    "    **src.figures.default_route_tree_kwargs,\n",
    ")\n",
    "\n",
    "# _ = ax.set(**{\n",
    "#     'xticks': np.linspace(-5e5, 5e5, 11),\n",
    "#     'xticklabels': np.linspace(0, 1e3, 11, dtype = int),\n",
    "#     'xlim': (-5e5, 5e5),\n",
    "#     'yticks': np.linspace(-5e5, 5e5, 11),\n",
    "#     'yticklabels': np.linspace(0, 1e3, 11, dtype = int),\n",
    "#     'ylim': (-5e5, 5e5),\n",
    "#     'facecolor': 'whitesmoke',\n",
    "# })\n",
    "\n",
    "legend = ax.legend()\n",
    "\n",
    "for h in legend.legendHandles:\n",
    "    h._sizes = [100]\n",
    "\n",
    "    ax.grid(ls = '--')\n",
    "\n",
    "# plt.colorbar(cax = ax)"
   ]
  }
 ],
 "metadata": {
  "kernelspec": {
   "display_name": "Python 3 (ipykernel)",
   "language": "python",
   "name": "python3"
  },
  "language_info": {
   "codemirror_mode": {
    "name": "ipython",
    "version": 3
   },
   "file_extension": ".py",
   "mimetype": "text/x-python",
   "name": "python",
   "nbconvert_exporter": "python",
   "pygments_lexer": "ipython3",
   "version": "3.9.13"
  }
 },
 "nbformat": 4,
 "nbformat_minor": 5
}
