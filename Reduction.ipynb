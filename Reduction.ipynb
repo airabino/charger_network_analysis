{
 "cells": [
  {
   "cell_type": "code",
   "execution_count": 1,
   "id": "a28a4cb3-cfc2-40b9-9d2c-a2be8067e1f6",
   "metadata": {
    "tags": []
   },
   "outputs": [],
   "source": [
    "import warnings\n",
    "warnings.filterwarnings(\"ignore\")\n",
    "\n",
    "import os\n",
    "import sys\n",
    "import time\n",
    "import json\n",
    "import numpy as np\n",
    "import pandas as pd\n",
    "import geopandas as gpd\n",
    "import pickle as pkl\n",
    "import networkx as nx\n",
    "import matplotlib.pyplot as plt\n",
    "\n",
    "import src\n",
    "from src.reload import deep_reload"
   ]
  },
  {
   "cell_type": "code",
   "execution_count": 2,
   "id": "ae7b4449-8adc-4a8d-a411-702a8d7b5ff8",
   "metadata": {},
   "outputs": [],
   "source": [
    "atlas = src.graph.graph_from_json('Outputs/atlas.json')\n",
    "\n",
    "graph_empty = src.graph.graph_from_json('Outputs/graph_empty.json')"
   ]
  },
  {
   "cell_type": "code",
   "execution_count": 3,
   "id": "dba31674-037d-42ba-bc74-d4961ef6746a",
   "metadata": {},
   "outputs": [],
   "source": [
    "# Adding roadnum for destinations\n",
    "\n",
    "graph_to_atlas, atlas_to_graph = src.adjacency.node_assignment(graph_empty, atlas)\n",
    "\n",
    "for graph_node, atlas_node in graph_to_atlas.items():\n",
    "\n",
    "    graph_empty._node[graph_node]['roadnum'] = atlas._node[atlas_node]['roadnum']"
   ]
  },
  {
   "cell_type": "code",
   "execution_count": 5,
   "id": "00160c6a-f8da-4d53-9444-76281c128663",
   "metadata": {},
   "outputs": [],
   "source": [
    "# Edge-less graph consisting of locations from graph_empty and nodes which\n",
    "# represent intersections in atlas\n",
    "\n",
    "graph_to_atlas, atlas_to_graph = src.adjacency.node_assignment(graph_empty, atlas)\n",
    "\n",
    "destinations = list(graph_empty.nodes)\n",
    "\n",
    "destinations_atlas = [graph_to_atlas[node] for node in destinations]\n",
    "\n",
    "intersections = []\n",
    "\n",
    "for source, adj in atlas._adj.items():\n",
    "\n",
    "    if len(adj) > 2:\n",
    "\n",
    "        intersections.append(source)"
   ]
  },
  {
   "cell_type": "code",
   "execution_count": 8,
   "id": "2ee73637-ff35-47d4-a7f2-db9a69366342",
   "metadata": {},
   "outputs": [
    {
     "data": {
      "text/plain": [
       "(5722, 7890)"
      ]
     },
     "execution_count": 8,
     "metadata": {},
     "output_type": "execute_result"
    }
   ],
   "source": [
    "len(intersections), len(intersections + destinations_atlas)"
   ]
  },
  {
   "cell_type": "code",
   "execution_count": 33,
   "id": "31cd1918-7888-4aff-9046-6f002137acbc",
   "metadata": {},
   "outputs": [
    {
     "name": "stdout",
     "output_type": "stream",
     "text": [
      "\u001b[1m\u001b[38;5;34m\u001b[48;5;0m [------>] (7137/7137) 100.00%, 278.09 it/s, 25.67 s elapsed, 0.00 s remaining"
     ]
    }
   ],
   "source": [
    "deep_reload(src)\n",
    "\n",
    "objective = src.adjacency.Graph_From_Atlas(\n",
    "    limits = [np.inf, 786e3, np.inf]\n",
    ")\n",
    "\n",
    "reduced_atlas = src.adjacency.reduction(atlas, graph_empty, objective)"
   ]
  },
  {
   "cell_type": "code",
   "execution_count": 34,
   "id": "8e9e1ead-3748-4a67-be10-70771c0032b6",
   "metadata": {},
   "outputs": [
    {
     "data": {
      "text/plain": [
       "(7137, 18215)"
      ]
     },
     "execution_count": 34,
     "metadata": {},
     "output_type": "execute_result"
    }
   ],
   "source": [
    "reduced_atlas.number_of_nodes(), reduced_atlas.number_of_edges()"
   ]
  },
  {
   "cell_type": "code",
   "execution_count": 35,
   "id": "ede4940a-ca42-405d-b7dc-27aecdc6fb9a",
   "metadata": {},
   "outputs": [
    {
     "data": {
      "text/plain": [
       "(7137, 7136)"
      ]
     },
     "execution_count": 35,
     "metadata": {},
     "output_type": "execute_result"
    }
   ],
   "source": [
    "k = list(reduced_atlas._adj.keys())\n",
    "len(k), max(k)"
   ]
  },
  {
   "cell_type": "code",
   "execution_count": 39,
   "id": "7a66fcd8-8cc1-4723-a91e-07b1fbbe7675",
   "metadata": {},
   "outputs": [
    {
     "data": {
      "text/plain": [
       "{0: {'time': 0, 'distance': 0, 'price': 0},\n",
       " 17: {'time': 85.5, 'distance': 1710.0, 'price': 0},\n",
       " 5534: {'time': 257.5625, 'distance': 4850.0, 'price': 0},\n",
       " 5547: {'time': 225.4090909090909, 'distance': 5510.0, 'price': 0}}"
      ]
     },
     "execution_count": 39,
     "metadata": {},
     "output_type": "execute_result"
    }
   ],
   "source": [
    "reduced_atlas._adj[0]"
   ]
  },
  {
   "cell_type": "code",
   "execution_count": 37,
   "id": "32c75202-bd52-447a-8df8-f5e0c5d3c445",
   "metadata": {},
   "outputs": [
    {
     "name": "stdout",
     "output_type": "stream",
     "text": [
      "\u001b[1m\u001b[38;5;34m\u001b[48;5;0m [------>] (2168/2168) 100.00%, 10.35 it/s, 209.59 s elapsed, 0.00 s remaining"
     ]
    }
   ],
   "source": [
    "deep_reload(src)\n",
    "\n",
    "objective = src.adjacency.Graph_From_Atlas(\n",
    "    limits = [np.inf, 786e3, np.inf]\n",
    ")\n",
    "\n",
    "graph = src.adjacency.adjacency(\n",
    "    reduced_atlas,\n",
    "    graph_empty,\n",
    "    objective = objective,\n",
    ")"
   ]
  },
  {
   "cell_type": "code",
   "execution_count": 40,
   "id": "e6e58b58-0f84-432c-86a0-74e6959ece18",
   "metadata": {},
   "outputs": [],
   "source": [
    "src.graph.graph_to_json(graph, 'Outputs/graph_full_red.json')"
   ]
  },
  {
   "cell_type": "code",
   "execution_count": 38,
   "id": "f40c81fd-4323-4970-8936-4909a962d4dd",
   "metadata": {},
   "outputs": [
    {
     "data": {
      "text/plain": [
       "(2168, 2161851)"
      ]
     },
     "execution_count": 38,
     "metadata": {},
     "output_type": "execute_result"
    }
   ],
   "source": [
    "graph.number_of_nodes(), graph.number_of_edges()"
   ]
  },
  {
   "cell_type": "code",
   "execution_count": null,
   "id": "996fb1b6-ae54-4b9c-a559-0a4143518381",
   "metadata": {},
   "outputs": [],
   "source": []
  },
  {
   "cell_type": "code",
   "execution_count": null,
   "id": "480cd2c3-f554-4e71-ac27-e6dd1725d678",
   "metadata": {},
   "outputs": [],
   "source": []
  },
  {
   "cell_type": "code",
   "execution_count": 19,
   "id": "4c651ec3-a22c-49b1-8dae-787486846433",
   "metadata": {},
   "outputs": [
    {
     "name": "stdout",
     "output_type": "stream",
     "text": [
      "a\n",
      "cc\n",
      "c\n",
      "dd\n",
      "d\n",
      "e\n",
      "b\n",
      "\u001b[1m\u001b[38;5;34m\u001b[48;5;0m [>         ] (0/2168) 0.00%, 322638.77 it/s, 0.00 s elapsed, 0.01 s remainingUnexpected exception formatting exception. Falling back to standard exception\n"
     ]
    },
    {
     "name": "stderr",
     "output_type": "stream",
     "text": [
      "Traceback (most recent call last):\n",
      "  File \"/home/aaron/anaconda3/lib/python3.11/site-packages/IPython/core/interactiveshell.py\", line 3526, in run_code\n",
      "    exec(code_obj, self.user_global_ns, self.user_ns)\n",
      "  File \"/tmp/ipykernel_27353/1875053208.py\", line 3, in <module>\n",
      "    graph = src.adjacency.adjacency_fw(\n",
      "            ^^^^^^^^^^^^^^^^^^^^^^^^^^^\n",
      "  File \"/home/aaron/Desktop/charger_network_analysis/src/adjacency.py\", line 287, in adjacency_fw\n",
      "    nodes = atlas_to_graph[destination]\n",
      "            ~~~~~~~~~~~~~~^^^^^^^^^^^^^\n",
      "KeyError: 'San Fernando'\n",
      "\n",
      "During handling of the above exception, another exception occurred:\n",
      "\n",
      "Traceback (most recent call last):\n",
      "  File \"/home/aaron/anaconda3/lib/python3.11/site-packages/IPython/core/interactiveshell.py\", line 2120, in showtraceback\n",
      "    stb = self.InteractiveTB.structured_traceback(\n",
      "          ^^^^^^^^^^^^^^^^^^^^^^^^^^^^^^^^^^^^^^^^\n",
      "  File \"/home/aaron/anaconda3/lib/python3.11/site-packages/IPython/core/ultratb.py\", line 1435, in structured_traceback\n",
      "    return FormattedTB.structured_traceback(\n",
      "           ^^^^^^^^^^^^^^^^^^^^^^^^^^^^^^^^^\n",
      "  File \"/home/aaron/anaconda3/lib/python3.11/site-packages/IPython/core/ultratb.py\", line 1326, in structured_traceback\n",
      "    return VerboseTB.structured_traceback(\n",
      "           ^^^^^^^^^^^^^^^^^^^^^^^^^^^^^^^\n",
      "  File \"/home/aaron/anaconda3/lib/python3.11/site-packages/IPython/core/ultratb.py\", line 1173, in structured_traceback\n",
      "    formatted_exception = self.format_exception_as_a_whole(etype, evalue, etb, number_of_lines_of_context,\n",
      "                          ^^^^^^^^^^^^^^^^^^^^^^^^^^^^^^^^^^^^^^^^^^^^^^^^^^^^^^^^^^^^^^^^^^^^^^^^^^^^^^^^\n",
      "  File \"/home/aaron/anaconda3/lib/python3.11/site-packages/IPython/core/ultratb.py\", line 1088, in format_exception_as_a_whole\n",
      "    frames.append(self.format_record(record))\n",
      "                  ^^^^^^^^^^^^^^^^^^^^^^^^^^\n",
      "  File \"/home/aaron/anaconda3/lib/python3.11/site-packages/IPython/core/ultratb.py\", line 970, in format_record\n",
      "    frame_info.lines, Colors, self.has_colors, lvals\n",
      "    ^^^^^^^^^^^^^^^^\n",
      "  File \"/home/aaron/anaconda3/lib/python3.11/site-packages/IPython/core/ultratb.py\", line 792, in lines\n",
      "    return self._sd.lines\n",
      "           ^^^^^^^^^^^^^^\n",
      "  File \"/home/aaron/anaconda3/lib/python3.11/site-packages/stack_data/utils.py\", line 145, in cached_property_wrapper\n",
      "    value = obj.__dict__[self.func.__name__] = self.func(obj)\n",
      "                                               ^^^^^^^^^^^^^^\n",
      "  File \"/home/aaron/anaconda3/lib/python3.11/site-packages/stack_data/core.py\", line 698, in lines\n",
      "    pieces = self.included_pieces\n",
      "             ^^^^^^^^^^^^^^^^^^^^\n",
      "  File \"/home/aaron/anaconda3/lib/python3.11/site-packages/stack_data/utils.py\", line 145, in cached_property_wrapper\n",
      "    value = obj.__dict__[self.func.__name__] = self.func(obj)\n",
      "                                               ^^^^^^^^^^^^^^\n",
      "  File \"/home/aaron/anaconda3/lib/python3.11/site-packages/stack_data/core.py\", line 649, in included_pieces\n",
      "    pos = scope_pieces.index(self.executing_piece)\n",
      "                             ^^^^^^^^^^^^^^^^^^^^\n",
      "  File \"/home/aaron/anaconda3/lib/python3.11/site-packages/stack_data/utils.py\", line 145, in cached_property_wrapper\n",
      "    value = obj.__dict__[self.func.__name__] = self.func(obj)\n",
      "                                               ^^^^^^^^^^^^^^\n",
      "  File \"/home/aaron/anaconda3/lib/python3.11/site-packages/stack_data/core.py\", line 628, in executing_piece\n",
      "    return only(\n",
      "           ^^^^^\n",
      "  File \"/home/aaron/anaconda3/lib/python3.11/site-packages/executing/executing.py\", line 164, in only\n",
      "    raise NotOneValueFound('Expected one value, found 0')\n",
      "executing.executing.NotOneValueFound: Expected one value, found 0\n"
     ]
    }
   ],
   "source": [
    "deep_reload(src)\n",
    "\n",
    "graph = src.adjacency.adjacency_fw(\n",
    "    reduced_atlas,\n",
    "    graph_empty,\n",
    ")"
   ]
  },
  {
   "cell_type": "code",
   "execution_count": 12,
   "id": "2878d6f1-8b9b-4582-b8d7-739cdeb6a204",
   "metadata": {},
   "outputs": [
    {
     "data": {
      "text/plain": [
       "(59621, 63677)"
      ]
     },
     "execution_count": 12,
     "metadata": {},
     "output_type": "execute_result"
    }
   ],
   "source": [
    "atlas.number_of_nodes(), atlas.number_of_edges()"
   ]
  }
 ],
 "metadata": {
  "kernelspec": {
   "display_name": "Python 3 (ipykernel)",
   "language": "python",
   "name": "python3"
  },
  "language_info": {
   "codemirror_mode": {
    "name": "ipython",
    "version": 3
   },
   "file_extension": ".py",
   "mimetype": "text/x-python",
   "name": "python",
   "nbconvert_exporter": "python",
   "pygments_lexer": "ipython3",
   "version": "3.11.5"
  }
 },
 "nbformat": 4,
 "nbformat_minor": 5
}
