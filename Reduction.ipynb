{
 "cells": [
  {
   "cell_type": "code",
   "execution_count": 1,
   "id": "a28a4cb3-cfc2-40b9-9d2c-a2be8067e1f6",
   "metadata": {
    "tags": []
   },
   "outputs": [],
   "source": [
    "import warnings\n",
    "warnings.filterwarnings(\"ignore\")\n",
    "\n",
    "import os\n",
    "import sys\n",
    "import time\n",
    "import json\n",
    "import numpy as np\n",
    "import pandas as pd\n",
    "import geopandas as gpd\n",
    "import pickle as pkl\n",
    "import networkx as nx\n",
    "import matplotlib.pyplot as plt\n",
    "\n",
    "import src\n",
    "from src.reload import deep_reload"
   ]
  },
  {
   "cell_type": "code",
   "execution_count": 2,
   "id": "ae7b4449-8adc-4a8d-a411-702a8d7b5ff8",
   "metadata": {},
   "outputs": [],
   "source": [
    "atlas = src.graph.graph_from_json('Outputs/atlas.json')\n",
    "\n",
    "graph_empty = src.graph.graph_from_json('Outputs/graph_empty.json')"
   ]
  },
  {
   "cell_type": "code",
   "execution_count": 3,
   "id": "dba31674-037d-42ba-bc74-d4961ef6746a",
   "metadata": {},
   "outputs": [],
   "source": [
    "# Adding roadnum for destinations\n",
    "\n",
    "graph_to_atlas, atlas_to_graph = src.adjacency.node_assignment(graph_empty, atlas)\n",
    "\n",
    "for graph_node, atlas_node in graph_to_atlas.items():\n",
    "\n",
    "    graph_empty._node[graph_node]['roadnum'] = atlas._node[atlas_node]['roadnum']"
   ]
  },
  {
   "cell_type": "code",
   "execution_count": 5,
   "id": "00160c6a-f8da-4d53-9444-76281c128663",
   "metadata": {},
   "outputs": [],
   "source": [
    "# Edge-less graph consisting of locations from graph_empty and nodes which\n",
    "# represent intersections in atlas\n",
    "\n",
    "graph_to_atlas, atlas_to_graph = src.adjacency.node_assignment(graph_empty, atlas)\n",
    "\n",
    "destinations = list(graph_empty.nodes)\n",
    "\n",
    "destinations_atlas = [graph_to_atlas[node] for node in destinations]\n",
    "\n",
    "intersections = []\n",
    "\n",
    "for source, adj in atlas._adj.items():\n",
    "\n",
    "    if len(adj) > 2:\n",
    "\n",
    "        intersections.append(source)"
   ]
  },
  {
   "cell_type": "code",
   "execution_count": 8,
   "id": "2ee73637-ff35-47d4-a7f2-db9a69366342",
   "metadata": {},
   "outputs": [
    {
     "data": {
      "text/plain": [
       "(5722, 7890)"
      ]
     },
     "execution_count": 8,
     "metadata": {},
     "output_type": "execute_result"
    }
   ],
   "source": [
    "len(intersections), len(intersections + destinations_atlas)"
   ]
  },
  {
   "cell_type": "code",
   "execution_count": 33,
   "id": "31cd1918-7888-4aff-9046-6f002137acbc",
   "metadata": {},
   "outputs": [
    {
     "name": "stdout",
     "output_type": "stream",
     "text": [
      "\u001b[1m\u001b[38;5;34m\u001b[48;5;0m [------>] (7137/7137) 100.00%, 278.09 it/s, 25.67 s elapsed, 0.00 s remaining"
     ]
    }
   ],
   "source": [
    "deep_reload(src)\n",
    "\n",
    "objective = src.adjacency.Graph_From_Atlas(\n",
    "    limits = [np.inf, 786e3, np.inf]\n",
    ")\n",
    "\n",
    "reduced_atlas = src.adjacency.reduction(atlas, graph_empty, objective)"
   ]
  },
  {
   "cell_type": "code",
   "execution_count": 34,
   "id": "8e9e1ead-3748-4a67-be10-70771c0032b6",
   "metadata": {},
   "outputs": [
    {
     "data": {
      "text/plain": [
       "(7137, 18215)"
      ]
     },
     "execution_count": 34,
     "metadata": {},
     "output_type": "execute_result"
    }
   ],
   "source": [
    "reduced_atlas.number_of_nodes(), reduced_atlas.number_of_edges()"
   ]
  },
  {
   "cell_type": "code",
   "execution_count": 35,
   "id": "ede4940a-ca42-405d-b7dc-27aecdc6fb9a",
   "metadata": {},
   "outputs": [
    {
     "data": {
      "text/plain": [
       "(7137, 7136)"
      ]
     },
     "execution_count": 35,
     "metadata": {},
     "output_type": "execute_result"
    }
   ],
   "source": [
    "k = list(reduced_atlas._adj.keys())\n",
    "len(k), max(k)"
   ]
  },
  {
   "cell_type": "code",
   "execution_count": 39,
   "id": "7a66fcd8-8cc1-4723-a91e-07b1fbbe7675",
   "metadata": {},
   "outputs": [
    {
     "data": {
      "text/plain": [
       "{0: {'time': 0, 'distance': 0, 'price': 0},\n",
       " 17: {'time': 85.5, 'distance': 1710.0, 'price': 0},\n",
       " 5534: {'time': 257.5625, 'distance': 4850.0, 'price': 0},\n",
       " 5547: {'time': 225.4090909090909, 'distance': 5510.0, 'price': 0}}"
      ]
     },
     "execution_count": 39,
     "metadata": {},
     "output_type": "execute_result"
    }
   ],
   "source": [
    "reduced_atlas._adj[0]"
   ]
  },
  {
   "cell_type": "code",
   "execution_count": 37,
   "id": "32c75202-bd52-447a-8df8-f5e0c5d3c445",
   "metadata": {},
   "outputs": [
    {
     "name": "stdout",
     "output_type": "stream",
     "text": [
      "\u001b[1m\u001b[38;5;34m\u001b[48;5;0m [------>] (2168/2168) 100.00%, 10.35 it/s, 209.59 s elapsed, 0.00 s remaining"
     ]
    }
   ],
   "source": [
    "deep_reload(src)\n",
    "\n",
    "objective = src.adjacency.Graph_From_Atlas(\n",
    "    limits = [np.inf, 786e3, np.inf]\n",
    ")\n",
    "\n",
    "graph = src.adjacency.adjacency(\n",
    "    reduced_atlas,\n",
    "    graph_empty,\n",
    "    objective = objective,\n",
    ")"
   ]
  },
  {
   "cell_type": "code",
   "execution_count": 40,
   "id": "e6e58b58-0f84-432c-86a0-74e6959ece18",
   "metadata": {},
   "outputs": [],
   "source": [
    "src.graph.graph_to_json(graph, 'Outputs/graph_full_red.json')"
   ]
  },
  {
   "cell_type": "code",
   "execution_count": 38,
   "id": "f40c81fd-4323-4970-8936-4909a962d4dd",
   "metadata": {},
   "outputs": [
    {
     "data": {
      "text/plain": [
       "(2168, 2161851)"
      ]
     },
     "execution_count": 38,
     "metadata": {},
     "output_type": "execute_result"
    }
   ],
   "source": [
    "graph.number_of_nodes(), graph.number_of_edges()"
   ]
  },
  {
   "cell_type": "code",
   "execution_count": 44,
   "id": "996fb1b6-ae54-4b9c-a559-0a4143518381",
   "metadata": {},
   "outputs": [],
   "source": [
    "places = [k for k, v in graph._node.items() if v['type'] == 'place']\n",
    "stations = [k for k, v in graph._node.items() if v['type'] == 'station']\n",
    "\n",
    "tesla = [k for k, v in graph._node.items() if (v['type'] == 'station') and (v['network'] == 'Tesla')]\n",
    "non_tesla = [k for k, v in graph._node.items() if (v['type'] == 'station') and (v['network'] != 'Tesla')]"
   ]
  },
  {
   "cell_type": "code",
   "execution_count": 46,
   "id": "480cd2c3-f554-4e71-ac27-e6dd1725d678",
   "metadata": {},
   "outputs": [
    {
     "data": {
      "text/plain": [
       "(419, 1270, 479)"
      ]
     },
     "execution_count": 46,
     "metadata": {},
     "output_type": "execute_result"
    }
   ],
   "source": [
    "len(tesla), len(non_tesla), len(places)"
   ]
  },
  {
   "cell_type": "code",
   "execution_count": 47,
   "id": "9b45c386-2733-40c8-8a57-c0f4f36bb0e8",
   "metadata": {},
   "outputs": [],
   "source": [
    "graph_tesla = src.graph.subgraph(graph, places + tesla)"
   ]
  },
  {
   "cell_type": "code",
   "execution_count": 48,
   "id": "97e7df26-27fe-435d-bcc9-b15fa84e995e",
   "metadata": {},
   "outputs": [
    {
     "data": {
      "text/plain": [
       "(898, 366871)"
      ]
     },
     "execution_count": 48,
     "metadata": {},
     "output_type": "execute_result"
    }
   ],
   "source": [
    "graph_tesla.number_of_nodes(), graph_tesla.number_of_edges()"
   ]
  },
  {
   "cell_type": "code",
   "execution_count": 49,
   "id": "5b6ef106-b609-48f3-9117-06a590e52816",
   "metadata": {},
   "outputs": [],
   "source": [
    "src.graph.graph_to_json(graph_tesla, 'Outputs/graph_full_tesla.json')"
   ]
  },
  {
   "cell_type": "code",
   "execution_count": 50,
   "id": "e9fb0a89-8b4f-4f80-b227-6b6547f2893d",
   "metadata": {},
   "outputs": [
    {
     "data": {
      "text/plain": [
       "(1749, 1411222)"
      ]
     },
     "execution_count": 50,
     "metadata": {},
     "output_type": "execute_result"
    }
   ],
   "source": [
    "graph_non_tesla = src.graph.subgraph(graph, places + non_tesla)\n",
    "graph_non_tesla.number_of_nodes(), graph_non_tesla.number_of_edges()"
   ]
  },
  {
   "cell_type": "code",
   "execution_count": 51,
   "id": "490b69e1-8181-49cd-94c7-51989e0fbafb",
   "metadata": {},
   "outputs": [],
   "source": [
    "src.graph.graph_to_json(graph_non_tesla, 'Outputs/graph_full_non_tesla.json')"
   ]
  },
  {
   "cell_type": "code",
   "execution_count": null,
   "id": "43e2cbea-21cc-4845-8f3d-066b2fb272bc",
   "metadata": {},
   "outputs": [],
   "source": []
  }
 ],
 "metadata": {
  "kernelspec": {
   "display_name": "Python 3 (ipykernel)",
   "language": "python",
   "name": "python3"
  },
  "language_info": {
   "codemirror_mode": {
    "name": "ipython",
    "version": 3
   },
   "file_extension": ".py",
   "mimetype": "text/x-python",
   "name": "python",
   "nbconvert_exporter": "python",
   "pygments_lexer": "ipython3",
   "version": "3.11.5"
  }
 },
 "nbformat": 4,
 "nbformat_minor": 5
}
