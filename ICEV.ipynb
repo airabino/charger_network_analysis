{
 "cells": [
  {
   "cell_type": "code",
   "execution_count": 1,
   "id": "3826bb29-bdde-4250-9a08-5d62e5bd997f",
   "metadata": {
    "tags": []
   },
   "outputs": [],
   "source": [
    "import warnings\n",
    "warnings.filterwarnings(\"ignore\")\n",
    "\n",
    "import os\n",
    "import sys\n",
    "import time\n",
    "import json\n",
    "import numpy as np\n",
    "import pandas as pd\n",
    "import geopandas as gpd\n",
    "import pickle as pkl\n",
    "import networkx as nx\n",
    "import matplotlib.pyplot as plt\n",
    "\n",
    "import statsmodels.api as sm\n",
    "import statsmodels.formula.api as smf\n",
    "\n",
    "from pprint import pprint\n",
    "\n",
    "import src\n",
    "from src.reload import deep_reload"
   ]
  },
  {
   "cell_type": "code",
   "execution_count": 12,
   "id": "b5a2547e-5fa8-42e9-aee5-201b0f8cba1d",
   "metadata": {},
   "outputs": [],
   "source": [
    "icevs = {\n",
    "    'pacifica': {\n",
    "        'gallons_gas': 19,\n",
    "        'mpg': 25,\n",
    "    },\n",
    "    'prius': {\n",
    "        'gallons_gas': 11.3,\n",
    "        'mpg': 56,\n",
    "    },\n",
    "    'golf': {\n",
    "        'gallons_gas': 13.2,\n",
    "        'mpg': 41,\n",
    "    },\n",
    "}"
   ]
  },
  {
   "cell_type": "code",
   "execution_count": 13,
   "id": "b04d456d-1a06-47e7-afb9-03d758b69ae7",
   "metadata": {},
   "outputs": [],
   "source": [
    "for key, value in icevs.items():\n",
    "\n",
    "    value['energy_consumption'] = 1 / value['mpg'] / 1.6094 * 33.7 * 3.6e3\n",
    "    value['ess_capacity'] = value['gallons_gas'] * 33.7\n",
    "    value['range'] = value['ess_capacity'] * 3.6e3 / value['energy_consumption']"
   ]
  },
  {
   "cell_type": "code",
   "execution_count": 14,
   "id": "4a58e747-693e-4e0f-ac81-f7d29061d262",
   "metadata": {},
   "outputs": [
    {
     "data": {
      "text/plain": [
       "{'pacifica': {'gallons_gas': 19,\n",
       "  'mpg': 25,\n",
       "  'energy_consumption': 3015.2851994532125,\n",
       "  'ess_capacity': 640.3000000000001,\n",
       "  'range': 764.4650000000001},\n",
       " 'prius': {'gallons_gas': 11.3,\n",
       "  'mpg': 56,\n",
       "  'energy_consumption': 1346.1094640416127,\n",
       "  'ess_capacity': 380.81000000000006,\n",
       "  'range': 1018.4283200000002},\n",
       " 'golf': {'gallons_gas': 13.2,\n",
       "  'mpg': 41,\n",
       "  'energy_consumption': 1838.588536251959,\n",
       "  'ess_capacity': 444.84000000000003,\n",
       "  'range': 871.0072799999998}}"
      ]
     },
     "execution_count": 14,
     "metadata": {},
     "output_type": "execute_result"
    }
   ],
   "source": [
    "icevs"
   ]
  },
  {
   "cell_type": "code",
   "execution_count": 30,
   "id": "0d8ab296-fb6a-45b1-9d8e-181302475097",
   "metadata": {},
   "outputs": [
    {
     "data": {
      "text/plain": [
       "{'pacifica': 281.64500000000004, 'prius': 630.8848, 'golf': 461.89779999999996}"
      ]
     },
     "execution_count": 30,
     "metadata": {},
     "output_type": "execute_result"
    }
   ],
   "source": [
    "gas_supply_rate = 7 / 60 * 33.7 * 3.6e6\n",
    "\n",
    "{k: gas_supply_rate / v['energy_consumption'] * 60 / 1e3 for k, v in icevs.items()}"
   ]
  },
  {
   "cell_type": "code",
   "execution_count": 44,
   "id": "8fa5d019-753b-4838-9ad5-4c4028547feb",
   "metadata": {},
   "outputs": [
    {
     "data": {
      "text/plain": [
       "{'pacifica': 12.769976388716293,\n",
       " 'prius': 5.700882316391201,\n",
       " 'golf': 7.786570968729448}"
      ]
     },
     "execution_count": 44,
     "metadata": {},
     "output_type": "execute_result"
    }
   ],
   "source": [
    "gas_energy_price = 5.138 / 33.7 / 3.6e3\n",
    "\n",
    "{k: v['energy_consumption'] * gas_energy_price * 100 for k, v in icevs.items()}"
   ]
  },
  {
   "cell_type": "code",
   "execution_count": 61,
   "id": "6e994e10-14d5-4a92-99d7-67737a686ed6",
   "metadata": {},
   "outputs": [
    {
     "data": {
      "text/plain": [
       "{'pacifica': 8.969802410836337,\n",
       " 'prius': 4.0043760762662215,\n",
       " 'golf': 5.469391713924597}"
      ]
     },
     "execution_count": 61,
     "metadata": {},
     "output_type": "execute_result"
    }
   ],
   "source": [
    "gas_energy_price = 3.609 / 33.7 / 3.6e3\n",
    "\n",
    "{k: v['energy_consumption'] * gas_energy_price * 100 for k, v in icevs.items()}"
   ]
  },
  {
   "cell_type": "code",
   "execution_count": 96,
   "id": "ddfce5dd-185e-427e-98a5-59c1377e6109",
   "metadata": {},
   "outputs": [],
   "source": [
    "graph = src.graph.graph_from_json('Outputs/graph_full.json')\n",
    "\n",
    "cities = [k for k, v in graph._node.items() if v['type'] == 'city']"
   ]
  },
  {
   "cell_type": "code",
   "execution_count": 140,
   "id": "dc948559-e6a9-4241-a8c6-10358fd8291e",
   "metadata": {},
   "outputs": [],
   "source": [
    "cities_sg = src.graph.subgraph(graph, cities)"
   ]
  },
  {
   "cell_type": "code",
   "execution_count": 141,
   "id": "fd8c2fd1-cd5e-4e63-a8c7-fd9c63884c39",
   "metadata": {},
   "outputs": [],
   "source": [
    "def icev_trip_time(edge, vehicle, supply_rate, base_delay = 60, range_usage_ratio = .9):\n",
    "\n",
    "    effective_capacity = vehicle['ess_capacity'] * range_usage_ratio * 3.6e6\n",
    "    effective_range = vehicle['range'] * range_usage_ratio * 1e3\n",
    "    \n",
    "    number_of_stops = edge['distance'] // effective_range\n",
    "    remainder_distance = edge['distance'] % effective_range\n",
    "    edge['supply_time'] = (\n",
    "        number_of_stops * effective_capacity / supply_rate +\n",
    "        number_of_stops * base_delay\n",
    "    )\n",
    "\n",
    "    # print(edge['supply_time'])\n",
    "\n",
    "    edge['total_time'] = edge['time'] + edge['supply_time']\n",
    "    edge['number_of_stops'] = number_of_stops\n",
    "\n",
    "    return edge"
   ]
  },
  {
   "cell_type": "code",
   "execution_count": 142,
   "id": "63e4b0b0-2851-4ab6-8369-b44a7b3aa5e6",
   "metadata": {},
   "outputs": [],
   "source": [
    "supply_rate = 7 / 60 * 33.7 * 3.6e6\n",
    "base_delay = 600\n",
    "\n",
    "values = {}\n",
    "\n",
    "for key, vehicle in icevs.items():\n",
    "    \n",
    "    values[key] = {}\n",
    "    \n",
    "    for source, adj in cities_sg._adj.items():\n",
    "\n",
    "        values[key][source] = {}\n",
    "        \n",
    "        for target, edge in adj.items():\n",
    "            \n",
    "            values[key][source][target] = icev_trip_time(\n",
    "                edge.copy(), vehicle, supply_rate, base_delay = base_delay\n",
    "            )"
   ]
  },
  {
   "cell_type": "code",
   "execution_count": 163,
   "id": "b2370929-ba91-4ee5-8163-bf39ada752bd",
   "metadata": {},
   "outputs": [],
   "source": [
    "deep_reload(src)\n",
    "\n",
    "graph = src.graph.graph_from_json('Outputs/graph_empty.json')\n",
    "\n",
    "cities = src.graph.graph_from_json('cities.json')\n",
    "\n",
    "pop_adj = sum([v['population'] for k, v in cities._node.items()]) / len(cities)\n",
    "\n",
    "weighted = {k: v['population'] for k, v in cities._node.items()}\n",
    "\n",
    "relative = {k: v['population'] / pop_adj for k, v in cities._node.items()}\n",
    "\n",
    "unweighted = {k: 1 for k, v in cities._node.items()}"
   ]
  },
  {
   "cell_type": "code",
   "execution_count": 168,
   "id": "f2800398-f9f7-494c-83a8-f109d6f00124",
   "metadata": {},
   "outputs": [
    {
     "data": {
      "text/plain": [
       "4.130946393010607"
      ]
     },
     "execution_count": 168,
     "metadata": {},
     "output_type": "execute_result"
    }
   ],
   "source": [
    "src.routing.impedance(\n",
    "    values['prius'],\n",
    "    field = 'total_time',\n",
    "    origins = relative,\n",
    "    destinations = relative,\n",
    "    constant = 1 / 3600\n",
    ")"
   ]
  },
  {
   "cell_type": "code",
   "execution_count": 169,
   "id": "03bff933-dff6-4a80-8ba8-403a4afa98a9",
   "metadata": {},
   "outputs": [
    {
     "data": {
      "text/plain": [
       "4.151156828756136"
      ]
     },
     "execution_count": 169,
     "metadata": {},
     "output_type": "execute_result"
    }
   ],
   "source": [
    "src.routing.impedance(\n",
    "    values['golf'],\n",
    "    field = 'total_time',\n",
    "    origins = relative,\n",
    "    destinations = relative,\n",
    "    constant = 1 / 3600\n",
    ")"
   ]
  },
  {
   "cell_type": "code",
   "execution_count": 167,
   "id": "8a1f0b02-7b79-403b-b4bc-e8f462af1bba",
   "metadata": {},
   "outputs": [
    {
     "data": {
      "text/plain": [
       "4.161197186840438"
      ]
     },
     "execution_count": 167,
     "metadata": {},
     "output_type": "execute_result"
    }
   ],
   "source": [
    "src.routing.impedance(\n",
    "    values['pacifica'],\n",
    "    field = 'total_time',\n",
    "    origins = relative,\n",
    "    destinations = relative,\n",
    "    constant = 1 / 3600\n",
    ")"
   ]
  },
  {
   "cell_type": "code",
   "execution_count": 190,
   "id": "f425811d-e0ba-4425-9977-d1e5f6419b32",
   "metadata": {},
   "outputs": [
    {
     "data": {
      "text/plain": [
       "4.118334452421349"
      ]
     },
     "execution_count": 190,
     "metadata": {},
     "output_type": "execute_result"
    }
   ],
   "source": [
    "src.routing.impedance(\n",
    "    values['prius'],\n",
    "    field = 'time',\n",
    "    origins = relative,\n",
    "    destinations = relative,\n",
    "    constant = 1 / 3600\n",
    ")"
   ]
  },
  {
   "cell_type": "code",
   "execution_count": 191,
   "id": "9a32fa4f-6863-46ed-b3eb-124a17fa2faf",
   "metadata": {},
   "outputs": [
    {
     "data": {
      "text/plain": [
       "4.118334452421349"
      ]
     },
     "execution_count": 191,
     "metadata": {},
     "output_type": "execute_result"
    }
   ],
   "source": [
    "src.routing.impedance(\n",
    "    values['golf'],\n",
    "    field = 'time',\n",
    "    origins = relative,\n",
    "    destinations = relative,\n",
    "    constant = 1 / 3600\n",
    ")"
   ]
  },
  {
   "cell_type": "code",
   "execution_count": 192,
   "id": "4d969945-a34e-40f5-84b0-c81ffb39aa74",
   "metadata": {},
   "outputs": [
    {
     "data": {
      "text/plain": [
       "4.118334452421349"
      ]
     },
     "execution_count": 192,
     "metadata": {},
     "output_type": "execute_result"
    }
   ],
   "source": [
    "src.routing.impedance(\n",
    "    values['pacifica'],\n",
    "    field = 'time',\n",
    "    origins = relative,\n",
    "    destinations = relative,\n",
    "    constant = 1 / 3600\n",
    ")"
   ]
  },
  {
   "cell_type": "code",
   "execution_count": 194,
   "id": "952a5e49-41c1-4d60-bce2-ab5c258cd0e9",
   "metadata": {},
   "outputs": [
    {
     "data": {
      "text/plain": [
       "5.186834177368633"
      ]
     },
     "execution_count": 194,
     "metadata": {},
     "output_type": "execute_result"
    }
   ],
   "source": [
    "src.routing.impedance(\n",
    "    values['pacifica'],\n",
    "    field = 'total_time',\n",
    "    origins = {'Sacramento': 1},\n",
    "    destinations = relative,\n",
    "    constant = 1 / 3600\n",
    ")"
   ]
  },
  {
   "cell_type": "code",
   "execution_count": 195,
   "id": "9ec2113e-0675-4194-9ec0-60262c575a26",
   "metadata": {},
   "outputs": [
    {
     "data": {
      "text/plain": [
       "4.135867919622814"
      ]
     },
     "execution_count": 195,
     "metadata": {},
     "output_type": "execute_result"
    }
   ],
   "source": [
    "src.routing.impedance(\n",
    "    values['pacifica'],\n",
    "    field = 'total_time',\n",
    "    origins = {'San Diego': 1},\n",
    "    destinations = relative,\n",
    "    constant = 1 / 3600\n",
    ")"
   ]
  },
  {
   "cell_type": "code",
   "execution_count": 157,
   "id": "35256466-2aa0-4cc7-a3be-0294176f3d63",
   "metadata": {},
   "outputs": [
    {
     "name": "stdout",
     "output_type": "stream",
     "text": [
      "5.439653657330323\n",
      "5.439653657330323\n",
      "5.439653657330323\n"
     ]
    }
   ],
   "source": [
    "print(src.routing.road_trip_accessibility(\n",
    "    values['pacifica'],\n",
    "    field = 'time',\n",
    ") / 3600)\n",
    "\n",
    "print(src.routing.road_trip_accessibility(\n",
    "    values['golf'],\n",
    "    field = 'time',\n",
    ") / 3600)\n",
    "\n",
    "print(src.routing.road_trip_accessibility(\n",
    "    values['prius'],\n",
    "    field = 'time',\n",
    ") / 3600)"
   ]
  },
  {
   "cell_type": "code",
   "execution_count": 150,
   "id": "42646196-4936-492f-91dd-4afa97c67789",
   "metadata": {},
   "outputs": [
    {
     "data": {
      "text/plain": [
       "(('Crescent City', 'I-10 to Phoenix (State Line)'), 1532.66)"
      ]
     },
     "execution_count": 150,
     "metadata": {},
     "output_type": "execute_result"
    }
   ],
   "source": [
    "max_trip_length = 0\n",
    "max_length_trip = ''\n",
    "\n",
    "for source, adj in cities_sg._adj.items():\n",
    "        \n",
    "    for target, edge in adj.items():\n",
    "\n",
    "        if edge['distance'] > max_trip_length:\n",
    "\n",
    "            max_trip_length = edge['distance']\n",
    "            max_length_trip = (source, target)\n",
    "\n",
    "max_length_trip, max_trip_length / 1e3"
   ]
  },
  {
   "cell_type": "code",
   "execution_count": 155,
   "id": "1ceba8ae-8d13-45b8-801b-0dd1a6faed3d",
   "metadata": {},
   "outputs": [
    {
     "data": {
      "text/plain": [
       "({'pacifica': 84.0, 'prius': 38.0, 'golf': 60.0},\n",
       " {'pacifica': 0.42857142857142855,\n",
       "  'prius': 0.19387755102040816,\n",
       "  'golf': 0.30612244897959184})"
      ]
     },
     "execution_count": 155,
     "metadata": {},
     "output_type": "execute_result"
    }
   ],
   "source": [
    "total_stops = {}\n",
    "\n",
    "for veh, val in values.items():\n",
    "\n",
    "    total_stops[veh] = 0\n",
    "\n",
    "    for source, adj in val.items():\n",
    "        for target, arc in adj.items():\n",
    "\n",
    "            total_stops[veh] += arc['number_of_stops']\n",
    "\n",
    "total_stops, {k: v / 14 ** 2 for k, v in total_stops.items()}"
   ]
  }
 ],
 "metadata": {
  "kernelspec": {
   "display_name": "Python 3 (ipykernel)",
   "language": "python",
   "name": "python3"
  },
  "language_info": {
   "codemirror_mode": {
    "name": "ipython",
    "version": 3
   },
   "file_extension": ".py",
   "mimetype": "text/x-python",
   "name": "python",
   "nbconvert_exporter": "python",
   "pygments_lexer": "ipython3",
   "version": "3.11.5"
  }
 },
 "nbformat": 4,
 "nbformat_minor": 5
}
