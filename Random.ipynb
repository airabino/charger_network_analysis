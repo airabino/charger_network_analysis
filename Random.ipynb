{
 "cells": [
  {
   "cell_type": "code",
   "execution_count": 1,
   "id": "903da6a7-595d-4ae4-8cee-bfefce87d639",
   "metadata": {
    "tags": []
   },
   "outputs": [],
   "source": [
    "import warnings\n",
    "warnings.filterwarnings(\"ignore\")\n",
    "\n",
    "import os\n",
    "import sys\n",
    "import time\n",
    "import json\n",
    "import numpy as np\n",
    "import pandas as pd\n",
    "import geopandas as gpd\n",
    "import pickle as pkl\n",
    "import networkx as nx\n",
    "import matplotlib.pyplot as plt\n",
    "\n",
    "from pprint import pprint\n",
    "\n",
    "import src\n",
    "from src.reload import deep_reload"
   ]
  },
  {
   "cell_type": "code",
   "execution_count": 24,
   "id": "bbdbc8c9-6687-4976-a0d0-5ce0d3118876",
   "metadata": {},
   "outputs": [],
   "source": [
    "'''\n",
    "Creating a random graph\n",
    "\n",
    "graph contains n destinations and m chargers\n",
    "\n",
    "the random graph is completely connected\n",
    "'''\n",
    "deep_reload(src)\n",
    "\n",
    "seed = 125396749\n",
    "n = 15\n",
    "m = 85\n",
    "speeds = [105]\n",
    "chargers = list(range(10))\n",
    "scale = (1e6, 1e6)\n",
    "\n",
    "graph = src.rng.random_completely_connected_graph(\n",
    "    n, m, speeds = speeds, scale = scale, seed = seed, chargers = chargers,\n",
    ")"
   ]
  },
  {
   "cell_type": "code",
   "execution_count": 10,
   "id": "0d03db53-0c7f-4f7c-8108-44d1e2ab7755",
   "metadata": {},
   "outputs": [],
   "source": [
    "for source, adj in graph._adj.items():\n",
    "    for target, edge in adj.items():\n",
    "\n",
    "        if ('station' in source) and ('station' in target):\n",
    "            \n",
    "            edge['type'] = 'station_station'\n",
    "\n",
    "        elif ('station' in source) or ('station' in target):\n",
    "\n",
    "            edge['type'] = 'destination_station'\n",
    "            \n",
    "        else:\n",
    "            \n",
    "            edge['type'] = 'destination_destination'"
   ]
  },
  {
   "cell_type": "code",
   "execution_count": 11,
   "id": "47e37b98-977a-49b7-b4a7-8e511d512d95",
   "metadata": {},
   "outputs": [
    {
     "data": {
      "text/plain": [
       "(100, 5050)"
      ]
     },
     "execution_count": 11,
     "metadata": {},
     "output_type": "execute_result"
    }
   ],
   "source": [
    "graph.number_of_nodes(), graph.number_of_edges()"
   ]
  },
  {
   "cell_type": "code",
   "execution_count": 37,
   "id": "3ce1073d-ec32-4a61-81f3-fd149422b8ad",
   "metadata": {},
   "outputs": [
    {
     "name": "stdout",
     "output_type": "stream",
     "text": [
      "Executed in 0.0035 seconds\n"
     ]
    }
   ],
   "source": [
    "'''\n",
    "Running with Dijkstra with default objective\n",
    "'''\n",
    "deep_reload(src)\n",
    "\n",
    "objective = src.dijkstra.Objective(field = 'time')\n",
    "\n",
    "t0 = time.time()\n",
    "\n",
    "r = src.dijkstra.dijkstra(\n",
    "    graph, ['destination_0'], objective = objective, return_paths = True\n",
    ")\n",
    "\n",
    "print(f'Executed in {time.time() - t0:.4f} seconds')"
   ]
  },
  {
   "cell_type": "code",
   "execution_count": 38,
   "id": "8f8a218d-d85c-49dc-ba60-9da9edc7e183",
   "metadata": {},
   "outputs": [
    {
     "name": "stdout",
     "output_type": "stream",
     "text": [
      "Total Time:\n",
      "\n",
      "{'destination_0': 0.0,\n",
      " 'destination_1': 2.419313306788944,\n",
      " 'destination_10': 15.865801720562095,\n",
      " 'destination_11': 17.455990274462145,\n",
      " 'destination_12': 18.390611267492915,\n",
      " 'destination_13': 19.75785190081337,\n",
      " 'destination_14': 21.18580806594722,\n",
      " 'destination_2': 4.886267052326247,\n",
      " 'destination_3': 4.935066756713083,\n",
      " 'destination_4': 6.732596645463351,\n",
      " 'destination_5': 9.465818516275913,\n",
      " 'destination_6': 9.97586087616289,\n",
      " 'destination_7': 12.523449524163999,\n",
      " 'destination_8': 12.86881867295909,\n",
      " 'destination_9': 14.601186731085448}\n"
     ]
    }
   ],
   "source": [
    "print('Total Time:\\n')\n",
    "pprint({k: v / 3600 for k, v in r[1].items() if 'station' not in k})"
   ]
  },
  {
   "cell_type": "code",
   "execution_count": 14,
   "id": "2d54d120-3f84-4c89-a6d4-358e56b3dffe",
   "metadata": {},
   "outputs": [
    {
     "name": "stdout",
     "output_type": "stream",
     "text": [
      "Executed in 0.0787 seconds\n"
     ]
    }
   ],
   "source": [
    "'''\n",
    "Running with Dijkstra with deterministic vehicle objective\n",
    "'''\n",
    "deep_reload(src)\n",
    "\n",
    "objective = src.routing.Vehicle(capacity = 80 * 3.6e6)\n",
    "\n",
    "t0 = time.time()\n",
    "\n",
    "r = src.dijkstra.dijkstra(\n",
    "    graph, ['destination_0'], objective = objective, return_paths = True\n",
    ")\n",
    "\n",
    "print(f'Executed in {time.time() - t0:.4f} seconds')"
   ]
  },
  {
   "cell_type": "code",
   "execution_count": 15,
   "id": "79e55e75-8c44-490c-b4c4-c12f1579b5af",
   "metadata": {},
   "outputs": [
    {
     "name": "stdout",
     "output_type": "stream",
     "text": [
      "Total Time:\n",
      "\n",
      "{'destination_0': 0.0,\n",
      " 'destination_1': 3.329488711570786,\n",
      " 'destination_10': 1.264614989476647,\n",
      " 'destination_11': 2.102770479381132,\n",
      " 'destination_12': 0.9346209930307693,\n",
      " 'destination_13': 1.3672406333204534,\n",
      " 'destination_14': 1.9442915941570351,\n",
      " 'destination_2': 3.3715431972851726,\n",
      " 'destination_3': 0.048799704386836514,\n",
      " 'destination_4': 2.248851851178897,\n",
      " 'destination_5': 3.92068950325288,\n",
      " 'destination_6': 0.5100423598869759,\n",
      " 'destination_7': 3.741686048806584,\n",
      " 'destination_8': 0.34536914879509084,\n",
      " 'destination_9': 2.2606477189829977}\n",
      "\n",
      "Driving Time:\n",
      "\n",
      "{'destination_0': 0.0,\n",
      " 'destination_1': 2.4281328241292264,\n",
      " 'destination_10': 1.264614989476647,\n",
      " 'destination_11': 1.6448868864959576,\n",
      " 'destination_12': 0.9346209930307693,\n",
      " 'destination_13': 1.3672406333204534,\n",
      " 'destination_14': 1.5218147690378636,\n",
      " 'destination_2': 2.470187309843613,\n",
      " 'destination_3': 0.048799704386836514,\n",
      " 'destination_4': 1.8263750260597256,\n",
      " 'destination_5': 2.7380171401915927,\n",
      " 'destination_6': 0.5100423598869759,\n",
      " 'destination_7': 2.5590136857452963,\n",
      " 'destination_8': 0.34536914879509084,\n",
      " 'destination_9': 1.838170893863826}\n",
      "\n",
      "Paths:\n",
      "\n",
      "{'destination_0': ['destination_0'],\n",
      " 'destination_1': ['destination_0', 'station_61', 'destination_1'],\n",
      " 'destination_10': ['destination_0', 'destination_10'],\n",
      " 'destination_11': ['destination_0', 'station_79', 'destination_11'],\n",
      " 'destination_12': ['destination_0', 'destination_12'],\n",
      " 'destination_13': ['destination_0', 'destination_13'],\n",
      " 'destination_14': ['destination_0', 'station_64', 'destination_14'],\n",
      " 'destination_2': ['destination_0', 'station_61', 'destination_2'],\n",
      " 'destination_3': ['destination_0', 'destination_3'],\n",
      " 'destination_4': ['destination_0', 'station_64', 'destination_4'],\n",
      " 'destination_5': ['destination_0',\n",
      "                   'station_47',\n",
      "                   'station_77',\n",
      "                   'destination_5'],\n",
      " 'destination_6': ['destination_0', 'destination_6'],\n",
      " 'destination_7': ['destination_0',\n",
      "                   'station_47',\n",
      "                   'station_77',\n",
      "                   'destination_7'],\n",
      " 'destination_8': ['destination_0', 'destination_8'],\n",
      " 'destination_9': ['destination_0', 'station_64', 'destination_9']}\n"
     ]
    }
   ],
   "source": [
    "print('Total Time:\\n')\n",
    "pprint({k: v['time'] / 3600 for k, v in r[1].items() if 'station' not in k})\n",
    "print('\\nDriving Time:\\n')\n",
    "pprint({k: v['driving_time'] / 3600 for k, v in r[1].items() if 'station' not in k})\n",
    "print('\\nPaths:\\n')\n",
    "pprint({k: v for k, v in r[2].items() if 'station' not in k})"
   ]
  },
  {
   "cell_type": "code",
   "execution_count": 17,
   "id": "f9c10f2a-406a-4ca1-aece-20451855faf9",
   "metadata": {},
   "outputs": [
    {
     "name": "stdout",
     "output_type": "stream",
     "text": [
      "Executed in 0.0044 seconds\n"
     ]
    }
   ],
   "source": [
    "'''\n",
    "Running with Bellman with default objective\n",
    "'''\n",
    "deep_reload(src)\n",
    "\n",
    "objective = src.bellman.Objective(field = 'time')\n",
    "\n",
    "t0 = time.time()\n",
    "\n",
    "r = src.bellman.bellman(graph, ['destination_0'], objective = objective, return_paths = True)\n",
    "\n",
    "print(f'Executed in {time.time() - t0:.4f} seconds')"
   ]
  },
  {
   "cell_type": "code",
   "execution_count": 18,
   "id": "1be6a643-dd77-4f0b-aafe-9ecd3d0ed7a4",
   "metadata": {},
   "outputs": [
    {
     "name": "stdout",
     "output_type": "stream",
     "text": [
      "Total Time:\n",
      "\n",
      "{'destination_0': 0.0,\n",
      " 'destination_1': 2.419313306788944,\n",
      " 'destination_10': 1.264614989476647,\n",
      " 'destination_11': 1.590188553900052,\n",
      " 'destination_12': 0.9346209930307693,\n",
      " 'destination_13': 1.3672406333204534,\n",
      " 'destination_14': 1.4279561651338475,\n",
      " 'destination_2': 2.4669537455373023,\n",
      " 'destination_3': 0.048799704386836514,\n",
      " 'destination_4': 1.7975298887502689,\n",
      " 'destination_5': 2.7332218708125624,\n",
      " 'destination_6': 0.5100423598869759,\n",
      " 'destination_7': 2.5475886480011085,\n",
      " 'destination_8': 0.34536914879509084,\n",
      " 'destination_9': 1.732368058126357}\n"
     ]
    }
   ],
   "source": [
    "print('Total Time:\\n')\n",
    "pprint({k: v / 3600 for k, v in r[1].items() if 'station' not in k})"
   ]
  },
  {
   "cell_type": "code",
   "execution_count": 19,
   "id": "ce686960-a80d-4600-9b73-ade9f49674dc",
   "metadata": {},
   "outputs": [
    {
     "name": "stdout",
     "output_type": "stream",
     "text": [
      "Executed in 0.0123 seconds\n"
     ]
    }
   ],
   "source": [
    "'''\n",
    "Running with Bellman with BEV vehicle objective\n",
    "'''\n",
    "deep_reload(src)\n",
    "\n",
    "objective = src.routing.Vehicle(capacity = 80 * 3.6e6)\n",
    "\n",
    "t0 = time.time()\n",
    "\n",
    "r = src.bellman.bellman(\n",
    "    graph, ['destination_0'], objective = objective, return_paths = True\n",
    ")\n",
    "\n",
    "print(f'Executed in {time.time() - t0:.4f} seconds')"
   ]
  },
  {
   "cell_type": "code",
   "execution_count": 20,
   "id": "758cfe55-9f41-4f8a-a5eb-ce773a414b18",
   "metadata": {},
   "outputs": [
    {
     "name": "stdout",
     "output_type": "stream",
     "text": [
      "Total Time:\n",
      "\n",
      "{'destination_0': 0.0,\n",
      " 'destination_1': 3.329488711570786,\n",
      " 'destination_10': 1.264614989476647,\n",
      " 'destination_11': 2.102770479381132,\n",
      " 'destination_12': 0.9346209930307693,\n",
      " 'destination_13': 1.3672406333204534,\n",
      " 'destination_14': 1.9442915941570351,\n",
      " 'destination_2': 3.3715431972851726,\n",
      " 'destination_3': 0.048799704386836514,\n",
      " 'destination_4': 2.248851851178897,\n",
      " 'destination_5': 3.92068950325288,\n",
      " 'destination_6': 0.5100423598869759,\n",
      " 'destination_7': 3.741686048806584,\n",
      " 'destination_8': 0.34536914879509084,\n",
      " 'destination_9': 2.2606477189829977}\n",
      "\n",
      "Driving Time:\n",
      "\n",
      "{'destination_0': 0.0,\n",
      " 'destination_1': 2.4281328241292264,\n",
      " 'destination_10': 1.264614989476647,\n",
      " 'destination_11': 1.6448868864959576,\n",
      " 'destination_12': 0.9346209930307693,\n",
      " 'destination_13': 1.3672406333204534,\n",
      " 'destination_14': 1.5218147690378636,\n",
      " 'destination_2': 2.470187309843613,\n",
      " 'destination_3': 0.048799704386836514,\n",
      " 'destination_4': 1.8263750260597256,\n",
      " 'destination_5': 2.7380171401915927,\n",
      " 'destination_6': 0.5100423598869759,\n",
      " 'destination_7': 2.5590136857452963,\n",
      " 'destination_8': 0.34536914879509084,\n",
      " 'destination_9': 1.838170893863826}\n",
      "\n",
      "Paths:\n",
      "\n",
      "{'destination_0': ['destination_0'],\n",
      " 'destination_1': ['destination_0', 'station_61', 'destination_1'],\n",
      " 'destination_10': ['destination_0', 'destination_10'],\n",
      " 'destination_11': ['destination_0', 'station_79', 'destination_11'],\n",
      " 'destination_12': ['destination_0', 'destination_12'],\n",
      " 'destination_13': ['destination_0', 'destination_13'],\n",
      " 'destination_14': ['destination_0', 'station_64', 'destination_14'],\n",
      " 'destination_2': ['destination_0', 'station_61', 'destination_2'],\n",
      " 'destination_3': ['destination_0', 'destination_3'],\n",
      " 'destination_4': ['destination_0', 'station_64', 'destination_4'],\n",
      " 'destination_5': ['destination_0',\n",
      "                   'station_47',\n",
      "                   'station_77',\n",
      "                   'destination_5'],\n",
      " 'destination_6': ['destination_0', 'destination_6'],\n",
      " 'destination_7': ['destination_0',\n",
      "                   'station_47',\n",
      "                   'station_77',\n",
      "                   'destination_7'],\n",
      " 'destination_8': ['destination_0', 'destination_8'],\n",
      " 'destination_9': ['destination_0', 'station_64', 'destination_9']}\n"
     ]
    }
   ],
   "source": [
    "print('Total Time:\\n')\n",
    "pprint({k: v['time'] / 3600 for k, v in r[1].items() if 'station' not in k})\n",
    "print('\\nDriving Time:\\n')\n",
    "pprint({k: v['driving_time'] / 3600 for k, v in r[1].items() if 'station' not in k})\n",
    "print('\\nPaths:\\n')\n",
    "pprint({k: v for k, v in r[2].items() if 'station' not in k})"
   ]
  },
  {
   "cell_type": "code",
   "execution_count": 21,
   "id": "e8ed51cd-499d-4b6a-a08c-190c0527bfbc",
   "metadata": {},
   "outputs": [
    {
     "name": "stdout",
     "output_type": "stream",
     "text": [
      "Executed in 0.0153 seconds\n"
     ]
    }
   ],
   "source": [
    "'''\n",
    "Running with Bellman with ICEV vehicle objective\n",
    "'''\n",
    "deep_reload(src)\n",
    "\n",
    "objective = src.routing.Vehicle(\n",
    "    capacity = 528 * 3.6e6,\n",
    "    efficiency = 550 * 5,\n",
    "    charge_rate = 14.15e6,\n",
    "    charge_time_penalty = 300,\n",
    ")\n",
    "\n",
    "t0 = time.time()\n",
    "\n",
    "r = src.bellman.bellman(\n",
    "    graph, ['destination_0'], objective = objective, return_paths = True\n",
    ")\n",
    "\n",
    "print(f'Executed in {time.time() - t0:.4f} seconds')"
   ]
  },
  {
   "cell_type": "code",
   "execution_count": 22,
   "id": "3b2e0a66-27f9-4336-9308-8a21b3a9cab9",
   "metadata": {},
   "outputs": [
    {
     "name": "stdout",
     "output_type": "stream",
     "text": [
      "Total Time:\n",
      "\n",
      "{'destination_0': 0.0,\n",
      " 'destination_1': 2.528332822970335,\n",
      " 'destination_10': 1.264614989476647,\n",
      " 'destination_11': 1.590188553900052,\n",
      " 'destination_12': 0.9346209930307693,\n",
      " 'destination_13': 1.3672406333204534,\n",
      " 'destination_14': 1.4279561651338475,\n",
      " 'destination_2': 2.5750250868361086,\n",
      " 'destination_3': 0.048799704386836514,\n",
      " 'destination_4': 1.7975298887502689,\n",
      " 'destination_5': 2.8492065342257633,\n",
      " 'destination_6': 0.5100423598869759,\n",
      " 'destination_7': 2.6489220811182093,\n",
      " 'destination_8': 0.34536914879509084,\n",
      " 'destination_9': 1.732368058126357}\n",
      "\n",
      "Driving Time:\n",
      "\n",
      "{'destination_0': 0.0,\n",
      " 'destination_1': 2.4212072542306164,\n",
      " 'destination_10': 1.264614989476647,\n",
      " 'destination_11': 1.590188553900052,\n",
      " 'destination_12': 0.9346209930307693,\n",
      " 'destination_13': 1.3672406333204534,\n",
      " 'destination_14': 1.4279561651338475,\n",
      " 'destination_2': 2.468332861799405,\n",
      " 'destination_3': 0.048799704386836514,\n",
      " 'destination_4': 1.7975298887502689,\n",
      " 'destination_5': 2.7457196183534522,\n",
      " 'destination_6': 0.5100423598869759,\n",
      " 'destination_7': 2.5507166988201937,\n",
      " 'destination_8': 0.34536914879509084,\n",
      " 'destination_9': 1.732368058126357}\n",
      "\n",
      "Paths:\n",
      "\n",
      "{'destination_0': ['destination_0'],\n",
      " 'destination_1': ['destination_0', 'station_42', 'destination_1'],\n",
      " 'destination_10': ['destination_0', 'destination_10'],\n",
      " 'destination_11': ['destination_0', 'destination_11'],\n",
      " 'destination_12': ['destination_0', 'destination_12'],\n",
      " 'destination_13': ['destination_0', 'destination_13'],\n",
      " 'destination_14': ['destination_0', 'destination_14'],\n",
      " 'destination_2': ['destination_0', 'station_22', 'destination_2'],\n",
      " 'destination_3': ['destination_0', 'destination_3'],\n",
      " 'destination_4': ['destination_0', 'destination_4'],\n",
      " 'destination_5': ['destination_0', 'station_1', 'destination_5'],\n",
      " 'destination_6': ['destination_0', 'destination_6'],\n",
      " 'destination_7': ['destination_0', 'station_47', 'destination_7'],\n",
      " 'destination_8': ['destination_0', 'destination_8'],\n",
      " 'destination_9': ['destination_0', 'destination_9']}\n"
     ]
    }
   ],
   "source": [
    "print('Total Time:\\n')\n",
    "pprint({k: v['time'] / 3600 for k, v in r[1].items() if 'station' not in k})\n",
    "print('\\nDriving Time:\\n')\n",
    "pprint({k: v['driving_time'] / 3600 for k, v in r[1].items() if 'station' not in k})\n",
    "print('\\nPaths:\\n')\n",
    "pprint({k: v for k, v in r[2].items() if 'station' not in k})"
   ]
  },
  {
   "cell_type": "code",
   "execution_count": 25,
   "id": "316d6da9-3449-4d79-a63f-902116eceac1",
   "metadata": {},
   "outputs": [],
   "source": [
    "'''\n",
    "Adding station objects\n",
    "'''\n",
    "deep_reload(src)\n",
    "\n",
    "vehicle = src.routing.StochasticVehicle(\n",
    "    capacity = 80 * 3.6e6,\n",
    "    max_charge_start_soc = .4,\n",
    ")\n",
    "\n",
    "for source, node in graph._node.items():\n",
    "\n",
    "    if node['type'] == 'station':\n",
    "\n",
    "        node['station'] = src.routing.StochasticStation(\n",
    "            vehicle, chargers = node['n_dcfc']\n",
    "        )"
   ]
  },
  {
   "cell_type": "code",
   "execution_count": 31,
   "id": "4ddba51a-5503-445b-8ad0-494bd5ad2b16",
   "metadata": {},
   "outputs": [
    {
     "name": "stdout",
     "output_type": "stream",
     "text": [
      "Executed in 1.2987 seconds\n"
     ]
    }
   ],
   "source": [
    "'''\n",
    "Running with Bellman with BEV stochastic vehicle objective\n",
    "'''\n",
    "deep_reload(src)\n",
    "\n",
    "t0 = time.time()\n",
    "\n",
    "r = src.bellman.bellman(\n",
    "    graph, ['destination_0'], objective = vehicle, return_paths = True\n",
    ")\n",
    "\n",
    "\n",
    "print(f'Executed in {time.time() - t0:.4f} seconds')"
   ]
  },
  {
   "cell_type": "code",
   "execution_count": 32,
   "id": "6c7764c5-f6df-4a8d-b642-b246588f599d",
   "metadata": {},
   "outputs": [
    {
     "name": "stdout",
     "output_type": "stream",
     "text": [
      "Total Time:\n",
      "\n",
      "{'destination_0': 0.0,\n",
      " 'destination_1': 3.2969017192423196,\n",
      " 'destination_10': 1.2646149894766467,\n",
      " 'destination_11': 2.46073660207157,\n",
      " 'destination_12': 0.9346209930307695,\n",
      " 'destination_13': 1.3672406333204536,\n",
      " 'destination_14': 2.384902451559524,\n",
      " 'destination_2': 3.332668941053535,\n",
      " 'destination_3': 0.04879970438683653,\n",
      " 'destination_4': 2.6187077036622624,\n",
      " 'destination_5': 4.321046022501706,\n",
      " 'destination_6': 0.5100423598869761,\n",
      " 'destination_7': 4.121681511108887,\n",
      " 'destination_8': 0.3453691487950909,\n",
      " 'destination_9': 2.701675875558017}\n",
      "\n",
      "Driving Time:\n",
      "\n",
      "{'destination_0': 0.0,\n",
      " 'destination_1': 2.4325656399881885,\n",
      " 'destination_10': 1.2646149894766467,\n",
      " 'destination_11': 1.59640052281744,\n",
      " 'destination_12': 0.9346209930307695,\n",
      " 'destination_13': 1.3672406333204536,\n",
      " 'destination_14': 1.4537726387849168,\n",
      " 'destination_2': 2.4683328617994045,\n",
      " 'destination_3': 0.04879970438683653,\n",
      " 'destination_4': 1.933145830721578,\n",
      " 'destination_5': 2.7964000390561856,\n",
      " 'destination_6': 0.5100423598869761,\n",
      " 'destination_7': 2.5970355276633663,\n",
      " 'destination_8': 0.3453691487950909,\n",
      " 'destination_9': 1.7705460627834102}\n",
      "\n",
      "Paths:\n",
      "\n",
      "{'destination_0': ['destination_0'],\n",
      " 'destination_1': ['destination_0', 'station_22', 'destination_1'],\n",
      " 'destination_10': ['destination_0', 'destination_10'],\n",
      " 'destination_11': ['destination_0', 'station_22', 'destination_11'],\n",
      " 'destination_12': ['destination_0', 'destination_12'],\n",
      " 'destination_13': ['destination_0', 'destination_13'],\n",
      " 'destination_14': ['destination_0', 'station_73', 'destination_14'],\n",
      " 'destination_2': ['destination_0', 'station_22', 'destination_2'],\n",
      " 'destination_3': ['destination_0', 'destination_3'],\n",
      " 'destination_4': ['destination_0', 'station_35', 'destination_4'],\n",
      " 'destination_5': ['destination_0',\n",
      "                   'station_35',\n",
      "                   'station_37',\n",
      "                   'destination_5'],\n",
      " 'destination_6': ['destination_0', 'destination_6'],\n",
      " 'destination_7': ['destination_0',\n",
      "                   'station_35',\n",
      "                   'station_37',\n",
      "                   'destination_7'],\n",
      " 'destination_8': ['destination_0', 'destination_8'],\n",
      " 'destination_9': ['destination_0', 'station_73', 'destination_9']}\n"
     ]
    }
   ],
   "source": [
    "print('Total Time:\\n')\n",
    "pprint({k: v['time'].mean() / 3600 for k, v in r[1].items() if 'station' not in k})\n",
    "print('\\nDriving Time:\\n')\n",
    "pprint({k: v['driving_time'].mean() / 3600 for k, v in r[1].items() if 'station' not in k})\n",
    "print('\\nPaths:\\n')\n",
    "pprint({k: v for k, v in r[2].items() if 'station' not in k})"
   ]
  },
  {
   "cell_type": "code",
   "execution_count": null,
   "id": "d8948d98-1347-440d-be2e-a2af67fb9407",
   "metadata": {},
   "outputs": [],
   "source": []
  }
 ],
 "metadata": {
  "kernelspec": {
   "display_name": "Python 3 (ipykernel)",
   "language": "python",
   "name": "python3"
  },
  "language_info": {
   "codemirror_mode": {
    "name": "ipython",
    "version": 3
   },
   "file_extension": ".py",
   "mimetype": "text/x-python",
   "name": "python",
   "nbconvert_exporter": "python",
   "pygments_lexer": "ipython3",
   "version": "3.11.5"
  }
 },
 "nbformat": 4,
 "nbformat_minor": 5
}
