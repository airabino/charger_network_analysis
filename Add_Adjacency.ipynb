{
 "cells": [
  {
   "cell_type": "code",
   "execution_count": 1,
   "id": "1cbafc9f-a394-46e3-85a7-bc11ee1848d8",
   "metadata": {
    "tags": []
   },
   "outputs": [],
   "source": [
    "import warnings\n",
    "warnings.filterwarnings(\"ignore\")\n",
    "\n",
    "import os\n",
    "import sys\n",
    "import time\n",
    "import json\n",
    "import numpy as np\n",
    "import pandas as pd\n",
    "import geopandas as gpd\n",
    "import pickle as pkl\n",
    "import networkx as nx\n",
    "import matplotlib.pyplot as plt\n",
    "\n",
    "import src\n",
    "from src.reload import deep_reload"
   ]
  },
  {
   "cell_type": "markdown",
   "id": "69c13dd5-8cdd-41b7-bfa9-a298258aed4a",
   "metadata": {},
   "source": [
    "Adds adjacency to RSNG by routing along atlas"
   ]
  },
  {
   "cell_type": "code",
   "execution_count": 2,
   "id": "610f59b7-8b79-4d7f-8d31-85eb0350bdf4",
   "metadata": {},
   "outputs": [],
   "source": [
    "atlas = src.graph.graph_from_json('atlas.json')"
   ]
  },
  {
   "cell_type": "code",
   "execution_count": 3,
   "id": "030af2d1-b3b8-4295-9be2-a04156a5ac9d",
   "metadata": {},
   "outputs": [
    {
     "data": {
      "text/plain": [
       "(59621, 63677)"
      ]
     },
     "execution_count": 3,
     "metadata": {},
     "output_type": "execute_result"
    }
   ],
   "source": [
    "atlas.number_of_nodes(), atlas.number_of_edges()"
   ]
  },
  {
   "cell_type": "code",
   "execution_count": 2,
   "id": "647b0064-3273-4d5a-b15a-fb8c6a0dad7e",
   "metadata": {},
   "outputs": [],
   "source": [
    "graph_empty = src.graph.graph_from_json('Outputs/graph_empty.json')"
   ]
  },
  {
   "cell_type": "code",
   "execution_count": 10,
   "id": "8ff0ba59-254e-435a-ac3c-9d4f88b0c55d",
   "metadata": {},
   "outputs": [
    {
     "data": {
      "text/plain": [
       "(1921, 0)"
      ]
     },
     "execution_count": 10,
     "metadata": {},
     "output_type": "execute_result"
    }
   ],
   "source": [
    "graph_empty.number_of_nodes(), graph_empty.number_of_edges()"
   ]
  },
  {
   "cell_type": "code",
   "execution_count": 12,
   "id": "2cc1b529-6a32-4021-ac35-acca2ac9b4ea",
   "metadata": {},
   "outputs": [
    {
     "name": "stdout",
     "output_type": "stream",
     "text": [
      "\u001b[1m\u001b[38;5;34m\u001b[48;5;0m [------>] (1921/1921) 100.00%, 1.50 it/s, 1283.49 s elapsed, 0.00 s remaining"
     ]
    }
   ],
   "source": [
    "deep_reload(src)\n",
    "\n",
    "objective = src.adjacency.Graph_From_Atlas(\n",
    "    limits = [np.inf, np.inf, np.inf]\n",
    ")\n",
    "\n",
    "graph = src.adjacency.adjacency(\n",
    "    atlas, \n",
    "    graph_empty, \n",
    "    objective = objective,\n",
    ")"
   ]
  },
  {
   "cell_type": "code",
   "execution_count": 13,
   "id": "3d8992dd-18e6-4bf3-a00e-5542046a386a",
   "metadata": {},
   "outputs": [],
   "source": [
    "src.graph.graph_to_json(graph, 'Outputs/graph_full.json')"
   ]
  },
  {
   "cell_type": "code",
   "execution_count": 14,
   "id": "c68a58ee-d022-4ea9-a6ea-2d4ccc1706fd",
   "metadata": {},
   "outputs": [
    {
     "data": {
      "text/plain": [
       "(1921, 1846081)"
      ]
     },
     "execution_count": 14,
     "metadata": {},
     "output_type": "execute_result"
    }
   ],
   "source": [
    "graph.number_of_nodes(), graph.number_of_edges()"
   ]
  }
 ],
 "metadata": {
  "kernelspec": {
   "display_name": "Python 3 (ipykernel)",
   "language": "python",
   "name": "python3"
  },
  "language_info": {
   "codemirror_mode": {
    "name": "ipython",
    "version": 3
   },
   "file_extension": ".py",
   "mimetype": "text/x-python",
   "name": "python",
   "nbconvert_exporter": "python",
   "pygments_lexer": "ipython3",
   "version": "3.11.5"
  }
 },
 "nbformat": 4,
 "nbformat_minor": 5
}
