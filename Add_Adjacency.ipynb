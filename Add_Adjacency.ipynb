{
 "cells": [
  {
   "cell_type": "code",
   "execution_count": 1,
   "id": "1cbafc9f-a394-46e3-85a7-bc11ee1848d8",
   "metadata": {
    "tags": []
   },
   "outputs": [],
   "source": [
    "import warnings\n",
    "warnings.filterwarnings(\"ignore\")\n",
    "\n",
    "import os\n",
    "import sys\n",
    "import time\n",
    "import json\n",
    "import numpy as np\n",
    "import pandas as pd\n",
    "import geopandas as gpd\n",
    "import pickle as pkl\n",
    "import networkx as nx\n",
    "import matplotlib.pyplot as plt\n",
    "\n",
    "import src\n",
    "from src.reload import deep_reload"
   ]
  },
  {
   "cell_type": "markdown",
   "id": "69c13dd5-8cdd-41b7-bfa9-a298258aed4a",
   "metadata": {},
   "source": [
    "Adds adjacency to RSNG by routing along atlas"
   ]
  },
  {
   "cell_type": "code",
   "execution_count": 2,
   "id": "610f59b7-8b79-4d7f-8d31-85eb0350bdf4",
   "metadata": {},
   "outputs": [],
   "source": [
    "atlas = src.graph.graph_from_json('Outputs/atlas.json')"
   ]
  },
  {
   "cell_type": "code",
   "execution_count": 3,
   "id": "030af2d1-b3b8-4295-9be2-a04156a5ac9d",
   "metadata": {},
   "outputs": [
    {
     "data": {
      "text/plain": [
       "(59621, 63677)"
      ]
     },
     "execution_count": 3,
     "metadata": {},
     "output_type": "execute_result"
    }
   ],
   "source": [
    "atlas.number_of_nodes(), atlas.number_of_edges()"
   ]
  },
  {
   "cell_type": "code",
   "execution_count": 4,
   "id": "647b0064-3273-4d5a-b15a-fb8c6a0dad7e",
   "metadata": {},
   "outputs": [],
   "source": [
    "graph_empty = src.graph.graph_from_json('Outputs/graph_empty.json')"
   ]
  },
  {
   "cell_type": "code",
   "execution_count": 5,
   "id": "8ff0ba59-254e-435a-ac3c-9d4f88b0c55d",
   "metadata": {},
   "outputs": [
    {
     "data": {
      "text/plain": [
       "(1727, 0)"
      ]
     },
     "execution_count": 5,
     "metadata": {},
     "output_type": "execute_result"
    }
   ],
   "source": [
    "graph_empty.number_of_nodes(), graph_empty.number_of_edges()"
   ]
  },
  {
   "cell_type": "code",
   "execution_count": 6,
   "id": "1328e712-d062-42c2-9f67-f2140ffc0ac1",
   "metadata": {},
   "outputs": [],
   "source": [
    "# Adding roadnum for destinations\n",
    "\n",
    "graph_to_atlas, atlas_to_graph = src.adjacency.node_assignment(graph_empty, atlas)\n",
    "\n",
    "for graph_node, atlas_node in graph_to_atlas.items():\n",
    "\n",
    "    graph_empty._node[graph_node]['roadnum'] = atlas._node[atlas_node]['roadnum']"
   ]
  },
  {
   "cell_type": "code",
   "execution_count": 8,
   "id": "c3c975f8-0368-4582-aea3-620c37c41d04",
   "metadata": {},
   "outputs": [
    {
     "data": {
      "text/plain": [
       "({'status': 0,\n",
       "  'visited': 0,\n",
       "  'x': -119.635893,\n",
       "  'y': 37.473828,\n",
       "  'n_dcfc': 8,\n",
       "  'n_acl2': nan,\n",
       "  'network': 'Tesla',\n",
       "  'name': 'Tenaya Lodge - Tesla Supercharger',\n",
       "  'address': '1122 Highway 41',\n",
       "  'city': 'Fish Camp',\n",
       "  'state': 'CA',\n",
       "  'zip': '93623',\n",
       "  'access_code': 'public',\n",
       "  'status_code': 'E',\n",
       "  'type': 'station',\n",
       "  'roadnum': 'S41'},\n",
       " {'x': -122.69994761425266,\n",
       "  'y': 38.55876284330241,\n",
       "  'population': 481482,\n",
       "  'places': ['Yountville',\n",
       "   'Calistoga',\n",
       "   'Cloverdale',\n",
       "   'Sonoma',\n",
       "   'Healdsburg',\n",
       "   'Santa Rosa',\n",
       "   'Lakeport',\n",
       "   'Cotati',\n",
       "   'Ukiah',\n",
       "   'Rohnert Park',\n",
       "   'Windsor',\n",
       "   'Clearlake',\n",
       "   'Petaluma',\n",
       "   'St. Helena',\n",
       "   'Sebastopol',\n",
       "   'Napa'],\n",
       "  'roadnum': 'S128'})"
      ]
     },
     "execution_count": 8,
     "metadata": {},
     "output_type": "execute_result"
    }
   ],
   "source": [
    "graph_empty._node['station_100'], graph_empty._node['community_9']"
   ]
  },
  {
   "cell_type": "code",
   "execution_count": 9,
   "id": "a9e7bf3f-5261-449e-9f87-5b6616a0f841",
   "metadata": {},
   "outputs": [
    {
     "data": {
      "text/plain": [
       "{0: {'distance': 450.0,\n",
       "  'speed': 17.77777777777778,\n",
       "  'time': 25.3125,\n",
       "  'price': 0,\n",
       "  'roadnum': 'S1'},\n",
       " 2: {'distance': 20.0,\n",
       "  'speed': 17.77777777777778,\n",
       "  'time': 1.125,\n",
       "  'price': 0,\n",
       "  'roadnum': 'S1'}}"
      ]
     },
     "execution_count": 9,
     "metadata": {},
     "output_type": "execute_result"
    }
   ],
   "source": [
    "atlas._adj[1]"
   ]
  },
  {
   "cell_type": "code",
   "execution_count": 10,
   "id": "ac43332e-2d28-4492-8c9d-bcf02c20b493",
   "metadata": {},
   "outputs": [
    {
     "data": {
      "text/plain": [
       "785.4545454545455"
      ]
     },
     "execution_count": 10,
     "metadata": {},
     "output_type": "execute_result"
    }
   ],
   "source": [
    "120 * 3.6e3 / 550"
   ]
  },
  {
   "cell_type": "code",
   "execution_count": 13,
   "id": "2cc1b529-6a32-4021-ac35-acca2ac9b4ea",
   "metadata": {},
   "outputs": [
    {
     "name": "stdout",
     "output_type": "stream",
     "text": [
      "\u001b[1m\u001b[38;5;34m\u001b[48;5;0m [------>] (1727/1727) 100.00%, 0.72 it/s, 2407.13 s elapsed, 0.00 s remaining"
     ]
    }
   ],
   "source": [
    "deep_reload(src)\n",
    "\n",
    "objective = src.adjacency.Graph_From_Atlas(\n",
    "    limits = [np.inf, 786e3, np.inf]\n",
    ")\n",
    "\n",
    "graph = src.adjacency.adjacency(\n",
    "    atlas,\n",
    "    graph_empty,\n",
    "    objective = objective,\n",
    ")"
   ]
  },
  {
   "cell_type": "code",
   "execution_count": 14,
   "id": "3d8992dd-18e6-4bf3-a00e-5542046a386a",
   "metadata": {},
   "outputs": [],
   "source": [
    "src.graph.graph_to_json(graph, 'Outputs/graph_full.json')"
   ]
  },
  {
   "cell_type": "code",
   "execution_count": 15,
   "id": "c68a58ee-d022-4ea9-a6ea-2d4ccc1706fd",
   "metadata": {},
   "outputs": [
    {
     "data": {
      "text/plain": [
       "(1727, 1369614)"
      ]
     },
     "execution_count": 15,
     "metadata": {},
     "output_type": "execute_result"
    }
   ],
   "source": [
    "graph.number_of_nodes(), graph.number_of_edges()"
   ]
  },
  {
   "cell_type": "code",
   "execution_count": 16,
   "id": "93b8413e-fe73-4c73-b998-3a26896d4b0e",
   "metadata": {},
   "outputs": [
    {
     "data": {
      "text/plain": [
       "({'status': 0,\n",
       "  'visited': 0,\n",
       "  'x': -118.151166,\n",
       "  'y': 33.9473,\n",
       "  'n_dcfc': 2,\n",
       "  'n_acl2': 4.0,\n",
       "  'network': 'Non-Networked',\n",
       "  'name': 'Downey Nissan',\n",
       "  'address': '7321 Firestone Blvd',\n",
       "  'city': 'Downey',\n",
       "  'state': 'CA',\n",
       "  'zip': '90241',\n",
       "  'access_code': 'public',\n",
       "  'status_code': 'E',\n",
       "  'type': 'station',\n",
       "  'roadnum': 'S105'},\n",
       " {'status': 0,\n",
       "  'visited': 0,\n",
       "  'x': -121.69156,\n",
       "  'y': 38.55252,\n",
       "  'n_dcfc': 1,\n",
       "  'n_acl2': 1.0,\n",
       "  'network': 'Non-Networked',\n",
       "  'name': 'Hanlees Nissan',\n",
       "  'address': '5009 Chiles Rd',\n",
       "  'city': 'Davis',\n",
       "  'state': 'CA',\n",
       "  'zip': '95618',\n",
       "  'access_code': 'public',\n",
       "  'status_code': 'E',\n",
       "  'type': 'station',\n",
       "  'roadnum': 'I80'})"
      ]
     },
     "execution_count": 16,
     "metadata": {},
     "output_type": "execute_result"
    }
   ],
   "source": [
    "graph._node['station_12'], graph._node['station_11']"
   ]
  },
  {
   "cell_type": "code",
   "execution_count": 13,
   "id": "a1edd231-f5de-482a-9ec1-0562a0452462",
   "metadata": {},
   "outputs": [
    {
     "data": {
      "text/plain": [
       "{'time': 23344.205731768194, 'distance': 695480.0, 'price': 0}"
      ]
     },
     "execution_count": 13,
     "metadata": {},
     "output_type": "execute_result"
    }
   ],
   "source": [
    "graph._adj['station_12']['station_11']"
   ]
  },
  {
   "cell_type": "code",
   "execution_count": 14,
   "id": "fc11307f-0329-4bd0-bc1b-640674651473",
   "metadata": {},
   "outputs": [
    {
     "data": {
      "text/plain": [
       "6.484501592157832"
      ]
     },
     "execution_count": 14,
     "metadata": {},
     "output_type": "execute_result"
    }
   ],
   "source": [
    "graph._adj['station_12']['station_11']['time'] / 3600"
   ]
  }
 ],
 "metadata": {
  "kernelspec": {
   "display_name": "Python 3 (ipykernel)",
   "language": "python",
   "name": "python3"
  },
  "language_info": {
   "codemirror_mode": {
    "name": "ipython",
    "version": 3
   },
   "file_extension": ".py",
   "mimetype": "text/x-python",
   "name": "python",
   "nbconvert_exporter": "python",
   "pygments_lexer": "ipython3",
   "version": "3.11.5"
  }
 },
 "nbformat": 4,
 "nbformat_minor": 5
}
