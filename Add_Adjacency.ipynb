{
 "cells": [
  {
   "cell_type": "code",
   "execution_count": 1,
   "id": "1cbafc9f-a394-46e3-85a7-bc11ee1848d8",
   "metadata": {
    "tags": []
   },
   "outputs": [],
   "source": [
    "import warnings\n",
    "warnings.filterwarnings(\"ignore\")\n",
    "\n",
    "import os\n",
    "import sys\n",
    "import time\n",
    "import json\n",
    "import numpy as np\n",
    "import pandas as pd\n",
    "import geopandas as gpd\n",
    "import pickle as pkl\n",
    "import networkx as nx\n",
    "import matplotlib.pyplot as plt\n",
    "\n",
    "import src\n",
    "from src.reload import deep_reload"
   ]
  },
  {
   "cell_type": "markdown",
   "id": "69c13dd5-8cdd-41b7-bfa9-a298258aed4a",
   "metadata": {},
   "source": [
    "Adds adjacency to RSNG by routing along atlas"
   ]
  },
  {
   "cell_type": "code",
   "execution_count": 2,
   "id": "be644152-db9b-41a6-ac6e-6bc13cc53f41",
   "metadata": {},
   "outputs": [],
   "source": [
    "atlas = src.graph.graph_from_json('Outputs/atlas.json')\n",
    "\n",
    "graph_empty = src.graph.graph_from_json('Outputs/graph_empty.json')"
   ]
  },
  {
   "cell_type": "code",
   "execution_count": 3,
   "id": "1328e712-d062-42c2-9f67-f2140ffc0ac1",
   "metadata": {},
   "outputs": [],
   "source": [
    "# Adding roadnum for destinations\n",
    "\n",
    "graph_to_atlas, atlas_to_graph = src.adjacency.node_assignment(graph_empty, atlas)\n",
    "\n",
    "for graph_node, atlas_node in graph_to_atlas.items():\n",
    "\n",
    "    graph_empty._node[graph_node]['roadnum'] = atlas._node[atlas_node]['roadnum']"
   ]
  },
  {
   "cell_type": "code",
   "execution_count": null,
   "id": "2cc1b529-6a32-4021-ac35-acca2ac9b4ea",
   "metadata": {},
   "outputs": [
    {
     "name": "stdout",
     "output_type": "stream",
     "text": [
      "a\n",
      "cc\n",
      "c\n",
      "dd\n"
     ]
    }
   ],
   "source": [
    "deep_reload(src)\n",
    "\n",
    "graph = src.adjacency.adjacency(\n",
    "    atlas,\n",
    "    graph_empty,\n",
    ")"
   ]
  },
  {
   "cell_type": "code",
   "execution_count": 4,
   "id": "f5d90908-cce8-4f36-b78f-332eef62f3ed",
   "metadata": {},
   "outputs": [
    {
     "name": "stdout",
     "output_type": "stream",
     "text": [
      "\u001b[1m\u001b[38;5;34m\u001b[48;5;0m [------>] (2168/2168) 100.00%, 0.75 it/s, 2895.29 s elapsed, 0.00 s remaining"
     ]
    }
   ],
   "source": [
    "deep_reload(src)\n",
    "\n",
    "objective = src.adjacency.Graph_From_Atlas(\n",
    "    limits = [np.inf, 786e3, np.inf]\n",
    ")\n",
    "\n",
    "graph = src.adjacency.adjacency(\n",
    "    atlas,\n",
    "    graph_empty,\n",
    "    objective = objective,\n",
    ")"
   ]
  },
  {
   "cell_type": "code",
   "execution_count": 5,
   "id": "3d8992dd-18e6-4bf3-a00e-5542046a386a",
   "metadata": {},
   "outputs": [],
   "source": [
    "src.graph.graph_to_json(graph, 'Outputs/graph_full.json')"
   ]
  },
  {
   "cell_type": "code",
   "execution_count": 6,
   "id": "c68a58ee-d022-4ea9-a6ea-2d4ccc1706fd",
   "metadata": {},
   "outputs": [
    {
     "data": {
      "text/plain": [
       "(2168, 2161851)"
      ]
     },
     "execution_count": 6,
     "metadata": {},
     "output_type": "execute_result"
    }
   ],
   "source": [
    "graph.number_of_nodes(), graph.number_of_edges()"
   ]
  },
  {
   "cell_type": "code",
   "execution_count": 7,
   "id": "7d64e37e-8013-4ed6-8554-f1f531a08c3b",
   "metadata": {},
   "outputs": [
    {
     "data": {
      "text/plain": [
       "4700224"
      ]
     },
     "execution_count": 7,
     "metadata": {},
     "output_type": "execute_result"
    }
   ],
   "source": [
    "2168 ** 2"
   ]
  },
  {
   "cell_type": "code",
   "execution_count": 16,
   "id": "93b8413e-fe73-4c73-b998-3a26896d4b0e",
   "metadata": {},
   "outputs": [
    {
     "data": {
      "text/plain": [
       "({'status': 0,\n",
       "  'visited': 0,\n",
       "  'x': -118.151166,\n",
       "  'y': 33.9473,\n",
       "  'n_dcfc': 2,\n",
       "  'n_acl2': 4.0,\n",
       "  'network': 'Non-Networked',\n",
       "  'name': 'Downey Nissan',\n",
       "  'address': '7321 Firestone Blvd',\n",
       "  'city': 'Downey',\n",
       "  'state': 'CA',\n",
       "  'zip': '90241',\n",
       "  'access_code': 'public',\n",
       "  'status_code': 'E',\n",
       "  'type': 'station',\n",
       "  'roadnum': 'S105'},\n",
       " {'status': 0,\n",
       "  'visited': 0,\n",
       "  'x': -121.69156,\n",
       "  'y': 38.55252,\n",
       "  'n_dcfc': 1,\n",
       "  'n_acl2': 1.0,\n",
       "  'network': 'Non-Networked',\n",
       "  'name': 'Hanlees Nissan',\n",
       "  'address': '5009 Chiles Rd',\n",
       "  'city': 'Davis',\n",
       "  'state': 'CA',\n",
       "  'zip': '95618',\n",
       "  'access_code': 'public',\n",
       "  'status_code': 'E',\n",
       "  'type': 'station',\n",
       "  'roadnum': 'I80'})"
      ]
     },
     "execution_count": 16,
     "metadata": {},
     "output_type": "execute_result"
    }
   ],
   "source": [
    "graph._node['station_12'], graph._node['station_11']"
   ]
  },
  {
   "cell_type": "code",
   "execution_count": 13,
   "id": "a1edd231-f5de-482a-9ec1-0562a0452462",
   "metadata": {},
   "outputs": [
    {
     "data": {
      "text/plain": [
       "{'time': 23344.205731768194, 'distance': 695480.0, 'price': 0}"
      ]
     },
     "execution_count": 13,
     "metadata": {},
     "output_type": "execute_result"
    }
   ],
   "source": [
    "graph._adj['station_12']['station_11']"
   ]
  },
  {
   "cell_type": "code",
   "execution_count": 14,
   "id": "fc11307f-0329-4bd0-bc1b-640674651473",
   "metadata": {},
   "outputs": [
    {
     "data": {
      "text/plain": [
       "6.484501592157832"
      ]
     },
     "execution_count": 14,
     "metadata": {},
     "output_type": "execute_result"
    }
   ],
   "source": [
    "graph._adj['station_12']['station_11']['time'] / 3600"
   ]
  }
 ],
 "metadata": {
  "kernelspec": {
   "display_name": "Python 3 (ipykernel)",
   "language": "python",
   "name": "python3"
  },
  "language_info": {
   "codemirror_mode": {
    "name": "ipython",
    "version": 3
   },
   "file_extension": ".py",
   "mimetype": "text/x-python",
   "name": "python",
   "nbconvert_exporter": "python",
   "pygments_lexer": "ipython3",
   "version": "3.11.5"
  }
 },
 "nbformat": 4,
 "nbformat_minor": 5
}
