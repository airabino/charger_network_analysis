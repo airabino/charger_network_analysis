{
 "cells": [
  {
   "cell_type": "code",
   "execution_count": 1,
   "id": "655a09c6-e7b3-42c7-a57f-a2e26cc07235",
   "metadata": {
    "tags": []
   },
   "outputs": [],
   "source": [
    "import warnings\n",
    "warnings.filterwarnings(\"ignore\")\n",
    "\n",
    "import os\n",
    "import time\n",
    "import json\n",
    "import numpy as np\n",
    "import pandas as pd\n",
    "import geopandas as gpd\n",
    "import pickle as pkl\n",
    "import networkx as nx\n",
    "import matplotlib.pyplot as plt\n",
    "\n",
    "import src\n",
    "from src.reload import deep_reload"
   ]
  },
  {
   "cell_type": "code",
   "execution_count": 2,
   "id": "325f0dc6-b2bb-4143-b785-4b26dd4af12e",
   "metadata": {},
   "outputs": [],
   "source": [
    "atlas = src.graph.graph_from_json('Outputs/atlas.json')"
   ]
  },
  {
   "cell_type": "code",
   "execution_count": 3,
   "id": "bccd5692-96aa-4e7f-992d-d2c52998b18f",
   "metadata": {},
   "outputs": [],
   "source": [
    "filename = 'cities.json'\n",
    "\n",
    "graph_cities = src.graph.graph_from_json(filename)"
   ]
  },
  {
   "cell_type": "code",
   "execution_count": 4,
   "id": "8e9e9f93-a4fe-47fb-a2d4-3a5b7e635598",
   "metadata": {},
   "outputs": [],
   "source": [
    "# Graph containing DC chargers\n",
    "\n",
    "with open('Data/AFDC/evse_stations.json', 'r') as file:\n",
    "    evse = json.load(file)"
   ]
  },
  {
   "cell_type": "code",
   "execution_count": 5,
   "id": "061f7376-2f75-4c8a-be29-8956e26e25e4",
   "metadata": {
    "scrolled": true
   },
   "outputs": [],
   "source": [
    "stations_raw = []\n",
    "\n",
    "for station in evse['fuel_stations']:\n",
    "\n",
    "    checks = (\n",
    "        station['state'] == 'CA',\n",
    "        station['ev_dc_fast_num'] is not None,\n",
    "        station['access_code'] == 'public',\n",
    "        station['status_code'] == 'E',\n",
    "        \n",
    "    )\n",
    "\n",
    "    if all(checks):\n",
    "\n",
    "        stations_raw.append(station)"
   ]
  },
  {
   "cell_type": "code",
   "execution_count": 6,
   "id": "3c32b021-d818-4151-b457-591e745f7851",
   "metadata": {},
   "outputs": [],
   "source": [
    "df_stations = pd.DataFrame.from_dict(stations_raw)"
   ]
  },
  {
   "cell_type": "code",
   "execution_count": 7,
   "id": "3179d1c9-8f90-4d53-af23-35cb4da608ee",
   "metadata": {},
   "outputs": [],
   "source": [
    "node_attributes = {\n",
    "    'x': 'lambda n: n[\"longitude\"]',\n",
    "    'y': 'lambda n: n[\"latitude\"]',\n",
    "    'n_dcfc': 'lambda n: n[\"ev_dc_fast_num\"]',\n",
    "    'n_acl2': 'lambda n: n[\"ev_level2_evse_num\"]',\n",
    "    'network': 'lambda n: n[\"ev_network\"]',\n",
    "    'name': 'lambda n: n[\"station_name\"]',\n",
    "    'address': 'lambda n: n[\"street_address\"]',\n",
    "    'city': 'lambda n: n[\"city\"]',\n",
    "    'state': 'lambda n: n[\"state\"]',\n",
    "    'zip': 'lambda n: n[\"zip\"]',\n",
    "    'access_code': 'lambda n: n[\"access_code\"]',\n",
    "    'status_code': 'lambda n: n[\"status_code\"]',\n",
    "    'type': 'lambda n: \"station\"',\n",
    "}\n",
    "\n",
    "nlg = src.graph.nlg_from_dataframe(df_stations, node_attributes)\n",
    "\n",
    "graph_station = src.graph.graph_from_nlg(nlg)\n",
    "\n",
    "mapping = {n: f'station_{n}' for n in graph_station.nodes}\n",
    "\n",
    "graph_station = nx.relabel_nodes(graph_station, mapping)"
   ]
  },
  {
   "cell_type": "code",
   "execution_count": 8,
   "id": "b87e681c-fbbf-44a4-9545-6555c0681b87",
   "metadata": {},
   "outputs": [],
   "source": [
    "deep_reload(src)\n",
    "\n",
    "graph_to_atlas, atlas_to_graph = src.graph.node_assignment(graph_station, atlas)\n",
    "\n",
    "def is_corridor(rn):\n",
    "    \n",
    "    rn = str(rn)\n",
    "    \n",
    "    return ('I' in rn) or ('U' in rn) or (rn in ['S1', 'S101', 'S101 P', 'S99', 'S395'])\n",
    "\n",
    "for source, node in graph_station._node.items():\n",
    "\n",
    "    atlas_node = graph_to_atlas[source]\n",
    "\n",
    "    road_numbers = np.array(\n",
    "        [l['road_number'] for l in atlas._adj[atlas_node].values()]\n",
    "    )\n",
    "    \n",
    "    if any([is_corridor(rn) for rn in road_numbers]):\n",
    "\n",
    "        node['corridor'] = 1\n",
    "\n",
    "    else:\n",
    "\n",
    "        node['corridor'] = 0"
   ]
  },
  {
   "cell_type": "code",
   "execution_count": 9,
   "id": "d45dbad6-33e2-41a7-ab8f-0770b07c3fb7",
   "metadata": {},
   "outputs": [],
   "source": [
    "graph = nx.union(graph_cities, graph_station)"
   ]
  },
  {
   "cell_type": "code",
   "execution_count": 10,
   "id": "54498741-e754-482c-aa62-81dad811d4d9",
   "metadata": {},
   "outputs": [
    {
     "name": "stdout",
     "output_type": "stream",
     "text": [
      "\u001b[1m\u001b[38;5;34m\u001b[48;5;0m [------->] (1921/1921) 100.00%, 6.89 it/s, 278.94 s elapsed, 0.00 s remaining"
     ]
    }
   ],
   "source": [
    "weights = {\n",
    "    \"distance\": 400e3,\n",
    "    \"time\": 28800,\n",
    "}\n",
    "\n",
    "graph = src.adjacency.adjacency(atlas, graph, weights, compute_all = True)"
   ]
  },
  {
   "cell_type": "code",
   "execution_count": 11,
   "id": "9e294dcd-3187-45a9-b763-5b59a8f0f3a2",
   "metadata": {},
   "outputs": [],
   "source": [
    "src.graph.graph_to_json(graph, 'Outputs/graph.json')"
   ]
  },
  {
   "cell_type": "code",
   "execution_count": null,
   "id": "1ccc9e1a-f6d0-4d31-b1a3-83efc35d7030",
   "metadata": {},
   "outputs": [],
   "source": []
  }
 ],
 "metadata": {
  "kernelspec": {
   "display_name": "Python 3 (ipykernel)",
   "language": "python",
   "name": "python3"
  },
  "language_info": {
   "codemirror_mode": {
    "name": "ipython",
    "version": 3
   },
   "file_extension": ".py",
   "mimetype": "text/x-python",
   "name": "python",
   "nbconvert_exporter": "python",
   "pygments_lexer": "ipython3",
   "version": "3.11.5"
  }
 },
 "nbformat": 4,
 "nbformat_minor": 5
}
