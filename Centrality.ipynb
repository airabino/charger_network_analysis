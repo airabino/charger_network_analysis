{
 "cells": [
  {
   "cell_type": "code",
   "execution_count": 1,
   "id": "7b0b9f1d-4571-40f9-b73d-f69b862a6ece",
   "metadata": {
    "tags": []
   },
   "outputs": [],
   "source": [
    "import warnings\n",
    "warnings.filterwarnings(\"ignore\")\n",
    "\n",
    "import os\n",
    "import sys\n",
    "import time\n",
    "import json\n",
    "import numpy as np\n",
    "import pandas as pd\n",
    "import geopandas as gpd\n",
    "import pickle as pkl\n",
    "import networkx as nx\n",
    "import matplotlib.pyplot as plt\n",
    "import networkx as nx\n",
    "\n",
    "import src\n",
    "from src.reload import deep_reload"
   ]
  },
  {
   "cell_type": "code",
   "execution_count": 2,
   "id": "720de595-0141-483c-a70a-68c292a984ee",
   "metadata": {},
   "outputs": [],
   "source": [
    "g = nx.Graph()\n",
    "g.add_weighted_edges_from(\n",
    "    [('A', 'B', 2),\n",
    "     ('A', 'E', 5),\n",
    "     ('B', 'E', 5),\n",
    "     ('A', 'D', 1),\n",
    "     ('B', 'C', 1),\n",
    "     ('C', 'D', 10)]\n",
    ")"
   ]
  },
  {
   "cell_type": "code",
   "execution_count": 3,
   "id": "ac35bcc2-9410-4006-b648-d22347ce6772",
   "metadata": {},
   "outputs": [
    {
     "data": {
      "text/plain": [
       "{'A': 0.75, 'B': 0.75, 'E': 0.5, 'D': 0.5, 'C': 0.5}"
      ]
     },
     "execution_count": 3,
     "metadata": {},
     "output_type": "execute_result"
    }
   ],
   "source": [
    "nx.degree_centrality(g)"
   ]
  },
  {
   "cell_type": "code",
   "execution_count": 4,
   "id": "52f15b74-423c-4f77-8ad6-631f36a510a5",
   "metadata": {},
   "outputs": [
    {
     "data": {
      "text/plain": [
       "{'A': 0.5, 'B': 0.5, 'E': 0.0, 'D': 0.0, 'C': 0.0}"
      ]
     },
     "execution_count": 4,
     "metadata": {},
     "output_type": "execute_result"
    }
   ],
   "source": [
    "nx.betweenness_centrality(g, weight = 'weight')"
   ]
  },
  {
   "cell_type": "code",
   "execution_count": 5,
   "id": "5a2f12c2-02bc-4ce4-976d-d13600ce8fbc",
   "metadata": {},
   "outputs": [
    {
     "data": {
      "text/plain": [
       "{'A': 0.36363636363636365,\n",
       " 'B': 0.36363636363636365,\n",
       " 'E': 0.18181818181818182,\n",
       " 'D': 0.2857142857142857,\n",
       " 'C': 0.2857142857142857}"
      ]
     },
     "execution_count": 5,
     "metadata": {},
     "output_type": "execute_result"
    }
   ],
   "source": [
    "nx.closeness_centrality(g, distance = 'weight')"
   ]
  },
  {
   "cell_type": "code",
   "execution_count": 6,
   "id": "e9df4a64-ba37-424c-b709-2582aaffaf10",
   "metadata": {},
   "outputs": [
    {
     "data": {
      "text/plain": [
       "0.05174457513871403"
      ]
     },
     "execution_count": 6,
     "metadata": {},
     "output_type": "execute_result"
    }
   ],
   "source": [
    "src.utilities.gini(list(nx.information_centrality(g, weight = 'weight').values()))"
   ]
  },
  {
   "cell_type": "code",
   "execution_count": 65,
   "id": "6de3c2f5-fb43-4871-995e-95e450e1a07a",
   "metadata": {},
   "outputs": [
    {
     "name": "stdout",
     "output_type": "stream",
     "text": [
      "\\hline Node & Baseline & (I, N) & (I, K) & (J, L) \\\\\n",
      "\\hline A & 0.040 & 0.043 & 0.042 & 0.044 \\\\\n",
      "\\hline F & 0.058 & 0.065 & 0.062 & 0.068 \\\\\n",
      "\\hline B & 0.035 & 0.037 & 0.036 & 0.038 \\\\\n",
      "\\hline G & 0.048 & 0.052 & 0.051 & 0.055 \\\\\n",
      "\\hline C & 0.040 & 0.043 & 0.042 & 0.044 \\\\\n",
      "\\hline D & 0.030 & 0.032 & 0.031 & 0.033 \\\\\n",
      "\\hline E & 0.051 & 0.064 & 0.061 & 0.058 \\\\\n",
      "\\hline H & 0.057 & 0.066 & 0.063 & 0.067 \\\\\n",
      "\\hline I & 0.053 & 0.075 & 0.073 & 0.062 \\\\\n",
      "\\hline J & 0.072 & 0.083 & 0.079 & 0.088 \\\\\n",
      "\\hline K & 0.069 & 0.078 & 0.079 & 0.079 \\\\\n",
      "\\hline L & 0.056 & 0.062 & 0.063 & 0.082 \\\\\n",
      "\\hline N & 0.054 & 0.075 & 0.060 & 0.060 \\\\\n",
      "\\hline O & 0.039 & 0.042 & 0.042 & 0.049 \\\\\n",
      "\\hline P & 0.039 & 0.042 & 0.042 & 0.049 \\\\\n",
      "\\hline M & 0.030 & 0.031 & 0.031 & 0.035 \\\\\n",
      "\\hline R & 0.038 & 0.047 & 0.041 & 0.040 \\\\\n",
      "\\hline Q & 0.038 & 0.047 & 0.041 & 0.040 \\\\\n",
      "\\hline Sum & 0.844 & 0.981 & 0.937 & 0.992 \\\\\n",
      "\\hline\n"
     ]
    }
   ],
   "source": [
    "edges = [\n",
    "    ('A', 'F', 2),\n",
    "    ('B', 'G', 2),\n",
    "    ('C', 'F', 2),\n",
    "    ('D', 'F', 1),\n",
    "    ('E', 'H', 2),\n",
    "    ('E', 'I', 3),\n",
    "    ('F', 'J', 3),\n",
    "    ('G', 'J', 2),\n",
    "    ('H', 'J', 3),\n",
    "    ('I', 'J', 2),\n",
    "    ('J', 'K', 3),\n",
    "    ('K', 'L', 3),\n",
    "    ('K', 'N', 3),\n",
    "    ('L', 'O', 2),\n",
    "    ('L', 'P', 2),\n",
    "    ('L', 'M', 1),\n",
    "    ('N', 'R', 2),\n",
    "    ('N', 'Q', 2),\n",
    "]\n",
    "\n",
    "g = nx.Graph()\n",
    "g.add_weighted_edges_from(edges)\n",
    "ic_1 = nx.information_centrality(g, weight = 'weight')\n",
    "\n",
    "g = nx.Graph()\n",
    "g.add_weighted_edges_from(edges + [('I', 'N', 6)])\n",
    "ic_2 = nx.information_centrality(g, weight = 'weight')\n",
    "\n",
    "g = nx.Graph()\n",
    "g.add_weighted_edges_from(edges + [('I', 'K', 4)])\n",
    "ic_3 = nx.information_centrality(g, weight = 'weight')\n",
    "\n",
    "g = nx.Graph()\n",
    "g.add_weighted_edges_from(edges + [('J', 'L', 5)])\n",
    "ic_4 = nx.information_centrality(g, weight = 'weight')\n",
    "\n",
    "print('\\\\hline Node & Baseline & (I, N) & (I, K) & (J, L) \\\\\\\\')\n",
    "for key in ic_1.keys():\n",
    "    print(f'\\\\hline {key} & {ic_1[key]:.3f} & {ic_2[key]:.3f} & {ic_3[key]:.3f} & {ic_4[key]:.3f} \\\\\\\\')\n",
    "print(f'\\\\hline Sum & {sum(ic_1.values()):.3f} & {sum(ic_2.values()):.3f} & {sum(ic_3.values()):.3f} & {sum(ic_4.values()):.3f} \\\\\\\\')\n",
    "print('\\\\hline')"
   ]
  },
  {
   "cell_type": "code",
   "execution_count": 65,
   "id": "a2b79266-78c2-4778-9b33-700714fcd3f3",
   "metadata": {},
   "outputs": [
    {
     "name": "stdout",
     "output_type": "stream",
     "text": [
      "\\hline Node & Baseline & (I, N) & (I, K) & (J, L) \\\\\n",
      "\\hline A & 0.040 & 0.043 & 0.042 & 0.044 \\\\\n",
      "\\hline F & 0.058 & 0.065 & 0.062 & 0.068 \\\\\n",
      "\\hline B & 0.035 & 0.037 & 0.036 & 0.038 \\\\\n",
      "\\hline G & 0.048 & 0.052 & 0.051 & 0.055 \\\\\n",
      "\\hline C & 0.040 & 0.043 & 0.042 & 0.044 \\\\\n",
      "\\hline D & 0.030 & 0.032 & 0.031 & 0.033 \\\\\n",
      "\\hline E & 0.051 & 0.064 & 0.061 & 0.058 \\\\\n",
      "\\hline H & 0.057 & 0.066 & 0.063 & 0.067 \\\\\n",
      "\\hline I & 0.053 & 0.075 & 0.073 & 0.062 \\\\\n",
      "\\hline J & 0.072 & 0.083 & 0.079 & 0.088 \\\\\n",
      "\\hline K & 0.069 & 0.078 & 0.079 & 0.079 \\\\\n",
      "\\hline L & 0.056 & 0.062 & 0.063 & 0.082 \\\\\n",
      "\\hline N & 0.054 & 0.075 & 0.060 & 0.060 \\\\\n",
      "\\hline O & 0.039 & 0.042 & 0.042 & 0.049 \\\\\n",
      "\\hline P & 0.039 & 0.042 & 0.042 & 0.049 \\\\\n",
      "\\hline M & 0.030 & 0.031 & 0.031 & 0.035 \\\\\n",
      "\\hline R & 0.038 & 0.047 & 0.041 & 0.040 \\\\\n",
      "\\hline Q & 0.038 & 0.047 & 0.041 & 0.040 \\\\\n",
      "\\hline Sum & 0.844 & 0.981 & 0.937 & 0.992 \\\\\n",
      "\\hline\n"
     ]
    }
   ],
   "source": [
    "edges = [\n",
    "    ('A', 'F', 2),\n",
    "    ('B', 'G', 2),\n",
    "    ('C', 'F', 2),\n",
    "    ('D', 'F', 1),\n",
    "    ('E', 'H', 2),\n",
    "    ('E', 'I', 3),\n",
    "    ('F', 'J', 3),\n",
    "    ('G', 'J', 2),\n",
    "    ('H', 'J', 3),\n",
    "    ('I', 'J', 2),\n",
    "    ('J', 'K', 3),\n",
    "    ('K', 'L', 3),\n",
    "    ('K', 'N', 3),\n",
    "    ('L', 'O', 2),\n",
    "    ('L', 'P', 2),\n",
    "    ('L', 'M', 1),\n",
    "    ('N', 'R', 2),\n",
    "    ('N', 'Q', 2),\n",
    "]\n",
    "\n",
    "g = nx.Graph()\n",
    "g.add_weighted_edges_from(edges)\n",
    "ic_1 = nx.information_centrality(g, weight = 'weight')\n",
    "\n",
    "g = nx.Graph()\n",
    "g.add_weighted_edges_from(edges + [('I', 'N', 6)])\n",
    "ic_2 = nx.information_centrality(g, weight = 'weight')\n",
    "\n",
    "g = nx.Graph()\n",
    "g.add_weighted_edges_from(edges + [('I', 'K', 4)])\n",
    "ic_3 = nx.information_centrality(g, weight = 'weight')\n",
    "\n",
    "g = nx.Graph()\n",
    "g.add_weighted_edges_from(edges + [('J', 'L', 5)])\n",
    "ic_4 = nx.information_centrality(g, weight = 'weight')\n",
    "\n",
    "print('\\\\hline Node & Baseline & (I, N) & (I, K) & (J, L) \\\\\\\\')\n",
    "for key in ic_1.keys():\n",
    "    print(f'\\\\hline {key} & {ic_1[key]:.3f} & {ic_2[key]:.3f} & {ic_3[key]:.3f} & {ic_4[key]:.3f} \\\\\\\\')\n",
    "print(f'\\\\hline Sum & {sum(ic_1.values()):.3f} & {sum(ic_2.values()):.3f} & {sum(ic_3.values()):.3f} & {sum(ic_4.values()):.3f} \\\\\\\\')\n",
    "print('\\\\hline')"
   ]
  },
  {
   "cell_type": "code",
   "execution_count": 69,
   "id": "61fe7688-ee8e-4960-b3ab-d12b4c1d9221",
   "metadata": {},
   "outputs": [
    {
     "name": "stdout",
     "output_type": "stream",
     "text": [
      "\\hline Node & Baseline & (I, N) & (I, K) & (J, L) \\\\\n",
      "\\hline A & 0.000 & 0.000 & 0.000 & 0.000 \\\\\n",
      "\\hline F & 0.331 & 0.331 & 0.331 & 0.331 \\\\\n",
      "\\hline B & 0.000 & 0.000 & 0.000 & 0.000 \\\\\n",
      "\\hline G & 0.118 & 0.118 & 0.118 & 0.118 \\\\\n",
      "\\hline C & 0.000 & 0.000 & 0.000 & 0.000 \\\\\n",
      "\\hline D & 0.000 & 0.000 & 0.000 & 0.000 \\\\\n",
      "\\hline E & 0.004 & 0.004 & 0.004 & 0.004 \\\\\n",
      "\\hline H & 0.055 & 0.044 & 0.026 & 0.055 \\\\\n",
      "\\hline I & 0.055 & 0.066 & 0.085 & 0.055 \\\\\n",
      "\\hline J & 0.724 & 0.680 & 0.607 & 0.724 \\\\\n",
      "\\hline K & 0.603 & 0.559 & 0.603 & 0.309 \\\\\n",
      "\\hline L & 0.331 & 0.331 & 0.331 & 0.331 \\\\\n",
      "\\hline N & 0.228 & 0.228 & 0.228 & 0.228 \\\\\n",
      "\\hline O & 0.000 & 0.000 & 0.000 & 0.000 \\\\\n",
      "\\hline P & 0.000 & 0.000 & 0.000 & 0.000 \\\\\n",
      "\\hline M & 0.000 & 0.000 & 0.000 & 0.000 \\\\\n",
      "\\hline R & 0.000 & 0.000 & 0.000 & 0.000 \\\\\n",
      "\\hline Q & 0.000 & 0.000 & 0.000 & 0.000 \\\\\n",
      "\\hline Sum & 2.449 & 2.360 & 2.331 & 2.154 \\\\\n",
      "\\hline\n"
     ]
    }
   ],
   "source": [
    "edges = [\n",
    "    ('A', 'F', 2),\n",
    "    ('B', 'G', 2),\n",
    "    ('C', 'F', 2),\n",
    "    ('D', 'F', 1),\n",
    "    ('E', 'H', 2),\n",
    "    ('E', 'I', 3),\n",
    "    ('F', 'J', 3),\n",
    "    ('G', 'J', 2),\n",
    "    ('H', 'J', 3),\n",
    "    ('I', 'J', 2),\n",
    "    ('J', 'K', 3),\n",
    "    ('K', 'L', 3),\n",
    "    ('K', 'N', 3),\n",
    "    ('L', 'O', 2),\n",
    "    ('L', 'P', 2),\n",
    "    ('L', 'M', 1),\n",
    "    ('N', 'R', 2),\n",
    "    ('N', 'Q', 2),\n",
    "    # ('F', 'G', 1),\n",
    "    # # ('G', 'H', 1),\n",
    "    # ('G', 'I', 1),\n",
    "    # ('N', 'M', 1),\n",
    "]\n",
    "\n",
    "g = nx.Graph()\n",
    "g.add_weighted_edges_from(edges)\n",
    "ic_1 = nx.betweenness_centrality(g, weight = 'weight')\n",
    "\n",
    "g = nx.Graph()\n",
    "g.add_weighted_edges_from(edges + [('I', 'N', 6)])\n",
    "ic_2 = nx.betweenness_centrality(g, weight = 'weight')\n",
    "\n",
    "g = nx.Graph()\n",
    "g.add_weighted_edges_from(edges + [('I', 'K', 4)])\n",
    "ic_3 = nx.betweenness_centrality(g, weight = 'weight')\n",
    "\n",
    "g = nx.Graph()\n",
    "g.add_weighted_edges_from(edges + [('J', 'L', 5)])\n",
    "ic_4 = nx.betweenness_centrality(g, weight = 'weight')\n",
    "\n",
    "print('\\\\hline Node & Baseline & (I, N) & (I, K) & (J, L) \\\\\\\\')\n",
    "for key in ic_1.keys():\n",
    "    print(f'\\\\hline {key} & {ic_1[key]:.3f} & {ic_2[key]:.3f} & {ic_3[key]:.3f} & {ic_4[key]:.3f} \\\\\\\\')\n",
    "print(f'\\\\hline Sum & {sum(ic_1.values()):.3f} & {sum(ic_2.values()):.3f} & {sum(ic_3.values()):.3f} & {sum(ic_4.values()):.3f} \\\\\\\\')\n",
    "print('\\\\hline')"
   ]
  },
  {
   "cell_type": "code",
   "execution_count": 30,
   "id": "ac9c7e4b-f1c0-4ed0-9a53-d25723667961",
   "metadata": {},
   "outputs": [
    {
     "data": {
      "text/plain": [
       "({'A': 0.0441776166742184,\n",
       "  'F': 0.0683251576734408,\n",
       "  'B': 0.03801910703840904,\n",
       "  'G': 0.05463715326421966,\n",
       "  'C': 0.04417761667421842,\n",
       "  'D': 0.032641446267157696,\n",
       "  'E': 0.05835702528804431,\n",
       "  'H': 0.06650750341064124,\n",
       "  'I': 0.06171862636493118,\n",
       "  'J': 0.08847549909255899,\n",
       "  'K': 0.0785024154589372,\n",
       "  'L': 0.08179530201342285,\n",
       "  'N': 0.059742647058823525,\n",
       "  'O': 0.04944219066937119,\n",
       "  'P': 0.04944219066937119,\n",
       "  'M': 0.035428779069767435,\n",
       "  'R': 0.0404228855721393,\n",
       "  'Q': 0.04042288557213931},\n",
       " 0.992236047831812)"
      ]
     },
     "execution_count": 30,
     "metadata": {},
     "output_type": "execute_result"
    }
   ],
   "source": [
    "ic = nx.information_centrality(g, weight = 'weight')\n",
    "ic, sum(list(ic.values()))"
   ]
  }
 ],
 "metadata": {
  "kernelspec": {
   "display_name": "Python 3 (ipykernel)",
   "language": "python",
   "name": "python3"
  },
  "language_info": {
   "codemirror_mode": {
    "name": "ipython",
    "version": 3
   },
   "file_extension": ".py",
   "mimetype": "text/x-python",
   "name": "python",
   "nbconvert_exporter": "python",
   "pygments_lexer": "ipython3",
   "version": "3.11.5"
  }
 },
 "nbformat": 4,
 "nbformat_minor": 5
}
