{
 "cells": [
  {
   "cell_type": "code",
   "execution_count": 1,
   "id": "c0dfc9ac-cc45-4522-81da-838ad1f2d25e",
   "metadata": {
    "tags": []
   },
   "outputs": [],
   "source": [
    "import warnings\n",
    "warnings.filterwarnings(\"ignore\")\n",
    "\n",
    "import os\n",
    "import sys\n",
    "import time\n",
    "import json\n",
    "import numpy as np\n",
    "import pandas as pd\n",
    "import geopandas as gpd\n",
    "import pickle as pkl\n",
    "import networkx as nx\n",
    "import matplotlib.pyplot as plt\n",
    "\n",
    "from pprint import pprint\n",
    "\n",
    "import src\n",
    "from src.reload import deep_reload"
   ]
  },
  {
   "cell_type": "code",
   "execution_count": 71,
   "id": "df439ccc-85d6-405e-95e1-aa5465340824",
   "metadata": {},
   "outputs": [],
   "source": [
    "'''\n",
    "Loading the graph with adjacency\n",
    "\n",
    "graph contains 15 cities in cities.json and all CA DC charging stations from AFDC\n",
    "'''\n",
    "\n",
    "graph = src.graph.graph_from_json('Outputs/graph_full.json')\n",
    "graph = src.routing.edge_types(graph)"
   ]
  },
  {
   "cell_type": "code",
   "execution_count": 72,
   "id": "d772f05d-4bd9-4ad2-bea4-7359c56d9d8f",
   "metadata": {},
   "outputs": [],
   "source": [
    "'''\n",
    "Removing non-corridor stations\n",
    "'''\n",
    "roadnums = []\n",
    "\n",
    "for source, node in graph._node.items():\n",
    "    \n",
    "    roadnums.append(node['roadnum'])\n",
    "\n",
    "unique_roadnum, unique_roadnum_count = np.unique(roadnums, return_counts = True)\n",
    "\n",
    "roadnums_keep = unique_roadnum[(unique_roadnum_count >= 10) & (unique_roadnum != 'nan')]\n",
    "\n",
    "nodes_keep = []\n",
    "\n",
    "for source, node in graph._node.items():\n",
    "\n",
    "    roadnum = node['roadnum']\n",
    "\n",
    "    if node['type'] == 'city':\n",
    "\n",
    "        nodes_keep.append(source)\n",
    "    \n",
    "    else:\n",
    "\n",
    "        if roadnum in roadnums_keep:\n",
    "    \n",
    "            nodes_keep.append(source)\n",
    "\n",
    "sng_combined = src.graph.subgraph(graph, nodes_keep)"
   ]
  },
  {
   "cell_type": "code",
   "execution_count": 73,
   "id": "8822c7ad-9c1c-4ec2-8394-5629c4f8e4a7",
   "metadata": {},
   "outputs": [],
   "source": [
    "'''\n",
    "Creating Tesla and non-tesla SNGs\n",
    "'''\n",
    "\n",
    "tesla = []\n",
    "other = []\n",
    "\n",
    "for source, node in sng_combined._node.items():\n",
    "\n",
    "    if node['type'] == 'city':\n",
    "\n",
    "        tesla.append(source)\n",
    "        other.append(source)\n",
    "\n",
    "    else:\n",
    "\n",
    "        if node['network'] == 'Tesla':\n",
    "\n",
    "            tesla.append(source)\n",
    "\n",
    "        else:\n",
    "\n",
    "            other.append(source)\n",
    "\n",
    "sng_tesla = src.graph.subgraph(graph, tesla)\n",
    "sng_other = src.graph.subgraph(graph, other)"
   ]
  },
  {
   "cell_type": "code",
   "execution_count": 74,
   "id": "1a7bac47-1bf6-4fcc-9d3d-68424e4d4bb8",
   "metadata": {},
   "outputs": [],
   "source": [
    "src.graph.graph_to_json(sng_combined, 'Outputs/sng_combined.json')\n",
    "src.graph.graph_to_json(sng_tesla, 'Outputs/sng_tesla.json')\n",
    "src.graph.graph_to_json(sng_other, 'Outputs/sng_other.json')"
   ]
  },
  {
   "cell_type": "code",
   "execution_count": 75,
   "id": "63905d13-dc0b-41d0-9ba3-7dd17fd3bd45",
   "metadata": {},
   "outputs": [
    {
     "data": {
      "text/plain": [
       "650"
      ]
     },
     "execution_count": 75,
     "metadata": {},
     "output_type": "execute_result"
    }
   ],
   "source": [
    "sng_other.number_of_nodes()"
   ]
  },
  {
   "cell_type": "code",
   "execution_count": 60,
   "id": "8af5eccd-c976-4e6e-9c58-3322c37c51c2",
   "metadata": {},
   "outputs": [],
   "source": [
    "'''\n",
    "Adding station objects\n",
    "'''\n",
    "deep_reload(src)\n",
    "\n",
    "sng = sng_combined\n",
    "\n",
    "cities = [k for k, v in sng._node.items() if v['type'] == 'city']\n",
    "\n",
    "vehicle_kw = {\n",
    "    # 'charge_target_soc': .8,\n",
    "    'capacity': 49 * 3.6e6,\n",
    "    'charge_rate': 170e3,\n",
    "    'cases': 1,\n",
    "    'risk_attitude': (.5, 1),\n",
    "}\n",
    "\n",
    "vehicle = src.routing.StochasticVehicle(**vehicle_kw)\n",
    "\n",
    "station_kw = {\n",
    "    'cases': 100,\n",
    "    'reliability': .8,\n",
    "    'base_delay': 60,\n",
    "}\n",
    "\n",
    "for source, node in sng._node.items():\n",
    "\n",
    "    if node['type'] == 'station':\n",
    "\n",
    "        seed = int(source[8:])\n",
    "\n",
    "        node['station'] = src.routing.StochasticStation(\n",
    "            chargers = node['n_dcfc'], **station_kw, seed = seed,\n",
    "        )\n",
    "\n",
    "        node['station'].expect(vehicle)"
   ]
  },
  {
   "cell_type": "code",
   "execution_count": 61,
   "id": "e1c7a288-165a-4e56-ac61-e031a13c3304",
   "metadata": {},
   "outputs": [
    {
     "name": "stdout",
     "output_type": "stream",
     "text": [
      "Executed in 6.4180 seconds\n"
     ]
    }
   ],
   "source": [
    "t0 = time.time()\n",
    "\n",
    "costs, values, paths = src.routing.shortest_paths(\n",
    "    sng, ['Fresno'],\n",
    "    destinations = cities,\n",
    "    objective = vehicle,\n",
    "    method = 'bellman',\n",
    "    return_paths = True,\n",
    ")\n",
    "\n",
    "print(f'Executed in {time.time() - t0:.4f} seconds')"
   ]
  },
  {
   "cell_type": "code",
   "execution_count": 62,
   "id": "fa4afeb3-c766-4121-b4b0-31f522f630a4",
   "metadata": {},
   "outputs": [
    {
     "name": "stdout",
     "output_type": "stream",
     "text": [
      "Total Time:\n",
      "\n",
      "{'Bakersfield': 1.6082676698301694,\n",
      " 'Chico': 4.351751234658656,\n",
      " 'Crescent City': 9.127759941635375,\n",
      " 'Fresno': 0.0,\n",
      " 'I-10 to Phoenix (State Line)': 7.048964750122601,\n",
      " 'I-15 to Las Vegas (State Line)': 6.060009479785998,\n",
      " 'I-80 to Reno (State Line)': 4.698810653965693,\n",
      " 'Los Angeles': 3.318550537261838,\n",
      " 'Redding': 5.364753886997446,\n",
      " 'Sacramento': 2.6713354700854763,\n",
      " 'San Diego': 5.531490666173296,\n",
      " 'San Francisco': 2.9443037864912918,\n",
      " 'San Jose': 2.513857364857367,\n",
      " 'Stockton': 1.9591595904095913,\n",
      " 'Yreka': 7.017394648106744}\n",
      "\n",
      "Paths:\n",
      "\n",
      "{'Bakersfield': ['Fresno', 'Bakersfield'],\n",
      " 'Chico': ['Fresno', 'station_1063', 'Chico'],\n",
      " 'Crescent City': ['Fresno', 'station_167', 'station_230', 'Crescent City'],\n",
      " 'Fresno': ['Fresno'],\n",
      " 'I-10 to Phoenix (State Line)': ['Fresno',\n",
      "                                  'station_841',\n",
      "                                  'station_1837',\n",
      "                                  'I-10 to Phoenix (State Line)'],\n",
      " 'I-15 to Las Vegas (State Line)': ['Fresno',\n",
      "                                    'station_853',\n",
      "                                    'I-15 to Las Vegas (State Line)'],\n",
      " 'I-80 to Reno (State Line)': ['Fresno',\n",
      "                               'station_420',\n",
      "                               'I-80 to Reno (State Line)'],\n",
      " 'Los Angeles': ['Fresno', 'station_702', 'Los Angeles'],\n",
      " 'Redding': ['Fresno', 'station_425', 'Redding'],\n",
      " 'Sacramento': ['Fresno', 'Sacramento'],\n",
      " 'San Diego': ['Fresno', 'station_1126', 'San Diego'],\n",
      " 'San Francisco': ['Fresno', 'San Francisco'],\n",
      " 'San Jose': ['Fresno', 'San Jose'],\n",
      " 'Stockton': ['Fresno', 'Stockton'],\n",
      " 'Yreka': ['Fresno', 'station_1131', 'station_854', 'Yreka']}\n"
     ]
    }
   ],
   "source": [
    "print('Total Time:\\n')\n",
    "pprint({k: v['time'].mean() / 3600 for k, v in values.items() if 'station' not in k})\n",
    "# print('\\nDriving Time:\\n')\n",
    "# pprint({k: v['driving_time'].mean() / 3600 for k, v in values.items() if 'station' not in k})\n",
    "print('\\nPaths:\\n')\n",
    "pprint({k: v for k, v in paths.items() if 'station' not in k})"
   ]
  },
  {
   "cell_type": "code",
   "execution_count": null,
   "id": "4f66e7f0-3f01-4c19-8a53-1653b8fa0ab9",
   "metadata": {},
   "outputs": [],
   "source": []
  },
  {
   "cell_type": "code",
   "execution_count": 63,
   "id": "0beae4a7-9922-4706-a778-06df0c42a1d7",
   "metadata": {},
   "outputs": [],
   "source": [
    "'''\n",
    "Adding station objects\n",
    "'''\n",
    "deep_reload(src)\n",
    "\n",
    "sng = sng_tesla\n",
    "\n",
    "cities = [k for k, v in sng._node.items() if v['type'] == 'city']\n",
    "\n",
    "vehicle_kw = {\n",
    "    'charge_target_soc': .8,\n",
    "    'capacity': 49 * 3.6e6,\n",
    "    'cases': 1,\n",
    "    'risk_attitude': (.5, 1),\n",
    "}\n",
    "\n",
    "vehicle = src.routing.StochasticVehicle(**vehicle_kw)\n",
    "\n",
    "station_kw = {\n",
    "    'cases': 100,\n",
    "    'reliability': .8,\n",
    "    'base_delay': 60,\n",
    "}\n",
    "\n",
    "for source, node in sng._node.items():\n",
    "\n",
    "    if node['type'] == 'station':\n",
    "\n",
    "        seed = int(source[8:])\n",
    "\n",
    "        node['station'] = src.routing.StochasticStation(\n",
    "            chargers = node['n_dcfc'], **station_kw, seed = seed,\n",
    "        )\n",
    "\n",
    "        node['station'].expect(vehicle)"
   ]
  },
  {
   "cell_type": "code",
   "execution_count": 64,
   "id": "54eb1c2b-a6a3-48ab-bf87-1719db0cf476",
   "metadata": {},
   "outputs": [
    {
     "name": "stdout",
     "output_type": "stream",
     "text": [
      "Executed in 0.4291 seconds\n"
     ]
    }
   ],
   "source": [
    "t0 = time.time()\n",
    "\n",
    "costs, values, paths = src.routing.shortest_paths(\n",
    "    sng, ['Fresno'],\n",
    "    destinations = cities,\n",
    "    objective = vehicle,\n",
    "    method = 'bellman',\n",
    "    return_paths = True,\n",
    ")\n",
    "\n",
    "print(f'Executed in {time.time() - t0:.4f} seconds')"
   ]
  },
  {
   "cell_type": "code",
   "execution_count": 65,
   "id": "30d0e285-2f72-425c-a10b-6121b2d40824",
   "metadata": {},
   "outputs": [
    {
     "name": "stdout",
     "output_type": "stream",
     "text": [
      "Total Time:\n",
      "\n",
      "{'Bakersfield': 1.5477781213637707,\n",
      " 'Chico': 4.4960528131408335,\n",
      " 'Crescent City': 9.90812517102453,\n",
      " 'Fresno': 0.0,\n",
      " 'I-10 to Phoenix (State Line)': 7.456865590131959,\n",
      " 'I-15 to Las Vegas (State Line)': 6.496466960333944,\n",
      " 'I-80 to Reno (State Line)': 4.823466593597853,\n",
      " 'Los Angeles': 3.5730821383479285,\n",
      " 'Redding': 5.594182025457251,\n",
      " 'Sacramento': 2.596151526444774,\n",
      " 'San Diego': 5.703594526467413,\n",
      " 'San Francisco': 2.9443037864912918,\n",
      " 'San Jose': 2.438673421216665,\n",
      " 'Stockton': 1.8839756467688893,\n",
      " 'Yreka': 7.393516462733357}\n",
      "\n",
      "Paths:\n",
      "\n",
      "{'Bakersfield': ['Fresno', 'station_1105', 'Bakersfield'],\n",
      " 'Chico': ['Fresno', 'station_123', 'Chico'],\n",
      " 'Crescent City': ['Fresno',\n",
      "                   'station_167',\n",
      "                   'station_1145',\n",
      "                   'station_103',\n",
      "                   'Crescent City'],\n",
      " 'Fresno': ['Fresno'],\n",
      " 'I-10 to Phoenix (State Line)': ['Fresno',\n",
      "                                  'station_841',\n",
      "                                  'station_1858',\n",
      "                                  'I-10 to Phoenix (State Line)'],\n",
      " 'I-15 to Las Vegas (State Line)': ['Fresno',\n",
      "                                    'station_1129',\n",
      "                                    'station_1538',\n",
      "                                    'I-15 to Las Vegas (State Line)'],\n",
      " 'I-80 to Reno (State Line)': ['Fresno',\n",
      "                               'station_1022',\n",
      "                               'I-80 to Reno (State Line)'],\n",
      " 'Los Angeles': ['Fresno', 'station_841', 'Los Angeles'],\n",
      " 'Redding': ['Fresno', 'station_496', 'Redding'],\n",
      " 'Sacramento': ['Fresno', 'station_500', 'Sacramento'],\n",
      " 'San Diego': ['Fresno', 'station_1126', 'San Diego'],\n",
      " 'San Francisco': ['Fresno', 'San Francisco'],\n",
      " 'San Jose': ['Fresno', 'station_500', 'San Jose'],\n",
      " 'Stockton': ['Fresno', 'station_500', 'Stockton'],\n",
      " 'Yreka': ['Fresno', 'station_425', 'station_94', 'Yreka']}\n"
     ]
    }
   ],
   "source": [
    "print('Total Time:\\n')\n",
    "pprint({k: v['time'].mean() / 3600 for k, v in values.items() if 'station' not in k})\n",
    "# print('\\nDriving Time:\\n')\n",
    "# pprint({k: v['driving_time'].mean() / 3600 for k, v in values.items() if 'station' not in k})\n",
    "print('\\nPaths:\\n')\n",
    "pprint({k: v for k, v in paths.items() if 'station' not in k})"
   ]
  },
  {
   "cell_type": "code",
   "execution_count": null,
   "id": "b26dabf4-cd74-4231-a12c-7e70a607f258",
   "metadata": {},
   "outputs": [],
   "source": []
  },
  {
   "cell_type": "code",
   "execution_count": 57,
   "id": "e0a9f814-56a6-4cd2-9add-0c1b0f5e01c4",
   "metadata": {},
   "outputs": [],
   "source": [
    "'''\n",
    "Adding station objects\n",
    "'''\n",
    "deep_reload(src)\n",
    "\n",
    "sng = sng_other\n",
    "\n",
    "cities = [k for k, v in sng._node.items() if v['type'] == 'city']\n",
    "\n",
    "vehicle_kw = {\n",
    "    # 'charge_target_soc': .8,\n",
    "    'capacity': 49 * 3.6e6,\n",
    "    'cases': 1,\n",
    "    'risk_attitude': (.5, 1),\n",
    "}\n",
    "\n",
    "vehicle = src.routing.StochasticVehicle(**vehicle_kw)\n",
    "\n",
    "station_kw = {\n",
    "    'cases': 100,\n",
    "    'reliability': .8,\n",
    "    'base_delay': 60,\n",
    "}\n",
    "\n",
    "for source, node in sng._node.items():\n",
    "\n",
    "    if node['type'] == 'station':\n",
    "\n",
    "        seed = int(source[8:])\n",
    "\n",
    "        node['station'] = src.routing.StochasticStation(\n",
    "            chargers = node['n_dcfc'], **station_kw, seed = seed,\n",
    "        )\n",
    "\n",
    "        node['station'].expect(vehicle)"
   ]
  },
  {
   "cell_type": "code",
   "execution_count": 58,
   "id": "496acfd2-21e7-4772-a10e-b5dd59d53754",
   "metadata": {},
   "outputs": [
    {
     "name": "stdout",
     "output_type": "stream",
     "text": [
      "Executed in 4.3424 seconds\n"
     ]
    }
   ],
   "source": [
    "t0 = time.time()\n",
    "\n",
    "costs, values, paths = src.routing.shortest_paths(\n",
    "    sng, ['Fresno'],\n",
    "    destinations = cities,\n",
    "    objective = vehicle,\n",
    "    method = 'bellman',\n",
    "    return_paths = True,\n",
    ")\n",
    "\n",
    "print(f'Executed in {time.time() - t0:.4f} seconds')"
   ]
  },
  {
   "cell_type": "code",
   "execution_count": 59,
   "id": "c0ab1391-3fc2-4e1a-ac95-6812e4d7eaea",
   "metadata": {},
   "outputs": [
    {
     "name": "stdout",
     "output_type": "stream",
     "text": [
      "Total Time:\n",
      "\n",
      "{'Bakersfield': 1.6082676698301694,\n",
      " 'Chico': 4.992653029500699,\n",
      " 'Crescent City': 11.133733429587904,\n",
      " 'Fresno': 0.0,\n",
      " 'I-10 to Phoenix (State Line)': 8.407270464731205,\n",
      " 'I-15 to Las Vegas (State Line)': 6.925163936223525,\n",
      " 'I-80 to Reno (State Line)': 5.352193322540997,\n",
      " 'Los Angeles': 3.8750633730274795,\n",
      " 'Redding': 6.200023587500878,\n",
      " 'Sacramento': 2.6713354700854763,\n",
      " 'San Diego': 6.3618572633382815,\n",
      " 'San Francisco': 2.9443037864912918,\n",
      " 'San Jose': 2.513857364857367,\n",
      " 'Stockton': 1.9591595904095913,\n",
      " 'Yreka': 8.53432928178044}\n",
      "\n",
      "Paths:\n",
      "\n",
      "{'Bakersfield': ['Fresno', 'Bakersfield'],\n",
      " 'Chico': ['Fresno', 'station_1787', 'Chico'],\n",
      " 'Crescent City': ['Fresno', 'station_1683', 'station_1737', 'Crescent City'],\n",
      " 'Fresno': ['Fresno'],\n",
      " 'I-10 to Phoenix (State Line)': ['Fresno',\n",
      "                                  'station_319',\n",
      "                                  'station_202',\n",
      "                                  'I-10 to Phoenix (State Line)'],\n",
      " 'I-15 to Las Vegas (State Line)': ['Fresno',\n",
      "                                    'station_295',\n",
      "                                    'I-15 to Las Vegas (State Line)'],\n",
      " 'I-80 to Reno (State Line)': ['Fresno',\n",
      "                               'station_1787',\n",
      "                               'I-80 to Reno (State Line)'],\n",
      " 'Los Angeles': ['Fresno', 'station_702', 'Los Angeles'],\n",
      " 'Redding': ['Fresno', 'station_1695', 'Redding'],\n",
      " 'Sacramento': ['Fresno', 'Sacramento'],\n",
      " 'San Diego': ['Fresno', 'station_319', 'San Diego'],\n",
      " 'San Francisco': ['Fresno', 'San Francisco'],\n",
      " 'San Jose': ['Fresno', 'San Jose'],\n",
      " 'Stockton': ['Fresno', 'Stockton'],\n",
      " 'Yreka': ['Fresno', 'station_1787', 'station_529', 'Yreka']}\n"
     ]
    }
   ],
   "source": [
    "print('Total Time:\\n')\n",
    "pprint({k: v['time'].mean() / 3600 for k, v in values.items() if 'station' not in k})\n",
    "# print('\\nDriving Time:\\n')\n",
    "# pprint({k: v['driving_time'].mean() / 3600 for k, v in values.items() if 'station' not in k})\n",
    "print('\\nPaths:\\n')\n",
    "pprint({k: v for k, v in paths.items() if 'station' not in k})"
   ]
  },
  {
   "cell_type": "code",
   "execution_count": null,
   "id": "1f73f499-bc55-444e-85c2-fcd96be5cff9",
   "metadata": {},
   "outputs": [],
   "source": []
  },
  {
   "cell_type": "code",
   "execution_count": null,
   "id": "295dc7be-ed06-42a9-831b-6cd24f9596df",
   "metadata": {},
   "outputs": [],
   "source": []
  },
  {
   "cell_type": "code",
   "execution_count": null,
   "id": "78796463-4940-4446-8899-8eb0517a9abb",
   "metadata": {},
   "outputs": [],
   "source": []
  },
  {
   "cell_type": "code",
   "execution_count": null,
   "id": "20ba6af6-b47a-4617-8758-39e8d7577120",
   "metadata": {},
   "outputs": [],
   "source": []
  },
  {
   "cell_type": "code",
   "execution_count": null,
   "id": "4c423465-ec46-435b-87af-547f8ba420fb",
   "metadata": {},
   "outputs": [],
   "source": []
  },
  {
   "cell_type": "code",
   "execution_count": null,
   "id": "f6c2e137-7cde-43f7-a39b-a560405a01bf",
   "metadata": {},
   "outputs": [],
   "source": []
  },
  {
   "cell_type": "code",
   "execution_count": null,
   "id": "be0e8acb-d5ba-4e7f-96ea-9bb2a91a4bd6",
   "metadata": {},
   "outputs": [],
   "source": []
  },
  {
   "cell_type": "code",
   "execution_count": null,
   "id": "235c7fbd-98ff-4684-89a6-34e58a853bd4",
   "metadata": {},
   "outputs": [],
   "source": []
  },
  {
   "cell_type": "code",
   "execution_count": null,
   "id": "5668de34-cf30-43d3-b3c1-68f4a205c5f4",
   "metadata": {},
   "outputs": [],
   "source": []
  },
  {
   "cell_type": "code",
   "execution_count": 144,
   "id": "55634f3d-a59b-479a-b11b-01fc29f84c9c",
   "metadata": {},
   "outputs": [],
   "source": [
    "deep_reload(src)\n",
    "\n",
    "graph = src.routing.edge_types(graph)"
   ]
  },
  {
   "cell_type": "code",
   "execution_count": 145,
   "id": "394d47c5-4050-470f-b2d4-af1398557384",
   "metadata": {},
   "outputs": [],
   "source": [
    "cities = [k for k, v in graph._node.items() if v['type'] == 'city']\n",
    "\n",
    "tesla_stations = [k for k, v in graph._node.items() if v.get('network', '') == 'Tesla']\n",
    "np_stations = (\n",
    "    [k for k, v in graph._node.items() if v.get('network', '') not in ['Tesla', 'RIVIAN_ADVENTURE']]\n",
    ")\n",
    "\n",
    "tesla_sng = src.graph.subgraph(graph, tesla_stations + cities)\n",
    "np_sng = src.graph.subgraph(graph, np_stations + cities)"
   ]
  },
  {
   "cell_type": "code",
   "execution_count": 146,
   "id": "5ce560b3-ea42-4f26-8069-acf843fa1ce1",
   "metadata": {},
   "outputs": [
    {
     "data": {
      "text/plain": [
       "(418, 87571)"
      ]
     },
     "execution_count": 146,
     "metadata": {},
     "output_type": "execute_result"
    }
   ],
   "source": [
    "tesla_sng.number_of_nodes(), tesla_sng.number_of_edges()"
   ]
  },
  {
   "cell_type": "code",
   "execution_count": 147,
   "id": "ccb3b1cb-f9d1-4fb5-b2f8-d5bc337342c7",
   "metadata": {},
   "outputs": [
    {
     "data": {
      "text/plain": [
       "(1440, 1037520)"
      ]
     },
     "execution_count": 147,
     "metadata": {},
     "output_type": "execute_result"
    }
   ],
   "source": [
    "np_sng.number_of_nodes(), np_sng.number_of_edges()"
   ]
  },
  {
   "cell_type": "code",
   "execution_count": 184,
   "id": "b6a50fb0-eb89-4864-9005-00521520ae7a",
   "metadata": {},
   "outputs": [
    {
     "name": "stdout",
     "output_type": "stream",
     "text": [
      "\u001b[1m\u001b[38;5;34m\u001b[48;5;0m [------------->] (15/15) 100.00%, 2.18 it/s, 7.34 s elapsed, 0.00 s remainingExecuted in 7.3452 seconds\n"
     ]
    }
   ],
   "source": [
    "'''\n",
    "Running with Dijkstra with default objective\n",
    "'''\n",
    "deep_reload(src)\n",
    "\n",
    "objective = src.routing.Scout(field = 'time', edge_limit = 3800)\n",
    "\n",
    "t0 = time.time()\n",
    "\n",
    "costs, values, paths = src.routing.all_pairs_shortest_paths(\n",
    "    np_sng, cities, objective = objective, return_paths = True\n",
    ")\n",
    "\n",
    "print(f'Executed in {time.time() - t0:.4f} seconds')"
   ]
  },
  {
   "cell_type": "code",
   "execution_count": 180,
   "id": "8ed4cd38-bea5-46ef-ac53-2ac3fef1555c",
   "metadata": {},
   "outputs": [
    {
     "data": {
      "text/plain": [
       "(217,)"
      ]
     },
     "execution_count": 180,
     "metadata": {},
     "output_type": "execute_result"
    }
   ],
   "source": [
    "utilized_stations = np.unique(\n",
    "    np.concatenate(\n",
    "        [n[1: -1] for paths_source in paths.values() for n in paths_source.values()]\n",
    "    )\n",
    ")\n",
    "\n",
    "utilized_stations.shape"
   ]
  },
  {
   "cell_type": "code",
   "execution_count": 186,
   "id": "f16010de-cb11-4edc-90db-1d42420f9b63",
   "metadata": {},
   "outputs": [],
   "source": [
    "np_sng_us = src.graph.subgraph(np_sng, list(utilized_stations) + cities)"
   ]
  },
  {
   "cell_type": "code",
   "execution_count": 190,
   "id": "ae6eac73-515e-44be-a854-aeda98e0ea59",
   "metadata": {},
   "outputs": [
    {
     "name": "stdout",
     "output_type": "stream",
     "text": [
      "\u001b[1m\u001b[38;5;34m\u001b[48;5;0m [------------>] (15/15) 100.00%, 29.29 it/s, 0.55 s elapsed, 0.00 s remaining\n",
      "Executed in 0.5489 seconds\n"
     ]
    }
   ],
   "source": [
    "'''\n",
    "Running with Dijkstra with default objective\n",
    "'''\n",
    "deep_reload(src)\n",
    "\n",
    "objective = src.routing.Scout(field = 'time', edge_limit = 7000)\n",
    "\n",
    "t0 = time.time()\n",
    "\n",
    "costs, values, paths = src.routing.all_pairs_shortest_paths(\n",
    "    tesla_sng, cities, objective = objective, return_paths = True\n",
    ")\n",
    "\n",
    "print(f'\\nExecuted in {time.time() - t0:.4f} seconds')"
   ]
  },
  {
   "cell_type": "code",
   "execution_count": 191,
   "id": "b82adb89-f4d9-45d5-8485-10c34660dfed",
   "metadata": {},
   "outputs": [
    {
     "data": {
      "text/plain": [
       "(78,)"
      ]
     },
     "execution_count": 191,
     "metadata": {},
     "output_type": "execute_result"
    }
   ],
   "source": [
    "utilized_stations = np.unique(\n",
    "    np.concatenate(\n",
    "        [n[1: -1] for paths_source in paths.values() for n in paths_source.values()]\n",
    "    )\n",
    ")\n",
    "\n",
    "utilized_stations.shape"
   ]
  },
  {
   "cell_type": "code",
   "execution_count": 192,
   "id": "75fdc3c8-8df5-4417-a61a-bdc30a73bee8",
   "metadata": {},
   "outputs": [],
   "source": [
    "tesla_sng_us = src.graph.subgraph(tesla_sng, list(utilized_stations) + cities)"
   ]
  },
  {
   "cell_type": "code",
   "execution_count": 93,
   "id": "0403817f-04f9-4a82-96bf-4b017d4d333a",
   "metadata": {},
   "outputs": [
    {
     "name": "stdout",
     "output_type": "stream",
     "text": [
      "Executed in 2.4665 seconds\n"
     ]
    }
   ],
   "source": [
    "'''\n",
    "Running with Dijkstra with default objective\n",
    "'''\n",
    "deep_reload(src)\n",
    "\n",
    "objective = src.routing.Scout(field = 'time', edge_limit = 3600)\n",
    "\n",
    "t0 = time.time()\n",
    "\n",
    "costs, values, paths = src.routing.bellman(\n",
    "    graph, ['Fresno'], objective = objective, return_paths = True\n",
    ")\n",
    "\n",
    "print(f'Executed in {time.time() - t0:.4f} seconds')"
   ]
  },
  {
   "cell_type": "code",
   "execution_count": 94,
   "id": "94b5d2cf-2749-44d4-a118-4983c25db5cd",
   "metadata": {},
   "outputs": [
    {
     "data": {
      "image/png": "[encoded data removed]",
      "text/plain": [
       "<Figure size 800x600 with 2 Axes>"
      ]
     },
     "metadata": {},
     "output_type": "display_data"
    }
   ],
   "source": [
    "deep_reload(src)\n",
    "\n",
    "fig, ax = plt.subplots(figsize = (8, 6))\n",
    "\n",
    "destinations = [k for k, v in graph._node.items() if 'station' not in k]\n",
    "\n",
    "src.figures.plot_route_tree(\n",
    "    ax, graph,\n",
    "    {k: v / 3600 for k, v in values.items()},\n",
    "    # {},\n",
    "    {k: v for k, v in paths.items() if 'station' not in k},\n",
    "    destinations = destinations,\n",
    "    show_unused_stations = False,\n",
    "    **src.figures.default_route_tree_kwargs,\n",
    ")\n",
    "\n",
    "legend = ax.legend()\n",
    "\n",
    "for h in legend.legendHandles:\n",
    "    h._sizes = [100]\n",
    "\n",
    "    ax.grid(ls = '--')"
   ]
  },
  {
   "cell_type": "code",
   "execution_count": 106,
   "id": "e6ef2cd6-8df3-484b-8753-60f18f30b97e",
   "metadata": {},
   "outputs": [],
   "source": [
    "utilized_stations = np.unique(np.concatenate([p[1: -1] for p in paths.values()]))"
   ]
  },
  {
   "cell_type": "code",
   "execution_count": 107,
   "id": "6ed4c116-3ef4-41b7-8a59-f1e56152007c",
   "metadata": {},
   "outputs": [
    {
     "data": {
      "text/plain": [
       "(356,)"
      ]
     },
     "execution_count": 107,
     "metadata": {},
     "output_type": "execute_result"
    }
   ],
   "source": [
    "utilized_stations.shape"
   ]
  },
  {
   "cell_type": "code",
   "execution_count": 113,
   "id": "fb8704fa-ec52-4ac8-9887-cf6783056b33",
   "metadata": {},
   "outputs": [],
   "source": [
    "radius = 5e3\n",
    "field = 'distance'\n",
    "\n",
    "_adj = graph._adj\n",
    "\n",
    "reachable_stations = []\n",
    "\n",
    "for source in utilized_stations:\n",
    "\n",
    "    for target, edge in _adj[source].items():\n",
    "\n",
    "        if (edge['type'] == 'station_station') and (edge[field] <= radius):\n",
    "\n",
    "            reachable_stations.append(target)\n",
    "\n",
    "reachable_stations = np.unique(reachable_stations)"
   ]
  },
  {
   "cell_type": "code",
   "execution_count": 114,
   "id": "d6a2a120-b0c4-4828-8f6f-6bf723d93849",
   "metadata": {},
   "outputs": [
    {
     "data": {
      "text/plain": [
       "(1168,)"
      ]
     },
     "execution_count": 114,
     "metadata": {},
     "output_type": "execute_result"
    }
   ],
   "source": [
    "reachable_stations.shape"
   ]
  },
  {
   "cell_type": "code",
   "execution_count": 119,
   "id": "7a7162dd-5de1-4989-9bc4-351c9076a260",
   "metadata": {},
   "outputs": [],
   "source": [
    "destinations = [k for k, v in graph._node.items() if 'station' not in k]\n",
    "\n",
    "sng_us = src.graph.subgraph(graph, list(utilized_stations) + destinations)\n",
    "sng_rs = src.graph.subgraph(graph, list(reachable_stations) + destinations)"
   ]
  },
  {
   "cell_type": "code",
   "execution_count": 131,
   "id": "30949931-c66a-4ebd-97f6-04ddfab4f4f0",
   "metadata": {},
   "outputs": [
    {
     "data": {
      "text/plain": [
       "(325.4421153737499, 406.8026442171874, 488.1631730606249)"
      ]
     },
     "execution_count": 131,
     "metadata": {},
     "output_type": "execute_result"
    }
   ],
   "source": [
    "80 * 3.6e3 / 550 / 1.609, 100 * 3.6e3 / 550 / 1.609, 120 * 3.6e3 / 550 / 1.609"
   ]
  },
  {
   "cell_type": "code",
   "execution_count": 137,
   "id": "2f680469-185b-4fd5-b3a6-d1984a38af2c",
   "metadata": {},
   "outputs": [
    {
     "data": {
      "text/plain": [
       "(49.16388888888889, 73.74583333333334, 98.32777777777778)"
      ]
     },
     "execution_count": 137,
     "metadata": {},
     "output_type": "execute_result"
    }
   ],
   "source": [
    "200 * 1.609 * 550 / 3.6e3, 300 * 1.609 * 550 / 3.6e3, 400 * 1.609 * 550 / 3.6e3"
   ]
  },
  {
   "cell_type": "code",
   "execution_count": 200,
   "id": "ec0dd390-af38-4e4b-893f-1e822c6fce7a",
   "metadata": {},
   "outputs": [],
   "source": [
    "'''\n",
    "Adding station objects\n",
    "'''\n",
    "deep_reload(src)\n",
    "\n",
    "sng = tesla_sng_us\n",
    "\n",
    "vehicle = src.routing.StochasticVehicle(\n",
    "    capacity = 80 * 3.6e6,\n",
    "    max_charge_start_soc = .5,\n",
    ")\n",
    "\n",
    "for source, node in sng._node.items():\n",
    "\n",
    "    if node['type'] == 'station':\n",
    "\n",
    "        node['station'] = src.routing.StochasticStation(\n",
    "            chargers = node['n_dcfc'], cases = 100,\n",
    "        )"
   ]
  },
  {
   "cell_type": "code",
   "execution_count": 209,
   "id": "c6b424f5-c273-4920-b858-9b57375ee7da",
   "metadata": {},
   "outputs": [
    {
     "name": "stdout",
     "output_type": "stream",
     "text": [
      "Executed in 1.6872 seconds\n"
     ]
    }
   ],
   "source": [
    "'''\n",
    "Running with Bellman with BEV stochastic vehicle objective\n",
    "'''\n",
    "deep_reload(src)\n",
    "\n",
    "vehicle = src.routing.StochasticVehicle(\n",
    "    capacity = 80 * 3.6e6,\n",
    "    # max_charge_start_soc = .5,\n",
    "    cases = 100\n",
    ")\n",
    "\n",
    "t0 = time.time()\n",
    "\n",
    "costs, values, paths = src.routing.bellman(\n",
    "    sng, ['Fresno'], objective = vehicle, return_paths = True\n",
    ")\n",
    "\n",
    "\n",
    "print(f'Executed in {time.time() - t0:.4f} seconds')"
   ]
  },
  {
   "cell_type": "code",
   "execution_count": 210,
   "id": "0ab1b826-f318-490a-a14e-6d3564163395",
   "metadata": {},
   "outputs": [
    {
     "name": "stdout",
     "output_type": "stream",
     "text": [
      "Total Time:\n",
      "\n",
      "{'Bakersfield': 7.168798296840154,\n",
      " 'Chico': 4.230472506660021,\n",
      " 'Crescent City': 9.367786996477445,\n",
      " 'Fresno': 0.0,\n",
      " 'I-10 to Phoenix (State Line)': 7.397356754936844,\n",
      " 'I-15 to Las Vegas (State Line)': 7.18243919180898,\n",
      " 'I-80 to Reno (State Line)': 4.537769886363653,\n",
      " 'Los Angeles': 3.2634172077922066,\n",
      " 'Redding': 6.252996625924162,\n",
      " 'Sacramento': 2.671335470085477,\n",
      " 'San Diego': 7.378125657611442,\n",
      " 'San Francisco': 2.9443037864912918,\n",
      " 'San Jose': 7.975721530243021,\n",
      " 'Stockton': 6.771320106204652,\n",
      " 'Yreka': 7.737609622419549}\n",
      "\n",
      "Driving Time:\n",
      "\n",
      "{'Bakersfield': 6.587417894605396,\n",
      " 'Chico': 4.230472506660021,\n",
      " 'Crescent City': 8.617167526917523,\n",
      " 'Fresno': 0.0,\n",
      " 'I-10 to Phoenix (State Line)': 6.691094183594185,\n",
      " 'I-15 to Las Vegas (State Line)': 6.451887556887559,\n",
      " 'I-80 to Reno (State Line)': 4.537769886363653,\n",
      " 'Los Angeles': 3.2634172077922066,\n",
      " 'Redding': 5.567442002442007,\n",
      " 'Sacramento': 2.671335470085477,\n",
      " 'San Diego': 6.580972225690979,\n",
      " 'San Francisco': 2.9443037864912918,\n",
      " 'San Jose': 7.281647422022425,\n",
      " 'Stockton': 6.11279632867133,\n",
      " 'Yreka': 7.011480661699413}\n",
      "\n",
      "Paths:\n",
      "\n",
      "{'Bakersfield': ['Fresno', 'station_1425', 'Bakersfield'],\n",
      " 'Chico': ['Fresno', 'Chico'],\n",
      " 'Crescent City': ['Fresno', 'station_240', 'Crescent City'],\n",
      " 'Fresno': ['Fresno'],\n",
      " 'I-10 to Phoenix (State Line)': ['Fresno',\n",
      "                                  'station_113',\n",
      "                                  'I-10 to Phoenix (State Line)'],\n",
      " 'I-15 to Las Vegas (State Line)': ['Fresno',\n",
      "                                    'station_117',\n",
      "                                    'I-15 to Las Vegas (State Line)'],\n",
      " 'I-80 to Reno (State Line)': ['Fresno', 'I-80 to Reno (State Line)'],\n",
      " 'Los Angeles': ['Fresno', 'Los Angeles'],\n",
      " 'Redding': ['Fresno', 'station_106', 'Redding'],\n",
      " 'Sacramento': ['Fresno', 'Sacramento'],\n",
      " 'San Diego': ['Fresno', 'station_87', 'San Diego'],\n",
      " 'San Francisco': ['Fresno', 'San Francisco'],\n",
      " 'San Jose': ['Fresno', 'station_88', 'San Jose'],\n",
      " 'Stockton': ['Fresno', 'station_224', 'Stockton'],\n",
      " 'Yreka': ['Fresno', 'station_183', 'Yreka']}\n"
     ]
    }
   ],
   "source": [
    "print('Total Time:\\n')\n",
    "pprint({k: v['time'].mean() / 3600 for k, v in r[1].items() if 'station' not in k})\n",
    "print('\\nDriving Time:\\n')\n",
    "pprint({k: v['driving_time'].mean() / 3600 for k, v in r[1].items() if 'station' not in k})\n",
    "print('\\nPaths:\\n')\n",
    "pprint({k: v for k, v in r[2].items() if 'station' not in k})"
   ]
  },
  {
   "cell_type": "code",
   "execution_count": 211,
   "id": "607b72fc-9428-4a03-9128-7d30d7754515",
   "metadata": {},
   "outputs": [
    {
     "data": {
      "image/png": "[encoded data removed]",
      "text/plain": [
       "<Figure size 800x600 with 2 Axes>"
      ]
     },
     "metadata": {},
     "output_type": "display_data"
    }
   ],
   "source": [
    "deep_reload(src)\n",
    "\n",
    "fig, ax = plt.subplots(figsize = (8, 6))\n",
    "\n",
    "destinations = [k for k, v in graph._node.items() if 'station' not in k]\n",
    "\n",
    "src.figures.plot_route_tree(\n",
    "    ax, graph,\n",
    "    {k: v['time'].mean() / 3600 for k, v in values.items()},\n",
    "    # {},\n",
    "    {k: v for k, v in paths.items() if 'station' not in k},\n",
    "    destinations = destinations,\n",
    "    show_unused_stations = False,\n",
    "    **src.figures.default_route_tree_kwargs,\n",
    ")\n",
    "\n",
    "legend = ax.legend()\n",
    "\n",
    "for h in legend.legendHandles:\n",
    "    h._sizes = [100]\n",
    "\n",
    "    ax.grid(ls = '--')\n",
    "\n",
    "# plt.colorbar(cax = ax)"
   ]
  },
  {
   "cell_type": "code",
   "execution_count": null,
   "id": "49fc9671-b9e5-4599-9b0e-6310d9a552af",
   "metadata": {},
   "outputs": [],
   "source": []
  }
 ],
 "metadata": {
  "kernelspec": {
   "display_name": "Python 3 (ipykernel)",
   "language": "python",
   "name": "python3"
  },
  "language_info": {
   "codemirror_mode": {
    "name": "ipython",
    "version": 3
   },
   "file_extension": ".py",
   "mimetype": "text/x-python",
   "name": "python",
   "nbconvert_exporter": "python",
   "pygments_lexer": "ipython3",
   "version": "3.11.5"
  }
 },
 "nbformat": 4,
 "nbformat_minor": 5
}
